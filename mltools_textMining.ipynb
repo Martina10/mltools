{
 "cells": [
  {
   "cell_type": "markdown",
   "metadata": {},
   "source": [
    "# Tools for Text Mining"
   ]
  },
  {
   "cell_type": "code",
   "execution_count": 1,
   "metadata": {},
   "outputs": [
    {
     "data": {
      "text/html": [
       "\n",
       "    <div class=\"bk-root\">\n",
       "        <a href=\"https://bokeh.pydata.org\" target=\"_blank\" class=\"bk-logo bk-logo-small bk-logo-notebook\"></a>\n",
       "        <span id=\"3d759b4d-55cc-4966-bde1-6485b382bc16\">Loading BokehJS ...</span>\n",
       "    </div>"
      ]
     },
     "metadata": {},
     "output_type": "display_data"
    },
    {
     "data": {
      "application/javascript": [
       "\n",
       "(function(root) {\n",
       "  function now() {\n",
       "    return new Date();\n",
       "  }\n",
       "\n",
       "  var force = true;\n",
       "\n",
       "  if (typeof (root._bokeh_onload_callbacks) === \"undefined\" || force === true) {\n",
       "    root._bokeh_onload_callbacks = [];\n",
       "    root._bokeh_is_loading = undefined;\n",
       "  }\n",
       "\n",
       "  var JS_MIME_TYPE = 'application/javascript';\n",
       "  var HTML_MIME_TYPE = 'text/html';\n",
       "  var EXEC_MIME_TYPE = 'application/vnd.bokehjs_exec.v0+json';\n",
       "  var CLASS_NAME = 'output_bokeh rendered_html';\n",
       "\n",
       "  /**\n",
       "   * Render data to the DOM node\n",
       "   */\n",
       "  function render(props, node) {\n",
       "    var script = document.createElement(\"script\");\n",
       "    node.appendChild(script);\n",
       "  }\n",
       "\n",
       "  /**\n",
       "   * Handle when an output is cleared or removed\n",
       "   */\n",
       "  function handleClearOutput(event, handle) {\n",
       "    var cell = handle.cell;\n",
       "\n",
       "    var id = cell.output_area._bokeh_element_id;\n",
       "    var server_id = cell.output_area._bokeh_server_id;\n",
       "    // Clean up Bokeh references\n",
       "    if (id != null && id in Bokeh.index) {\n",
       "      Bokeh.index[id].model.document.clear();\n",
       "      delete Bokeh.index[id];\n",
       "    }\n",
       "\n",
       "    if (server_id !== undefined) {\n",
       "      // Clean up Bokeh references\n",
       "      var cmd = \"from bokeh.io.state import curstate; print(curstate().uuid_to_server['\" + server_id + \"'].get_sessions()[0].document.roots[0]._id)\";\n",
       "      cell.notebook.kernel.execute(cmd, {\n",
       "        iopub: {\n",
       "          output: function(msg) {\n",
       "            var id = msg.content.text.trim();\n",
       "            if (id in Bokeh.index) {\n",
       "              Bokeh.index[id].model.document.clear();\n",
       "              delete Bokeh.index[id];\n",
       "            }\n",
       "          }\n",
       "        }\n",
       "      });\n",
       "      // Destroy server and session\n",
       "      var cmd = \"import bokeh.io.notebook as ion; ion.destroy_server('\" + server_id + \"')\";\n",
       "      cell.notebook.kernel.execute(cmd);\n",
       "    }\n",
       "  }\n",
       "\n",
       "  /**\n",
       "   * Handle when a new output is added\n",
       "   */\n",
       "  function handleAddOutput(event, handle) {\n",
       "    var output_area = handle.output_area;\n",
       "    var output = handle.output;\n",
       "\n",
       "    // limit handleAddOutput to display_data with EXEC_MIME_TYPE content only\n",
       "    if ((output.output_type != \"display_data\") || (!output.data.hasOwnProperty(EXEC_MIME_TYPE))) {\n",
       "      return\n",
       "    }\n",
       "\n",
       "    var toinsert = output_area.element.find(\".\" + CLASS_NAME.split(' ')[0]);\n",
       "\n",
       "    if (output.metadata[EXEC_MIME_TYPE][\"id\"] !== undefined) {\n",
       "      toinsert[toinsert.length - 1].firstChild.textContent = output.data[JS_MIME_TYPE];\n",
       "      // store reference to embed id on output_area\n",
       "      output_area._bokeh_element_id = output.metadata[EXEC_MIME_TYPE][\"id\"];\n",
       "    }\n",
       "    if (output.metadata[EXEC_MIME_TYPE][\"server_id\"] !== undefined) {\n",
       "      var bk_div = document.createElement(\"div\");\n",
       "      bk_div.innerHTML = output.data[HTML_MIME_TYPE];\n",
       "      var script_attrs = bk_div.children[0].attributes;\n",
       "      for (var i = 0; i < script_attrs.length; i++) {\n",
       "        toinsert[toinsert.length - 1].firstChild.setAttribute(script_attrs[i].name, script_attrs[i].value);\n",
       "      }\n",
       "      // store reference to server id on output_area\n",
       "      output_area._bokeh_server_id = output.metadata[EXEC_MIME_TYPE][\"server_id\"];\n",
       "    }\n",
       "  }\n",
       "\n",
       "  function register_renderer(events, OutputArea) {\n",
       "\n",
       "    function append_mime(data, metadata, element) {\n",
       "      // create a DOM node to render to\n",
       "      var toinsert = this.create_output_subarea(\n",
       "        metadata,\n",
       "        CLASS_NAME,\n",
       "        EXEC_MIME_TYPE\n",
       "      );\n",
       "      this.keyboard_manager.register_events(toinsert);\n",
       "      // Render to node\n",
       "      var props = {data: data, metadata: metadata[EXEC_MIME_TYPE]};\n",
       "      render(props, toinsert[toinsert.length - 1]);\n",
       "      element.append(toinsert);\n",
       "      return toinsert\n",
       "    }\n",
       "\n",
       "    /* Handle when an output is cleared or removed */\n",
       "    events.on('clear_output.CodeCell', handleClearOutput);\n",
       "    events.on('delete.Cell', handleClearOutput);\n",
       "\n",
       "    /* Handle when a new output is added */\n",
       "    events.on('output_added.OutputArea', handleAddOutput);\n",
       "\n",
       "    /**\n",
       "     * Register the mime type and append_mime function with output_area\n",
       "     */\n",
       "    OutputArea.prototype.register_mime_type(EXEC_MIME_TYPE, append_mime, {\n",
       "      /* Is output safe? */\n",
       "      safe: true,\n",
       "      /* Index of renderer in `output_area.display_order` */\n",
       "      index: 0\n",
       "    });\n",
       "  }\n",
       "\n",
       "  // register the mime type if in Jupyter Notebook environment and previously unregistered\n",
       "  if (root.Jupyter !== undefined) {\n",
       "    var events = require('base/js/events');\n",
       "    var OutputArea = require('notebook/js/outputarea').OutputArea;\n",
       "\n",
       "    if (OutputArea.prototype.mime_types().indexOf(EXEC_MIME_TYPE) == -1) {\n",
       "      register_renderer(events, OutputArea);\n",
       "    }\n",
       "  }\n",
       "\n",
       "  \n",
       "  if (typeof (root._bokeh_timeout) === \"undefined\" || force === true) {\n",
       "    root._bokeh_timeout = Date.now() + 5000;\n",
       "    root._bokeh_failed_load = false;\n",
       "  }\n",
       "\n",
       "  var NB_LOAD_WARNING = {'data': {'text/html':\n",
       "     \"<div style='background-color: #fdd'>\\n\"+\n",
       "     \"<p>\\n\"+\n",
       "     \"BokehJS does not appear to have successfully loaded. If loading BokehJS from CDN, this \\n\"+\n",
       "     \"may be due to a slow or bad network connection. Possible fixes:\\n\"+\n",
       "     \"</p>\\n\"+\n",
       "     \"<ul>\\n\"+\n",
       "     \"<li>re-rerun `output_notebook()` to attempt to load from CDN again, or</li>\\n\"+\n",
       "     \"<li>use INLINE resources instead, as so:</li>\\n\"+\n",
       "     \"</ul>\\n\"+\n",
       "     \"<code>\\n\"+\n",
       "     \"from bokeh.resources import INLINE\\n\"+\n",
       "     \"output_notebook(resources=INLINE)\\n\"+\n",
       "     \"</code>\\n\"+\n",
       "     \"</div>\"}};\n",
       "\n",
       "  function display_loaded() {\n",
       "    var el = document.getElementById(\"3d759b4d-55cc-4966-bde1-6485b382bc16\");\n",
       "    if (el != null) {\n",
       "      el.textContent = \"BokehJS is loading...\";\n",
       "    }\n",
       "    if (root.Bokeh !== undefined) {\n",
       "      if (el != null) {\n",
       "        el.textContent = \"BokehJS \" + root.Bokeh.version + \" successfully loaded.\";\n",
       "      }\n",
       "    } else if (Date.now() < root._bokeh_timeout) {\n",
       "      setTimeout(display_loaded, 100)\n",
       "    }\n",
       "  }\n",
       "\n",
       "\n",
       "  function run_callbacks() {\n",
       "    try {\n",
       "      root._bokeh_onload_callbacks.forEach(function(callback) { callback() });\n",
       "    }\n",
       "    finally {\n",
       "      delete root._bokeh_onload_callbacks\n",
       "    }\n",
       "    console.info(\"Bokeh: all callbacks have finished\");\n",
       "  }\n",
       "\n",
       "  function load_libs(js_urls, callback) {\n",
       "    root._bokeh_onload_callbacks.push(callback);\n",
       "    if (root._bokeh_is_loading > 0) {\n",
       "      console.log(\"Bokeh: BokehJS is being loaded, scheduling callback at\", now());\n",
       "      return null;\n",
       "    }\n",
       "    if (js_urls == null || js_urls.length === 0) {\n",
       "      run_callbacks();\n",
       "      return null;\n",
       "    }\n",
       "    console.log(\"Bokeh: BokehJS not loaded, scheduling load and callback at\", now());\n",
       "    root._bokeh_is_loading = js_urls.length;\n",
       "    for (var i = 0; i < js_urls.length; i++) {\n",
       "      var url = js_urls[i];\n",
       "      var s = document.createElement('script');\n",
       "      s.src = url;\n",
       "      s.async = false;\n",
       "      s.onreadystatechange = s.onload = function() {\n",
       "        root._bokeh_is_loading--;\n",
       "        if (root._bokeh_is_loading === 0) {\n",
       "          console.log(\"Bokeh: all BokehJS libraries loaded\");\n",
       "          run_callbacks()\n",
       "        }\n",
       "      };\n",
       "      s.onerror = function() {\n",
       "        console.warn(\"failed to load library \" + url);\n",
       "      };\n",
       "      console.log(\"Bokeh: injecting script tag for BokehJS library: \", url);\n",
       "      document.getElementsByTagName(\"head\")[0].appendChild(s);\n",
       "    }\n",
       "  };var element = document.getElementById(\"3d759b4d-55cc-4966-bde1-6485b382bc16\");\n",
       "  if (element == null) {\n",
       "    console.log(\"Bokeh: ERROR: autoload.js configured with elementid '3d759b4d-55cc-4966-bde1-6485b382bc16' but no matching script tag was found. \")\n",
       "    return false;\n",
       "  }\n",
       "\n",
       "  var js_urls = [\"https://cdn.pydata.org/bokeh/release/bokeh-0.13.0.min.js\", \"https://cdn.pydata.org/bokeh/release/bokeh-widgets-0.13.0.min.js\", \"https://cdn.pydata.org/bokeh/release/bokeh-tables-0.13.0.min.js\", \"https://cdn.pydata.org/bokeh/release/bokeh-gl-0.13.0.min.js\"];\n",
       "\n",
       "  var inline_js = [\n",
       "    function(Bokeh) {\n",
       "      Bokeh.set_log_level(\"info\");\n",
       "    },\n",
       "    \n",
       "    function(Bokeh) {\n",
       "      \n",
       "    },\n",
       "    function(Bokeh) {\n",
       "      console.log(\"Bokeh: injecting CSS: https://cdn.pydata.org/bokeh/release/bokeh-0.13.0.min.css\");\n",
       "      Bokeh.embed.inject_css(\"https://cdn.pydata.org/bokeh/release/bokeh-0.13.0.min.css\");\n",
       "      console.log(\"Bokeh: injecting CSS: https://cdn.pydata.org/bokeh/release/bokeh-widgets-0.13.0.min.css\");\n",
       "      Bokeh.embed.inject_css(\"https://cdn.pydata.org/bokeh/release/bokeh-widgets-0.13.0.min.css\");\n",
       "      console.log(\"Bokeh: injecting CSS: https://cdn.pydata.org/bokeh/release/bokeh-tables-0.13.0.min.css\");\n",
       "      Bokeh.embed.inject_css(\"https://cdn.pydata.org/bokeh/release/bokeh-tables-0.13.0.min.css\");\n",
       "    }\n",
       "  ];\n",
       "\n",
       "  function run_inline_js() {\n",
       "    \n",
       "    if ((root.Bokeh !== undefined) || (force === true)) {\n",
       "      for (var i = 0; i < inline_js.length; i++) {\n",
       "        inline_js[i].call(root, root.Bokeh);\n",
       "      }if (force === true) {\n",
       "        display_loaded();\n",
       "      }} else if (Date.now() < root._bokeh_timeout) {\n",
       "      setTimeout(run_inline_js, 100);\n",
       "    } else if (!root._bokeh_failed_load) {\n",
       "      console.log(\"Bokeh: BokehJS failed to load within specified timeout.\");\n",
       "      root._bokeh_failed_load = true;\n",
       "    } else if (force !== true) {\n",
       "      var cell = $(document.getElementById(\"3d759b4d-55cc-4966-bde1-6485b382bc16\")).parents('.cell').data().cell;\n",
       "      cell.output_area.append_execute_result(NB_LOAD_WARNING)\n",
       "    }\n",
       "\n",
       "  }\n",
       "\n",
       "  if (root._bokeh_is_loading === 0) {\n",
       "    console.log(\"Bokeh: BokehJS loaded, going straight to plotting\");\n",
       "    run_inline_js();\n",
       "  } else {\n",
       "    load_libs(js_urls, function() {\n",
       "      console.log(\"Bokeh: BokehJS plotting callback run at\", now());\n",
       "      run_inline_js();\n",
       "    });\n",
       "  }\n",
       "}(window));"
      ],
      "application/vnd.bokehjs_load.v0+json": "\n(function(root) {\n  function now() {\n    return new Date();\n  }\n\n  var force = true;\n\n  if (typeof (root._bokeh_onload_callbacks) === \"undefined\" || force === true) {\n    root._bokeh_onload_callbacks = [];\n    root._bokeh_is_loading = undefined;\n  }\n\n  \n\n  \n  if (typeof (root._bokeh_timeout) === \"undefined\" || force === true) {\n    root._bokeh_timeout = Date.now() + 5000;\n    root._bokeh_failed_load = false;\n  }\n\n  var NB_LOAD_WARNING = {'data': {'text/html':\n     \"<div style='background-color: #fdd'>\\n\"+\n     \"<p>\\n\"+\n     \"BokehJS does not appear to have successfully loaded. If loading BokehJS from CDN, this \\n\"+\n     \"may be due to a slow or bad network connection. Possible fixes:\\n\"+\n     \"</p>\\n\"+\n     \"<ul>\\n\"+\n     \"<li>re-rerun `output_notebook()` to attempt to load from CDN again, or</li>\\n\"+\n     \"<li>use INLINE resources instead, as so:</li>\\n\"+\n     \"</ul>\\n\"+\n     \"<code>\\n\"+\n     \"from bokeh.resources import INLINE\\n\"+\n     \"output_notebook(resources=INLINE)\\n\"+\n     \"</code>\\n\"+\n     \"</div>\"}};\n\n  function display_loaded() {\n    var el = document.getElementById(\"3d759b4d-55cc-4966-bde1-6485b382bc16\");\n    if (el != null) {\n      el.textContent = \"BokehJS is loading...\";\n    }\n    if (root.Bokeh !== undefined) {\n      if (el != null) {\n        el.textContent = \"BokehJS \" + root.Bokeh.version + \" successfully loaded.\";\n      }\n    } else if (Date.now() < root._bokeh_timeout) {\n      setTimeout(display_loaded, 100)\n    }\n  }\n\n\n  function run_callbacks() {\n    try {\n      root._bokeh_onload_callbacks.forEach(function(callback) { callback() });\n    }\n    finally {\n      delete root._bokeh_onload_callbacks\n    }\n    console.info(\"Bokeh: all callbacks have finished\");\n  }\n\n  function load_libs(js_urls, callback) {\n    root._bokeh_onload_callbacks.push(callback);\n    if (root._bokeh_is_loading > 0) {\n      console.log(\"Bokeh: BokehJS is being loaded, scheduling callback at\", now());\n      return null;\n    }\n    if (js_urls == null || js_urls.length === 0) {\n      run_callbacks();\n      return null;\n    }\n    console.log(\"Bokeh: BokehJS not loaded, scheduling load and callback at\", now());\n    root._bokeh_is_loading = js_urls.length;\n    for (var i = 0; i < js_urls.length; i++) {\n      var url = js_urls[i];\n      var s = document.createElement('script');\n      s.src = url;\n      s.async = false;\n      s.onreadystatechange = s.onload = function() {\n        root._bokeh_is_loading--;\n        if (root._bokeh_is_loading === 0) {\n          console.log(\"Bokeh: all BokehJS libraries loaded\");\n          run_callbacks()\n        }\n      };\n      s.onerror = function() {\n        console.warn(\"failed to load library \" + url);\n      };\n      console.log(\"Bokeh: injecting script tag for BokehJS library: \", url);\n      document.getElementsByTagName(\"head\")[0].appendChild(s);\n    }\n  };var element = document.getElementById(\"3d759b4d-55cc-4966-bde1-6485b382bc16\");\n  if (element == null) {\n    console.log(\"Bokeh: ERROR: autoload.js configured with elementid '3d759b4d-55cc-4966-bde1-6485b382bc16' but no matching script tag was found. \")\n    return false;\n  }\n\n  var js_urls = [\"https://cdn.pydata.org/bokeh/release/bokeh-0.13.0.min.js\", \"https://cdn.pydata.org/bokeh/release/bokeh-widgets-0.13.0.min.js\", \"https://cdn.pydata.org/bokeh/release/bokeh-tables-0.13.0.min.js\", \"https://cdn.pydata.org/bokeh/release/bokeh-gl-0.13.0.min.js\"];\n\n  var inline_js = [\n    function(Bokeh) {\n      Bokeh.set_log_level(\"info\");\n    },\n    \n    function(Bokeh) {\n      \n    },\n    function(Bokeh) {\n      console.log(\"Bokeh: injecting CSS: https://cdn.pydata.org/bokeh/release/bokeh-0.13.0.min.css\");\n      Bokeh.embed.inject_css(\"https://cdn.pydata.org/bokeh/release/bokeh-0.13.0.min.css\");\n      console.log(\"Bokeh: injecting CSS: https://cdn.pydata.org/bokeh/release/bokeh-widgets-0.13.0.min.css\");\n      Bokeh.embed.inject_css(\"https://cdn.pydata.org/bokeh/release/bokeh-widgets-0.13.0.min.css\");\n      console.log(\"Bokeh: injecting CSS: https://cdn.pydata.org/bokeh/release/bokeh-tables-0.13.0.min.css\");\n      Bokeh.embed.inject_css(\"https://cdn.pydata.org/bokeh/release/bokeh-tables-0.13.0.min.css\");\n    }\n  ];\n\n  function run_inline_js() {\n    \n    if ((root.Bokeh !== undefined) || (force === true)) {\n      for (var i = 0; i < inline_js.length; i++) {\n        inline_js[i].call(root, root.Bokeh);\n      }if (force === true) {\n        display_loaded();\n      }} else if (Date.now() < root._bokeh_timeout) {\n      setTimeout(run_inline_js, 100);\n    } else if (!root._bokeh_failed_load) {\n      console.log(\"Bokeh: BokehJS failed to load within specified timeout.\");\n      root._bokeh_failed_load = true;\n    } else if (force !== true) {\n      var cell = $(document.getElementById(\"3d759b4d-55cc-4966-bde1-6485b382bc16\")).parents('.cell').data().cell;\n      cell.output_area.append_execute_result(NB_LOAD_WARNING)\n    }\n\n  }\n\n  if (root._bokeh_is_loading === 0) {\n    console.log(\"Bokeh: BokehJS loaded, going straight to plotting\");\n    run_inline_js();\n  } else {\n    load_libs(js_urls, function() {\n      console.log(\"Bokeh: BokehJS plotting callback run at\", now());\n      run_inline_js();\n    });\n  }\n}(window));"
     },
     "metadata": {},
     "output_type": "display_data"
    }
   ],
   "source": [
    "import pandas as pd\n",
    "import numpy as np\n",
    "import re\n",
    "from bokeh.io import output_notebook\n",
    "output_notebook()\n",
    "import warnings\n",
    "warnings.filterwarnings('ignore')"
   ]
  },
  {
   "cell_type": "code",
   "execution_count": 2,
   "metadata": {},
   "outputs": [],
   "source": [
    "%reload_ext autoreload\n",
    "%autoreload 2"
   ]
  },
  {
   "cell_type": "markdown",
   "metadata": {},
   "source": [
    "Import the dataset"
   ]
  },
  {
   "cell_type": "code",
   "execution_count": 3,
   "metadata": {},
   "outputs": [],
   "source": [
    "df = pd.read_csv(\"data/20newsgroup_body.csv\")"
   ]
  },
  {
   "cell_type": "code",
   "execution_count": 4,
   "metadata": {},
   "outputs": [
    {
     "data": {
      "text/html": [
       "<div>\n",
       "<style scoped>\n",
       "    .dataframe tbody tr th:only-of-type {\n",
       "        vertical-align: middle;\n",
       "    }\n",
       "\n",
       "    .dataframe tbody tr th {\n",
       "        vertical-align: top;\n",
       "    }\n",
       "\n",
       "    .dataframe thead th {\n",
       "        text-align: right;\n",
       "    }\n",
       "</style>\n",
       "<table border=\"1\" class=\"dataframe\">\n",
       "  <thead>\n",
       "    <tr style=\"text-align: right;\">\n",
       "      <th></th>\n",
       "      <th>text</th>\n",
       "      <th>class</th>\n",
       "      <th>filename</th>\n",
       "    </tr>\n",
       "  </thead>\n",
       "  <tbody>\n",
       "    <tr>\n",
       "      <th>0</th>\n",
       "      <td>In article &lt;1993Apr14.125813.21737@ncsu.edu&gt; ...</td>\n",
       "      <td>talk.politics.mideast</td>\n",
       "      <td>75895</td>\n",
       "    </tr>\n",
       "    <tr>\n",
       "      <th>1</th>\n",
       "      <td>ab4z@Virginia.EDU (\"Andi Beyer\") writes:  &gt; F...</td>\n",
       "      <td>talk.politics.mideast</td>\n",
       "      <td>76248</td>\n",
       "    </tr>\n",
       "    <tr>\n",
       "      <th>2</th>\n",
       "      <td>Andrew Varvel writes: &gt; &gt; &gt; Serdar Argic &gt;(a...</td>\n",
       "      <td>talk.politics.mideast</td>\n",
       "      <td>76277</td>\n",
       "    </tr>\n",
       "    <tr>\n",
       "      <th>3</th>\n",
       "      <td>In article &lt;1993Apr15.204930.9517@thunder.mcr...</td>\n",
       "      <td>talk.politics.mideast</td>\n",
       "      <td>76045</td>\n",
       "    </tr>\n",
       "    <tr>\n",
       "      <th>4</th>\n",
       "      <td>Srinivas Suder writes:  &gt;If the Haitian peopl...</td>\n",
       "      <td>talk.politics.mideast</td>\n",
       "      <td>77197</td>\n",
       "    </tr>\n",
       "  </tbody>\n",
       "</table>\n",
       "</div>"
      ],
      "text/plain": [
       "                                                text                  class  \\\n",
       "0   In article <1993Apr14.125813.21737@ncsu.edu> ...  talk.politics.mideast   \n",
       "1   ab4z@Virginia.EDU (\"Andi Beyer\") writes:  > F...  talk.politics.mideast   \n",
       "2    Andrew Varvel writes: > > > Serdar Argic >(a...  talk.politics.mideast   \n",
       "3   In article <1993Apr15.204930.9517@thunder.mcr...  talk.politics.mideast   \n",
       "4   Srinivas Suder writes:  >If the Haitian peopl...  talk.politics.mideast   \n",
       "\n",
       "   filename  \n",
       "0     75895  \n",
       "1     76248  \n",
       "2     76277  \n",
       "3     76045  \n",
       "4     77197  "
      ]
     },
     "execution_count": 4,
     "metadata": {},
     "output_type": "execute_result"
    }
   ],
   "source": [
    "df.head()"
   ]
  },
  {
   "cell_type": "markdown",
   "metadata": {},
   "source": [
    "Dropping missing values:"
   ]
  },
  {
   "cell_type": "code",
   "execution_count": 5,
   "metadata": {},
   "outputs": [
    {
     "data": {
      "text/plain": [
       "text        8\n",
       "class       0\n",
       "filename    0\n",
       "dtype: int64"
      ]
     },
     "execution_count": 5,
     "metadata": {},
     "output_type": "execute_result"
    }
   ],
   "source": [
    "df.isnull().sum()"
   ]
  },
  {
   "cell_type": "code",
   "execution_count": 6,
   "metadata": {},
   "outputs": [],
   "source": [
    "df = df.dropna()"
   ]
  },
  {
   "cell_type": "markdown",
   "metadata": {},
   "source": [
    "### Text cleaning and pre-processing "
   ]
  },
  {
   "cell_type": "code",
   "execution_count": 7,
   "metadata": {},
   "outputs": [
    {
     "name": "stdout",
     "output_type": "stream",
     "text": [
      "20 classes:\n",
      "['talk.politics.mideast' 'rec.autos' 'comp.sys.mac.hardware' 'alt.atheism'\n",
      " 'rec.sport.baseball' 'comp.os.ms-windows.misc' 'rec.sport.hockey'\n",
      " 'sci.crypt' 'sci.med' 'talk.politics.misc' 'rec.motorcycles'\n",
      " 'comp.windows.x' 'comp.graphics' 'comp.sys.ibm.pc.hardware'\n",
      " 'sci.electronics' 'talk.politics.guns' 'sci.space'\n",
      " 'soc.religion.christian' 'misc.forsale' 'talk.religion.misc']\n"
     ]
    }
   ],
   "source": [
    "print('{} classes:\\n{}'.format(len(df['class'].unique()), df['class'].unique()))"
   ]
  },
  {
   "cell_type": "code",
   "execution_count": 8,
   "metadata": {},
   "outputs": [],
   "source": [
    "from mltools.textMining import TextPreprocessing"
   ]
  },
  {
   "cell_type": "markdown",
   "metadata": {},
   "source": [
    "Using the class TextPreprocessing we eliminate the special characters and stopwords in the input text. The output will be a pandas Dataframe like the input one with a new column that contain the list of tokens extracted and a text field that contain the original text cleaned."
   ]
  },
  {
   "cell_type": "code",
   "execution_count": 9,
   "metadata": {},
   "outputs": [],
   "source": [
    "tp = TextPreprocessing(lemmatization = False)"
   ]
  },
  {
   "cell_type": "markdown",
   "metadata": {},
   "source": [
    "The *fit* method take a pandas DataFrame as input and the name of the column that contain the text to processing."
   ]
  },
  {
   "cell_type": "code",
   "execution_count": 10,
   "metadata": {},
   "outputs": [
    {
     "name": "stdout",
     "output_type": "stream",
     "text": [
      "Data cleaning...\n",
      "Standardization...\n",
      "Tokenization...\n",
      "Removing stopwords...\n",
      "Finish\n"
     ]
    }
   ],
   "source": [
    "output = tp.fit(df, \"text\")"
   ]
  },
  {
   "cell_type": "code",
   "execution_count": 11,
   "metadata": {},
   "outputs": [
    {
     "data": {
      "text/html": [
       "<div>\n",
       "<style scoped>\n",
       "    .dataframe tbody tr th:only-of-type {\n",
       "        vertical-align: middle;\n",
       "    }\n",
       "\n",
       "    .dataframe tbody tr th {\n",
       "        vertical-align: top;\n",
       "    }\n",
       "\n",
       "    .dataframe thead th {\n",
       "        text-align: right;\n",
       "    }\n",
       "</style>\n",
       "<table border=\"1\" class=\"dataframe\">\n",
       "  <thead>\n",
       "    <tr style=\"text-align: right;\">\n",
       "      <th></th>\n",
       "      <th>text</th>\n",
       "      <th>class</th>\n",
       "      <th>filename</th>\n",
       "      <th>tokens</th>\n",
       "    </tr>\n",
       "  </thead>\n",
       "  <tbody>\n",
       "    <tr>\n",
       "      <th>0</th>\n",
       "      <td>in article      apr                hernlem  b...</td>\n",
       "      <td>talk.politics.mideast</td>\n",
       "      <td>75895</td>\n",
       "      <td>[article, hernlem, brad, hernlem, writes, leba...</td>\n",
       "    </tr>\n",
       "    <tr>\n",
       "      <th>1</th>\n",
       "      <td>ab z   andi beyer   writes     first of all i...</td>\n",
       "      <td>talk.politics.mideast</td>\n",
       "      <td>76248</td>\n",
       "      <td>[andi, beyer, writes, first, never, said, holo...</td>\n",
       "    </tr>\n",
       "    <tr>\n",
       "      <th>2</th>\n",
       "      <td>andrew varvel writes        serdar argic   a...</td>\n",
       "      <td>talk.politics.mideast</td>\n",
       "      <td>76277</td>\n",
       "      <td>[andrew, varvel, writes, serdar, argic, serdar...</td>\n",
       "    </tr>\n",
       "    <tr>\n",
       "      <th>3</th>\n",
       "      <td>in article      apr               hasan  writ...</td>\n",
       "      <td>talk.politics.mideast</td>\n",
       "      <td>76045</td>\n",
       "      <td>[article, hasan, writes, article, astein, alan...</td>\n",
       "    </tr>\n",
       "    <tr>\n",
       "      <th>4</th>\n",
       "      <td>srinivas suder writes    if the haitian peopl...</td>\n",
       "      <td>talk.politics.mideast</td>\n",
       "      <td>77197</td>\n",
       "      <td>[srinivas, suder, writes, haitian, people, cur...</td>\n",
       "    </tr>\n",
       "  </tbody>\n",
       "</table>\n",
       "</div>"
      ],
      "text/plain": [
       "                                                text                  class  \\\n",
       "0   in article      apr                hernlem  b...  talk.politics.mideast   \n",
       "1   ab z   andi beyer   writes     first of all i...  talk.politics.mideast   \n",
       "2    andrew varvel writes        serdar argic   a...  talk.politics.mideast   \n",
       "3   in article      apr               hasan  writ...  talk.politics.mideast   \n",
       "4   srinivas suder writes    if the haitian peopl...  talk.politics.mideast   \n",
       "\n",
       "   filename                                             tokens  \n",
       "0     75895  [article, hernlem, brad, hernlem, writes, leba...  \n",
       "1     76248  [andi, beyer, writes, first, never, said, holo...  \n",
       "2     76277  [andrew, varvel, writes, serdar, argic, serdar...  \n",
       "3     76045  [article, hasan, writes, article, astein, alan...  \n",
       "4     77197  [srinivas, suder, writes, haitian, people, cur...  "
      ]
     },
     "execution_count": 11,
     "metadata": {},
     "output_type": "execute_result"
    }
   ],
   "source": [
    "output.head()"
   ]
  },
  {
   "cell_type": "markdown",
   "metadata": {},
   "source": [
    "### Extracting Skip-Gram"
   ]
  },
  {
   "cell_type": "code",
   "execution_count": null,
   "metadata": {},
   "outputs": [],
   "source": []
  },
  {
   "cell_type": "code",
   "execution_count": null,
   "metadata": {},
   "outputs": [],
   "source": []
  },
  {
   "cell_type": "markdown",
   "metadata": {},
   "source": [
    "### Data augmentation "
   ]
  },
  {
   "cell_type": "code",
   "execution_count": null,
   "metadata": {},
   "outputs": [],
   "source": []
  },
  {
   "cell_type": "code",
   "execution_count": null,
   "metadata": {},
   "outputs": [],
   "source": []
  },
  {
   "cell_type": "markdown",
   "metadata": {},
   "source": [
    "### Vectorization"
   ]
  },
  {
   "cell_type": "code",
   "execution_count": 12,
   "metadata": {},
   "outputs": [],
   "source": [
    "#suddivisione training set / test set\n",
    "from sklearn.model_selection import train_test_split"
   ]
  },
  {
   "cell_type": "code",
   "execution_count": 13,
   "metadata": {},
   "outputs": [],
   "source": [
    "X_train, X_test, y_train, y_test = train_test_split(output[[\"tokens\", \"filename\"]], output[\"class\"], \n",
    "                                                    test_size=0.3, \n",
    "                                                    random_state=40)"
   ]
  },
  {
   "cell_type": "code",
   "execution_count": 14,
   "metadata": {},
   "outputs": [],
   "source": [
    "from mltools.textMining.text_preprocessing import VectorizeData"
   ]
  },
  {
   "cell_type": "code",
   "execution_count": 15,
   "metadata": {},
   "outputs": [],
   "source": [
    "#as default we consider the tf-idf\n",
    "token_toVect = VectorizeData()"
   ]
  },
  {
   "cell_type": "code",
   "execution_count": 16,
   "metadata": {},
   "outputs": [],
   "source": [
    "X_train_tfidf, X_test_tfidf, vectorizer = token_toVect.fit(X_train[\"tokens\"], X_test[\"tokens\"])"
   ]
  },
  {
   "cell_type": "code",
   "execution_count": 17,
   "metadata": {},
   "outputs": [
    {
     "data": {
      "text/plain": [
       "((13970, 60000), (5988, 60000))"
      ]
     },
     "execution_count": 17,
     "metadata": {},
     "output_type": "execute_result"
    }
   ],
   "source": [
    "X_train_tfidf.shape, X_test_tfidf.shape"
   ]
  },
  {
   "cell_type": "markdown",
   "metadata": {},
   "source": [
    "### Word Embeddings"
   ]
  },
  {
   "cell_type": "code",
   "execution_count": null,
   "metadata": {},
   "outputs": [],
   "source": [
    "from mltools.textMining.word2vec import *"
   ]
  },
  {
   "cell_type": "code",
   "execution_count": null,
   "metadata": {},
   "outputs": [],
   "source": [
    "word2vec_model = load_model(\"GoogleNews-vectors-negative300.bin.gz\")"
   ]
  },
  {
   "cell_type": "code",
   "execution_count": null,
   "metadata": {},
   "outputs": [],
   "source": [
    "embeddings = get_word2vec_embeddings(word2vec_model, output, \"tokens\")"
   ]
  },
  {
   "cell_type": "code",
   "execution_count": null,
   "metadata": {},
   "outputs": [],
   "source": [
    "np.array(embeddings)"
   ]
  },
  {
   "cell_type": "markdown",
   "metadata": {},
   "source": [
    "### Text Classification using the evaluateModels module"
   ]
  },
  {
   "cell_type": "code",
   "execution_count": 18,
   "metadata": {},
   "outputs": [],
   "source": [
    "from mltools.evaluateModels import CrossValidation"
   ]
  },
  {
   "cell_type": "code",
   "execution_count": 19,
   "metadata": {},
   "outputs": [],
   "source": [
    "cv = CrossValidation(models=[\"MultinomialNB\", \"LogisticRegression\"], \n",
    "                     scores = [\"accuracy\", \"f1_multiclass\", \"precision_multiclass\", \"recall_multiclass\"],\n",
    "                     params_file = \"./param_file.txt\")"
   ]
  },
  {
   "cell_type": "code",
   "execution_count": 20,
   "metadata": {},
   "outputs": [
    {
     "name": "stdout",
     "output_type": "stream",
     "text": [
      "MultinomialNB\n",
      "GaussianNB\n",
      "SVM\n",
      "SGD_SVM\n",
      "SGD_regressor\n",
      "SVM_regressor\n",
      "KNN\n",
      "KNN_regressor\n",
      "DT\n",
      "DT_regressor\n",
      "RandomForest\n",
      "RandomForest_regressor\n",
      "LinearRegression\n",
      "NonNegativeLinearRegression\n",
      "LogisticRegression\n",
      "LassoRegression\n",
      "RidgeRegression\n",
      "ElasticNet\n",
      "LinearGAM\n",
      "PoissonGAM\n",
      "GammaGAM\n",
      "MARS\n",
      "GradientBoosting\n",
      "GradientBoosting_regressor\n",
      "AdaBoost\n",
      "AdaBoost_regressor\n",
      "LightGBM\n",
      "LightGBM_regressor\n",
      "XGBoost\n",
      "XGBoost_regressor\n"
     ]
    }
   ],
   "source": [
    "cv.get_models_info"
   ]
  },
  {
   "cell_type": "code",
   "execution_count": 21,
   "metadata": {},
   "outputs": [
    {
     "name": "stdout",
     "output_type": "stream",
     "text": [
      "accuracy\n",
      "auc\n",
      "f1\n",
      "f1_multiclass\n",
      "mcc\n",
      "precision\n",
      "precision_multiclass\n",
      "recall\n",
      "recall_multiclass\n",
      "mse\n",
      "rmse\n",
      "mae\n",
      "medae\n",
      "msle\n",
      "r2\n"
     ]
    }
   ],
   "source": [
    "cv.get_scores_info"
   ]
  },
  {
   "cell_type": "code",
   "execution_count": 22,
   "metadata": {},
   "outputs": [
    {
     "name": "stdout",
     "output_type": "stream",
     "text": [
      "Model: MultinomialNB\n",
      "Searching the best MultinomialNB with grid search cv...\n",
      "\n",
      "Best_estimator: MultinomialNB(alpha=0.1, class_prior=None, fit_prior=False)\n",
      "\n",
      "Best_scores: 0.848890479599141\n",
      "Evaluate the best model configuration with a new cross validation...\n",
      "\n",
      "Model: LogisticRegression\n",
      "Searching the best LogisticRegression with grid search cv...\n",
      "\n",
      "Best_estimator: LogisticRegression(C=1.0, class_weight=None, dual=False, fit_intercept=True,\n",
      "          intercept_scaling=1, max_iter=100, multi_class='ovr', n_jobs=1,\n",
      "          penalty='l2', random_state=None, solver='liblinear', tol=0.0001,\n",
      "          verbose=0, warm_start=False)\n",
      "\n",
      "Best_scores: 0.8206871868289191\n",
      "Evaluate the best model configuration with a new cross validation...\n",
      "\n",
      "Finish\n"
     ]
    }
   ],
   "source": [
    "res, model = cv.fit(X_train_tfidf, y_train)"
   ]
  },
  {
   "cell_type": "code",
   "execution_count": 23,
   "metadata": {},
   "outputs": [
    {
     "data": {
      "text/html": [
       "<div>\n",
       "<style scoped>\n",
       "    .dataframe tbody tr th:only-of-type {\n",
       "        vertical-align: middle;\n",
       "    }\n",
       "\n",
       "    .dataframe tbody tr th {\n",
       "        vertical-align: top;\n",
       "    }\n",
       "\n",
       "    .dataframe thead th {\n",
       "        text-align: right;\n",
       "    }\n",
       "</style>\n",
       "<table border=\"1\" class=\"dataframe\">\n",
       "  <thead>\n",
       "    <tr style=\"text-align: right;\">\n",
       "      <th></th>\n",
       "      <th>LogisticRegression</th>\n",
       "      <th>MultinomialNB</th>\n",
       "    </tr>\n",
       "  </thead>\n",
       "  <tbody>\n",
       "    <tr>\n",
       "      <th>computation_total</th>\n",
       "      <td>36.9073</td>\n",
       "      <td>0.851345</td>\n",
       "    </tr>\n",
       "    <tr>\n",
       "      <th>test_accuracy_mean</th>\n",
       "      <td>0.820699</td>\n",
       "      <td>0.848888</td>\n",
       "    </tr>\n",
       "    <tr>\n",
       "      <th>test_accuracy_sd</th>\n",
       "      <td>0.00809733</td>\n",
       "      <td>0.00958564</td>\n",
       "    </tr>\n",
       "    <tr>\n",
       "      <th>test_accuracy_ci_95%</th>\n",
       "      <td>[0.8188, 0.8226]</td>\n",
       "      <td>[0.8466, 0.8512]</td>\n",
       "    </tr>\n",
       "    <tr>\n",
       "      <th>test_accuracy_ci_99%</th>\n",
       "      <td>[0.8179, 0.8235]</td>\n",
       "      <td>[0.8456, 0.8522]</td>\n",
       "    </tr>\n",
       "    <tr>\n",
       "      <th>train_accuracy_mean</th>\n",
       "      <td>0.935107</td>\n",
       "      <td>0.962499</td>\n",
       "    </tr>\n",
       "    <tr>\n",
       "      <th>train_accuracy_sd</th>\n",
       "      <td>0.00107115</td>\n",
       "      <td>0.000693363</td>\n",
       "    </tr>\n",
       "    <tr>\n",
       "      <th>train_accuracy_ci_95%</th>\n",
       "      <td>[0.9349, 0.9354]</td>\n",
       "      <td>[0.9623, 0.9627]</td>\n",
       "    </tr>\n",
       "    <tr>\n",
       "      <th>train_accuracy_ci_99%</th>\n",
       "      <td>[0.9347, 0.9355]</td>\n",
       "      <td>[0.9623, 0.9627]</td>\n",
       "    </tr>\n",
       "    <tr>\n",
       "      <th>test_f1_multiclass_mean</th>\n",
       "      <td>0.818745</td>\n",
       "      <td>0.846937</td>\n",
       "    </tr>\n",
       "    <tr>\n",
       "      <th>test_f1_multiclass_sd</th>\n",
       "      <td>0.00808076</td>\n",
       "      <td>0.0100852</td>\n",
       "    </tr>\n",
       "    <tr>\n",
       "      <th>test_f1_multiclass_ci_95%</th>\n",
       "      <td>[0.8168, 0.8207]</td>\n",
       "      <td>[0.8445, 0.8493]</td>\n",
       "    </tr>\n",
       "    <tr>\n",
       "      <th>test_f1_multiclass_ci_99%</th>\n",
       "      <td>[0.816, 0.8215]</td>\n",
       "      <td>[0.8435, 0.8504]</td>\n",
       "    </tr>\n",
       "    <tr>\n",
       "      <th>train_f1_multiclass_mean</th>\n",
       "      <td>0.934588</td>\n",
       "      <td>0.962171</td>\n",
       "    </tr>\n",
       "    <tr>\n",
       "      <th>train_f1_multiclass_sd</th>\n",
       "      <td>0.00108601</td>\n",
       "      <td>0.000723124</td>\n",
       "    </tr>\n",
       "    <tr>\n",
       "      <th>train_f1_multiclass_ci_95%</th>\n",
       "      <td>[0.9343, 0.9348]</td>\n",
       "      <td>[0.962, 0.9623]</td>\n",
       "    </tr>\n",
       "    <tr>\n",
       "      <th>train_f1_multiclass_ci_99%</th>\n",
       "      <td>[0.9342, 0.935]</td>\n",
       "      <td>[0.9619, 0.9624]</td>\n",
       "    </tr>\n",
       "    <tr>\n",
       "      <th>test_precision_multiclass_mean</th>\n",
       "      <td>0.821343</td>\n",
       "      <td>0.849168</td>\n",
       "    </tr>\n",
       "    <tr>\n",
       "      <th>test_precision_multiclass_sd</th>\n",
       "      <td>0.00793558</td>\n",
       "      <td>0.0104186</td>\n",
       "    </tr>\n",
       "    <tr>\n",
       "      <th>test_precision_multiclass_ci_95%</th>\n",
       "      <td>[0.8195, 0.8232]</td>\n",
       "      <td>[0.8467, 0.8517]</td>\n",
       "    </tr>\n",
       "    <tr>\n",
       "      <th>test_precision_multiclass_ci_99%</th>\n",
       "      <td>[0.8186, 0.8241]</td>\n",
       "      <td>[0.8456, 0.8527]</td>\n",
       "    </tr>\n",
       "    <tr>\n",
       "      <th>train_precision_multiclass_mean</th>\n",
       "      <td>0.934997</td>\n",
       "      <td>0.962736</td>\n",
       "    </tr>\n",
       "    <tr>\n",
       "      <th>train_precision_multiclass_sd</th>\n",
       "      <td>0.00108937</td>\n",
       "      <td>0.000704266</td>\n",
       "    </tr>\n",
       "    <tr>\n",
       "      <th>train_precision_multiclass_ci_95%</th>\n",
       "      <td>[0.9347, 0.9353]</td>\n",
       "      <td>[0.9626, 0.9629]</td>\n",
       "    </tr>\n",
       "    <tr>\n",
       "      <th>train_precision_multiclass_ci_99%</th>\n",
       "      <td>[0.9346, 0.9354]</td>\n",
       "      <td>[0.9625, 0.963]</td>\n",
       "    </tr>\n",
       "    <tr>\n",
       "      <th>test_recall_multiclass_mean</th>\n",
       "      <td>0.820699</td>\n",
       "      <td>0.848888</td>\n",
       "    </tr>\n",
       "    <tr>\n",
       "      <th>test_recall_multiclass_sd</th>\n",
       "      <td>0.00809733</td>\n",
       "      <td>0.00958564</td>\n",
       "    </tr>\n",
       "    <tr>\n",
       "      <th>test_recall_multiclass_ci_95%</th>\n",
       "      <td>[0.8188, 0.8226]</td>\n",
       "      <td>[0.8466, 0.8512]</td>\n",
       "    </tr>\n",
       "    <tr>\n",
       "      <th>test_recall_multiclass_ci_99%</th>\n",
       "      <td>[0.8179, 0.8235]</td>\n",
       "      <td>[0.8456, 0.8522]</td>\n",
       "    </tr>\n",
       "    <tr>\n",
       "      <th>train_recall_multiclass_mean</th>\n",
       "      <td>0.935107</td>\n",
       "      <td>0.962499</td>\n",
       "    </tr>\n",
       "    <tr>\n",
       "      <th>train_recall_multiclass_sd</th>\n",
       "      <td>0.00107115</td>\n",
       "      <td>0.000693363</td>\n",
       "    </tr>\n",
       "    <tr>\n",
       "      <th>train_recall_multiclass_ci_95%</th>\n",
       "      <td>[0.9349, 0.9354]</td>\n",
       "      <td>[0.9623, 0.9627]</td>\n",
       "    </tr>\n",
       "    <tr>\n",
       "      <th>train_recall_multiclass_ci_99%</th>\n",
       "      <td>[0.9347, 0.9355]</td>\n",
       "      <td>[0.9623, 0.9627]</td>\n",
       "    </tr>\n",
       "  </tbody>\n",
       "</table>\n",
       "</div>"
      ],
      "text/plain": [
       "                                  LogisticRegression     MultinomialNB\n",
       "computation_total                            36.9073          0.851345\n",
       "test_accuracy_mean                          0.820699          0.848888\n",
       "test_accuracy_sd                          0.00809733        0.00958564\n",
       "test_accuracy_ci_95%                [0.8188, 0.8226]  [0.8466, 0.8512]\n",
       "test_accuracy_ci_99%                [0.8179, 0.8235]  [0.8456, 0.8522]\n",
       "train_accuracy_mean                         0.935107          0.962499\n",
       "train_accuracy_sd                         0.00107115       0.000693363\n",
       "train_accuracy_ci_95%               [0.9349, 0.9354]  [0.9623, 0.9627]\n",
       "train_accuracy_ci_99%               [0.9347, 0.9355]  [0.9623, 0.9627]\n",
       "test_f1_multiclass_mean                     0.818745          0.846937\n",
       "test_f1_multiclass_sd                     0.00808076         0.0100852\n",
       "test_f1_multiclass_ci_95%           [0.8168, 0.8207]  [0.8445, 0.8493]\n",
       "test_f1_multiclass_ci_99%            [0.816, 0.8215]  [0.8435, 0.8504]\n",
       "train_f1_multiclass_mean                    0.934588          0.962171\n",
       "train_f1_multiclass_sd                    0.00108601       0.000723124\n",
       "train_f1_multiclass_ci_95%          [0.9343, 0.9348]   [0.962, 0.9623]\n",
       "train_f1_multiclass_ci_99%           [0.9342, 0.935]  [0.9619, 0.9624]\n",
       "test_precision_multiclass_mean              0.821343          0.849168\n",
       "test_precision_multiclass_sd              0.00793558         0.0104186\n",
       "test_precision_multiclass_ci_95%    [0.8195, 0.8232]  [0.8467, 0.8517]\n",
       "test_precision_multiclass_ci_99%    [0.8186, 0.8241]  [0.8456, 0.8527]\n",
       "train_precision_multiclass_mean             0.934997          0.962736\n",
       "train_precision_multiclass_sd             0.00108937       0.000704266\n",
       "train_precision_multiclass_ci_95%   [0.9347, 0.9353]  [0.9626, 0.9629]\n",
       "train_precision_multiclass_ci_99%   [0.9346, 0.9354]   [0.9625, 0.963]\n",
       "test_recall_multiclass_mean                 0.820699          0.848888\n",
       "test_recall_multiclass_sd                 0.00809733        0.00958564\n",
       "test_recall_multiclass_ci_95%       [0.8188, 0.8226]  [0.8466, 0.8512]\n",
       "test_recall_multiclass_ci_99%       [0.8179, 0.8235]  [0.8456, 0.8522]\n",
       "train_recall_multiclass_mean                0.935107          0.962499\n",
       "train_recall_multiclass_sd                0.00107115       0.000693363\n",
       "train_recall_multiclass_ci_95%      [0.9349, 0.9354]  [0.9623, 0.9627]\n",
       "train_recall_multiclass_ci_99%      [0.9347, 0.9355]  [0.9623, 0.9627]"
      ]
     },
     "execution_count": 23,
     "metadata": {},
     "output_type": "execute_result"
    }
   ],
   "source": [
    "res"
   ]
  },
  {
   "cell_type": "code",
   "execution_count": 24,
   "metadata": {},
   "outputs": [
    {
     "name": "stdout",
     "output_type": "stream",
     "text": [
      "MultinomialNB accuracy on test set: 0.8560454241816967\n"
     ]
    }
   ],
   "source": [
    "from sklearn.metrics import accuracy_score, auc, f1_score, precision_score, recall_score, matthews_corrcoef\n",
    "\n",
    "nb_clf = model['MultinomialNB']\n",
    "nb_clf = nb_clf.fit(X_train_tfidf, y_train) \n",
    "y_predicted = nb_clf.predict(X_test_tfidf)\n",
    "\n",
    "print(\"MultinomialNB accuracy on test set:\", accuracy_score(y_test, y_predicted))"
   ]
  },
  {
   "cell_type": "markdown",
   "metadata": {},
   "source": [
    "### Feature Importance in classification "
   ]
  },
  {
   "cell_type": "code",
   "execution_count": 25,
   "metadata": {},
   "outputs": [],
   "source": [
    "from mltools.textMining import *"
   ]
  },
  {
   "cell_type": "code",
   "execution_count": 26,
   "metadata": {},
   "outputs": [],
   "source": [
    "lgr_clf = model['LogisticRegression']\n",
    "lgr_clf = lgr_clf.fit(X_train_tfidf, y_train)"
   ]
  },
  {
   "cell_type": "code",
   "execution_count": 27,
   "metadata": {},
   "outputs": [],
   "source": [
    "importance = get_most_important_features(vectorizer, lgr_clf, n=10)"
   ]
  },
  {
   "cell_type": "code",
   "execution_count": 28,
   "metadata": {},
   "outputs": [
    {
     "data": {
      "text/html": [
       "\n",
       "\n",
       "\n",
       "\n",
       "\n",
       "\n",
       "  <div class=\"bk-root\" id=\"e08c36ea-e5a9-425a-bea7-12d806f66e07\"></div>\n"
      ]
     },
     "metadata": {},
     "output_type": "display_data"
    },
    {
     "data": {
      "application/javascript": [
       "(function(root) {\n",
       "  function embed_document(root) {\n",
       "    \n",
       "  var docs_json = {\"7137a0f4-52ee-40a4-a215-ff6b94153a45\":{\"roots\":{\"references\":[{\"attributes\":{\"child\":{\"id\":\"ecf288de-d061-43b6-9f96-990e5b7874bc\",\"subtype\":\"Figure\",\"type\":\"Plot\"},\"title\":\"rec.autos\"},\"id\":\"b5881935-4e07-43a8-87c3-30a9e8b80409\",\"type\":\"Panel\"},{\"attributes\":{\"background_fill_alpha\":{\"value\":0.05},\"background_fill_color\":{\"value\":\"#859dcd\"},\"below\":[{\"id\":\"5e5a3554-7057-4a5f-96c2-4d272bbebbc5\",\"type\":\"LinearAxis\"}],\"left\":[{\"id\":\"8ee2bc36-4e27-41c1-9899-2d605e2db2fd\",\"type\":\"LinearAxis\"}],\"plot_width\":800,\"renderers\":[{\"id\":\"5e5a3554-7057-4a5f-96c2-4d272bbebbc5\",\"type\":\"LinearAxis\"},{\"id\":\"e82993d0-9ae5-44a4-8d49-ef8e4095c4d9\",\"type\":\"Grid\"},{\"id\":\"8ee2bc36-4e27-41c1-9899-2d605e2db2fd\",\"type\":\"LinearAxis\"},{\"id\":\"696644a5-4f90-4227-8f13-19885a6e35fb\",\"type\":\"Grid\"},{\"id\":\"58a8e7b5-7764-4bcf-a22a-d7e4ec4f345b\",\"type\":\"BoxAnnotation\"},{\"id\":\"83d74dce-dd36-4156-a3fa-ed602f2aba15\",\"type\":\"GlyphRenderer\"},{\"id\":\"c06f31f6-108c-4fbb-842a-5783a3da3756\",\"type\":\"LabelSet\"}],\"title\":{\"id\":\"fd5bf650-9e29-4857-87b5-1115102a59c9\",\"type\":\"Title\"},\"toolbar\":{\"id\":\"1260703f-7cac-410c-93cd-cadedeac0c5c\",\"type\":\"Toolbar\"},\"x_range\":{\"id\":\"48e318b6-e2c0-4aba-8cd2-d636dfea0274\",\"type\":\"DataRange1d\"},\"x_scale\":{\"id\":\"421d9a5a-54dd-4c3e-ad00-a9c09c5796a0\",\"type\":\"LinearScale\"},\"y_range\":{\"id\":\"fa942c5a-9fcc-409e-adfc-e3a584f8e3d1\",\"type\":\"DataRange1d\"},\"y_scale\":{\"id\":\"55e0fbeb-17c3-4815-baa2-930485edeef2\",\"type\":\"LinearScale\"}},\"id\":\"6fc125d1-a552-4735-912f-a06a6b22694f\",\"subtype\":\"Figure\",\"type\":\"Plot\"},{\"attributes\":{\"active_drag\":\"auto\",\"active_inspect\":\"auto\",\"active_multi\":null,\"active_scroll\":\"auto\",\"active_tap\":\"auto\",\"tools\":[{\"id\":\"75e58f4b-4690-4713-b063-1626f95996ec\",\"type\":\"BoxSelectTool\"},{\"id\":\"d7281149-c9ed-4627-b688-570861503f2c\",\"type\":\"PanTool\"},{\"id\":\"33a51adc-3faf-4695-845d-b3c08ce5de50\",\"type\":\"ResetTool\"},{\"id\":\"ebd9159f-64af-4f0f-978c-9a9c22eb6da4\",\"type\":\"SaveTool\"},{\"id\":\"65af5f25-a39e-47f6-af8e-7a383098aa70\",\"type\":\"HoverTool\"}]},\"id\":\"1260703f-7cac-410c-93cd-cadedeac0c5c\",\"type\":\"Toolbar\"},{\"attributes\":{\"callback\":null},\"id\":\"48e318b6-e2c0-4aba-8cd2-d636dfea0274\",\"type\":\"DataRange1d\"},{\"attributes\":{\"callback\":null},\"id\":\"dc699dbe-7542-4906-9f25-f3cdfe98f153\",\"type\":\"DataRange1d\"},{\"attributes\":{\"callback\":null},\"id\":\"fa942c5a-9fcc-409e-adfc-e3a584f8e3d1\",\"type\":\"DataRange1d\"},{\"attributes\":{},\"id\":\"421d9a5a-54dd-4c3e-ad00-a9c09c5796a0\",\"type\":\"LinearScale\"},{\"attributes\":{},\"id\":\"55e0fbeb-17c3-4815-baa2-930485edeef2\",\"type\":\"LinearScale\"},{\"attributes\":{\"grid_line_color\":{\"value\":null},\"plot\":{\"id\":\"6fc125d1-a552-4735-912f-a06a6b22694f\",\"subtype\":\"Figure\",\"type\":\"Plot\"},\"ticker\":{\"id\":\"d7136170-c851-43b3-bd26-c071c962703d\",\"type\":\"BasicTicker\"}},\"id\":\"e82993d0-9ae5-44a4-8d49-ef8e4095c4d9\",\"type\":\"Grid\"},{\"attributes\":{\"axis_label\":\"Importance\",\"axis_label_text_font_size\":{\"value\":\"16px\"},\"formatter\":{\"id\":\"5b372e4f-234f-4e7e-ad49-3eb43a1043ad\",\"type\":\"BasicTickFormatter\"},\"plot\":{\"id\":\"6fc125d1-a552-4735-912f-a06a6b22694f\",\"subtype\":\"Figure\",\"type\":\"Plot\"},\"ticker\":{\"id\":\"d7136170-c851-43b3-bd26-c071c962703d\",\"type\":\"BasicTicker\"}},\"id\":\"5e5a3554-7057-4a5f-96c2-4d272bbebbc5\",\"type\":\"LinearAxis\"},{\"attributes\":{},\"id\":\"d7136170-c851-43b3-bd26-c071c962703d\",\"type\":\"BasicTicker\"},{\"attributes\":{\"axis_label\":\"Most important words\",\"axis_label_text_font_size\":{\"value\":\"16px\"},\"formatter\":{\"id\":\"9cba55f6-2e1a-4ecf-9a56-660e334adf71\",\"type\":\"BasicTickFormatter\"},\"plot\":{\"id\":\"6fc125d1-a552-4735-912f-a06a6b22694f\",\"subtype\":\"Figure\",\"type\":\"Plot\"},\"ticker\":{\"id\":\"2c3ed74b-5769-433d-95fd-0b8f60bee554\",\"type\":\"BasicTicker\"}},\"id\":\"8ee2bc36-4e27-41c1-9899-2d605e2db2fd\",\"type\":\"LinearAxis\"},{\"attributes\":{},\"id\":\"2c3ed74b-5769-433d-95fd-0b8f60bee554\",\"type\":\"BasicTicker\"},{\"attributes\":{\"dimension\":1,\"plot\":{\"id\":\"6fc125d1-a552-4735-912f-a06a6b22694f\",\"subtype\":\"Figure\",\"type\":\"Plot\"},\"ticker\":{\"id\":\"2c3ed74b-5769-433d-95fd-0b8f60bee554\",\"type\":\"BasicTicker\"}},\"id\":\"696644a5-4f90-4227-8f13-19885a6e35fb\",\"type\":\"Grid\"},{\"attributes\":{\"callback\":null,\"data\":{\"index\":[0,1,2,3,4,5,6,7,8,9],\"top_scores\":{\"__ndarray__\":\"9DBfVYcLCEAhCn3ZZiEJQN/FqrZJ8glA8VX80rv5CUAgva4WLyMKQMh2eexCiQpA+kz6FPRnC0Co+TjCSO8NQFyUhuTHgA9AnJL+NgxSG0A=\",\"dtype\":\"float64\",\"shape\":[10]},\"top_words\":[\"runs\",\"team\",\"game\",\"phillies\",\"pitcher\",\"cubs\",\"mets\",\"year\",\"ball\",\"baseball\"],\"x_label\":[0.2,0.2,0.2,0.2,0.2,0.2,0.2,0.2,0.2,0.2]},\"selected\":{\"id\":\"e674da88-ad53-49aa-9dcc-c5fda4fcce01\",\"type\":\"Selection\"},\"selection_policy\":{\"id\":\"897e3f1a-9fb5-4a98-a040-a3d3664f11f8\",\"type\":\"UnionRenderers\"}},\"id\":\"01cb84dd-c282-4cdf-af97-ff71c5e905c0\",\"type\":\"ColumnDataSource\"},{\"attributes\":{\"align\":\"center\",\"plot\":null,\"text\":\"Feature Importance for \\\"rec.motorcycles\\\"\",\"text_font\":\"Helvetica\",\"text_font_size\":{\"value\":\"24px\"},\"text_font_style\":\"italic\"},\"id\":\"fd5bf650-9e29-4857-87b5-1115102a59c9\",\"type\":\"Title\"},{\"attributes\":{\"fill_alpha\":{\"value\":0.7},\"fill_color\":{\"value\":\"#3399c1\"},\"height\":{\"value\":0.9},\"line_alpha\":{\"value\":0.7},\"line_color\":{\"value\":\"#3399c1\"},\"right\":{\"field\":\"top_scores\"},\"y\":{\"field\":\"index\"}},\"id\":\"69271566-8184-4f37-9966-06eb8267c11d\",\"type\":\"HBar\"},{\"attributes\":{\"callback\":null,\"overlay\":{\"id\":\"58a8e7b5-7764-4bcf-a22a-d7e4ec4f345b\",\"type\":\"BoxAnnotation\"}},\"id\":\"75e58f4b-4690-4713-b063-1626f95996ec\",\"type\":\"BoxSelectTool\"},{\"attributes\":{\"background_fill_alpha\":{\"value\":0.05},\"background_fill_color\":{\"value\":\"#859dcd\"},\"below\":[{\"id\":\"e200105c-c4e0-49ba-8ba9-e76991e49e24\",\"type\":\"LinearAxis\"}],\"left\":[{\"id\":\"4d2f7b5a-932e-491d-aa4a-a06c07afa016\",\"type\":\"LinearAxis\"}],\"plot_width\":800,\"renderers\":[{\"id\":\"e200105c-c4e0-49ba-8ba9-e76991e49e24\",\"type\":\"LinearAxis\"},{\"id\":\"5e750d51-d546-4011-a2c3-a2c3462170bc\",\"type\":\"Grid\"},{\"id\":\"4d2f7b5a-932e-491d-aa4a-a06c07afa016\",\"type\":\"LinearAxis\"},{\"id\":\"b00a908d-a1fb-4dea-b6b0-3fa1ccd12ebb\",\"type\":\"Grid\"},{\"id\":\"7af5dc17-9272-4d8c-9752-acf3a8b07b81\",\"type\":\"BoxAnnotation\"},{\"id\":\"a1a160bc-6548-4457-8c3a-5b4137733b9c\",\"type\":\"GlyphRenderer\"},{\"id\":\"f39ef2d7-8e92-41df-a243-cd804cebdf76\",\"type\":\"LabelSet\"}],\"title\":{\"id\":\"c085f308-7bba-45e1-9b8e-b7c6b142cd8f\",\"type\":\"Title\"},\"toolbar\":{\"id\":\"b7efca6d-5d51-43f5-861c-40d96c49cc27\",\"type\":\"Toolbar\"},\"x_range\":{\"id\":\"17348415-3f17-4439-bfb1-991065600bdc\",\"type\":\"DataRange1d\"},\"x_scale\":{\"id\":\"19ed05a3-fe7b-44c6-a803-f8176c0a27fe\",\"type\":\"LinearScale\"},\"y_range\":{\"id\":\"3e6aa14e-218e-48e4-8886-aa51cd3927f2\",\"type\":\"DataRange1d\"},\"y_scale\":{\"id\":\"d0c62a35-aeac-4ee4-ab4b-e79b3131a7e6\",\"type\":\"LinearScale\"}},\"id\":\"2c4ea952-5d82-4c58-8807-4eb562b02bf0\",\"subtype\":\"Figure\",\"type\":\"Plot\"},{\"attributes\":{},\"id\":\"d7281149-c9ed-4627-b688-570861503f2c\",\"type\":\"PanTool\"},{\"attributes\":{},\"id\":\"33a51adc-3faf-4695-845d-b3c08ce5de50\",\"type\":\"ResetTool\"},{\"attributes\":{},\"id\":\"ebd9159f-64af-4f0f-978c-9a9c22eb6da4\",\"type\":\"SaveTool\"},{\"attributes\":{\"bottom_units\":\"screen\",\"fill_alpha\":{\"value\":0.5},\"fill_color\":{\"value\":\"lightgrey\"},\"left_units\":\"screen\",\"level\":\"overlay\",\"line_alpha\":{\"value\":1.0},\"line_color\":{\"value\":\"black\"},\"line_dash\":[4,4],\"line_width\":{\"value\":2},\"plot\":null,\"render_mode\":\"css\",\"right_units\":\"screen\",\"top_units\":\"screen\"},\"id\":\"58a8e7b5-7764-4bcf-a22a-d7e4ec4f345b\",\"type\":\"BoxAnnotation\"},{\"attributes\":{},\"id\":\"2d1107bb-fe0d-4ef7-878f-10ab1807063a\",\"type\":\"LinearScale\"},{\"attributes\":{\"axis_label\":\"Importance\",\"axis_label_text_font_size\":{\"value\":\"16px\"},\"formatter\":{\"id\":\"0e20c9c8-85ae-439c-8868-a79dac5a1948\",\"type\":\"BasicTickFormatter\"},\"plot\":{\"id\":\"018e3d6c-3b2d-4183-8a58-376f2b5be7e9\",\"subtype\":\"Figure\",\"type\":\"Plot\"},\"ticker\":{\"id\":\"29c21f2f-232d-43e0-8834-ab7a3bc27eac\",\"type\":\"BasicTicker\"}},\"id\":\"58da7b88-0cc3-4bb1-a8a4-cd0ad4743204\",\"type\":\"LinearAxis\"},{\"attributes\":{\"grid_line_color\":{\"value\":null},\"plot\":{\"id\":\"018e3d6c-3b2d-4183-8a58-376f2b5be7e9\",\"subtype\":\"Figure\",\"type\":\"Plot\"},\"ticker\":{\"id\":\"29c21f2f-232d-43e0-8834-ab7a3bc27eac\",\"type\":\"BasicTicker\"}},\"id\":\"7b013188-a3cd-4b6b-91be-c452ca10eed3\",\"type\":\"Grid\"},{\"attributes\":{\"fill_alpha\":{\"value\":0.1},\"fill_color\":{\"value\":\"#1f77b4\"},\"height\":{\"value\":0.9},\"line_alpha\":{\"value\":0.1},\"line_color\":{\"value\":\"#1f77b4\"},\"right\":{\"field\":\"top_scores\"},\"y\":{\"field\":\"index\"}},\"id\":\"e2df1e8c-e138-46d1-bee1-256b57e80bfd\",\"type\":\"HBar\"},{\"attributes\":{\"data_source\":{\"id\":\"889f8e82-d27b-4dba-9caa-f832b4fe00fa\",\"type\":\"ColumnDataSource\"},\"glyph\":{\"id\":\"69271566-8184-4f37-9966-06eb8267c11d\",\"type\":\"HBar\"},\"hover_glyph\":null,\"muted_glyph\":null,\"nonselection_glyph\":{\"id\":\"e2df1e8c-e138-46d1-bee1-256b57e80bfd\",\"type\":\"HBar\"},\"selection_glyph\":null,\"view\":{\"id\":\"a1a05f12-d120-4ec5-9ee4-b067dc7147d3\",\"type\":\"CDSView\"}},\"id\":\"83d74dce-dd36-4156-a3fa-ed602f2aba15\",\"type\":\"GlyphRenderer\"},{\"attributes\":{\"source\":{\"id\":\"889f8e82-d27b-4dba-9caa-f832b4fe00fa\",\"type\":\"ColumnDataSource\"}},\"id\":\"a1a05f12-d120-4ec5-9ee4-b067dc7147d3\",\"type\":\"CDSView\"},{\"attributes\":{\"callback\":null,\"renderers\":\"auto\",\"tooltips\":[[\"Importance\",\"@top_scores\"]]},\"id\":\"65af5f25-a39e-47f6-af8e-7a383098aa70\",\"type\":\"HoverTool\"},{\"attributes\":{\"child\":{\"id\":\"6fc125d1-a552-4735-912f-a06a6b22694f\",\"subtype\":\"Figure\",\"type\":\"Plot\"},\"title\":\"rec.motorcycles\"},\"id\":\"5123008e-63df-4d4d-905d-93e49de076ac\",\"type\":\"Panel\"},{\"attributes\":{\"active_drag\":\"auto\",\"active_inspect\":\"auto\",\"active_multi\":null,\"active_scroll\":\"auto\",\"active_tap\":\"auto\",\"tools\":[{\"id\":\"c5fc71c6-f219-405d-99cf-e09df5a3552a\",\"type\":\"BoxSelectTool\"},{\"id\":\"3a018ff9-d803-419b-a253-ce986ff08cf0\",\"type\":\"PanTool\"},{\"id\":\"2ffbcff2-4350-430d-9783-14e7ad36f7bc\",\"type\":\"ResetTool\"},{\"id\":\"e13eba03-4901-443b-8837-0e7b5fb7b944\",\"type\":\"SaveTool\"},{\"id\":\"ce66684d-1b6a-4676-80ae-877290d473aa\",\"type\":\"HoverTool\"}]},\"id\":\"b7efca6d-5d51-43f5-861c-40d96c49cc27\",\"type\":\"Toolbar\"},{\"attributes\":{\"callback\":null},\"id\":\"17348415-3f17-4439-bfb1-991065600bdc\",\"type\":\"DataRange1d\"},{\"attributes\":{\"level\":\"glyph\",\"plot\":{\"id\":\"018e3d6c-3b2d-4183-8a58-376f2b5be7e9\",\"subtype\":\"Figure\",\"type\":\"Plot\"},\"source\":{\"id\":\"a20555b0-31f9-49ac-b099-7a0a44063edc\",\"type\":\"ColumnDataSource\"},\"text\":{\"field\":\"top_words\"},\"text_color\":{\"value\":\"black\"},\"text_font_size\":{\"value\":\"16px\"},\"x\":{\"field\":\"x_label\"},\"y\":{\"field\":\"index\"},\"y_offset\":{\"value\":-8}},\"id\":\"c8c016f2-49d6-4007-a308-f01ab09fd0a4\",\"type\":\"LabelSet\"},{\"attributes\":{\"callback\":null},\"id\":\"3e6aa14e-218e-48e4-8886-aa51cd3927f2\",\"type\":\"DataRange1d\"},{\"attributes\":{},\"id\":\"19ed05a3-fe7b-44c6-a803-f8176c0a27fe\",\"type\":\"LinearScale\"},{\"attributes\":{},\"id\":\"d0c62a35-aeac-4ee4-ab4b-e79b3131a7e6\",\"type\":\"LinearScale\"},{\"attributes\":{\"grid_line_color\":{\"value\":null},\"plot\":{\"id\":\"2c4ea952-5d82-4c58-8807-4eb562b02bf0\",\"subtype\":\"Figure\",\"type\":\"Plot\"},\"ticker\":{\"id\":\"fd293664-b06d-44a3-9664-7dffc4a1f811\",\"type\":\"BasicTicker\"}},\"id\":\"5e750d51-d546-4011-a2c3-a2c3462170bc\",\"type\":\"Grid\"},{\"attributes\":{\"axis_label\":\"Importance\",\"axis_label_text_font_size\":{\"value\":\"16px\"},\"formatter\":{\"id\":\"7a6e653f-037c-4deb-bca7-1610fc6d542d\",\"type\":\"BasicTickFormatter\"},\"plot\":{\"id\":\"2c4ea952-5d82-4c58-8807-4eb562b02bf0\",\"subtype\":\"Figure\",\"type\":\"Plot\"},\"ticker\":{\"id\":\"fd293664-b06d-44a3-9664-7dffc4a1f811\",\"type\":\"BasicTicker\"}},\"id\":\"e200105c-c4e0-49ba-8ba9-e76991e49e24\",\"type\":\"LinearAxis\"},{\"attributes\":{},\"id\":\"fd293664-b06d-44a3-9664-7dffc4a1f811\",\"type\":\"BasicTicker\"},{\"attributes\":{\"axis_label\":\"Most important words\",\"axis_label_text_font_size\":{\"value\":\"16px\"},\"formatter\":{\"id\":\"e4ccf008-b464-4c30-87cb-ca681fe9538b\",\"type\":\"BasicTickFormatter\"},\"plot\":{\"id\":\"2c4ea952-5d82-4c58-8807-4eb562b02bf0\",\"subtype\":\"Figure\",\"type\":\"Plot\"},\"ticker\":{\"id\":\"4db742d2-62e9-4735-9c20-48694ab2abb4\",\"type\":\"BasicTicker\"}},\"id\":\"4d2f7b5a-932e-491d-aa4a-a06c07afa016\",\"type\":\"LinearAxis\"},{\"attributes\":{},\"id\":\"4db742d2-62e9-4735-9c20-48694ab2abb4\",\"type\":\"BasicTicker\"},{\"attributes\":{\"dimension\":1,\"plot\":{\"id\":\"2c4ea952-5d82-4c58-8807-4eb562b02bf0\",\"subtype\":\"Figure\",\"type\":\"Plot\"},\"ticker\":{\"id\":\"4db742d2-62e9-4735-9c20-48694ab2abb4\",\"type\":\"BasicTicker\"}},\"id\":\"b00a908d-a1fb-4dea-b6b0-3fa1ccd12ebb\",\"type\":\"Grid\"},{\"attributes\":{\"callback\":null,\"data\":{\"index\":[0,1,2,3,4,5,6,7,8,9],\"top_scores\":{\"__ndarray__\":\"3JoEwpFPCECRvu5uVmIIQHeKVIlJzwhAkWngq05FCkBXYSsXVFgKQA6CFur+5wtAYq+kOdZ8DkDw8Y6T7gwTQLwyy60UnBZAcmZd4yOVH0A=\",\"dtype\":\"float64\",\"shape\":[10]},\"top_words\":[\"bruins\",\"espn\",\"season\",\"players\",\"play\",\"playoff\",\"playoffs\",\"team\",\"game\",\"hockey\"],\"x_label\":[0.2,0.2,0.2,0.2,0.2,0.2,0.2,0.2,0.2,0.2]},\"selected\":{\"id\":\"7fa02592-0383-4337-a702-cdf6bed65d8b\",\"type\":\"Selection\"},\"selection_policy\":{\"id\":\"94b507b2-606c-472f-b392-7c1790b11a12\",\"type\":\"UnionRenderers\"}},\"id\":\"a20555b0-31f9-49ac-b099-7a0a44063edc\",\"type\":\"ColumnDataSource\"},{\"attributes\":{\"align\":\"center\",\"plot\":null,\"text\":\"Feature Importance for \\\"rec.sport.baseball\\\"\",\"text_font\":\"Helvetica\",\"text_font_size\":{\"value\":\"24px\"},\"text_font_style\":\"italic\"},\"id\":\"c085f308-7bba-45e1-9b8e-b7c6b142cd8f\",\"type\":\"Title\"},{\"attributes\":{\"fill_alpha\":{\"value\":0.7},\"fill_color\":{\"value\":\"#3399c1\"},\"height\":{\"value\":0.9},\"line_alpha\":{\"value\":0.7},\"line_color\":{\"value\":\"#3399c1\"},\"right\":{\"field\":\"top_scores\"},\"y\":{\"field\":\"index\"}},\"id\":\"7777208c-6696-44f4-84a7-d084c9721ed1\",\"type\":\"HBar\"},{\"attributes\":{\"callback\":null,\"overlay\":{\"id\":\"7af5dc17-9272-4d8c-9752-acf3a8b07b81\",\"type\":\"BoxAnnotation\"}},\"id\":\"c5fc71c6-f219-405d-99cf-e09df5a3552a\",\"type\":\"BoxSelectTool\"},{\"attributes\":{\"callback\":null},\"id\":\"8b88f7df-b80c-4078-8d78-1c60ab1b992e\",\"type\":\"DataRange1d\"},{\"attributes\":{},\"id\":\"3a018ff9-d803-419b-a253-ce986ff08cf0\",\"type\":\"PanTool\"},{\"attributes\":{},\"id\":\"2ffbcff2-4350-430d-9783-14e7ad36f7bc\",\"type\":\"ResetTool\"},{\"attributes\":{},\"id\":\"e13eba03-4901-443b-8837-0e7b5fb7b944\",\"type\":\"SaveTool\"},{\"attributes\":{\"bottom_units\":\"screen\",\"fill_alpha\":{\"value\":0.5},\"fill_color\":{\"value\":\"lightgrey\"},\"left_units\":\"screen\",\"level\":\"overlay\",\"line_alpha\":{\"value\":1.0},\"line_color\":{\"value\":\"black\"},\"line_dash\":[4,4],\"line_width\":{\"value\":2},\"plot\":null,\"render_mode\":\"css\",\"right_units\":\"screen\",\"top_units\":\"screen\"},\"id\":\"7af5dc17-9272-4d8c-9752-acf3a8b07b81\",\"type\":\"BoxAnnotation\"},{\"attributes\":{\"callback\":null,\"data\":{\"index\":[0,1,2,3,4,5,6,7,8,9],\"top_scores\":{\"__ndarray__\":\"bVIkdcM5C0A5ltGQzgcMQFzmbWhtFwxAXLv6r9AnDUDcQsIAoRgOQCIF6PFT5A9AUDPjCUFdEUDkH0xsp5sRQBLqQuupcRlACt6s1UkEGkA=\",\"dtype\":\"float64\",\"shape\":[10]},\"top_words\":[\"security\",\"sternlight\",\"government\",\"public\",\"escrow\",\"crypto\",\"keys\",\"chip\",\"clipper\",\"encryption\"],\"x_label\":[0.2,0.2,0.2,0.2,0.2,0.2,0.2,0.2,0.2,0.2]},\"selected\":{\"id\":\"fce3b390-add3-4abb-8333-cc29244c6333\",\"type\":\"Selection\"},\"selection_policy\":{\"id\":\"81ba8576-d0f3-4037-aa0e-ce50757750ab\",\"type\":\"UnionRenderers\"}},\"id\":\"7aec2de7-c7c2-4bc9-928d-43975eb0bb27\",\"type\":\"ColumnDataSource\"},{\"attributes\":{},\"id\":\"0275053d-73a5-4fde-b4b8-c13e0ed5f5bf\",\"type\":\"LinearScale\"},{\"attributes\":{\"level\":\"glyph\",\"plot\":{\"id\":\"2c4ea952-5d82-4c58-8807-4eb562b02bf0\",\"subtype\":\"Figure\",\"type\":\"Plot\"},\"source\":{\"id\":\"01cb84dd-c282-4cdf-af97-ff71c5e905c0\",\"type\":\"ColumnDataSource\"},\"text\":{\"field\":\"top_words\"},\"text_color\":{\"value\":\"black\"},\"text_font_size\":{\"value\":\"16px\"},\"x\":{\"field\":\"x_label\"},\"y\":{\"field\":\"index\"},\"y_offset\":{\"value\":-8}},\"id\":\"f39ef2d7-8e92-41df-a243-cd804cebdf76\",\"type\":\"LabelSet\"},{\"attributes\":{\"fill_alpha\":{\"value\":0.1},\"fill_color\":{\"value\":\"#1f77b4\"},\"height\":{\"value\":0.9},\"line_alpha\":{\"value\":0.1},\"line_color\":{\"value\":\"#1f77b4\"},\"right\":{\"field\":\"top_scores\"},\"y\":{\"field\":\"index\"}},\"id\":\"29583d6d-a086-4e9b-9371-4679d665e053\",\"type\":\"HBar\"},{\"attributes\":{\"data_source\":{\"id\":\"01cb84dd-c282-4cdf-af97-ff71c5e905c0\",\"type\":\"ColumnDataSource\"},\"glyph\":{\"id\":\"7777208c-6696-44f4-84a7-d084c9721ed1\",\"type\":\"HBar\"},\"hover_glyph\":null,\"muted_glyph\":null,\"nonselection_glyph\":{\"id\":\"29583d6d-a086-4e9b-9371-4679d665e053\",\"type\":\"HBar\"},\"selection_glyph\":null,\"view\":{\"id\":\"652b608a-f14c-4add-ab71-78b5027b3c22\",\"type\":\"CDSView\"}},\"id\":\"a1a160bc-6548-4457-8c3a-5b4137733b9c\",\"type\":\"GlyphRenderer\"},{\"attributes\":{\"source\":{\"id\":\"01cb84dd-c282-4cdf-af97-ff71c5e905c0\",\"type\":\"ColumnDataSource\"}},\"id\":\"652b608a-f14c-4add-ab71-78b5027b3c22\",\"type\":\"CDSView\"},{\"attributes\":{\"callback\":null,\"renderers\":\"auto\",\"tooltips\":[[\"Importance\",\"@top_scores\"]]},\"id\":\"ce66684d-1b6a-4676-80ae-877290d473aa\",\"type\":\"HoverTool\"},{\"attributes\":{\"active_drag\":\"auto\",\"active_inspect\":\"auto\",\"active_multi\":null,\"active_scroll\":\"auto\",\"active_tap\":\"auto\",\"tools\":[{\"id\":\"eb959a15-eebf-4fb1-a0af-99071900631f\",\"type\":\"BoxSelectTool\"},{\"id\":\"46e94b03-8d39-414c-b8ec-7fe0cb073bd6\",\"type\":\"PanTool\"},{\"id\":\"08a57681-8493-4169-b32e-bd16020e8acb\",\"type\":\"ResetTool\"},{\"id\":\"63ab7c38-4b74-47fb-a77e-9944fd3bf584\",\"type\":\"SaveTool\"},{\"id\":\"2c91b75a-685c-4104-84f9-36c3415b26e6\",\"type\":\"HoverTool\"}]},\"id\":\"c99fec8a-6556-4520-9410-034693ce705e\",\"type\":\"Toolbar\"},{\"attributes\":{},\"id\":\"29c21f2f-232d-43e0-8834-ab7a3bc27eac\",\"type\":\"BasicTicker\"},{\"attributes\":{\"axis_label\":\"Most important words\",\"axis_label_text_font_size\":{\"value\":\"16px\"},\"formatter\":{\"id\":\"3646d7d5-3d8f-4f98-9f56-27d2586a3eae\",\"type\":\"BasicTickFormatter\"},\"plot\":{\"id\":\"018e3d6c-3b2d-4183-8a58-376f2b5be7e9\",\"subtype\":\"Figure\",\"type\":\"Plot\"},\"ticker\":{\"id\":\"786dfa21-5bb5-42b6-94d9-2e4d1db2c730\",\"type\":\"BasicTicker\"}},\"id\":\"09a7c477-ce6d-4ea1-80f0-21fb1335da7c\",\"type\":\"LinearAxis\"},{\"attributes\":{},\"id\":\"786dfa21-5bb5-42b6-94d9-2e4d1db2c730\",\"type\":\"BasicTicker\"},{\"attributes\":{\"dimension\":1,\"plot\":{\"id\":\"018e3d6c-3b2d-4183-8a58-376f2b5be7e9\",\"subtype\":\"Figure\",\"type\":\"Plot\"},\"ticker\":{\"id\":\"786dfa21-5bb5-42b6-94d9-2e4d1db2c730\",\"type\":\"BasicTicker\"}},\"id\":\"eac3570b-2a4d-4905-af42-e61b63dfbaa2\",\"type\":\"Grid\"},{\"attributes\":{\"level\":\"glyph\",\"plot\":{\"id\":\"e5188244-268f-4a75-ae43-9f49ffaf7dd2\",\"subtype\":\"Figure\",\"type\":\"Plot\"},\"source\":{\"id\":\"7aec2de7-c7c2-4bc9-928d-43975eb0bb27\",\"type\":\"ColumnDataSource\"},\"text\":{\"field\":\"top_words\"},\"text_color\":{\"value\":\"black\"},\"text_font_size\":{\"value\":\"16px\"},\"x\":{\"field\":\"x_label\"},\"y\":{\"field\":\"index\"},\"y_offset\":{\"value\":-8}},\"id\":\"4888114b-17af-440e-9a04-15c5841a4285\",\"type\":\"LabelSet\"},{\"attributes\":{\"fill_alpha\":{\"value\":0.1},\"fill_color\":{\"value\":\"#1f77b4\"},\"height\":{\"value\":0.9},\"line_alpha\":{\"value\":0.1},\"line_color\":{\"value\":\"#1f77b4\"},\"right\":{\"field\":\"top_scores\"},\"y\":{\"field\":\"index\"}},\"id\":\"14a72090-44d4-4089-90a3-48cfc63e1741\",\"type\":\"HBar\"},{\"attributes\":{\"callback\":null,\"overlay\":{\"id\":\"4c2c5d4e-33d7-498e-9a6d-d350bf3d7485\",\"type\":\"BoxAnnotation\"}},\"id\":\"eb959a15-eebf-4fb1-a0af-99071900631f\",\"type\":\"BoxSelectTool\"},{\"attributes\":{},\"id\":\"08a57681-8493-4169-b32e-bd16020e8acb\",\"type\":\"ResetTool\"},{\"attributes\":{},\"id\":\"46e94b03-8d39-414c-b8ec-7fe0cb073bd6\",\"type\":\"PanTool\"},{\"attributes\":{},\"id\":\"76774153-6e9d-4e3c-ae37-1a92742f7f5a\",\"type\":\"BasicTicker\"},{\"attributes\":{\"callback\":null,\"data\":{\"index\":[0,1,2,3,4,5,6,7,8,9],\"top_scores\":{\"__ndarray__\":\"Z4XAxesGB0CwfoqYhTcHQKe+mvTl4AdAAXuWQIjvDUBQjbvazPsPQHTVjtP2EhFAQBtq3j74EUCQOu5L+w4SQCj9z8sqSRJADwf5e+gHJUA=\",\"dtype\":\"float64\",\"shape\":[10]},\"top_words\":[\"earth\",\"spacecraft\",\"solar\",\"launch\",\"nasa\",\"shuttle\",\"moon\",\"henry\",\"orbit\",\"space\"],\"x_label\":[0.2,0.2,0.2,0.2,0.2,0.2,0.2,0.2,0.2,0.2]},\"selected\":{\"id\":\"e5c11771-ac3a-482d-9ea8-d4db4c30c888\",\"type\":\"Selection\"},\"selection_policy\":{\"id\":\"5f07fb67-7755-47a1-8679-2c97f3f0bb93\",\"type\":\"UnionRenderers\"}},\"id\":\"ac1b420a-3b6a-4319-8165-5498a40ab0c4\",\"type\":\"ColumnDataSource\"},{\"attributes\":{\"dimension\":1,\"plot\":{\"id\":\"bd6de9f2-ece5-4f96-8925-11ccae6089b3\",\"subtype\":\"Figure\",\"type\":\"Plot\"},\"ticker\":{\"id\":\"76774153-6e9d-4e3c-ae37-1a92742f7f5a\",\"type\":\"BasicTicker\"}},\"id\":\"467eab19-aecd-4862-a81b-f813a8d102df\",\"type\":\"Grid\"},{\"attributes\":{},\"id\":\"ce3997b8-2b37-4594-94cb-bb8f886bab75\",\"type\":\"BasicTickFormatter\"},{\"attributes\":{\"fill_alpha\":{\"value\":0.1},\"fill_color\":{\"value\":\"#1f77b4\"},\"height\":{\"value\":0.9},\"line_alpha\":{\"value\":0.1},\"line_color\":{\"value\":\"#1f77b4\"},\"right\":{\"field\":\"top_scores\"},\"y\":{\"field\":\"index\"}},\"id\":\"e72fc4f2-741c-440f-968b-dbb5a84fefb4\",\"type\":\"HBar\"},{\"attributes\":{\"fill_alpha\":{\"value\":0.7},\"fill_color\":{\"value\":\"#3399c1\"},\"height\":{\"value\":0.9},\"line_alpha\":{\"value\":0.7},\"line_color\":{\"value\":\"#3399c1\"},\"right\":{\"field\":\"top_scores\"},\"y\":{\"field\":\"index\"}},\"id\":\"ce6b8a98-b3e0-4753-a71b-2deca1fe81e7\",\"type\":\"HBar\"},{\"attributes\":{\"callback\":null,\"overlay\":{\"id\":\"79e63e53-1d51-4308-8a19-8ff18f78beae\",\"type\":\"BoxAnnotation\"}},\"id\":\"42e331c0-ef7e-438c-a25f-fdafd527a3de\",\"type\":\"BoxSelectTool\"},{\"attributes\":{\"background_fill_alpha\":{\"value\":0.05},\"background_fill_color\":{\"value\":\"#859dcd\"},\"below\":[{\"id\":\"c8955e0a-3d0e-455d-97a7-69a3ba52736b\",\"type\":\"LinearAxis\"}],\"left\":[{\"id\":\"41ea9ce6-e586-40d6-85c1-06d61e800aa9\",\"type\":\"LinearAxis\"}],\"plot_width\":800,\"renderers\":[{\"id\":\"c8955e0a-3d0e-455d-97a7-69a3ba52736b\",\"type\":\"LinearAxis\"},{\"id\":\"6f593449-cd8f-4f85-85a2-9131dccf0a88\",\"type\":\"Grid\"},{\"id\":\"41ea9ce6-e586-40d6-85c1-06d61e800aa9\",\"type\":\"LinearAxis\"},{\"id\":\"6a88e24c-3748-4443-8bb7-1e01aaad1c06\",\"type\":\"Grid\"},{\"id\":\"8b0c8efb-2d6e-4797-b935-d072f2872fec\",\"type\":\"BoxAnnotation\"},{\"id\":\"bc9ed52e-2bbe-454e-83df-e35b8bbd2805\",\"type\":\"GlyphRenderer\"},{\"id\":\"9ae46cb3-14c0-41e3-851c-ed3a9e577c51\",\"type\":\"LabelSet\"}],\"title\":{\"id\":\"8ddaea6b-871a-48e6-b6d6-9fcc951b7df7\",\"type\":\"Title\"},\"toolbar\":{\"id\":\"642ee5d9-8567-4e65-8723-c766a5c1d6be\",\"type\":\"Toolbar\"},\"x_range\":{\"id\":\"37956a48-933b-4430-9df5-f71482e19b1d\",\"type\":\"DataRange1d\"},\"x_scale\":{\"id\":\"c11735fc-7d21-4ab7-a156-3f2ff984e6a2\",\"type\":\"LinearScale\"},\"y_range\":{\"id\":\"879b9187-7abe-4e10-8f29-ae8b0d975d9b\",\"type\":\"DataRange1d\"},\"y_scale\":{\"id\":\"9e41aa62-e8c7-4a03-bd1c-039f80a832a9\",\"type\":\"LinearScale\"}},\"id\":\"1000ee6f-c090-4389-b45a-8d9dd2d31997\",\"subtype\":\"Figure\",\"type\":\"Plot\"},{\"attributes\":{},\"id\":\"46e7562b-f532-4ee1-9fe3-8392eb97e8c2\",\"type\":\"PanTool\"},{\"attributes\":{},\"id\":\"da4359ae-1a96-46fd-b550-db12daf62557\",\"type\":\"ResetTool\"},{\"attributes\":{},\"id\":\"2184d303-2cb4-40c8-a98e-8e771346ebde\",\"type\":\"SaveTool\"},{\"attributes\":{\"bottom_units\":\"screen\",\"fill_alpha\":{\"value\":0.5},\"fill_color\":{\"value\":\"lightgrey\"},\"left_units\":\"screen\",\"level\":\"overlay\",\"line_alpha\":{\"value\":1.0},\"line_color\":{\"value\":\"black\"},\"line_dash\":[4,4],\"line_width\":{\"value\":2},\"plot\":null,\"render_mode\":\"css\",\"right_units\":\"screen\",\"top_units\":\"screen\"},\"id\":\"79e63e53-1d51-4308-8a19-8ff18f78beae\",\"type\":\"BoxAnnotation\"},{\"attributes\":{\"source\":{\"id\":\"2ca398ed-b214-438a-a542-053223add36a\",\"type\":\"ColumnDataSource\"}},\"id\":\"cf7242e1-5b45-48b0-b51e-26b6b91a9d23\",\"type\":\"CDSView\"},{\"attributes\":{\"child\":{\"id\":\"b79b8e7d-8eb5-4008-b3ae-10751d80effc\",\"subtype\":\"Figure\",\"type\":\"Plot\"},\"title\":\"soc.religion.christian\"},\"id\":\"a4717fc9-d16a-4c7b-8475-4a8ee87f8166\",\"type\":\"Panel\"},{\"attributes\":{\"callback\":null,\"renderers\":\"auto\",\"tooltips\":[[\"Importance\",\"@top_scores\"]]},\"id\":\"c540a491-e3e1-4e82-b90d-c3fc391fc463\",\"type\":\"HoverTool\"},{\"attributes\":{\"fill_alpha\":{\"value\":0.1},\"fill_color\":{\"value\":\"#1f77b4\"},\"height\":{\"value\":0.9},\"line_alpha\":{\"value\":0.1},\"line_color\":{\"value\":\"#1f77b4\"},\"right\":{\"field\":\"top_scores\"},\"y\":{\"field\":\"index\"}},\"id\":\"cfa918cd-edab-4c6d-83ca-423925724f87\",\"type\":\"HBar\"},{\"attributes\":{\"data_source\":{\"id\":\"df3244a0-9a2f-45a4-abd9-526563b467d5\",\"type\":\"ColumnDataSource\"},\"glyph\":{\"id\":\"ce6b8a98-b3e0-4753-a71b-2deca1fe81e7\",\"type\":\"HBar\"},\"hover_glyph\":null,\"muted_glyph\":null,\"nonselection_glyph\":{\"id\":\"cfa918cd-edab-4c6d-83ca-423925724f87\",\"type\":\"HBar\"},\"selection_glyph\":null,\"view\":{\"id\":\"ae7e4b69-65cc-47c8-9f8e-f988dd7bdd0a\",\"type\":\"CDSView\"}},\"id\":\"fa995300-9953-4b30-91e6-096c26052b0d\",\"type\":\"GlyphRenderer\"},{\"attributes\":{\"source\":{\"id\":\"df3244a0-9a2f-45a4-abd9-526563b467d5\",\"type\":\"ColumnDataSource\"}},\"id\":\"ae7e4b69-65cc-47c8-9f8e-f988dd7bdd0a\",\"type\":\"CDSView\"},{\"attributes\":{\"callback\":null,\"renderers\":\"auto\",\"tooltips\":[[\"Importance\",\"@top_scores\"]]},\"id\":\"6222c872-22a0-4826-bd51-0a653bc0aaf7\",\"type\":\"HoverTool\"},{\"attributes\":{\"child\":{\"id\":\"bd6de9f2-ece5-4f96-8925-11ccae6089b3\",\"subtype\":\"Figure\",\"type\":\"Plot\"},\"title\":\"sci.med\"},\"id\":\"2f3f904f-1851-4855-a4f9-728d908c51b1\",\"type\":\"Panel\"},{\"attributes\":{\"active_drag\":\"auto\",\"active_inspect\":\"auto\",\"active_multi\":null,\"active_scroll\":\"auto\",\"active_tap\":\"auto\",\"tools\":[{\"id\":\"310f00eb-4d99-4870-8166-57802e7f619d\",\"type\":\"BoxSelectTool\"},{\"id\":\"593c51e9-19c0-434a-89d9-6cf8632648cd\",\"type\":\"PanTool\"},{\"id\":\"dd7f1989-47e9-43f9-b073-d55f0a8368cf\",\"type\":\"ResetTool\"},{\"id\":\"9d63c366-cf3b-45bc-8833-3540c37eba35\",\"type\":\"SaveTool\"},{\"id\":\"6a304019-f9b2-47e0-9e0b-ac34eafbda0c\",\"type\":\"HoverTool\"}]},\"id\":\"642ee5d9-8567-4e65-8723-c766a5c1d6be\",\"type\":\"Toolbar\"},{\"attributes\":{\"callback\":null},\"id\":\"37956a48-933b-4430-9df5-f71482e19b1d\",\"type\":\"DataRange1d\"},{\"attributes\":{\"data_source\":{\"id\":\"12346e58-08ee-44da-9c95-6160f3680152\",\"type\":\"ColumnDataSource\"},\"glyph\":{\"id\":\"ed7571c5-ec0e-4c03-9b7b-4f4a6f40913e\",\"type\":\"HBar\"},\"hover_glyph\":null,\"muted_glyph\":null,\"nonselection_glyph\":{\"id\":\"9338a314-a49e-4dd8-b7a5-a279b01fb413\",\"type\":\"HBar\"},\"selection_glyph\":null,\"view\":{\"id\":\"d5b8206b-ceec-4d85-a007-baf79f40d560\",\"type\":\"CDSView\"}},\"id\":\"e1d3b261-2720-4438-be49-120b9b9704e7\",\"type\":\"GlyphRenderer\"},{\"attributes\":{\"callback\":null},\"id\":\"879b9187-7abe-4e10-8f29-ae8b0d975d9b\",\"type\":\"DataRange1d\"},{\"attributes\":{\"fill_alpha\":{\"value\":0.7},\"fill_color\":{\"value\":\"#3399c1\"},\"height\":{\"value\":0.9},\"line_alpha\":{\"value\":0.7},\"line_color\":{\"value\":\"#3399c1\"},\"right\":{\"field\":\"top_scores\"},\"y\":{\"field\":\"index\"}},\"id\":\"a40fb751-2b63-4362-b9bf-aeae160d9ebf\",\"type\":\"HBar\"},{\"attributes\":{},\"id\":\"c11735fc-7d21-4ab7-a156-3f2ff984e6a2\",\"type\":\"LinearScale\"},{\"attributes\":{},\"id\":\"9e41aa62-e8c7-4a03-bd1c-039f80a832a9\",\"type\":\"LinearScale\"},{\"attributes\":{\"grid_line_color\":{\"value\":null},\"plot\":{\"id\":\"1000ee6f-c090-4389-b45a-8d9dd2d31997\",\"subtype\":\"Figure\",\"type\":\"Plot\"},\"ticker\":{\"id\":\"f99436b2-648f-4e5b-870e-31fbcb9bb348\",\"type\":\"BasicTicker\"}},\"id\":\"6f593449-cd8f-4f85-85a2-9131dccf0a88\",\"type\":\"Grid\"},{\"attributes\":{\"axis_label\":\"Importance\",\"axis_label_text_font_size\":{\"value\":\"16px\"},\"formatter\":{\"id\":\"9aa2f070-85bb-4104-b304-5d6615ae93b2\",\"type\":\"BasicTickFormatter\"},\"plot\":{\"id\":\"1000ee6f-c090-4389-b45a-8d9dd2d31997\",\"subtype\":\"Figure\",\"type\":\"Plot\"},\"ticker\":{\"id\":\"f99436b2-648f-4e5b-870e-31fbcb9bb348\",\"type\":\"BasicTicker\"}},\"id\":\"c8955e0a-3d0e-455d-97a7-69a3ba52736b\",\"type\":\"LinearAxis\"},{\"attributes\":{},\"id\":\"f99436b2-648f-4e5b-870e-31fbcb9bb348\",\"type\":\"BasicTicker\"},{\"attributes\":{\"axis_label\":\"Most important words\",\"axis_label_text_font_size\":{\"value\":\"16px\"},\"formatter\":{\"id\":\"73cdd367-e696-4daf-a841-b8f6333a2fa3\",\"type\":\"BasicTickFormatter\"},\"plot\":{\"id\":\"1000ee6f-c090-4389-b45a-8d9dd2d31997\",\"subtype\":\"Figure\",\"type\":\"Plot\"},\"ticker\":{\"id\":\"81d363da-b728-45d8-93c2-1fb8564d58da\",\"type\":\"BasicTicker\"}},\"id\":\"41ea9ce6-e586-40d6-85c1-06d61e800aa9\",\"type\":\"LinearAxis\"},{\"attributes\":{},\"id\":\"81d363da-b728-45d8-93c2-1fb8564d58da\",\"type\":\"BasicTicker\"},{\"attributes\":{\"dimension\":1,\"plot\":{\"id\":\"1000ee6f-c090-4389-b45a-8d9dd2d31997\",\"subtype\":\"Figure\",\"type\":\"Plot\"},\"ticker\":{\"id\":\"81d363da-b728-45d8-93c2-1fb8564d58da\",\"type\":\"BasicTicker\"}},\"id\":\"6a88e24c-3748-4443-8bb7-1e01aaad1c06\",\"type\":\"Grid\"},{\"attributes\":{\"callback\":null,\"data\":{\"index\":[0,1,2,3,4,5,6,7,8,9],\"top_scores\":{\"__ndarray__\":\"FBzRfha5BUDpECYGd9AGQHG/bS/9hgdAeePlnWhBCEBe/W4Pt8cIQF/jjVyNzwlApbEE0QXZDUBLH7XQ0Y0OQJ7XeqQOIBBATxa+Y+qTFEA=\",\"dtype\":\"float64\",\"shape\":[10]},\"top_words\":[\"marriage\",\"faith\",\"scripture\",\"bible\",\"mary\",\"christianity\",\"christian\",\"christ\",\"christians\",\"church\"],\"x_label\":[0.2,0.2,0.2,0.2,0.2,0.2,0.2,0.2,0.2,0.2]},\"selected\":{\"id\":\"49200155-7c08-4f5f-ba1c-65dac16a095f\",\"type\":\"Selection\"},\"selection_policy\":{\"id\":\"6c343908-ad43-4d5e-99ee-584c6291ec31\",\"type\":\"UnionRenderers\"}},\"id\":\"2ca398ed-b214-438a-a542-053223add36a\",\"type\":\"ColumnDataSource\"},{\"attributes\":{\"level\":\"glyph\",\"plot\":{\"id\":\"4b3b88e0-2ae8-4269-9f5e-bd3e96084aa4\",\"subtype\":\"Figure\",\"type\":\"Plot\"},\"source\":{\"id\":\"01f41b7a-8d98-4954-aba4-bb36cad55231\",\"type\":\"ColumnDataSource\"},\"text\":{\"field\":\"top_words\"},\"text_color\":{\"value\":\"black\"},\"text_font_size\":{\"value\":\"16px\"},\"x\":{\"field\":\"x_label\"},\"y\":{\"field\":\"index\"},\"y_offset\":{\"value\":-8}},\"id\":\"47e66ddd-0af5-41a4-bca7-162061236710\",\"type\":\"LabelSet\"},{\"attributes\":{\"align\":\"center\",\"plot\":null,\"text\":\"Feature Importance for \\\"sci.space\\\"\",\"text_font\":\"Helvetica\",\"text_font_size\":{\"value\":\"24px\"},\"text_font_style\":\"italic\"},\"id\":\"8ddaea6b-871a-48e6-b6d6-9fcc951b7df7\",\"type\":\"Title\"},{\"attributes\":{\"fill_alpha\":{\"value\":0.7},\"fill_color\":{\"value\":\"#3399c1\"},\"height\":{\"value\":0.9},\"line_alpha\":{\"value\":0.7},\"line_color\":{\"value\":\"#3399c1\"},\"right\":{\"field\":\"top_scores\"},\"y\":{\"field\":\"index\"}},\"id\":\"025681d6-f8b3-4fff-bb0f-51eaf88685fe\",\"type\":\"HBar\"},{\"attributes\":{\"callback\":null,\"overlay\":{\"id\":\"8b0c8efb-2d6e-4797-b935-d072f2872fec\",\"type\":\"BoxAnnotation\"}},\"id\":\"310f00eb-4d99-4870-8166-57802e7f619d\",\"type\":\"BoxSelectTool\"},{\"attributes\":{\"background_fill_alpha\":{\"value\":0.05},\"background_fill_color\":{\"value\":\"#859dcd\"},\"below\":[{\"id\":\"5e6ac222-31cb-44f0-9354-160733035cb3\",\"type\":\"LinearAxis\"}],\"left\":[{\"id\":\"aa2030e1-4910-43e7-8335-3a20b3697210\",\"type\":\"LinearAxis\"}],\"plot_width\":800,\"renderers\":[{\"id\":\"5e6ac222-31cb-44f0-9354-160733035cb3\",\"type\":\"LinearAxis\"},{\"id\":\"42e68fb8-6c23-4eea-a8e8-e19505497925\",\"type\":\"Grid\"},{\"id\":\"aa2030e1-4910-43e7-8335-3a20b3697210\",\"type\":\"LinearAxis\"},{\"id\":\"ae9aa44a-ecc1-4971-a58b-6aa66b6eca1d\",\"type\":\"Grid\"},{\"id\":\"0b33c0eb-05fb-41e4-8d16-64fa88db1adf\",\"type\":\"BoxAnnotation\"},{\"id\":\"3bb831e3-de3c-4c3d-9d2d-3e1504652593\",\"type\":\"GlyphRenderer\"},{\"id\":\"b20ad822-7f0f-4203-9b54-eb3d13e6a1f8\",\"type\":\"LabelSet\"}],\"title\":{\"id\":\"6f26e559-e377-49ef-856a-a143daa61c52\",\"type\":\"Title\"},\"toolbar\":{\"id\":\"5692a266-cc58-4713-a630-dc6590d8e84b\",\"type\":\"Toolbar\"},\"x_range\":{\"id\":\"8c19ca48-f02b-43e3-86be-8116fe172ad5\",\"type\":\"DataRange1d\"},\"x_scale\":{\"id\":\"1b0ad075-3fd2-4afc-b228-c181ab3c4465\",\"type\":\"LinearScale\"},\"y_range\":{\"id\":\"9e0c4f6d-0aac-40b8-90bf-f7c830c4ad2b\",\"type\":\"DataRange1d\"},\"y_scale\":{\"id\":\"347ca40c-ae75-4964-81d6-288b19a55cab\",\"type\":\"LinearScale\"}},\"id\":\"b79b8e7d-8eb5-4008-b3ae-10751d80effc\",\"subtype\":\"Figure\",\"type\":\"Plot\"},{\"attributes\":{},\"id\":\"593c51e9-19c0-434a-89d9-6cf8632648cd\",\"type\":\"PanTool\"},{\"attributes\":{},\"id\":\"dd7f1989-47e9-43f9-b073-d55f0a8368cf\",\"type\":\"ResetTool\"},{\"attributes\":{\"fill_alpha\":{\"value\":0.1},\"fill_color\":{\"value\":\"#1f77b4\"},\"height\":{\"value\":0.9},\"line_alpha\":{\"value\":0.1},\"line_color\":{\"value\":\"#1f77b4\"},\"right\":{\"field\":\"top_scores\"},\"y\":{\"field\":\"index\"}},\"id\":\"513f88a9-9cbe-43c4-9b88-35cc55e155d3\",\"type\":\"HBar\"},{\"attributes\":{},\"id\":\"9d63c366-cf3b-45bc-8833-3540c37eba35\",\"type\":\"SaveTool\"},{\"attributes\":{\"bottom_units\":\"screen\",\"fill_alpha\":{\"value\":0.5},\"fill_color\":{\"value\":\"lightgrey\"},\"left_units\":\"screen\",\"level\":\"overlay\",\"line_alpha\":{\"value\":1.0},\"line_color\":{\"value\":\"black\"},\"line_dash\":[4,4],\"line_width\":{\"value\":2},\"plot\":null,\"render_mode\":\"css\",\"right_units\":\"screen\",\"top_units\":\"screen\"},\"id\":\"8b0c8efb-2d6e-4797-b935-d072f2872fec\",\"type\":\"BoxAnnotation\"},{\"attributes\":{\"fill_alpha\":{\"value\":0.7},\"fill_color\":{\"value\":\"#3399c1\"},\"height\":{\"value\":0.9},\"line_alpha\":{\"value\":0.7},\"line_color\":{\"value\":\"#3399c1\"},\"right\":{\"field\":\"top_scores\"},\"y\":{\"field\":\"index\"}},\"id\":\"f357defe-e174-41f2-8b45-cedfb0263eaf\",\"type\":\"HBar\"},{\"attributes\":{\"data_source\":{\"id\":\"2ca398ed-b214-438a-a542-053223add36a\",\"type\":\"ColumnDataSource\"},\"glyph\":{\"id\":\"f357defe-e174-41f2-8b45-cedfb0263eaf\",\"type\":\"HBar\"},\"hover_glyph\":null,\"muted_glyph\":null,\"nonselection_glyph\":{\"id\":\"e72fc4f2-741c-440f-968b-dbb5a84fefb4\",\"type\":\"HBar\"},\"selection_glyph\":null,\"view\":{\"id\":\"cf7242e1-5b45-48b0-b51e-26b6b91a9d23\",\"type\":\"CDSView\"}},\"id\":\"3bb831e3-de3c-4c3d-9d2d-3e1504652593\",\"type\":\"GlyphRenderer\"},{\"attributes\":{\"level\":\"glyph\",\"plot\":{\"id\":\"1000ee6f-c090-4389-b45a-8d9dd2d31997\",\"subtype\":\"Figure\",\"type\":\"Plot\"},\"source\":{\"id\":\"ac1b420a-3b6a-4319-8165-5498a40ab0c4\",\"type\":\"ColumnDataSource\"},\"text\":{\"field\":\"top_words\"},\"text_color\":{\"value\":\"black\"},\"text_font_size\":{\"value\":\"16px\"},\"x\":{\"field\":\"x_label\"},\"y\":{\"field\":\"index\"},\"y_offset\":{\"value\":-8}},\"id\":\"9ae46cb3-14c0-41e3-851c-ed3a9e577c51\",\"type\":\"LabelSet\"},{\"attributes\":{\"level\":\"glyph\",\"plot\":{\"id\":\"e72b79bc-cc7d-4b4a-aae6-1427193e291b\",\"subtype\":\"Figure\",\"type\":\"Plot\"},\"source\":{\"id\":\"7b302c73-44fb-4c46-a9dc-db1aab976c5a\",\"type\":\"ColumnDataSource\"},\"text\":{\"field\":\"top_words\"},\"text_color\":{\"value\":\"black\"},\"text_font_size\":{\"value\":\"16px\"},\"x\":{\"field\":\"x_label\"},\"y\":{\"field\":\"index\"},\"y_offset\":{\"value\":-8}},\"id\":\"398486ba-75b0-430d-b4c8-e3ff28f75c47\",\"type\":\"LabelSet\"},{\"attributes\":{\"fill_alpha\":{\"value\":0.1},\"fill_color\":{\"value\":\"#1f77b4\"},\"height\":{\"value\":0.9},\"line_alpha\":{\"value\":0.1},\"line_color\":{\"value\":\"#1f77b4\"},\"right\":{\"field\":\"top_scores\"},\"y\":{\"field\":\"index\"}},\"id\":\"689cab1a-57d6-446e-adf7-8c219a7b493b\",\"type\":\"HBar\"},{\"attributes\":{\"data_source\":{\"id\":\"ac1b420a-3b6a-4319-8165-5498a40ab0c4\",\"type\":\"ColumnDataSource\"},\"glyph\":{\"id\":\"025681d6-f8b3-4fff-bb0f-51eaf88685fe\",\"type\":\"HBar\"},\"hover_glyph\":null,\"muted_glyph\":null,\"nonselection_glyph\":{\"id\":\"689cab1a-57d6-446e-adf7-8c219a7b493b\",\"type\":\"HBar\"},\"selection_glyph\":null,\"view\":{\"id\":\"83031d66-07c5-48d9-83f6-0ce0ed61a309\",\"type\":\"CDSView\"}},\"id\":\"bc9ed52e-2bbe-454e-83df-e35b8bbd2805\",\"type\":\"GlyphRenderer\"},{\"attributes\":{\"source\":{\"id\":\"ac1b420a-3b6a-4319-8165-5498a40ab0c4\",\"type\":\"ColumnDataSource\"}},\"id\":\"83031d66-07c5-48d9-83f6-0ce0ed61a309\",\"type\":\"CDSView\"},{\"attributes\":{\"callback\":null,\"renderers\":\"auto\",\"tooltips\":[[\"Importance\",\"@top_scores\"]]},\"id\":\"6a304019-f9b2-47e0-9e0b-ac34eafbda0c\",\"type\":\"HoverTool\"},{\"attributes\":{\"child\":{\"id\":\"1000ee6f-c090-4389-b45a-8d9dd2d31997\",\"subtype\":\"Figure\",\"type\":\"Plot\"},\"title\":\"sci.space\"},\"id\":\"b2a17edc-f92a-4878-8918-31c7626efb72\",\"type\":\"Panel\"},{\"attributes\":{\"active_drag\":\"auto\",\"active_inspect\":\"auto\",\"active_multi\":null,\"active_scroll\":\"auto\",\"active_tap\":\"auto\",\"tools\":[{\"id\":\"977ad7e9-829d-448c-97f8-3b09f7b6b681\",\"type\":\"BoxSelectTool\"},{\"id\":\"534bf667-52e5-41be-88ab-aa2ff8ac0fa3\",\"type\":\"PanTool\"},{\"id\":\"2930e570-65e9-4510-85ee-a3c329e6221d\",\"type\":\"ResetTool\"},{\"id\":\"16d338f6-fd17-4281-9424-abf51f49b46c\",\"type\":\"SaveTool\"},{\"id\":\"c540a491-e3e1-4e82-b90d-c3fc391fc463\",\"type\":\"HoverTool\"}]},\"id\":\"5692a266-cc58-4713-a630-dc6590d8e84b\",\"type\":\"Toolbar\"},{\"attributes\":{\"callback\":null},\"id\":\"8c19ca48-f02b-43e3-86be-8116fe172ad5\",\"type\":\"DataRange1d\"},{\"attributes\":{\"level\":\"glyph\",\"plot\":{\"id\":\"86761e61-960e-447e-9065-1a31c6331825\",\"subtype\":\"Figure\",\"type\":\"Plot\"},\"source\":{\"id\":\"283f92b4-93e1-409e-b3ca-dc08a5f6a425\",\"type\":\"ColumnDataSource\"},\"text\":{\"field\":\"top_words\"},\"text_color\":{\"value\":\"black\"},\"text_font_size\":{\"value\":\"16px\"},\"x\":{\"field\":\"x_label\"},\"y\":{\"field\":\"index\"},\"y_offset\":{\"value\":-8}},\"id\":\"3a23a311-3508-4164-91a8-4390cff65d9c\",\"type\":\"LabelSet\"},{\"attributes\":{\"callback\":null},\"id\":\"9e0c4f6d-0aac-40b8-90bf-f7c830c4ad2b\",\"type\":\"DataRange1d\"},{\"attributes\":{},\"id\":\"1b0ad075-3fd2-4afc-b228-c181ab3c4465\",\"type\":\"LinearScale\"},{\"attributes\":{},\"id\":\"347ca40c-ae75-4964-81d6-288b19a55cab\",\"type\":\"LinearScale\"},{\"attributes\":{\"grid_line_color\":{\"value\":null},\"plot\":{\"id\":\"b79b8e7d-8eb5-4008-b3ae-10751d80effc\",\"subtype\":\"Figure\",\"type\":\"Plot\"},\"ticker\":{\"id\":\"b0c65b05-408b-4d54-b5f7-c28feb3d027a\",\"type\":\"BasicTicker\"}},\"id\":\"42e68fb8-6c23-4eea-a8e8-e19505497925\",\"type\":\"Grid\"},{\"attributes\":{\"axis_label\":\"Importance\",\"axis_label_text_font_size\":{\"value\":\"16px\"},\"formatter\":{\"id\":\"3e6f12b0-9539-47c3-a7f6-5d5b4a24b2a9\",\"type\":\"BasicTickFormatter\"},\"plot\":{\"id\":\"b79b8e7d-8eb5-4008-b3ae-10751d80effc\",\"subtype\":\"Figure\",\"type\":\"Plot\"},\"ticker\":{\"id\":\"b0c65b05-408b-4d54-b5f7-c28feb3d027a\",\"type\":\"BasicTicker\"}},\"id\":\"5e6ac222-31cb-44f0-9354-160733035cb3\",\"type\":\"LinearAxis\"},{\"attributes\":{},\"id\":\"b0c65b05-408b-4d54-b5f7-c28feb3d027a\",\"type\":\"BasicTicker\"},{\"attributes\":{\"axis_label\":\"Most important words\",\"axis_label_text_font_size\":{\"value\":\"16px\"},\"formatter\":{\"id\":\"115b79d3-2a16-495b-968b-c6b5b97111c7\",\"type\":\"BasicTickFormatter\"},\"plot\":{\"id\":\"b79b8e7d-8eb5-4008-b3ae-10751d80effc\",\"subtype\":\"Figure\",\"type\":\"Plot\"},\"ticker\":{\"id\":\"efc63bd3-22ca-4cfb-9994-cc8df5d36548\",\"type\":\"BasicTicker\"}},\"id\":\"aa2030e1-4910-43e7-8335-3a20b3697210\",\"type\":\"LinearAxis\"},{\"attributes\":{},\"id\":\"efc63bd3-22ca-4cfb-9994-cc8df5d36548\",\"type\":\"BasicTicker\"},{\"attributes\":{\"dimension\":1,\"plot\":{\"id\":\"b79b8e7d-8eb5-4008-b3ae-10751d80effc\",\"subtype\":\"Figure\",\"type\":\"Plot\"},\"ticker\":{\"id\":\"efc63bd3-22ca-4cfb-9994-cc8df5d36548\",\"type\":\"BasicTicker\"}},\"id\":\"ae9aa44a-ecc1-4971-a58b-6aa66b6eca1d\",\"type\":\"Grid\"},{\"attributes\":{\"callback\":null,\"data\":{\"index\":[0,1,2,3,4,5,6,7,8,9],\"top_scores\":{\"__ndarray__\":\"KN9SDMRMBEApIs8lfXUEQD466HRULAVAz0ZxsFoRBkDFtg212ogGQKAGXJUlughAfosW1jIHCkDX2nZMHosMQCznggvVoA9A9TzrLBLGF0A=\",\"dtype\":\"float64\",\"shape\":[10]},\"top_words\":[\"feustel\",\"batf\",\"firearm\",\"texas\",\"weapon\",\"fire\",\"waco\",\"weapons\",\"firearms\",\"guns\"],\"x_label\":[0.2,0.2,0.2,0.2,0.2,0.2,0.2,0.2,0.2,0.2]},\"selected\":{\"id\":\"4d3b0652-3665-484f-9d44-4075dfa6a46c\",\"type\":\"Selection\"},\"selection_policy\":{\"id\":\"99126219-dafb-4057-a77d-763698c0cfac\",\"type\":\"UnionRenderers\"}},\"id\":\"283f92b4-93e1-409e-b3ca-dc08a5f6a425\",\"type\":\"ColumnDataSource\"},{\"attributes\":{\"align\":\"center\",\"plot\":null,\"text\":\"Feature Importance for \\\"soc.religion.christian\\\"\",\"text_font\":\"Helvetica\",\"text_font_size\":{\"value\":\"24px\"},\"text_font_style\":\"italic\"},\"id\":\"6f26e559-e377-49ef-856a-a143daa61c52\",\"type\":\"Title\"},{\"attributes\":{\"bottom_units\":\"screen\",\"fill_alpha\":{\"value\":0.5},\"fill_color\":{\"value\":\"lightgrey\"},\"left_units\":\"screen\",\"level\":\"overlay\",\"line_alpha\":{\"value\":1.0},\"line_color\":{\"value\":\"black\"},\"line_dash\":[4,4],\"line_width\":{\"value\":2},\"plot\":null,\"render_mode\":\"css\",\"right_units\":\"screen\",\"top_units\":\"screen\"},\"id\":\"0b33c0eb-05fb-41e4-8d16-64fa88db1adf\",\"type\":\"BoxAnnotation\"},{\"attributes\":{\"callback\":null,\"overlay\":{\"id\":\"0b33c0eb-05fb-41e4-8d16-64fa88db1adf\",\"type\":\"BoxAnnotation\"}},\"id\":\"977ad7e9-829d-448c-97f8-3b09f7b6b681\",\"type\":\"BoxSelectTool\"},{\"attributes\":{\"background_fill_alpha\":{\"value\":0.05},\"background_fill_color\":{\"value\":\"#859dcd\"},\"below\":[{\"id\":\"fcd63474-658a-459f-89da-ea4abf49fc4b\",\"type\":\"LinearAxis\"}],\"left\":[{\"id\":\"66b3ecb6-c160-4cd3-8d5b-128e13d0235b\",\"type\":\"LinearAxis\"}],\"plot_width\":800,\"renderers\":[{\"id\":\"fcd63474-658a-459f-89da-ea4abf49fc4b\",\"type\":\"LinearAxis\"},{\"id\":\"f3c4d1b3-e60c-4409-9bc9-bd637e14a278\",\"type\":\"Grid\"},{\"id\":\"66b3ecb6-c160-4cd3-8d5b-128e13d0235b\",\"type\":\"LinearAxis\"},{\"id\":\"ba755e52-3183-4c10-8eb5-29b73224ca0c\",\"type\":\"Grid\"},{\"id\":\"2f383efb-a81f-4907-820f-35f8c8f91534\",\"type\":\"BoxAnnotation\"},{\"id\":\"efd08605-5780-495d-b87d-5daa82b27a2c\",\"type\":\"GlyphRenderer\"},{\"id\":\"3a23a311-3508-4164-91a8-4390cff65d9c\",\"type\":\"LabelSet\"}],\"title\":{\"id\":\"f1cf9090-8d45-422b-9554-0777a38e785d\",\"type\":\"Title\"},\"toolbar\":{\"id\":\"391e2d28-993d-42da-813d-aaaa03c601ae\",\"type\":\"Toolbar\"},\"x_range\":{\"id\":\"af2a576f-ca37-4922-8aba-30276f4bda26\",\"type\":\"DataRange1d\"},\"x_scale\":{\"id\":\"2240034e-c53c-4096-8604-565333f82815\",\"type\":\"LinearScale\"},\"y_range\":{\"id\":\"5b115b93-7188-4ed8-8fa6-eace1567a541\",\"type\":\"DataRange1d\"},\"y_scale\":{\"id\":\"2a0d11ee-65ef-41b4-8e8f-30c5a6d5b3b1\",\"type\":\"LinearScale\"}},\"id\":\"86761e61-960e-447e-9065-1a31c6331825\",\"subtype\":\"Figure\",\"type\":\"Plot\"},{\"attributes\":{},\"id\":\"534bf667-52e5-41be-88ab-aa2ff8ac0fa3\",\"type\":\"PanTool\"},{\"attributes\":{},\"id\":\"2930e570-65e9-4510-85ee-a3c329e6221d\",\"type\":\"ResetTool\"},{\"attributes\":{},\"id\":\"16d338f6-fd17-4281-9424-abf51f49b46c\",\"type\":\"SaveTool\"},{\"attributes\":{\"level\":\"glyph\",\"plot\":{\"id\":\"b79b8e7d-8eb5-4008-b3ae-10751d80effc\",\"subtype\":\"Figure\",\"type\":\"Plot\"},\"source\":{\"id\":\"2ca398ed-b214-438a-a542-053223add36a\",\"type\":\"ColumnDataSource\"},\"text\":{\"field\":\"top_words\"},\"text_color\":{\"value\":\"black\"},\"text_font_size\":{\"value\":\"16px\"},\"x\":{\"field\":\"x_label\"},\"y\":{\"field\":\"index\"},\"y_offset\":{\"value\":-8}},\"id\":\"b20ad822-7f0f-4203-9b54-eb3d13e6a1f8\",\"type\":\"LabelSet\"},{\"attributes\":{\"callback\":null,\"overlay\":{\"id\":\"55be61a7-2fac-4cb3-912a-e8a50e73b252\",\"type\":\"BoxAnnotation\"}},\"id\":\"4fae2718-c461-42fc-a0d7-49e1e6cc6f6c\",\"type\":\"BoxSelectTool\"},{\"attributes\":{\"background_fill_alpha\":{\"value\":0.05},\"background_fill_color\":{\"value\":\"#859dcd\"},\"below\":[{\"id\":\"926937e8-9b39-430e-8597-8d6cecd242b3\",\"type\":\"LinearAxis\"}],\"left\":[{\"id\":\"8103cd8d-f187-47a3-bbee-a48ad64bcc54\",\"type\":\"LinearAxis\"}],\"plot_width\":800,\"renderers\":[{\"id\":\"926937e8-9b39-430e-8597-8d6cecd242b3\",\"type\":\"LinearAxis\"},{\"id\":\"9d1b0a8b-8785-42b3-addd-d58f1ec6d821\",\"type\":\"Grid\"},{\"id\":\"8103cd8d-f187-47a3-bbee-a48ad64bcc54\",\"type\":\"LinearAxis\"},{\"id\":\"b96e7db9-1543-4d59-9c74-292418508059\",\"type\":\"Grid\"},{\"id\":\"2e713408-6903-4c17-9f5e-8d0b2ee0be93\",\"type\":\"BoxAnnotation\"},{\"id\":\"2266ee25-5ff3-4bd9-b3a5-849beeeff1e9\",\"type\":\"GlyphRenderer\"},{\"id\":\"8ee04b4d-d15c-43be-ac7c-506adb4dc99b\",\"type\":\"LabelSet\"}],\"title\":{\"id\":\"d56604d5-aace-4967-a497-b28c3dc41781\",\"type\":\"Title\"},\"toolbar\":{\"id\":\"e2f8d0d4-6710-46cb-87d2-baa5821a7c7c\",\"type\":\"Toolbar\"},\"x_range\":{\"id\":\"3f1ce0ee-3165-4da0-baec-0b4272c2aae4\",\"type\":\"DataRange1d\"},\"x_scale\":{\"id\":\"1f1b1c1c-9bfa-4beb-ab2f-91c4188406e5\",\"type\":\"LinearScale\"},\"y_range\":{\"id\":\"2a90eed3-a738-49db-8d3b-a08aff26295b\",\"type\":\"DataRange1d\"},\"y_scale\":{\"id\":\"c17a2c58-e669-4cad-8adb-37d5ce1a568a\",\"type\":\"LinearScale\"}},\"id\":\"821b714b-f3f4-4f0c-ad72-a48d1bcd479f\",\"subtype\":\"Figure\",\"type\":\"Plot\"},{\"attributes\":{},\"id\":\"f26fa4f6-7e69-434a-931d-e3db94654f65\",\"type\":\"PanTool\"},{\"attributes\":{},\"id\":\"b1ed80ea-9517-4313-bef3-b91f2551f979\",\"type\":\"ResetTool\"},{\"attributes\":{},\"id\":\"30854370-f0fd-4a6b-b25d-d948398e6413\",\"type\":\"SaveTool\"},{\"attributes\":{\"fill_alpha\":{\"value\":0.7},\"fill_color\":{\"value\":\"#3399c1\"},\"height\":{\"value\":0.9},\"line_alpha\":{\"value\":0.7},\"line_color\":{\"value\":\"#3399c1\"},\"right\":{\"field\":\"top_scores\"},\"y\":{\"field\":\"index\"}},\"id\":\"246e2b72-f594-476e-985f-e4cca894ffac\",\"type\":\"HBar\"},{\"attributes\":{\"bottom_units\":\"screen\",\"fill_alpha\":{\"value\":0.5},\"fill_color\":{\"value\":\"lightgrey\"},\"left_units\":\"screen\",\"level\":\"overlay\",\"line_alpha\":{\"value\":1.0},\"line_color\":{\"value\":\"black\"},\"line_dash\":[4,4],\"line_width\":{\"value\":2},\"plot\":null,\"render_mode\":\"css\",\"right_units\":\"screen\",\"top_units\":\"screen\"},\"id\":\"55be61a7-2fac-4cb3-912a-e8a50e73b252\",\"type\":\"BoxAnnotation\"},{\"attributes\":{\"axis_label\":\"Most important words\",\"axis_label_text_font_size\":{\"value\":\"16px\"},\"formatter\":{\"id\":\"1c4d5f0e-cbbc-4c0a-bef2-1ed94d8bec97\",\"type\":\"BasicTickFormatter\"},\"plot\":{\"id\":\"1b7819c9-b93e-4d27-8b02-edb2bfa35f36\",\"subtype\":\"Figure\",\"type\":\"Plot\"},\"ticker\":{\"id\":\"5ff2ae53-f70d-464c-b98a-122402d42057\",\"type\":\"BasicTicker\"}},\"id\":\"288bee61-7374-4b4a-8cfc-761e77e35070\",\"type\":\"LinearAxis\"},{\"attributes\":{},\"id\":\"5ff2ae53-f70d-464c-b98a-122402d42057\",\"type\":\"BasicTicker\"},{\"attributes\":{\"fill_alpha\":{\"value\":0.1},\"fill_color\":{\"value\":\"#1f77b4\"},\"height\":{\"value\":0.9},\"line_alpha\":{\"value\":0.1},\"line_color\":{\"value\":\"#1f77b4\"},\"right\":{\"field\":\"top_scores\"},\"y\":{\"field\":\"index\"}},\"id\":\"2c6b5b1c-06bd-46cf-8d8f-7ea8d121c338\",\"type\":\"HBar\"},{\"attributes\":{\"data_source\":{\"id\":\"dfb38f2e-0947-4a1c-8c27-86868fb0b181\",\"type\":\"ColumnDataSource\"},\"glyph\":{\"id\":\"246e2b72-f594-476e-985f-e4cca894ffac\",\"type\":\"HBar\"},\"hover_glyph\":null,\"muted_glyph\":null,\"nonselection_glyph\":{\"id\":\"2c6b5b1c-06bd-46cf-8d8f-7ea8d121c338\",\"type\":\"HBar\"},\"selection_glyph\":null,\"view\":{\"id\":\"73e72549-664d-41f3-8246-a5c2f88302c1\",\"type\":\"CDSView\"}},\"id\":\"77f0151c-fdca-4c11-9d43-4296088f4fa6\",\"type\":\"GlyphRenderer\"},{\"attributes\":{\"source\":{\"id\":\"dfb38f2e-0947-4a1c-8c27-86868fb0b181\",\"type\":\"ColumnDataSource\"}},\"id\":\"73e72549-664d-41f3-8246-a5c2f88302c1\",\"type\":\"CDSView\"},{\"attributes\":{\"callback\":null,\"renderers\":\"auto\",\"tooltips\":[[\"Importance\",\"@top_scores\"]]},\"id\":\"7b9cfdd3-f7b1-40e6-a401-bf0a0c9ada2e\",\"type\":\"HoverTool\"},{\"attributes\":{\"child\":{\"id\":\"5a421979-8e24-401e-8fed-c3eaa9171d25\",\"subtype\":\"Figure\",\"type\":\"Plot\"},\"title\":\"comp.os.ms-windows.misc\"},\"id\":\"e0b84a91-9511-4347-b2b8-86e988888082\",\"type\":\"Panel\"},{\"attributes\":{\"callback\":null},\"id\":\"867bfe80-d5df-4d5e-b2a6-12bd0541c5ef\",\"type\":\"DataRange1d\"},{\"attributes\":{\"active_drag\":\"auto\",\"active_inspect\":\"auto\",\"active_multi\":null,\"active_scroll\":\"auto\",\"active_tap\":\"auto\",\"tools\":[{\"id\":\"9c855bbf-05e4-47b2-9832-004f58a36a7a\",\"type\":\"BoxSelectTool\"},{\"id\":\"fd35c8f7-b9ca-4d62-9dc8-2c4679fbf4de\",\"type\":\"PanTool\"},{\"id\":\"a2b00fa8-db51-4d9b-a206-be573e1c1573\",\"type\":\"ResetTool\"},{\"id\":\"c66b8cc7-7f08-4a0d-ad7b-f69185bbbdfc\",\"type\":\"SaveTool\"},{\"id\":\"c3f75ecb-dd0d-4ecb-8131-9749bdda625e\",\"type\":\"HoverTool\"}]},\"id\":\"e2f8d0d4-6710-46cb-87d2-baa5821a7c7c\",\"type\":\"Toolbar\"},{\"attributes\":{\"callback\":null},\"id\":\"3f1ce0ee-3165-4da0-baec-0b4272c2aae4\",\"type\":\"DataRange1d\"},{\"attributes\":{\"callback\":null},\"id\":\"adb8807a-f46b-4c99-8374-37c0bd020543\",\"type\":\"DataRange1d\"},{\"attributes\":{\"callback\":null},\"id\":\"2a90eed3-a738-49db-8d3b-a08aff26295b\",\"type\":\"DataRange1d\"},{\"attributes\":{},\"id\":\"1f1b1c1c-9bfa-4beb-ab2f-91c4188406e5\",\"type\":\"LinearScale\"},{\"attributes\":{},\"id\":\"c17a2c58-e669-4cad-8adb-37d5ce1a568a\",\"type\":\"LinearScale\"},{\"attributes\":{\"grid_line_color\":{\"value\":null},\"plot\":{\"id\":\"821b714b-f3f4-4f0c-ad72-a48d1bcd479f\",\"subtype\":\"Figure\",\"type\":\"Plot\"},\"ticker\":{\"id\":\"c85ec9ef-ea0f-4367-bdd8-56d723031f10\",\"type\":\"BasicTicker\"}},\"id\":\"9d1b0a8b-8785-42b3-addd-d58f1ec6d821\",\"type\":\"Grid\"},{\"attributes\":{\"axis_label\":\"Importance\",\"axis_label_text_font_size\":{\"value\":\"16px\"},\"formatter\":{\"id\":\"ac9ac0a4-90a8-4c0c-928a-261a9b1d89b3\",\"type\":\"BasicTickFormatter\"},\"plot\":{\"id\":\"821b714b-f3f4-4f0c-ad72-a48d1bcd479f\",\"subtype\":\"Figure\",\"type\":\"Plot\"},\"ticker\":{\"id\":\"c85ec9ef-ea0f-4367-bdd8-56d723031f10\",\"type\":\"BasicTicker\"}},\"id\":\"926937e8-9b39-430e-8597-8d6cecd242b3\",\"type\":\"LinearAxis\"},{\"attributes\":{},\"id\":\"c85ec9ef-ea0f-4367-bdd8-56d723031f10\",\"type\":\"BasicTicker\"},{\"attributes\":{\"axis_label\":\"Most important words\",\"axis_label_text_font_size\":{\"value\":\"16px\"},\"formatter\":{\"id\":\"184d40b6-c8d8-4583-bb21-5459d4af1591\",\"type\":\"BasicTickFormatter\"},\"plot\":{\"id\":\"821b714b-f3f4-4f0c-ad72-a48d1bcd479f\",\"subtype\":\"Figure\",\"type\":\"Plot\"},\"ticker\":{\"id\":\"e85e9067-f5b3-4b04-b68a-4b032f47942c\",\"type\":\"BasicTicker\"}},\"id\":\"8103cd8d-f187-47a3-bbee-a48ad64bcc54\",\"type\":\"LinearAxis\"},{\"attributes\":{},\"id\":\"e85e9067-f5b3-4b04-b68a-4b032f47942c\",\"type\":\"BasicTicker\"},{\"attributes\":{\"dimension\":1,\"plot\":{\"id\":\"821b714b-f3f4-4f0c-ad72-a48d1bcd479f\",\"subtype\":\"Figure\",\"type\":\"Plot\"},\"ticker\":{\"id\":\"e85e9067-f5b3-4b04-b68a-4b032f47942c\",\"type\":\"BasicTicker\"}},\"id\":\"b96e7db9-1543-4d59-9c74-292418508059\",\"type\":\"Grid\"},{\"attributes\":{\"callback\":null,\"data\":{\"index\":[0,1,2,3,4,5,6,7,8,9],\"top_scores\":{\"__ndarray__\":\"fuE0L4/YBEClPZc+5nwGQAaJqbULWQdACnoN59X9CUBUHXviRWoMQKC0J0eUkhBAu+Q+x7YsEUBpfQK5/kERQMpMpPWcsBJAx/2vJcjTH0A=\",\"dtype\":\"float64\",\"shape\":[10]},\"top_words\":[\"anyone\",\"simms\",\"lciii\",\"monitor\",\"macs\",\"iisi\",\"quadra\",\"powerbook\",\"centris\",\"apple\"],\"x_label\":[0.2,0.2,0.2,0.2,0.2,0.2,0.2,0.2,0.2,0.2]},\"selected\":{\"id\":\"a5aaaf3b-1e16-4be8-839f-fbf8b37cce5d\",\"type\":\"Selection\"},\"selection_policy\":{\"id\":\"ed9a9c08-7fc6-4073-8b51-a89154b82c9b\",\"type\":\"UnionRenderers\"}},\"id\":\"e1066be9-a8d5-4f19-8007-ae4f28b61372\",\"type\":\"ColumnDataSource\"},{\"attributes\":{\"align\":\"center\",\"plot\":null,\"text\":\"Feature Importance for \\\"comp.sys.ibm.pc.hardware\\\"\",\"text_font\":\"Helvetica\",\"text_font_size\":{\"value\":\"24px\"},\"text_font_style\":\"italic\"},\"id\":\"d56604d5-aace-4967-a497-b28c3dc41781\",\"type\":\"Title\"},{\"attributes\":{\"fill_alpha\":{\"value\":0.7},\"fill_color\":{\"value\":\"#3399c1\"},\"height\":{\"value\":0.9},\"line_alpha\":{\"value\":0.7},\"line_color\":{\"value\":\"#3399c1\"},\"right\":{\"field\":\"top_scores\"},\"y\":{\"field\":\"index\"}},\"id\":\"9f5affca-0c04-40b5-a11b-d2e47e8cc501\",\"type\":\"HBar\"},{\"attributes\":{\"callback\":null,\"overlay\":{\"id\":\"2e713408-6903-4c17-9f5e-8d0b2ee0be93\",\"type\":\"BoxAnnotation\"}},\"id\":\"9c855bbf-05e4-47b2-9832-004f58a36a7a\",\"type\":\"BoxSelectTool\"},{\"attributes\":{\"background_fill_alpha\":{\"value\":0.05},\"background_fill_color\":{\"value\":\"#859dcd\"},\"below\":[{\"id\":\"775c4e89-8290-4f38-9f8f-9542e09329a7\",\"type\":\"LinearAxis\"}],\"left\":[{\"id\":\"288bee61-7374-4b4a-8cfc-761e77e35070\",\"type\":\"LinearAxis\"}],\"plot_width\":800,\"renderers\":[{\"id\":\"775c4e89-8290-4f38-9f8f-9542e09329a7\",\"type\":\"LinearAxis\"},{\"id\":\"eace9650-d6ad-4b6a-b278-1e0b2d763762\",\"type\":\"Grid\"},{\"id\":\"288bee61-7374-4b4a-8cfc-761e77e35070\",\"type\":\"LinearAxis\"},{\"id\":\"1631e7dd-0b41-4418-a582-607070b54d50\",\"type\":\"Grid\"},{\"id\":\"8c5a226b-ff0a-4366-8a10-28f0a106f01c\",\"type\":\"BoxAnnotation\"},{\"id\":\"3b2684e6-d27d-4882-b56a-1d14d023d996\",\"type\":\"GlyphRenderer\"},{\"id\":\"923d06be-52a3-48f6-9467-1fc42b5b0f7e\",\"type\":\"LabelSet\"}],\"title\":{\"id\":\"88ece540-5f63-4ca3-bae3-94c4a9d1c2f8\",\"type\":\"Title\"},\"toolbar\":{\"id\":\"189e719f-3488-4c59-8840-6bbfb04b479b\",\"type\":\"Toolbar\"},\"x_range\":{\"id\":\"06af4a45-9bf0-40c7-ba88-f5de1e2a1a29\",\"type\":\"DataRange1d\"},\"x_scale\":{\"id\":\"2a86f9cf-75ed-4abe-ae3b-051bf8574ffc\",\"type\":\"LinearScale\"},\"y_range\":{\"id\":\"16bf2359-1ca9-48bf-ad36-6ae56758fed8\",\"type\":\"DataRange1d\"},\"y_scale\":{\"id\":\"7b9dddd3-3764-4fe3-a48c-e3758170084b\",\"type\":\"LinearScale\"}},\"id\":\"1b7819c9-b93e-4d27-8b02-edb2bfa35f36\",\"subtype\":\"Figure\",\"type\":\"Plot\"},{\"attributes\":{},\"id\":\"fd35c8f7-b9ca-4d62-9dc8-2c4679fbf4de\",\"type\":\"PanTool\"},{\"attributes\":{},\"id\":\"a2b00fa8-db51-4d9b-a206-be573e1c1573\",\"type\":\"ResetTool\"},{\"attributes\":{},\"id\":\"c66b8cc7-7f08-4a0d-ad7b-f69185bbbdfc\",\"type\":\"SaveTool\"},{\"attributes\":{\"bottom_units\":\"screen\",\"fill_alpha\":{\"value\":0.5},\"fill_color\":{\"value\":\"lightgrey\"},\"left_units\":\"screen\",\"level\":\"overlay\",\"line_alpha\":{\"value\":1.0},\"line_color\":{\"value\":\"black\"},\"line_dash\":[4,4],\"line_width\":{\"value\":2},\"plot\":null,\"render_mode\":\"css\",\"right_units\":\"screen\",\"top_units\":\"screen\"},\"id\":\"2e713408-6903-4c17-9f5e-8d0b2ee0be93\",\"type\":\"BoxAnnotation\"},{\"attributes\":{\"grid_line_color\":{\"value\":null},\"plot\":{\"id\":\"1b7819c9-b93e-4d27-8b02-edb2bfa35f36\",\"subtype\":\"Figure\",\"type\":\"Plot\"},\"ticker\":{\"id\":\"c7b5af61-6c09-45c1-b111-70b5740946f0\",\"type\":\"BasicTicker\"}},\"id\":\"eace9650-d6ad-4b6a-b278-1e0b2d763762\",\"type\":\"Grid\"},{\"attributes\":{},\"id\":\"c7b5af61-6c09-45c1-b111-70b5740946f0\",\"type\":\"BasicTicker\"},{\"attributes\":{\"level\":\"glyph\",\"plot\":{\"id\":\"74fc9244-0210-4db4-9eba-50c6a3174029\",\"subtype\":\"Figure\",\"type\":\"Plot\"},\"source\":{\"id\":\"ab52d232-8de3-4f58-bc0e-1052c500f0d1\",\"type\":\"ColumnDataSource\"},\"text\":{\"field\":\"top_words\"},\"text_color\":{\"value\":\"black\"},\"text_font_size\":{\"value\":\"16px\"},\"x\":{\"field\":\"x_label\"},\"y\":{\"field\":\"index\"},\"y_offset\":{\"value\":-8}},\"id\":\"4885256c-5b6c-490f-ac18-f2cafeb011ab\",\"type\":\"LabelSet\"},{\"attributes\":{\"fill_alpha\":{\"value\":0.1},\"fill_color\":{\"value\":\"#1f77b4\"},\"height\":{\"value\":0.9},\"line_alpha\":{\"value\":0.1},\"line_color\":{\"value\":\"#1f77b4\"},\"right\":{\"field\":\"top_scores\"},\"y\":{\"field\":\"index\"}},\"id\":\"ab416b2f-4d05-46bb-90db-f5fe8c01faa1\",\"type\":\"HBar\"},{\"attributes\":{\"data_source\":{\"id\":\"a74daabd-8c75-4e5e-8fb4-b5542d6e33f4\",\"type\":\"ColumnDataSource\"},\"glyph\":{\"id\":\"9f5affca-0c04-40b5-a11b-d2e47e8cc501\",\"type\":\"HBar\"},\"hover_glyph\":null,\"muted_glyph\":null,\"nonselection_glyph\":{\"id\":\"ab416b2f-4d05-46bb-90db-f5fe8c01faa1\",\"type\":\"HBar\"},\"selection_glyph\":null,\"view\":{\"id\":\"0394daf5-09eb-4b1c-bb56-5c25c1a63b2e\",\"type\":\"CDSView\"}},\"id\":\"2266ee25-5ff3-4bd9-b3a5-849beeeff1e9\",\"type\":\"GlyphRenderer\"},{\"attributes\":{\"source\":{\"id\":\"a74daabd-8c75-4e5e-8fb4-b5542d6e33f4\",\"type\":\"ColumnDataSource\"}},\"id\":\"0394daf5-09eb-4b1c-bb56-5c25c1a63b2e\",\"type\":\"CDSView\"},{\"attributes\":{\"callback\":null,\"renderers\":\"auto\",\"tooltips\":[[\"Importance\",\"@top_scores\"]]},\"id\":\"c3f75ecb-dd0d-4ecb-8131-9749bdda625e\",\"type\":\"HoverTool\"},{\"attributes\":{\"child\":{\"id\":\"821b714b-f3f4-4f0c-ad72-a48d1bcd479f\",\"subtype\":\"Figure\",\"type\":\"Plot\"},\"title\":\"comp.sys.ibm.pc.hardware\"},\"id\":\"ddbfe577-78e0-4f0b-8e09-843ab4be234e\",\"type\":\"Panel\"},{\"attributes\":{\"active_drag\":\"auto\",\"active_inspect\":\"auto\",\"active_multi\":null,\"active_scroll\":\"auto\",\"active_tap\":\"auto\",\"tools\":[{\"id\":\"db7ee0c5-c35b-47d1-bb75-9372196831d7\",\"type\":\"BoxSelectTool\"},{\"id\":\"26b613ad-8e65-479b-808f-21cd08e45efd\",\"type\":\"PanTool\"},{\"id\":\"5fa50534-62cb-407a-b800-0d8bbb3166aa\",\"type\":\"ResetTool\"},{\"id\":\"8e1112f6-2f61-4281-9ecf-ca9fe4e310e9\",\"type\":\"SaveTool\"},{\"id\":\"75e2aad5-244c-4e5e-81f9-bcad4127fb4a\",\"type\":\"HoverTool\"}]},\"id\":\"189e719f-3488-4c59-8840-6bbfb04b479b\",\"type\":\"Toolbar\"},{\"attributes\":{\"callback\":null},\"id\":\"06af4a45-9bf0-40c7-ba88-f5de1e2a1a29\",\"type\":\"DataRange1d\"},{\"attributes\":{\"callback\":null,\"data\":{\"index\":[0,1,2,3,4,5,6,7,8,9],\"top_scores\":{\"__ndarray__\":\"bDbSXyiFBkDiN1OpNWMHQJ2ByTQNWAlA5VJQtvUzCkDcg3J1QPcLQJHStA7HwBBAF4L0ut6xEkCJWPyVTBUWQGRQ47z2RRZAtTOtYY+KGUA=\",\"dtype\":\"float64\",\"shape\":[10]},\"top_words\":[\"widgets\",\"code\",\"application\",\"xlib\",\"display\",\"widget\",\"xterm\",\"motif\",\"server\",\"window\"],\"x_label\":[0.2,0.2,0.2,0.2,0.2,0.2,0.2,0.2,0.2,0.2]},\"selected\":{\"id\":\"045f6f20-740c-4278-a09d-42e156602ffb\",\"type\":\"Selection\"},\"selection_policy\":{\"id\":\"9cd52497-8a8d-4b99-8ac1-b5cc3be56879\",\"type\":\"UnionRenderers\"}},\"id\":\"ab52d232-8de3-4f58-bc0e-1052c500f0d1\",\"type\":\"ColumnDataSource\"},{\"attributes\":{\"dimension\":1,\"plot\":{\"id\":\"1b7819c9-b93e-4d27-8b02-edb2bfa35f36\",\"subtype\":\"Figure\",\"type\":\"Plot\"},\"ticker\":{\"id\":\"5ff2ae53-f70d-464c-b98a-122402d42057\",\"type\":\"BasicTicker\"}},\"id\":\"1631e7dd-0b41-4418-a582-607070b54d50\",\"type\":\"Grid\"},{\"attributes\":{\"align\":\"center\",\"plot\":null,\"text\":\"Feature Importance for \\\"comp.sys.mac.hardware\\\"\",\"text_font\":\"Helvetica\",\"text_font_size\":{\"value\":\"24px\"},\"text_font_style\":\"italic\"},\"id\":\"88ece540-5f63-4ca3-bae3-94c4a9d1c2f8\",\"type\":\"Title\"},{\"attributes\":{\"fill_alpha\":{\"value\":0.7},\"fill_color\":{\"value\":\"#3399c1\"},\"height\":{\"value\":0.9},\"line_alpha\":{\"value\":0.7},\"line_color\":{\"value\":\"#3399c1\"},\"right\":{\"field\":\"top_scores\"},\"y\":{\"field\":\"index\"}},\"id\":\"21100344-f755-4dc8-84a5-682a31552633\",\"type\":\"HBar\"},{\"attributes\":{\"callback\":null,\"overlay\":{\"id\":\"8c5a226b-ff0a-4366-8a10-28f0a106f01c\",\"type\":\"BoxAnnotation\"}},\"id\":\"db7ee0c5-c35b-47d1-bb75-9372196831d7\",\"type\":\"BoxSelectTool\"},{\"attributes\":{\"background_fill_alpha\":{\"value\":0.05},\"background_fill_color\":{\"value\":\"#859dcd\"},\"below\":[{\"id\":\"6cdc68d5-69d0-4f57-830c-63517d4c527d\",\"type\":\"LinearAxis\"}],\"left\":[{\"id\":\"766dbec1-8172-4308-a839-60e3187dc353\",\"type\":\"LinearAxis\"}],\"plot_width\":800,\"renderers\":[{\"id\":\"6cdc68d5-69d0-4f57-830c-63517d4c527d\",\"type\":\"LinearAxis\"},{\"id\":\"8c30884a-b576-471e-af68-3d9be4fb15cd\",\"type\":\"Grid\"},{\"id\":\"766dbec1-8172-4308-a839-60e3187dc353\",\"type\":\"LinearAxis\"},{\"id\":\"7b7ff8cd-1173-4ab7-98f0-91af6657341b\",\"type\":\"Grid\"},{\"id\":\"525c620a-2f52-44a8-9c24-48b9fc791670\",\"type\":\"BoxAnnotation\"},{\"id\":\"6f79cf76-3faf-4fa8-8cdd-fa4c6729e5c6\",\"type\":\"GlyphRenderer\"},{\"id\":\"4885256c-5b6c-490f-ac18-f2cafeb011ab\",\"type\":\"LabelSet\"}],\"title\":{\"id\":\"1ce777fb-a6c6-48a4-8527-0578235083a6\",\"type\":\"Title\"},\"toolbar\":{\"id\":\"f22d07aa-2a16-49e6-8d89-e2cc990f3a54\",\"type\":\"Toolbar\"},\"x_range\":{\"id\":\"1a5105fe-4286-4dc3-998b-4452d90e4306\",\"type\":\"DataRange1d\"},\"x_scale\":{\"id\":\"4d622ea7-05e4-4ca6-8543-64980ee2435e\",\"type\":\"LinearScale\"},\"y_range\":{\"id\":\"ca7cfef5-d9ee-4c10-8898-afaa2eedfa45\",\"type\":\"DataRange1d\"},\"y_scale\":{\"id\":\"c43163f8-d95e-43f1-b2a7-667ab89c3ad0\",\"type\":\"LinearScale\"}},\"id\":\"74fc9244-0210-4db4-9eba-50c6a3174029\",\"subtype\":\"Figure\",\"type\":\"Plot\"},{\"attributes\":{},\"id\":\"26b613ad-8e65-479b-808f-21cd08e45efd\",\"type\":\"PanTool\"},{\"attributes\":{},\"id\":\"5fa50534-62cb-407a-b800-0d8bbb3166aa\",\"type\":\"ResetTool\"},{\"attributes\":{},\"id\":\"8e1112f6-2f61-4281-9ecf-ca9fe4e310e9\",\"type\":\"SaveTool\"},{\"attributes\":{\"bottom_units\":\"screen\",\"fill_alpha\":{\"value\":0.5},\"fill_color\":{\"value\":\"lightgrey\"},\"left_units\":\"screen\",\"level\":\"overlay\",\"line_alpha\":{\"value\":1.0},\"line_color\":{\"value\":\"black\"},\"line_dash\":[4,4],\"line_width\":{\"value\":2},\"plot\":null,\"render_mode\":\"css\",\"right_units\":\"screen\",\"top_units\":\"screen\"},\"id\":\"8c5a226b-ff0a-4366-8a10-28f0a106f01c\",\"type\":\"BoxAnnotation\"},{\"attributes\":{},\"id\":\"79f6787b-90d8-4d53-a5fc-95e14dfa22c7\",\"type\":\"LinearScale\"},{\"attributes\":{\"callback\":null},\"id\":\"b3a10a4f-ab9f-40ab-9ae6-e40b2109e05a\",\"type\":\"DataRange1d\"},{\"attributes\":{\"level\":\"glyph\",\"plot\":{\"id\":\"1b7819c9-b93e-4d27-8b02-edb2bfa35f36\",\"subtype\":\"Figure\",\"type\":\"Plot\"},\"source\":{\"id\":\"e1066be9-a8d5-4f19-8007-ae4f28b61372\",\"type\":\"ColumnDataSource\"},\"text\":{\"field\":\"top_words\"},\"text_color\":{\"value\":\"black\"},\"text_font_size\":{\"value\":\"16px\"},\"x\":{\"field\":\"x_label\"},\"y\":{\"field\":\"index\"},\"y_offset\":{\"value\":-8}},\"id\":\"923d06be-52a3-48f6-9467-1fc42b5b0f7e\",\"type\":\"LabelSet\"},{\"attributes\":{\"fill_alpha\":{\"value\":0.1},\"fill_color\":{\"value\":\"#1f77b4\"},\"height\":{\"value\":0.9},\"line_alpha\":{\"value\":0.1},\"line_color\":{\"value\":\"#1f77b4\"},\"right\":{\"field\":\"top_scores\"},\"y\":{\"field\":\"index\"}},\"id\":\"335f1eb2-3262-43b4-a40f-7a7ebf4b3348\",\"type\":\"HBar\"},{\"attributes\":{\"data_source\":{\"id\":\"e1066be9-a8d5-4f19-8007-ae4f28b61372\",\"type\":\"ColumnDataSource\"},\"glyph\":{\"id\":\"21100344-f755-4dc8-84a5-682a31552633\",\"type\":\"HBar\"},\"hover_glyph\":null,\"muted_glyph\":null,\"nonselection_glyph\":{\"id\":\"335f1eb2-3262-43b4-a40f-7a7ebf4b3348\",\"type\":\"HBar\"},\"selection_glyph\":null,\"view\":{\"id\":\"102c598e-7537-49cc-b3aa-5980ba04ac1a\",\"type\":\"CDSView\"}},\"id\":\"3b2684e6-d27d-4882-b56a-1d14d023d996\",\"type\":\"GlyphRenderer\"},{\"attributes\":{\"source\":{\"id\":\"e1066be9-a8d5-4f19-8007-ae4f28b61372\",\"type\":\"ColumnDataSource\"}},\"id\":\"102c598e-7537-49cc-b3aa-5980ba04ac1a\",\"type\":\"CDSView\"},{\"attributes\":{\"callback\":null,\"renderers\":\"auto\",\"tooltips\":[[\"Importance\",\"@top_scores\"]]},\"id\":\"75e2aad5-244c-4e5e-81f9-bcad4127fb4a\",\"type\":\"HoverTool\"},{\"attributes\":{\"child\":{\"id\":\"1b7819c9-b93e-4d27-8b02-edb2bfa35f36\",\"subtype\":\"Figure\",\"type\":\"Plot\"},\"title\":\"comp.sys.mac.hardware\"},\"id\":\"4a2aad49-ae41-4357-ad6b-6522f049533a\",\"type\":\"Panel\"},{\"attributes\":{\"align\":\"center\",\"plot\":null,\"text\":\"Feature Importance for \\\"comp.windows.x\\\"\",\"text_font\":\"Helvetica\",\"text_font_size\":{\"value\":\"24px\"},\"text_font_style\":\"italic\"},\"id\":\"1ce777fb-a6c6-48a4-8527-0578235083a6\",\"type\":\"Title\"},{\"attributes\":{\"active_drag\":\"auto\",\"active_inspect\":\"auto\",\"active_multi\":null,\"active_scroll\":\"auto\",\"active_tap\":\"auto\",\"tools\":[{\"id\":\"5ffadbce-138e-438a-8809-c42e95bbb82e\",\"type\":\"BoxSelectTool\"},{\"id\":\"04e94534-2553-4c80-8df1-08f1cd13042d\",\"type\":\"PanTool\"},{\"id\":\"948db724-14ae-4cd8-bfab-0e913be9c482\",\"type\":\"ResetTool\"},{\"id\":\"004f1fae-cfb4-42f3-a0c8-699f9ef4cf54\",\"type\":\"SaveTool\"},{\"id\":\"a56df848-f0d0-4412-8110-e0ef3e9f834c\",\"type\":\"HoverTool\"}]},\"id\":\"f22d07aa-2a16-49e6-8d89-e2cc990f3a54\",\"type\":\"Toolbar\"},{\"attributes\":{\"callback\":null},\"id\":\"1a5105fe-4286-4dc3-998b-4452d90e4306\",\"type\":\"DataRange1d\"},{\"attributes\":{\"axis_label\":\"Importance\",\"axis_label_text_font_size\":{\"value\":\"16px\"},\"formatter\":{\"id\":\"0beba95d-6f7d-46d5-88a6-bc49460c9a3e\",\"type\":\"BasicTickFormatter\"},\"plot\":{\"id\":\"74fc9244-0210-4db4-9eba-50c6a3174029\",\"subtype\":\"Figure\",\"type\":\"Plot\"},\"ticker\":{\"id\":\"2ea99ee1-a8ff-44c1-8281-ce25ff1d077b\",\"type\":\"BasicTicker\"}},\"id\":\"6cdc68d5-69d0-4f57-830c-63517d4c527d\",\"type\":\"LinearAxis\"},{\"attributes\":{\"callback\":null},\"id\":\"ca7cfef5-d9ee-4c10-8898-afaa2eedfa45\",\"type\":\"DataRange1d\"},{\"attributes\":{},\"id\":\"4d622ea7-05e4-4ca6-8543-64980ee2435e\",\"type\":\"LinearScale\"},{\"attributes\":{},\"id\":\"c43163f8-d95e-43f1-b2a7-667ab89c3ad0\",\"type\":\"LinearScale\"},{\"attributes\":{\"background_fill_alpha\":{\"value\":0.05},\"background_fill_color\":{\"value\":\"#859dcd\"},\"below\":[{\"id\":\"eca3f138-47b5-4aee-b79a-da4e714be041\",\"type\":\"LinearAxis\"}],\"left\":[{\"id\":\"eacc1a31-378c-422e-acaa-2b57a4bd1606\",\"type\":\"LinearAxis\"}],\"plot_width\":800,\"renderers\":[{\"id\":\"eca3f138-47b5-4aee-b79a-da4e714be041\",\"type\":\"LinearAxis\"},{\"id\":\"d2aa14d1-26f1-4af3-a178-d3ffe37b59b3\",\"type\":\"Grid\"},{\"id\":\"eacc1a31-378c-422e-acaa-2b57a4bd1606\",\"type\":\"LinearAxis\"},{\"id\":\"7323ee52-6980-484e-a75f-e13aae649987\",\"type\":\"Grid\"},{\"id\":\"8af260ca-79f6-4a71-9419-084d687db0a1\",\"type\":\"BoxAnnotation\"},{\"id\":\"1e493e3b-e828-41e1-99cb-fca43f0dc33a\",\"type\":\"GlyphRenderer\"},{\"id\":\"4888114b-17af-440e-9a04-15c5841a4285\",\"type\":\"LabelSet\"}],\"title\":{\"id\":\"f07a8738-f082-4935-9ae0-c940ce75fa3a\",\"type\":\"Title\"},\"toolbar\":{\"id\":\"fa6c6c84-0aae-4510-891b-89141736c2e5\",\"type\":\"Toolbar\"},\"x_range\":{\"id\":\"16c15433-9cd4-4eb7-89d1-3ea4ae20dbfa\",\"type\":\"DataRange1d\"},\"x_scale\":{\"id\":\"efe5fa91-c2e4-42d5-a851-cac658b0de63\",\"type\":\"LinearScale\"},\"y_range\":{\"id\":\"30f9d301-e572-4931-b14b-d6572c409218\",\"type\":\"DataRange1d\"},\"y_scale\":{\"id\":\"f6124a8f-f8c6-4dd7-abe4-2b001193cde5\",\"type\":\"LinearScale\"}},\"id\":\"e5188244-268f-4a75-ae43-9f49ffaf7dd2\",\"subtype\":\"Figure\",\"type\":\"Plot\"},{\"attributes\":{\"callback\":null,\"data\":{\"index\":[0,1,2,3,4,5,6,7,8,9],\"top_scores\":{\"__ndarray__\":\"NhxlV0vcAECmJiAnw7wBQMvzAVcVggJAPksybvRlA0C7klSKzYsEQFx6X5cPogZAA6gi3TQ/B0CA7cOuz0kJQJQGwT1kVApAvmmQJUbZCkA=\",\"dtype\":\"float64\",\"shape\":[10]},\"top_words\":[\"objective\",\"kent\",\"malcolm\",\"jesus\",\"christian\",\"brian\",\"frank\",\"abortion\",\"sandvik\",\"koresh\"],\"x_label\":[0.2,0.2,0.2,0.2,0.2,0.2,0.2,0.2,0.2,0.2]},\"selected\":{\"id\":\"5efb0e68-bf46-47ca-95a3-9cde62fabda6\",\"type\":\"Selection\"},\"selection_policy\":{\"id\":\"5edc92ff-2613-4f16-82a7-56001cf6f041\",\"type\":\"UnionRenderers\"}},\"id\":\"dd748933-ff67-4f76-b16b-729d9c4898ac\",\"type\":\"ColumnDataSource\"},{\"attributes\":{\"dimension\":1,\"plot\":{\"id\":\"3c466503-19c4-4015-992d-75b8ba3cd455\",\"subtype\":\"Figure\",\"type\":\"Plot\"},\"ticker\":{\"id\":\"5f817a11-5b46-4086-9144-6946291e515c\",\"type\":\"BasicTicker\"}},\"id\":\"e6388119-7f73-458a-8b91-9cfadf78cb4e\",\"type\":\"Grid\"},{\"attributes\":{},\"id\":\"63ab7c38-4b74-47fb-a77e-9944fd3bf584\",\"type\":\"SaveTool\"},{\"attributes\":{\"fill_alpha\":{\"value\":0.7},\"fill_color\":{\"value\":\"#3399c1\"},\"height\":{\"value\":0.9},\"line_alpha\":{\"value\":0.7},\"line_color\":{\"value\":\"#3399c1\"},\"right\":{\"field\":\"top_scores\"},\"y\":{\"field\":\"index\"}},\"id\":\"a8e13377-7a6f-4c1e-8252-9e871e13f23f\",\"type\":\"HBar\"},{\"attributes\":{\"bottom_units\":\"screen\",\"fill_alpha\":{\"value\":0.5},\"fill_color\":{\"value\":\"lightgrey\"},\"left_units\":\"screen\",\"level\":\"overlay\",\"line_alpha\":{\"value\":1.0},\"line_color\":{\"value\":\"black\"},\"line_dash\":[4,4],\"line_width\":{\"value\":2},\"plot\":null,\"render_mode\":\"css\",\"right_units\":\"screen\",\"top_units\":\"screen\"},\"id\":\"4c2c5d4e-33d7-498e-9a6d-d350bf3d7485\",\"type\":\"BoxAnnotation\"},{\"attributes\":{},\"id\":\"184d40b6-c8d8-4583-bb21-5459d4af1591\",\"type\":\"BasicTickFormatter\"},{\"attributes\":{\"callback\":null},\"id\":\"f6f059aa-abc6-4083-8918-de17f7abab54\",\"type\":\"DataRange1d\"},{\"attributes\":{\"axis_label\":\"Most important words\",\"axis_label_text_font_size\":{\"value\":\"16px\"},\"formatter\":{\"id\":\"2b029390-56cc-40c2-8293-b5a29627fb27\",\"type\":\"BasicTickFormatter\"},\"plot\":{\"id\":\"bd6de9f2-ece5-4f96-8925-11ccae6089b3\",\"subtype\":\"Figure\",\"type\":\"Plot\"},\"ticker\":{\"id\":\"76774153-6e9d-4e3c-ae37-1a92742f7f5a\",\"type\":\"BasicTicker\"}},\"id\":\"70d78635-1dec-4de7-a7c6-03e0fbfc846a\",\"type\":\"LinearAxis\"},{\"attributes\":{\"callback\":null,\"overlay\":{\"id\":\"2113c0f9-fa87-4cd2-aa07-fff56e984039\",\"type\":\"BoxAnnotation\"}},\"id\":\"62dc6d1c-8212-4597-a151-e1350c8595ad\",\"type\":\"BoxSelectTool\"},{\"attributes\":{\"child\":{\"id\":\"3c466503-19c4-4015-992d-75b8ba3cd455\",\"subtype\":\"Figure\",\"type\":\"Plot\"},\"title\":\"talk.politics.misc\"},\"id\":\"a19b8d5e-95b0-455c-bf95-2799bd407054\",\"type\":\"Panel\"},{\"attributes\":{\"fill_alpha\":{\"value\":0.1},\"fill_color\":{\"value\":\"#1f77b4\"},\"height\":{\"value\":0.9},\"line_alpha\":{\"value\":0.1},\"line_color\":{\"value\":\"#1f77b4\"},\"right\":{\"field\":\"top_scores\"},\"y\":{\"field\":\"index\"}},\"id\":\"9d1c1796-74b4-4f28-8dbd-5e315b916567\",\"type\":\"HBar\"},{\"attributes\":{\"data_source\":{\"id\":\"a20555b0-31f9-49ac-b099-7a0a44063edc\",\"type\":\"ColumnDataSource\"},\"glyph\":{\"id\":\"a8e13377-7a6f-4c1e-8252-9e871e13f23f\",\"type\":\"HBar\"},\"hover_glyph\":null,\"muted_glyph\":null,\"nonselection_glyph\":{\"id\":\"9d1c1796-74b4-4f28-8dbd-5e315b916567\",\"type\":\"HBar\"},\"selection_glyph\":null,\"view\":{\"id\":\"b0286ede-a7b4-4745-861f-dbec906a38d4\",\"type\":\"CDSView\"}},\"id\":\"d0d32115-02e1-4c79-ae39-ba6bad74862e\",\"type\":\"GlyphRenderer\"},{\"attributes\":{},\"id\":\"2b32b804-14d3-45e1-be39-f2550edafe20\",\"type\":\"PanTool\"},{\"attributes\":{\"source\":{\"id\":\"a20555b0-31f9-49ac-b099-7a0a44063edc\",\"type\":\"ColumnDataSource\"}},\"id\":\"b0286ede-a7b4-4745-861f-dbec906a38d4\",\"type\":\"CDSView\"},{\"attributes\":{},\"id\":\"c3931a4c-0cf7-42b7-8cc3-694481ca9770\",\"type\":\"ResetTool\"},{\"attributes\":{\"callback\":null,\"renderers\":\"auto\",\"tooltips\":[[\"Importance\",\"@top_scores\"]]},\"id\":\"2c91b75a-685c-4104-84f9-36c3415b26e6\",\"type\":\"HoverTool\"},{\"attributes\":{},\"id\":\"4ed8a7c5-1a89-4694-8865-8563581b1ca2\",\"type\":\"SaveTool\"},{\"attributes\":{\"child\":{\"id\":\"018e3d6c-3b2d-4183-8a58-376f2b5be7e9\",\"subtype\":\"Figure\",\"type\":\"Plot\"},\"title\":\"rec.sport.hockey\"},\"id\":\"a5b61149-3989-437a-b500-b8b423bc5d6a\",\"type\":\"Panel\"},{\"attributes\":{\"bottom_units\":\"screen\",\"fill_alpha\":{\"value\":0.5},\"fill_color\":{\"value\":\"lightgrey\"},\"left_units\":\"screen\",\"level\":\"overlay\",\"line_alpha\":{\"value\":1.0},\"line_color\":{\"value\":\"black\"},\"line_dash\":[4,4],\"line_width\":{\"value\":2},\"plot\":null,\"render_mode\":\"css\",\"right_units\":\"screen\",\"top_units\":\"screen\"},\"id\":\"2113c0f9-fa87-4cd2-aa07-fff56e984039\",\"type\":\"BoxAnnotation\"},{\"attributes\":{\"callback\":null,\"renderers\":\"auto\",\"tooltips\":[[\"Importance\",\"@top_scores\"]]},\"id\":\"d2c4932d-987c-408e-8347-28ab2dbdba54\",\"type\":\"HoverTool\"},{\"attributes\":{\"background_fill_alpha\":{\"value\":0.05},\"background_fill_color\":{\"value\":\"#859dcd\"},\"below\":[{\"id\":\"24bbc731-d509-4129-aabb-8118adaeabb3\",\"type\":\"LinearAxis\"}],\"left\":[{\"id\":\"eb700b2b-3bea-426c-b2ae-333a7c5ae297\",\"type\":\"LinearAxis\"}],\"plot_width\":800,\"renderers\":[{\"id\":\"24bbc731-d509-4129-aabb-8118adaeabb3\",\"type\":\"LinearAxis\"},{\"id\":\"1e7ddda8-b0ba-40f0-9d47-373cb6d0de13\",\"type\":\"Grid\"},{\"id\":\"eb700b2b-3bea-426c-b2ae-333a7c5ae297\",\"type\":\"LinearAxis\"},{\"id\":\"e4554f43-e40b-4116-b9eb-e19d22a95607\",\"type\":\"Grid\"},{\"id\":\"09bb8727-1efe-4ea0-b532-8dd44b302ac7\",\"type\":\"BoxAnnotation\"},{\"id\":\"dbca2e11-f5d9-4039-8c6a-adc24869ef2a\",\"type\":\"GlyphRenderer\"},{\"id\":\"eb231cf9-ad03-487e-b9bb-6a3c2adcc0fe\",\"type\":\"LabelSet\"}],\"title\":{\"id\":\"594b891e-c19f-4a6e-a483-fa099eed1469\",\"type\":\"Title\"},\"toolbar\":{\"id\":\"1abeeb8d-f8f5-46db-b7b0-8fed91fcc427\",\"type\":\"Toolbar\"},\"x_range\":{\"id\":\"c5c8f16c-1801-4cf0-b97e-955c9160f647\",\"type\":\"DataRange1d\"},\"x_scale\":{\"id\":\"adf238cd-7b41-4261-928c-1776ee12bd83\",\"type\":\"LinearScale\"},\"y_range\":{\"id\":\"f7766eaf-7404-4eee-b81f-ad7901fcde8d\",\"type\":\"DataRange1d\"},\"y_scale\":{\"id\":\"62aab2b6-dee5-4b6a-8f61-b030fc5a1330\",\"type\":\"LinearScale\"}},\"id\":\"163d6197-c8d6-47f7-8c32-a76a8164a9fe\",\"subtype\":\"Figure\",\"type\":\"Plot\"},{\"attributes\":{\"active_drag\":\"auto\",\"active_inspect\":\"auto\",\"active_multi\":null,\"active_scroll\":\"auto\",\"active_tap\":\"auto\",\"tools\":[{\"id\":\"45262428-2838-4ef7-949a-481462d41434\",\"type\":\"BoxSelectTool\"},{\"id\":\"aba28689-1dd5-4427-86ce-0e907d180662\",\"type\":\"PanTool\"},{\"id\":\"e0152c60-9f92-443f-bf34-9c6dea174387\",\"type\":\"ResetTool\"},{\"id\":\"836abd99-3039-4c04-bca7-10e4ec07162a\",\"type\":\"SaveTool\"},{\"id\":\"8e4d415d-0754-4d3e-a796-5bdd1399e5c7\",\"type\":\"HoverTool\"}]},\"id\":\"fa6c6c84-0aae-4510-891b-89141736c2e5\",\"type\":\"Toolbar\"},{\"attributes\":{\"callback\":null},\"id\":\"16c15433-9cd4-4eb7-89d1-3ea4ae20dbfa\",\"type\":\"DataRange1d\"},{\"attributes\":{\"active_drag\":\"auto\",\"active_inspect\":\"auto\",\"active_multi\":null,\"active_scroll\":\"auto\",\"active_tap\":\"auto\",\"tools\":[{\"id\":\"505fe74f-5b77-435e-9402-29ee86d5f848\",\"type\":\"BoxSelectTool\"},{\"id\":\"481003a5-78e6-4e37-bd8f-10e790862392\",\"type\":\"PanTool\"},{\"id\":\"df579471-e520-436f-ac0d-c137e27a13c7\",\"type\":\"ResetTool\"},{\"id\":\"0cd144aa-b7fe-4896-a8a1-ed573163c5bf\",\"type\":\"SaveTool\"},{\"id\":\"4d15a6ca-8087-4286-9bf1-b873f1623d7f\",\"type\":\"HoverTool\"}]},\"id\":\"1abeeb8d-f8f5-46db-b7b0-8fed91fcc427\",\"type\":\"Toolbar\"},{\"attributes\":{\"callback\":null},\"id\":\"c5c8f16c-1801-4cf0-b97e-955c9160f647\",\"type\":\"DataRange1d\"},{\"attributes\":{\"source\":{\"id\":\"1554619f-4c21-4454-b59d-4707b779cff3\",\"type\":\"ColumnDataSource\"}},\"id\":\"bac9dbf6-4e63-4560-8873-351b387c42bc\",\"type\":\"CDSView\"},{\"attributes\":{\"callback\":null},\"id\":\"30f9d301-e572-4931-b14b-d6572c409218\",\"type\":\"DataRange1d\"},{\"attributes\":{},\"id\":\"efe5fa91-c2e4-42d5-a851-cac658b0de63\",\"type\":\"LinearScale\"},{\"attributes\":{\"callback\":null},\"id\":\"f7766eaf-7404-4eee-b81f-ad7901fcde8d\",\"type\":\"DataRange1d\"},{\"attributes\":{},\"id\":\"f6124a8f-f8c6-4dd7-abe4-2b001193cde5\",\"type\":\"LinearScale\"},{\"attributes\":{},\"id\":\"adf238cd-7b41-4261-928c-1776ee12bd83\",\"type\":\"LinearScale\"},{\"attributes\":{},\"id\":\"977b1d8f-3b01-449a-be2e-a1703896e980\",\"type\":\"ResetTool\"},{\"attributes\":{\"grid_line_color\":{\"value\":null},\"plot\":{\"id\":\"e5188244-268f-4a75-ae43-9f49ffaf7dd2\",\"subtype\":\"Figure\",\"type\":\"Plot\"},\"ticker\":{\"id\":\"9e678a58-5ebb-40dc-8688-04619c7c9234\",\"type\":\"BasicTicker\"}},\"id\":\"d2aa14d1-26f1-4af3-a178-d3ffe37b59b3\",\"type\":\"Grid\"},{\"attributes\":{},\"id\":\"62aab2b6-dee5-4b6a-8f61-b030fc5a1330\",\"type\":\"LinearScale\"},{\"attributes\":{\"axis_label\":\"Importance\",\"axis_label_text_font_size\":{\"value\":\"16px\"},\"formatter\":{\"id\":\"57976bdb-75b7-40d6-b515-8fe5d5522c5d\",\"type\":\"BasicTickFormatter\"},\"plot\":{\"id\":\"e5188244-268f-4a75-ae43-9f49ffaf7dd2\",\"subtype\":\"Figure\",\"type\":\"Plot\"},\"ticker\":{\"id\":\"9e678a58-5ebb-40dc-8688-04619c7c9234\",\"type\":\"BasicTicker\"}},\"id\":\"eca3f138-47b5-4aee-b79a-da4e714be041\",\"type\":\"LinearAxis\"},{\"attributes\":{\"grid_line_color\":{\"value\":null},\"plot\":{\"id\":\"163d6197-c8d6-47f7-8c32-a76a8164a9fe\",\"subtype\":\"Figure\",\"type\":\"Plot\"},\"ticker\":{\"id\":\"01fa01db-f6c4-46e6-8357-fef38c231dee\",\"type\":\"BasicTicker\"}},\"id\":\"1e7ddda8-b0ba-40f0-9d47-373cb6d0de13\",\"type\":\"Grid\"},{\"attributes\":{\"axis_label\":\"Importance\",\"axis_label_text_font_size\":{\"value\":\"16px\"},\"formatter\":{\"id\":\"3aa48043-353f-4087-901d-9f82a8f35fb7\",\"type\":\"BasicTickFormatter\"},\"plot\":{\"id\":\"163d6197-c8d6-47f7-8c32-a76a8164a9fe\",\"subtype\":\"Figure\",\"type\":\"Plot\"},\"ticker\":{\"id\":\"01fa01db-f6c4-46e6-8357-fef38c231dee\",\"type\":\"BasicTicker\"}},\"id\":\"24bbc731-d509-4129-aabb-8118adaeabb3\",\"type\":\"LinearAxis\"},{\"attributes\":{},\"id\":\"9e678a58-5ebb-40dc-8688-04619c7c9234\",\"type\":\"BasicTicker\"},{\"attributes\":{\"axis_label\":\"Most important words\",\"axis_label_text_font_size\":{\"value\":\"16px\"},\"formatter\":{\"id\":\"55e010b0-c6f6-4980-8dc5-191fc4707a88\",\"type\":\"BasicTickFormatter\"},\"plot\":{\"id\":\"e5188244-268f-4a75-ae43-9f49ffaf7dd2\",\"subtype\":\"Figure\",\"type\":\"Plot\"},\"ticker\":{\"id\":\"ae52abe7-de6f-4aec-94f9-c01ea2e2bd41\",\"type\":\"BasicTicker\"}},\"id\":\"eacc1a31-378c-422e-acaa-2b57a4bd1606\",\"type\":\"LinearAxis\"},{\"attributes\":{},\"id\":\"01fa01db-f6c4-46e6-8357-fef38c231dee\",\"type\":\"BasicTicker\"},{\"attributes\":{\"active_drag\":\"auto\",\"active_inspect\":\"auto\",\"active_multi\":null,\"active_scroll\":\"auto\",\"active_tap\":\"auto\",\"tools\":[{\"id\":\"7e7acbb2-1c6f-4158-a792-eb8c17a79016\",\"type\":\"BoxSelectTool\"},{\"id\":\"51b7dc73-67d5-48f0-a250-5f83ffd418c2\",\"type\":\"PanTool\"},{\"id\":\"977b1d8f-3b01-449a-be2e-a1703896e980\",\"type\":\"ResetTool\"},{\"id\":\"320e8741-9a43-4576-bd8e-39aad0de4f0f\",\"type\":\"SaveTool\"},{\"id\":\"4ef7c4e5-b85d-4853-81cf-9b6cd38bf081\",\"type\":\"HoverTool\"}]},\"id\":\"461894f6-6782-44d4-94fc-406712146176\",\"type\":\"Toolbar\"},{\"attributes\":{\"axis_label\":\"Most important words\",\"axis_label_text_font_size\":{\"value\":\"16px\"},\"formatter\":{\"id\":\"853d4309-fef3-4a18-9cec-4bfec8b3dfad\",\"type\":\"BasicTickFormatter\"},\"plot\":{\"id\":\"163d6197-c8d6-47f7-8c32-a76a8164a9fe\",\"subtype\":\"Figure\",\"type\":\"Plot\"},\"ticker\":{\"id\":\"61bd2079-d33f-416e-9786-155a30138323\",\"type\":\"BasicTicker\"}},\"id\":\"eb700b2b-3bea-426c-b2ae-333a7c5ae297\",\"type\":\"LinearAxis\"},{\"attributes\":{},\"id\":\"ae52abe7-de6f-4aec-94f9-c01ea2e2bd41\",\"type\":\"BasicTicker\"},{\"attributes\":{\"dimension\":1,\"plot\":{\"id\":\"e5188244-268f-4a75-ae43-9f49ffaf7dd2\",\"subtype\":\"Figure\",\"type\":\"Plot\"},\"ticker\":{\"id\":\"ae52abe7-de6f-4aec-94f9-c01ea2e2bd41\",\"type\":\"BasicTicker\"}},\"id\":\"7323ee52-6980-484e-a75f-e13aae649987\",\"type\":\"Grid\"},{\"attributes\":{},\"id\":\"61bd2079-d33f-416e-9786-155a30138323\",\"type\":\"BasicTicker\"},{\"attributes\":{\"dimension\":1,\"plot\":{\"id\":\"163d6197-c8d6-47f7-8c32-a76a8164a9fe\",\"subtype\":\"Figure\",\"type\":\"Plot\"},\"ticker\":{\"id\":\"61bd2079-d33f-416e-9786-155a30138323\",\"type\":\"BasicTicker\"}},\"id\":\"e4554f43-e40b-4116-b9eb-e19d22a95607\",\"type\":\"Grid\"},{\"attributes\":{\"callback\":null,\"data\":{\"index\":[0,1,2,3,4,5,6,7,8,9],\"top_scores\":{\"__ndarray__\":\"/iASs5efAkD1MZsVRtMCQNRrnF4i/wJAeOwYcjkMA0ChHICUHuYEQJm0lWCt6ARABpoedLkpCUBvw96AOJkNQLKLSZBZFA9AnK9K8zEdEkA=\",\"dtype\":\"float64\",\"shape\":[10]},\"top_words\":[\"copy\",\"circuits\",\"output\",\"audio\",\"babb\",\"radio\",\"battery\",\"voltage\",\"electronics\",\"circuit\"],\"x_label\":[0.2,0.2,0.2,0.2,0.2,0.2,0.2,0.2,0.2,0.2]},\"selected\":{\"id\":\"e751905d-9c58-4174-b36c-8d2841e98a57\",\"type\":\"Selection\"},\"selection_policy\":{\"id\":\"1a9162f7-a083-45df-b97b-9b6bdffb2513\",\"type\":\"UnionRenderers\"}},\"id\":\"1554619f-4c21-4454-b59d-4707b779cff3\",\"type\":\"ColumnDataSource\"},{\"attributes\":{\"align\":\"center\",\"plot\":null,\"text\":\"Feature Importance for \\\"sci.crypt\\\"\",\"text_font\":\"Helvetica\",\"text_font_size\":{\"value\":\"24px\"},\"text_font_style\":\"italic\"},\"id\":\"f07a8738-f082-4935-9ae0-c940ce75fa3a\",\"type\":\"Title\"},{\"attributes\":{\"align\":\"center\",\"plot\":null,\"text\":\"Feature Importance for \\\"talk.religion.misc\\\"\",\"text_font\":\"Helvetica\",\"text_font_size\":{\"value\":\"24px\"},\"text_font_style\":\"italic\"},\"id\":\"594b891e-c19f-4a6e-a483-fa099eed1469\",\"type\":\"Title\"},{\"attributes\":{\"fill_alpha\":{\"value\":0.7},\"fill_color\":{\"value\":\"#3399c1\"},\"height\":{\"value\":0.9},\"line_alpha\":{\"value\":0.7},\"line_color\":{\"value\":\"#3399c1\"},\"right\":{\"field\":\"top_scores\"},\"y\":{\"field\":\"index\"}},\"id\":\"43fa7d03-f553-42c1-98eb-fa5374fc3051\",\"type\":\"HBar\"},{\"attributes\":{\"callback\":null,\"overlay\":{\"id\":\"8af260ca-79f6-4a71-9419-084d687db0a1\",\"type\":\"BoxAnnotation\"}},\"id\":\"45262428-2838-4ef7-949a-481462d41434\",\"type\":\"BoxSelectTool\"},{\"attributes\":{\"fill_alpha\":{\"value\":0.7},\"fill_color\":{\"value\":\"#3399c1\"},\"height\":{\"value\":0.9},\"line_alpha\":{\"value\":0.7},\"line_color\":{\"value\":\"#3399c1\"},\"right\":{\"field\":\"top_scores\"},\"y\":{\"field\":\"index\"}},\"id\":\"09b0e45d-e4f4-4688-8e63-bbc270132486\",\"type\":\"HBar\"},{\"attributes\":{\"background_fill_alpha\":{\"value\":0.05},\"background_fill_color\":{\"value\":\"#859dcd\"},\"below\":[{\"id\":\"2cac5264-35ed-4901-95f5-38f751f902c6\",\"type\":\"LinearAxis\"}],\"left\":[{\"id\":\"9f8ec360-ca31-44b4-92a8-dd7625aac5bb\",\"type\":\"LinearAxis\"}],\"plot_width\":800,\"renderers\":[{\"id\":\"2cac5264-35ed-4901-95f5-38f751f902c6\",\"type\":\"LinearAxis\"},{\"id\":\"cf16a032-17a1-44a3-94c5-dcd1a4388e11\",\"type\":\"Grid\"},{\"id\":\"9f8ec360-ca31-44b4-92a8-dd7625aac5bb\",\"type\":\"LinearAxis\"},{\"id\":\"4ef3eb85-dca3-4f9f-a82d-5927ca1e3466\",\"type\":\"Grid\"},{\"id\":\"f995cea1-0265-42e7-857c-5d24d5d5e769\",\"type\":\"BoxAnnotation\"},{\"id\":\"1397c018-0288-4d19-8fa7-7b928ee8405e\",\"type\":\"GlyphRenderer\"},{\"id\":\"b254d8f8-dcb7-4dd7-955c-0b7f2eb1d3fb\",\"type\":\"LabelSet\"}],\"title\":{\"id\":\"dbe7c1c7-1df2-44fd-bafd-51fbfa2e90c9\",\"type\":\"Title\"},\"toolbar\":{\"id\":\"a093fa7a-738b-4a7d-8237-07f2513ea75b\",\"type\":\"Toolbar\"},\"x_range\":{\"id\":\"339d0c29-db3a-4592-af91-37736574000b\",\"type\":\"DataRange1d\"},\"x_scale\":{\"id\":\"767bfa8f-f890-400d-bf86-44e6c2f1d2ee\",\"type\":\"LinearScale\"},\"y_range\":{\"id\":\"5a4f5a06-fc12-464e-b02a-9f19aa47255c\",\"type\":\"DataRange1d\"},\"y_scale\":{\"id\":\"86bc3de5-e8a6-474b-90c8-42c2d8e0bf8c\",\"type\":\"LinearScale\"}},\"id\":\"9b256635-3d5f-49d9-a3c3-605539e34ae6\",\"subtype\":\"Figure\",\"type\":\"Plot\"},{\"attributes\":{\"callback\":null,\"overlay\":{\"id\":\"09bb8727-1efe-4ea0-b532-8dd44b302ac7\",\"type\":\"BoxAnnotation\"}},\"id\":\"505fe74f-5b77-435e-9402-29ee86d5f848\",\"type\":\"BoxSelectTool\"},{\"attributes\":{},\"id\":\"f087c8b6-e023-4114-b11d-c5c705e89d31\",\"type\":\"BasicTickFormatter\"},{\"attributes\":{},\"id\":\"aba28689-1dd5-4427-86ce-0e907d180662\",\"type\":\"PanTool\"},{\"attributes\":{},\"id\":\"e0152c60-9f92-443f-bf34-9c6dea174387\",\"type\":\"ResetTool\"},{\"attributes\":{},\"id\":\"481003a5-78e6-4e37-bd8f-10e790862392\",\"type\":\"PanTool\"},{\"attributes\":{},\"id\":\"836abd99-3039-4c04-bca7-10e4ec07162a\",\"type\":\"SaveTool\"},{\"attributes\":{},\"id\":\"df579471-e520-436f-ac0d-c137e27a13c7\",\"type\":\"ResetTool\"},{\"attributes\":{\"bottom_units\":\"screen\",\"fill_alpha\":{\"value\":0.5},\"fill_color\":{\"value\":\"lightgrey\"},\"left_units\":\"screen\",\"level\":\"overlay\",\"line_alpha\":{\"value\":1.0},\"line_color\":{\"value\":\"black\"},\"line_dash\":[4,4],\"line_width\":{\"value\":2},\"plot\":null,\"render_mode\":\"css\",\"right_units\":\"screen\",\"top_units\":\"screen\"},\"id\":\"8af260ca-79f6-4a71-9419-084d687db0a1\",\"type\":\"BoxAnnotation\"},{\"attributes\":{},\"id\":\"0cd144aa-b7fe-4896-a8a1-ed573163c5bf\",\"type\":\"SaveTool\"},{\"attributes\":{\"bottom_units\":\"screen\",\"fill_alpha\":{\"value\":0.5},\"fill_color\":{\"value\":\"lightgrey\"},\"left_units\":\"screen\",\"level\":\"overlay\",\"line_alpha\":{\"value\":1.0},\"line_color\":{\"value\":\"black\"},\"line_dash\":[4,4],\"line_width\":{\"value\":2},\"plot\":null,\"render_mode\":\"css\",\"right_units\":\"screen\",\"top_units\":\"screen\"},\"id\":\"09bb8727-1efe-4ea0-b532-8dd44b302ac7\",\"type\":\"BoxAnnotation\"},{\"attributes\":{\"child\":{\"id\":\"9b256635-3d5f-49d9-a3c3-605539e34ae6\",\"subtype\":\"Figure\",\"type\":\"Plot\"},\"title\":\"sci.electronics\"},\"id\":\"3dcb7bc6-ff8f-424a-96a4-2dfb430d939b\",\"type\":\"Panel\"},{\"attributes\":{},\"id\":\"287ef1ac-ddf2-4ade-90bf-9880e98ceea3\",\"type\":\"BasicTickFormatter\"},{\"attributes\":{\"active_drag\":\"auto\",\"active_inspect\":\"auto\",\"active_multi\":null,\"active_scroll\":\"auto\",\"active_tap\":\"auto\",\"tools\":[{\"id\":\"42e331c0-ef7e-438c-a25f-fdafd527a3de\",\"type\":\"BoxSelectTool\"},{\"id\":\"46e7562b-f532-4ee1-9fe3-8392eb97e8c2\",\"type\":\"PanTool\"},{\"id\":\"da4359ae-1a96-46fd-b550-db12daf62557\",\"type\":\"ResetTool\"},{\"id\":\"2184d303-2cb4-40c8-a98e-8e771346ebde\",\"type\":\"SaveTool\"},{\"id\":\"6222c872-22a0-4826-bd51-0a653bc0aaf7\",\"type\":\"HoverTool\"}]},\"id\":\"5820dd1a-8fa7-41cf-af2c-5172dd0a0631\",\"type\":\"Toolbar\"},{\"attributes\":{\"align\":\"center\",\"plot\":null,\"text\":\"Feature Importance for \\\"sci.med\\\"\",\"text_font\":\"Helvetica\",\"text_font_size\":{\"value\":\"24px\"},\"text_font_style\":\"italic\"},\"id\":\"114ad455-0745-4691-ae3b-9130c7da2468\",\"type\":\"Title\"},{\"attributes\":{},\"id\":\"ac9ac0a4-90a8-4c0c-928a-261a9b1d89b3\",\"type\":\"BasicTickFormatter\"},{\"attributes\":{\"level\":\"glyph\",\"plot\":{\"id\":\"163d6197-c8d6-47f7-8c32-a76a8164a9fe\",\"subtype\":\"Figure\",\"type\":\"Plot\"},\"source\":{\"id\":\"dd748933-ff67-4f76-b16b-729d9c4898ac\",\"type\":\"ColumnDataSource\"},\"text\":{\"field\":\"top_words\"},\"text_color\":{\"value\":\"black\"},\"text_font_size\":{\"value\":\"16px\"},\"x\":{\"field\":\"x_label\"},\"y\":{\"field\":\"index\"},\"y_offset\":{\"value\":-8}},\"id\":\"eb231cf9-ad03-487e-b9bb-6a3c2adcc0fe\",\"type\":\"LabelSet\"},{\"attributes\":{\"fill_alpha\":{\"value\":0.1},\"fill_color\":{\"value\":\"#1f77b4\"},\"height\":{\"value\":0.9},\"line_alpha\":{\"value\":0.1},\"line_color\":{\"value\":\"#1f77b4\"},\"right\":{\"field\":\"top_scores\"},\"y\":{\"field\":\"index\"}},\"id\":\"79d28c27-040d-4c70-b839-14e4c591b21d\",\"type\":\"HBar\"},{\"attributes\":{\"data_source\":{\"id\":\"7aec2de7-c7c2-4bc9-928d-43975eb0bb27\",\"type\":\"ColumnDataSource\"},\"glyph\":{\"id\":\"43fa7d03-f553-42c1-98eb-fa5374fc3051\",\"type\":\"HBar\"},\"hover_glyph\":null,\"muted_glyph\":null,\"nonselection_glyph\":{\"id\":\"79d28c27-040d-4c70-b839-14e4c591b21d\",\"type\":\"HBar\"},\"selection_glyph\":null,\"view\":{\"id\":\"12b0b010-2dc7-49fb-a848-637a72c09467\",\"type\":\"CDSView\"}},\"id\":\"1e493e3b-e828-41e1-99cb-fca43f0dc33a\",\"type\":\"GlyphRenderer\"},{\"attributes\":{\"fill_alpha\":{\"value\":0.1},\"fill_color\":{\"value\":\"#1f77b4\"},\"height\":{\"value\":0.9},\"line_alpha\":{\"value\":0.1},\"line_color\":{\"value\":\"#1f77b4\"},\"right\":{\"field\":\"top_scores\"},\"y\":{\"field\":\"index\"}},\"id\":\"cc29e905-da33-4997-b545-defa1f4fd93c\",\"type\":\"HBar\"},{\"attributes\":{\"data_source\":{\"id\":\"dd748933-ff67-4f76-b16b-729d9c4898ac\",\"type\":\"ColumnDataSource\"},\"glyph\":{\"id\":\"09b0e45d-e4f4-4688-8e63-bbc270132486\",\"type\":\"HBar\"},\"hover_glyph\":null,\"muted_glyph\":null,\"nonselection_glyph\":{\"id\":\"cc29e905-da33-4997-b545-defa1f4fd93c\",\"type\":\"HBar\"},\"selection_glyph\":null,\"view\":{\"id\":\"7b5cca7d-23bb-49e8-b702-71f0e66f6cc6\",\"type\":\"CDSView\"}},\"id\":\"dbca2e11-f5d9-4039-8c6a-adc24869ef2a\",\"type\":\"GlyphRenderer\"},{\"attributes\":{\"source\":{\"id\":\"7aec2de7-c7c2-4bc9-928d-43975eb0bb27\",\"type\":\"ColumnDataSource\"}},\"id\":\"12b0b010-2dc7-49fb-a848-637a72c09467\",\"type\":\"CDSView\"},{\"attributes\":{\"callback\":null,\"renderers\":\"auto\",\"tooltips\":[[\"Importance\",\"@top_scores\"]]},\"id\":\"8e4d415d-0754-4d3e-a796-5bdd1399e5c7\",\"type\":\"HoverTool\"},{\"attributes\":{\"source\":{\"id\":\"dd748933-ff67-4f76-b16b-729d9c4898ac\",\"type\":\"ColumnDataSource\"}},\"id\":\"7b5cca7d-23bb-49e8-b702-71f0e66f6cc6\",\"type\":\"CDSView\"},{\"attributes\":{\"child\":{\"id\":\"e5188244-268f-4a75-ae43-9f49ffaf7dd2\",\"subtype\":\"Figure\",\"type\":\"Plot\"},\"title\":\"sci.crypt\"},\"id\":\"5fefbf29-1842-4348-b781-fb1c47f56614\",\"type\":\"Panel\"},{\"attributes\":{\"callback\":null,\"renderers\":\"auto\",\"tooltips\":[[\"Importance\",\"@top_scores\"]]},\"id\":\"4d15a6ca-8087-4286-9bf1-b873f1623d7f\",\"type\":\"HoverTool\"},{\"attributes\":{\"child\":{\"id\":\"163d6197-c8d6-47f7-8c32-a76a8164a9fe\",\"subtype\":\"Figure\",\"type\":\"Plot\"},\"title\":\"talk.religion.misc\"},\"id\":\"b1e280f4-1f7f-4dc5-a8c9-f633538e51f6\",\"type\":\"Panel\"},{\"attributes\":{},\"id\":\"51b7dc73-67d5-48f0-a250-5f83ffd418c2\",\"type\":\"PanTool\"},{\"attributes\":{\"active_drag\":\"auto\",\"active_inspect\":\"auto\",\"active_multi\":null,\"active_scroll\":\"auto\",\"active_tap\":\"auto\",\"tools\":[{\"id\":\"6be6c0c9-96f7-4114-8c6f-c8471edb4514\",\"type\":\"BoxSelectTool\"},{\"id\":\"5c95c883-4116-4329-a6e7-0616087f73ac\",\"type\":\"PanTool\"},{\"id\":\"bfd913ab-6f0a-474c-9c43-eca9e5c3a038\",\"type\":\"ResetTool\"},{\"id\":\"3adda2b9-30c9-4dac-a115-c9a8f884fb45\",\"type\":\"SaveTool\"},{\"id\":\"8ea189e5-e8a5-4313-87c3-c22848ca01d1\",\"type\":\"HoverTool\"}]},\"id\":\"a093fa7a-738b-4a7d-8237-07f2513ea75b\",\"type\":\"Toolbar\"},{\"attributes\":{\"callback\":null},\"id\":\"339d0c29-db3a-4592-af91-37736574000b\",\"type\":\"DataRange1d\"},{\"attributes\":{},\"id\":\"1c4d5f0e-cbbc-4c0a-bef2-1ed94d8bec97\",\"type\":\"BasicTickFormatter\"},{\"attributes\":{\"level\":\"glyph\",\"plot\":{\"id\":\"bd6de9f2-ece5-4f96-8925-11ccae6089b3\",\"subtype\":\"Figure\",\"type\":\"Plot\"},\"source\":{\"id\":\"df3244a0-9a2f-45a4-abd9-526563b467d5\",\"type\":\"ColumnDataSource\"},\"text\":{\"field\":\"top_words\"},\"text_color\":{\"value\":\"black\"},\"text_font_size\":{\"value\":\"16px\"},\"x\":{\"field\":\"x_label\"},\"y\":{\"field\":\"index\"},\"y_offset\":{\"value\":-8}},\"id\":\"933ca8fe-e7ed-4cec-897b-c0937eceb3cc\",\"type\":\"LabelSet\"},{\"attributes\":{},\"id\":\"35022523-a671-4b09-ab70-67eb646424a8\",\"type\":\"BasicTickFormatter\"},{\"attributes\":{\"callback\":null},\"id\":\"5a4f5a06-fc12-464e-b02a-9f19aa47255c\",\"type\":\"DataRange1d\"},{\"attributes\":{},\"id\":\"d3408d65-fe96-41e5-aea3-9d5d44410400\",\"type\":\"BasicTickFormatter\"},{\"attributes\":{},\"id\":\"767bfa8f-f890-400d-bf86-44e6c2f1d2ee\",\"type\":\"LinearScale\"},{\"attributes\":{},\"id\":\"0beba95d-6f7d-46d5-88a6-bc49460c9a3e\",\"type\":\"BasicTickFormatter\"},{\"attributes\":{},\"id\":\"86bc3de5-e8a6-474b-90c8-42c2d8e0bf8c\",\"type\":\"LinearScale\"},{\"attributes\":{},\"id\":\"c8a1cecf-eec6-4ecd-909d-6724259f2193\",\"type\":\"BasicTickFormatter\"},{\"attributes\":{\"grid_line_color\":{\"value\":null},\"plot\":{\"id\":\"9b256635-3d5f-49d9-a3c3-605539e34ae6\",\"subtype\":\"Figure\",\"type\":\"Plot\"},\"ticker\":{\"id\":\"ad3e019d-39f4-468c-947e-51b5260890b6\",\"type\":\"BasicTicker\"}},\"id\":\"cf16a032-17a1-44a3-94c5-dcd1a4388e11\",\"type\":\"Grid\"},{\"attributes\":{},\"id\":\"85a2bf40-dd82-4b97-a9ee-c7448663d9cb\",\"type\":\"BasicTickFormatter\"},{\"attributes\":{\"axis_label\":\"Importance\",\"axis_label_text_font_size\":{\"value\":\"16px\"},\"formatter\":{\"id\":\"2d74f19a-7d0b-4a49-9f98-664d4ae7169d\",\"type\":\"BasicTickFormatter\"},\"plot\":{\"id\":\"9b256635-3d5f-49d9-a3c3-605539e34ae6\",\"subtype\":\"Figure\",\"type\":\"Plot\"},\"ticker\":{\"id\":\"ad3e019d-39f4-468c-947e-51b5260890b6\",\"type\":\"BasicTicker\"}},\"id\":\"2cac5264-35ed-4901-95f5-38f751f902c6\",\"type\":\"LinearAxis\"},{\"attributes\":{},\"id\":\"c264c377-934b-49e2-b1de-050092c2904d\",\"type\":\"BasicTickFormatter\"},{\"attributes\":{},\"id\":\"f41665b3-f0a2-41fb-bb77-63ba5fa81f47\",\"type\":\"BasicTickFormatter\"},{\"attributes\":{},\"id\":\"ad3e019d-39f4-468c-947e-51b5260890b6\",\"type\":\"BasicTicker\"},{\"attributes\":{\"axis_label\":\"Most important words\",\"axis_label_text_font_size\":{\"value\":\"16px\"},\"formatter\":{\"id\":\"1fac4876-7970-4379-b960-fb84a175edcf\",\"type\":\"BasicTickFormatter\"},\"plot\":{\"id\":\"9b256635-3d5f-49d9-a3c3-605539e34ae6\",\"subtype\":\"Figure\",\"type\":\"Plot\"},\"ticker\":{\"id\":\"54c0680a-f2ff-40c9-88b2-c01c73671b91\",\"type\":\"BasicTicker\"}},\"id\":\"9f8ec360-ca31-44b4-92a8-dd7625aac5bb\",\"type\":\"LinearAxis\"},{\"attributes\":{},\"id\":\"9cba55f6-2e1a-4ecf-9a56-660e334adf71\",\"type\":\"BasicTickFormatter\"},{\"attributes\":{},\"id\":\"5b372e4f-234f-4e7e-ad49-3eb43a1043ad\",\"type\":\"BasicTickFormatter\"},{\"attributes\":{},\"id\":\"54c0680a-f2ff-40c9-88b2-c01c73671b91\",\"type\":\"BasicTicker\"},{\"attributes\":{\"dimension\":1,\"plot\":{\"id\":\"9b256635-3d5f-49d9-a3c3-605539e34ae6\",\"subtype\":\"Figure\",\"type\":\"Plot\"},\"ticker\":{\"id\":\"54c0680a-f2ff-40c9-88b2-c01c73671b91\",\"type\":\"BasicTicker\"}},\"id\":\"4ef3eb85-dca3-4f9f-a82d-5927ca1e3466\",\"type\":\"Grid\"},{\"attributes\":{},\"id\":\"e4ccf008-b464-4c30-87cb-ca681fe9538b\",\"type\":\"BasicTickFormatter\"},{\"attributes\":{},\"id\":\"7a6e653f-037c-4deb-bca7-1610fc6d542d\",\"type\":\"BasicTickFormatter\"},{\"attributes\":{\"callback\":null,\"data\":{\"index\":[0,1,2,3,4,5,6,7,8,9],\"top_scores\":{\"__ndarray__\":\"hCFzs7vdBkDmtqaTXDsHQCpq5rFhmgdAtZgoNkcRCUBKdR8WXSgJQLTaCX+FKglA9VOnkjccDEDYH2zZTlIQQO7oZEpx4BBALJzHLKKYEUA=\",\"dtype\":\"float64\",\"shape\":[10]},\"top_words\":[\"dyer\",\"banks\",\"gordon\",\"food\",\"cancer\",\"medicine\",\"treatment\",\"disease\",\"doctor\",\"medical\"],\"x_label\":[0.2,0.2,0.2,0.2,0.2,0.2,0.2,0.2,0.2,0.2]},\"selected\":{\"id\":\"e7f8d9b3-0129-475b-a0cb-0169631d98ee\",\"type\":\"Selection\"},\"selection_policy\":{\"id\":\"45b94c16-54d6-4453-b5f6-75af48d569b4\",\"type\":\"UnionRenderers\"}},\"id\":\"df3244a0-9a2f-45a4-abd9-526563b467d5\",\"type\":\"ColumnDataSource\"},{\"attributes\":{\"align\":\"center\",\"plot\":null,\"text\":\"Feature Importance for \\\"sci.electronics\\\"\",\"text_font\":\"Helvetica\",\"text_font_size\":{\"value\":\"24px\"},\"text_font_style\":\"italic\"},\"id\":\"dbe7c1c7-1df2-44fd-bafd-51fbfa2e90c9\",\"type\":\"Title\"},{\"attributes\":{},\"id\":\"3646d7d5-3d8f-4f98-9f56-27d2586a3eae\",\"type\":\"BasicTickFormatter\"},{\"attributes\":{},\"id\":\"0e20c9c8-85ae-439c-8868-a79dac5a1948\",\"type\":\"BasicTickFormatter\"},{\"attributes\":{\"fill_alpha\":{\"value\":0.7},\"fill_color\":{\"value\":\"#3399c1\"},\"height\":{\"value\":0.9},\"line_alpha\":{\"value\":0.7},\"line_color\":{\"value\":\"#3399c1\"},\"right\":{\"field\":\"top_scores\"},\"y\":{\"field\":\"index\"}},\"id\":\"be9d3971-0eca-495e-903e-59634542c3c5\",\"type\":\"HBar\"},{\"attributes\":{},\"id\":\"55e010b0-c6f6-4980-8dc5-191fc4707a88\",\"type\":\"BasicTickFormatter\"},{\"attributes\":{\"callback\":null,\"overlay\":{\"id\":\"f995cea1-0265-42e7-857c-5d24d5d5e769\",\"type\":\"BoxAnnotation\"}},\"id\":\"6be6c0c9-96f7-4114-8c6f-c8471edb4514\",\"type\":\"BoxSelectTool\"},{\"attributes\":{\"callback\":null},\"id\":\"8b4c07cc-2f93-4f1b-96cf-306541aadb2d\",\"type\":\"DataRange1d\"},{\"attributes\":{},\"id\":\"57976bdb-75b7-40d6-b515-8fe5d5522c5d\",\"type\":\"BasicTickFormatter\"},{\"attributes\":{},\"id\":\"5c95c883-4116-4329-a6e7-0616087f73ac\",\"type\":\"PanTool\"},{\"attributes\":{},\"id\":\"1fac4876-7970-4379-b960-fb84a175edcf\",\"type\":\"BasicTickFormatter\"},{\"attributes\":{},\"id\":\"bfd913ab-6f0a-474c-9c43-eca9e5c3a038\",\"type\":\"ResetTool\"},{\"attributes\":{},\"id\":\"2d74f19a-7d0b-4a49-9f98-664d4ae7169d\",\"type\":\"BasicTickFormatter\"},{\"attributes\":{},\"id\":\"3adda2b9-30c9-4dac-a115-c9a8f884fb45\",\"type\":\"SaveTool\"},{\"attributes\":{},\"id\":\"2b029390-56cc-40c2-8293-b5a29627fb27\",\"type\":\"BasicTickFormatter\"},{\"attributes\":{\"bottom_units\":\"screen\",\"fill_alpha\":{\"value\":0.5},\"fill_color\":{\"value\":\"lightgrey\"},\"left_units\":\"screen\",\"level\":\"overlay\",\"line_alpha\":{\"value\":1.0},\"line_color\":{\"value\":\"black\"},\"line_dash\":[4,4],\"line_width\":{\"value\":2},\"plot\":null,\"render_mode\":\"css\",\"right_units\":\"screen\",\"top_units\":\"screen\"},\"id\":\"f995cea1-0265-42e7-857c-5d24d5d5e769\",\"type\":\"BoxAnnotation\"},{\"attributes\":{},\"id\":\"28204421-d4be-409c-8b14-7841f402358c\",\"type\":\"BasicTickFormatter\"},{\"attributes\":{\"data_source\":{\"id\":\"1554619f-4c21-4454-b59d-4707b779cff3\",\"type\":\"ColumnDataSource\"},\"glyph\":{\"id\":\"be9d3971-0eca-495e-903e-59634542c3c5\",\"type\":\"HBar\"},\"hover_glyph\":null,\"muted_glyph\":null,\"nonselection_glyph\":{\"id\":\"14a72090-44d4-4089-90a3-48cfc63e1741\",\"type\":\"HBar\"},\"selection_glyph\":null,\"view\":{\"id\":\"bac9dbf6-4e63-4560-8873-351b387c42bc\",\"type\":\"CDSView\"}},\"id\":\"1397c018-0288-4d19-8fa7-7b928ee8405e\",\"type\":\"GlyphRenderer\"},{\"attributes\":{},\"id\":\"73cdd367-e696-4daf-a841-b8f6333a2fa3\",\"type\":\"BasicTickFormatter\"},{\"attributes\":{\"callback\":null,\"renderers\":\"auto\",\"tooltips\":[[\"Importance\",\"@top_scores\"]]},\"id\":\"8ea189e5-e8a5-4313-87c3-c22848ca01d1\",\"type\":\"HoverTool\"},{\"attributes\":{},\"id\":\"9aa2f070-85bb-4104-b304-5d6615ae93b2\",\"type\":\"BasicTickFormatter\"},{\"attributes\":{\"level\":\"glyph\",\"plot\":{\"id\":\"9b256635-3d5f-49d9-a3c3-605539e34ae6\",\"subtype\":\"Figure\",\"type\":\"Plot\"},\"source\":{\"id\":\"1554619f-4c21-4454-b59d-4707b779cff3\",\"type\":\"ColumnDataSource\"},\"text\":{\"field\":\"top_words\"},\"text_color\":{\"value\":\"black\"},\"text_font_size\":{\"value\":\"16px\"},\"x\":{\"field\":\"x_label\"},\"y\":{\"field\":\"index\"},\"y_offset\":{\"value\":-8}},\"id\":\"b254d8f8-dcb7-4dd7-955c-0b7f2eb1d3fb\",\"type\":\"LabelSet\"},{\"attributes\":{},\"id\":\"115b79d3-2a16-495b-968b-c6b5b97111c7\",\"type\":\"BasicTickFormatter\"},{\"attributes\":{\"background_fill_alpha\":{\"value\":0.05},\"background_fill_color\":{\"value\":\"#859dcd\"},\"below\":[{\"id\":\"62f4f75f-6e8f-4377-97db-1fa085a47100\",\"type\":\"LinearAxis\"}],\"left\":[{\"id\":\"70d78635-1dec-4de7-a7c6-03e0fbfc846a\",\"type\":\"LinearAxis\"}],\"plot_width\":800,\"renderers\":[{\"id\":\"62f4f75f-6e8f-4377-97db-1fa085a47100\",\"type\":\"LinearAxis\"},{\"id\":\"1960e3fe-b227-45b1-a82a-322842d314f7\",\"type\":\"Grid\"},{\"id\":\"70d78635-1dec-4de7-a7c6-03e0fbfc846a\",\"type\":\"LinearAxis\"},{\"id\":\"467eab19-aecd-4862-a81b-f813a8d102df\",\"type\":\"Grid\"},{\"id\":\"79e63e53-1d51-4308-8a19-8ff18f78beae\",\"type\":\"BoxAnnotation\"},{\"id\":\"fa995300-9953-4b30-91e6-096c26052b0d\",\"type\":\"GlyphRenderer\"},{\"id\":\"933ca8fe-e7ed-4cec-897b-c0937eceb3cc\",\"type\":\"LabelSet\"}],\"title\":{\"id\":\"114ad455-0745-4691-ae3b-9130c7da2468\",\"type\":\"Title\"},\"toolbar\":{\"id\":\"5820dd1a-8fa7-41cf-af2c-5172dd0a0631\",\"type\":\"Toolbar\"},\"x_range\":{\"id\":\"f6f059aa-abc6-4083-8918-de17f7abab54\",\"type\":\"DataRange1d\"},\"x_scale\":{\"id\":\"97f0c36a-63e3-4d99-a1fc-4b392d6f09c1\",\"type\":\"LinearScale\"},\"y_range\":{\"id\":\"8b4c07cc-2f93-4f1b-96cf-306541aadb2d\",\"type\":\"DataRange1d\"},\"y_scale\":{\"id\":\"ea0ca0d3-c842-4486-8b61-ad98974af5db\",\"type\":\"LinearScale\"}},\"id\":\"bd6de9f2-ece5-4f96-8925-11ccae6089b3\",\"subtype\":\"Figure\",\"type\":\"Plot\"},{\"attributes\":{},\"id\":\"3e6f12b0-9539-47c3-a7f6-5d5b4a24b2a9\",\"type\":\"BasicTickFormatter\"},{\"attributes\":{},\"id\":\"97f0c36a-63e3-4d99-a1fc-4b392d6f09c1\",\"type\":\"LinearScale\"},{\"attributes\":{},\"id\":\"1b049d38-b7c7-4cd7-b671-59a34143550d\",\"type\":\"BasicTickFormatter\"},{\"attributes\":{},\"id\":\"ea0ca0d3-c842-4486-8b61-ad98974af5db\",\"type\":\"LinearScale\"},{\"attributes\":{},\"id\":\"23797468-02d3-4977-b99d-5806a4657359\",\"type\":\"BasicTickFormatter\"},{\"attributes\":{\"grid_line_color\":{\"value\":null},\"plot\":{\"id\":\"bd6de9f2-ece5-4f96-8925-11ccae6089b3\",\"subtype\":\"Figure\",\"type\":\"Plot\"},\"ticker\":{\"id\":\"e37125ff-d987-4b60-8b6b-abd2c1947b89\",\"type\":\"BasicTicker\"}},\"id\":\"1960e3fe-b227-45b1-a82a-322842d314f7\",\"type\":\"Grid\"},{\"attributes\":{},\"id\":\"aea7c0ce-83f1-4cfa-a08b-aecb1b21cca2\",\"type\":\"BasicTickFormatter\"},{\"attributes\":{\"axis_label\":\"Importance\",\"axis_label_text_font_size\":{\"value\":\"16px\"},\"formatter\":{\"id\":\"28204421-d4be-409c-8b14-7841f402358c\",\"type\":\"BasicTickFormatter\"},\"plot\":{\"id\":\"bd6de9f2-ece5-4f96-8925-11ccae6089b3\",\"subtype\":\"Figure\",\"type\":\"Plot\"},\"ticker\":{\"id\":\"e37125ff-d987-4b60-8b6b-abd2c1947b89\",\"type\":\"BasicTicker\"}},\"id\":\"62f4f75f-6e8f-4377-97db-1fa085a47100\",\"type\":\"LinearAxis\"},{\"attributes\":{},\"id\":\"42f2e1f6-0f99-4674-a10e-be502559258a\",\"type\":\"BasicTickFormatter\"},{\"attributes\":{},\"id\":\"e37125ff-d987-4b60-8b6b-abd2c1947b89\",\"type\":\"BasicTicker\"},{\"attributes\":{},\"id\":\"4704ed7d-98d9-48f4-a816-5ceeb4930db5\",\"type\":\"BasicTickFormatter\"},{\"attributes\":{},\"id\":\"c08091ab-d0b0-4d0f-84fd-d2717895d70b\",\"type\":\"BasicTickFormatter\"},{\"attributes\":{},\"id\":\"853d4309-fef3-4a18-9cec-4bfec8b3dfad\",\"type\":\"BasicTickFormatter\"},{\"attributes\":{},\"id\":\"3aa48043-353f-4087-901d-9f82a8f35fb7\",\"type\":\"BasicTickFormatter\"},{\"attributes\":{},\"id\":\"df9c0a63-8a6b-4fe5-b2c4-96b43c563e60\",\"type\":\"Selection\"},{\"attributes\":{},\"id\":\"c887ac7d-ee54-4450-a104-e3bee637fe7c\",\"type\":\"UnionRenderers\"},{\"attributes\":{},\"id\":\"6f8bbc23-f0e0-4837-9f0e-fbec9b770943\",\"type\":\"Selection\"},{\"attributes\":{},\"id\":\"b4b25184-2358-4951-954b-7f4ae6b16b1d\",\"type\":\"Selection\"},{\"attributes\":{},\"id\":\"bfd37ca8-da2e-4aa3-9929-ae3b8c96c2e0\",\"type\":\"UnionRenderers\"},{\"attributes\":{},\"id\":\"4a1708ef-bd22-4dde-8e2b-fdac48541d34\",\"type\":\"Selection\"},{\"attributes\":{},\"id\":\"53b79abf-d5b2-42fc-a13e-b14ddcadfd46\",\"type\":\"UnionRenderers\"},{\"attributes\":{},\"id\":\"a5aaaf3b-1e16-4be8-839f-fbf8b37cce5d\",\"type\":\"Selection\"},{\"attributes\":{},\"id\":\"ed9a9c08-7fc6-4073-8b51-a89154b82c9b\",\"type\":\"UnionRenderers\"},{\"attributes\":{},\"id\":\"045f6f20-740c-4278-a09d-42e156602ffb\",\"type\":\"Selection\"},{\"attributes\":{},\"id\":\"9cd52497-8a8d-4b99-8ac1-b5cc3be56879\",\"type\":\"UnionRenderers\"},{\"attributes\":{},\"id\":\"515f89b6-175b-45eb-a7b9-f4049e467d25\",\"type\":\"Selection\"},{\"attributes\":{},\"id\":\"f376e65a-d9b2-455c-baf2-87ec747f56c3\",\"type\":\"UnionRenderers\"},{\"attributes\":{},\"id\":\"3df29c38-fcfd-49f0-b224-f2fe8b6360a2\",\"type\":\"UnionRenderers\"},{\"attributes\":{},\"id\":\"2fd73fe3-e2da-4be4-9d3b-4062f0bab295\",\"type\":\"Selection\"},{\"attributes\":{},\"id\":\"20ae1b50-e23f-494f-b142-479e987b3edf\",\"type\":\"UnionRenderers\"},{\"attributes\":{},\"id\":\"6a36ba4f-a3d4-4032-87d5-0e6e61d0c1c3\",\"type\":\"Selection\"},{\"attributes\":{},\"id\":\"8fb3c721-37ed-427c-b8bf-ed60704bdb9e\",\"type\":\"UnionRenderers\"},{\"attributes\":{},\"id\":\"e674da88-ad53-49aa-9dcc-c5fda4fcce01\",\"type\":\"Selection\"},{\"attributes\":{},\"id\":\"897e3f1a-9fb5-4a98-a040-a3d3664f11f8\",\"type\":\"UnionRenderers\"},{\"attributes\":{\"grid_line_color\":{\"value\":null},\"plot\":{\"id\":\"e72b79bc-cc7d-4b4a-aae6-1427193e291b\",\"subtype\":\"Figure\",\"type\":\"Plot\"},\"ticker\":{\"id\":\"758a517d-862b-4f7c-a760-4e604d35e93e\",\"type\":\"BasicTicker\"}},\"id\":\"f185f877-de33-4e83-956f-f4bc56fd6100\",\"type\":\"Grid\"},{\"attributes\":{},\"id\":\"7fa02592-0383-4337-a702-cdf6bed65d8b\",\"type\":\"Selection\"},{\"attributes\":{},\"id\":\"94b507b2-606c-472f-b392-7c1790b11a12\",\"type\":\"UnionRenderers\"},{\"attributes\":{},\"id\":\"fce3b390-add3-4abb-8333-cc29244c6333\",\"type\":\"Selection\"},{\"attributes\":{},\"id\":\"81ba8576-d0f3-4037-aa0e-ce50757750ab\",\"type\":\"UnionRenderers\"},{\"attributes\":{},\"id\":\"e751905d-9c58-4174-b36c-8d2841e98a57\",\"type\":\"Selection\"},{\"attributes\":{},\"id\":\"1a9162f7-a083-45df-b97b-9b6bdffb2513\",\"type\":\"UnionRenderers\"},{\"attributes\":{},\"id\":\"e7f8d9b3-0129-475b-a0cb-0169631d98ee\",\"type\":\"Selection\"},{\"attributes\":{},\"id\":\"45b94c16-54d6-4453-b5f6-75af48d569b4\",\"type\":\"UnionRenderers\"},{\"attributes\":{},\"id\":\"e5c11771-ac3a-482d-9ea8-d4db4c30c888\",\"type\":\"Selection\"},{\"attributes\":{},\"id\":\"5f07fb67-7755-47a1-8679-2c97f3f0bb93\",\"type\":\"UnionRenderers\"},{\"attributes\":{},\"id\":\"49200155-7c08-4f5f-ba1c-65dac16a095f\",\"type\":\"Selection\"},{\"attributes\":{},\"id\":\"6c343908-ad43-4d5e-99ee-584c6291ec31\",\"type\":\"UnionRenderers\"},{\"attributes\":{},\"id\":\"4d3b0652-3665-484f-9d44-4075dfa6a46c\",\"type\":\"Selection\"},{\"attributes\":{},\"id\":\"99126219-dafb-4057-a77d-763698c0cfac\",\"type\":\"UnionRenderers\"},{\"attributes\":{},\"id\":\"5ec5c626-2136-47e6-a6b7-88be5ed80aba\",\"type\":\"Selection\"},{\"attributes\":{},\"id\":\"01d84c43-0f9f-46d2-a092-85f4402b7c05\",\"type\":\"UnionRenderers\"},{\"attributes\":{},\"id\":\"5b29de58-f561-4edd-b2a1-7928f2409597\",\"type\":\"Selection\"},{\"attributes\":{},\"id\":\"39cdad73-6329-4594-888b-4605838e1560\",\"type\":\"UnionRenderers\"},{\"attributes\":{},\"id\":\"5efb0e68-bf46-47ca-95a3-9cde62fabda6\",\"type\":\"Selection\"},{\"attributes\":{},\"id\":\"5edc92ff-2613-4f16-82a7-56001cf6f041\",\"type\":\"UnionRenderers\"},{\"attributes\":{\"callback\":null,\"data\":{\"index\":[0,1,2,3,4,5,6,7,8,9],\"top_scores\":{\"__ndarray__\":\"1o0UrT03BUAfGkFb8cMFQFUYtWQbDQpAqOZJMBiiC0BDK+/ytvMOQOpddHJhpRBA0LMy4pmuEEB6IkqfuNwWQI/xQvdiDhdAOyaY23G3H0A=\",\"dtype\":\"float64\",\"shape\":[10]},\"top_words\":[\"email\",\"price\",\"forsale\",\"condition\",\"interested\",\"asking\",\"sell\",\"shipping\",\"offer\",\"sale\"],\"x_label\":[0.2,0.2,0.2,0.2,0.2,0.2,0.2,0.2,0.2,0.2]},\"selected\":{\"id\":\"515f89b6-175b-45eb-a7b9-f4049e467d25\",\"type\":\"Selection\"},\"selection_policy\":{\"id\":\"f376e65a-d9b2-455c-baf2-87ec747f56c3\",\"type\":\"UnionRenderers\"}},\"id\":\"920da06f-b7b1-4831-8d2c-97aee8d20005\",\"type\":\"ColumnDataSource\"},{\"attributes\":{\"grid_line_color\":{\"value\":null},\"plot\":{\"id\":\"74fc9244-0210-4db4-9eba-50c6a3174029\",\"subtype\":\"Figure\",\"type\":\"Plot\"},\"ticker\":{\"id\":\"2ea99ee1-a8ff-44c1-8281-ce25ff1d077b\",\"type\":\"BasicTicker\"}},\"id\":\"8c30884a-b576-471e-af68-3d9be4fb15cd\",\"type\":\"Grid\"},{\"attributes\":{\"active_drag\":\"auto\",\"active_inspect\":\"auto\",\"active_multi\":null,\"active_scroll\":\"auto\",\"active_tap\":\"auto\",\"tools\":[{\"id\":\"f2742d45-0404-40f5-b8d8-cd0a091ad535\",\"type\":\"BoxSelectTool\"},{\"id\":\"25371fea-af46-43a3-9b9d-4f83340c229d\",\"type\":\"PanTool\"},{\"id\":\"754e3d3c-f6c7-4e72-b160-6549026332a4\",\"type\":\"ResetTool\"},{\"id\":\"d72d3c9f-3435-47e4-9615-d1ee463361b1\",\"type\":\"SaveTool\"},{\"id\":\"35dad702-feea-4433-8b72-1519e94ab41a\",\"type\":\"HoverTool\"}]},\"id\":\"391e2d28-993d-42da-813d-aaaa03c601ae\",\"type\":\"Toolbar\"},{\"attributes\":{},\"id\":\"2ea99ee1-a8ff-44c1-8281-ce25ff1d077b\",\"type\":\"BasicTicker\"},{\"attributes\":{\"axis_label\":\"Most important words\",\"axis_label_text_font_size\":{\"value\":\"16px\"},\"formatter\":{\"id\":\"d3408d65-fe96-41e5-aea3-9d5d44410400\",\"type\":\"BasicTickFormatter\"},\"plot\":{\"id\":\"74fc9244-0210-4db4-9eba-50c6a3174029\",\"subtype\":\"Figure\",\"type\":\"Plot\"},\"ticker\":{\"id\":\"27a465c7-bea6-4b0e-9cbe-e8c349d42333\",\"type\":\"BasicTicker\"}},\"id\":\"766dbec1-8172-4308-a839-60e3187dc353\",\"type\":\"LinearAxis\"},{\"attributes\":{\"callback\":null},\"id\":\"af2a576f-ca37-4922-8aba-30276f4bda26\",\"type\":\"DataRange1d\"},{\"attributes\":{},\"id\":\"c9dd92a8-d168-4197-96bf-bdc82f1f29a1\",\"type\":\"BasicTickFormatter\"},{\"attributes\":{},\"id\":\"27a465c7-bea6-4b0e-9cbe-e8c349d42333\",\"type\":\"BasicTicker\"},{\"attributes\":{\"dimension\":1,\"plot\":{\"id\":\"74fc9244-0210-4db4-9eba-50c6a3174029\",\"subtype\":\"Figure\",\"type\":\"Plot\"},\"ticker\":{\"id\":\"27a465c7-bea6-4b0e-9cbe-e8c349d42333\",\"type\":\"BasicTicker\"}},\"id\":\"7b7ff8cd-1173-4ab7-98f0-91af6657341b\",\"type\":\"Grid\"},{\"attributes\":{\"callback\":null},\"id\":\"5b115b93-7188-4ed8-8fa6-eace1567a541\",\"type\":\"DataRange1d\"},{\"attributes\":{},\"id\":\"2240034e-c53c-4096-8604-565333f82815\",\"type\":\"LinearScale\"},{\"attributes\":{\"grid_line_color\":{\"value\":null},\"plot\":{\"id\":\"ecf288de-d061-43b6-9f96-990e5b7874bc\",\"subtype\":\"Figure\",\"type\":\"Plot\"},\"ticker\":{\"id\":\"700dcea2-dd66-4e47-ab59-884f44c91c5c\",\"type\":\"BasicTicker\"}},\"id\":\"76b35bdb-4b43-439d-b3c3-a5577fbac78b\",\"type\":\"Grid\"},{\"attributes\":{},\"id\":\"2a0d11ee-65ef-41b4-8e8f-30c5a6d5b3b1\",\"type\":\"LinearScale\"},{\"attributes\":{\"grid_line_color\":{\"value\":null},\"plot\":{\"id\":\"86761e61-960e-447e-9065-1a31c6331825\",\"subtype\":\"Figure\",\"type\":\"Plot\"},\"ticker\":{\"id\":\"26ad5bcc-62fd-4ded-8e2b-a28dc35faaa8\",\"type\":\"BasicTicker\"}},\"id\":\"f3c4d1b3-e60c-4409-9bc9-bd637e14a278\",\"type\":\"Grid\"},{\"attributes\":{\"fill_alpha\":{\"value\":0.7},\"fill_color\":{\"value\":\"#3399c1\"},\"height\":{\"value\":0.9},\"line_alpha\":{\"value\":0.7},\"line_color\":{\"value\":\"#3399c1\"},\"right\":{\"field\":\"top_scores\"},\"y\":{\"field\":\"index\"}},\"id\":\"2cfbc189-c5c0-4960-b91d-57e6edb9024a\",\"type\":\"HBar\"},{\"attributes\":{\"axis_label\":\"Importance\",\"axis_label_text_font_size\":{\"value\":\"16px\"},\"formatter\":{\"id\":\"23797468-02d3-4977-b99d-5806a4657359\",\"type\":\"BasicTickFormatter\"},\"plot\":{\"id\":\"86761e61-960e-447e-9065-1a31c6331825\",\"subtype\":\"Figure\",\"type\":\"Plot\"},\"ticker\":{\"id\":\"26ad5bcc-62fd-4ded-8e2b-a28dc35faaa8\",\"type\":\"BasicTicker\"}},\"id\":\"fcd63474-658a-459f-89da-ea4abf49fc4b\",\"type\":\"LinearAxis\"},{\"attributes\":{\"callback\":null,\"overlay\":{\"id\":\"525c620a-2f52-44a8-9c24-48b9fc791670\",\"type\":\"BoxAnnotation\"}},\"id\":\"5ffadbce-138e-438a-8809-c42e95bbb82e\",\"type\":\"BoxSelectTool\"},{\"attributes\":{\"background_fill_alpha\":{\"value\":0.05},\"background_fill_color\":{\"value\":\"#859dcd\"},\"below\":[{\"id\":\"2a8874b9-9447-45e0-82fd-be1b13bdf153\",\"type\":\"LinearAxis\"}],\"left\":[{\"id\":\"c4558b76-18c9-4ec9-a223-6efb8522c47c\",\"type\":\"LinearAxis\"}],\"plot_width\":800,\"renderers\":[{\"id\":\"2a8874b9-9447-45e0-82fd-be1b13bdf153\",\"type\":\"LinearAxis\"},{\"id\":\"9eca0c41-4fb0-49a0-8645-423639c20834\",\"type\":\"Grid\"},{\"id\":\"c4558b76-18c9-4ec9-a223-6efb8522c47c\",\"type\":\"LinearAxis\"},{\"id\":\"ed766204-57eb-4e0d-8238-53468259ca04\",\"type\":\"Grid\"},{\"id\":\"2b6e4b57-3347-4379-ad89-805ba9352bee\",\"type\":\"BoxAnnotation\"},{\"id\":\"6901eff8-9dba-4de4-8de6-e265fd89fd4d\",\"type\":\"GlyphRenderer\"},{\"id\":\"9201848c-1b3d-4cc8-aa68-da3a1e652d17\",\"type\":\"LabelSet\"}],\"title\":{\"id\":\"ab55b837-f37c-40d7-ba05-cd2409ac8c71\",\"type\":\"Title\"},\"toolbar\":{\"id\":\"b57f7686-0fca-4983-aa34-7fcf11959efd\",\"type\":\"Toolbar\"},\"x_range\":{\"id\":\"3093e520-48f3-4e0d-9c8a-7d085d9098ae\",\"type\":\"DataRange1d\"},\"x_scale\":{\"id\":\"4ffff98e-63c2-40eb-b15f-137a41ad5f65\",\"type\":\"LinearScale\"},\"y_range\":{\"id\":\"029e8c84-23d5-4218-a117-221b3510fb19\",\"type\":\"DataRange1d\"},\"y_scale\":{\"id\":\"8cd3dd07-2cbb-4c05-860c-c1b7aa054006\",\"type\":\"LinearScale\"}},\"id\":\"b8146fa2-047c-4e12-a0ba-0ae741976559\",\"subtype\":\"Figure\",\"type\":\"Plot\"},{\"attributes\":{},\"id\":\"26ad5bcc-62fd-4ded-8e2b-a28dc35faaa8\",\"type\":\"BasicTicker\"},{\"attributes\":{\"axis_label\":\"Most important words\",\"axis_label_text_font_size\":{\"value\":\"16px\"},\"formatter\":{\"id\":\"1b049d38-b7c7-4cd7-b671-59a34143550d\",\"type\":\"BasicTickFormatter\"},\"plot\":{\"id\":\"86761e61-960e-447e-9065-1a31c6331825\",\"subtype\":\"Figure\",\"type\":\"Plot\"},\"ticker\":{\"id\":\"2465db7f-f2f0-4aa0-bdbc-8dbcee0506ef\",\"type\":\"BasicTicker\"}},\"id\":\"66b3ecb6-c160-4cd3-8d5b-128e13d0235b\",\"type\":\"LinearAxis\"},{\"attributes\":{},\"id\":\"87372a56-8b2d-4593-897f-1e67baf91404\",\"type\":\"BasicTicker\"},{\"attributes\":{},\"id\":\"04e94534-2553-4c80-8df1-08f1cd13042d\",\"type\":\"PanTool\"},{\"attributes\":{},\"id\":\"948db724-14ae-4cd8-bfab-0e913be9c482\",\"type\":\"ResetTool\"},{\"attributes\":{},\"id\":\"2465db7f-f2f0-4aa0-bdbc-8dbcee0506ef\",\"type\":\"BasicTicker\"},{\"attributes\":{\"dimension\":1,\"plot\":{\"id\":\"86761e61-960e-447e-9065-1a31c6331825\",\"subtype\":\"Figure\",\"type\":\"Plot\"},\"ticker\":{\"id\":\"2465db7f-f2f0-4aa0-bdbc-8dbcee0506ef\",\"type\":\"BasicTicker\"}},\"id\":\"ba755e52-3183-4c10-8eb5-29b73224ca0c\",\"type\":\"Grid\"},{\"attributes\":{},\"id\":\"004f1fae-cfb4-42f3-a0c8-699f9ef4cf54\",\"type\":\"SaveTool\"},{\"attributes\":{},\"id\":\"de782dff-6efe-48c1-93f1-2dfa33069d4e\",\"type\":\"LinearScale\"},{\"attributes\":{\"bottom_units\":\"screen\",\"fill_alpha\":{\"value\":0.5},\"fill_color\":{\"value\":\"lightgrey\"},\"left_units\":\"screen\",\"level\":\"overlay\",\"line_alpha\":{\"value\":1.0},\"line_color\":{\"value\":\"black\"},\"line_dash\":[4,4],\"line_width\":{\"value\":2},\"plot\":null,\"render_mode\":\"css\",\"right_units\":\"screen\",\"top_units\":\"screen\"},\"id\":\"525c620a-2f52-44a8-9c24-48b9fc791670\",\"type\":\"BoxAnnotation\"},{\"attributes\":{\"callback\":null,\"data\":{\"index\":[0,1,2,3,4,5,6,7,8,9],\"top_scores\":{\"__ndarray__\":\"oSefz3fOCECOJgHOmWsKQBiZSLipMgtAW/bGb+l2C0AIKLdHlzQMQDXt/txChBFAa/G8ABqeEUA/0o6aUugTQIddoS8nChdAsL/laI4JHEA=\",\"dtype\":\"float64\",\"shape\":[10]},\"top_words\":[\"arabs\",\"muslims\",\"armenians\",\"armenian\",\"jewish\",\"turkish\",\"arab\",\"jews\",\"israeli\",\"israel\"],\"x_label\":[0.2,0.2,0.2,0.2,0.2,0.2,0.2,0.2,0.2,0.2]},\"selected\":{\"id\":\"5ec5c626-2136-47e6-a6b7-88be5ed80aba\",\"type\":\"Selection\"},\"selection_policy\":{\"id\":\"01d84c43-0f9f-46d2-a092-85f4402b7c05\",\"type\":\"UnionRenderers\"}},\"id\":\"27ba853b-6fc5-468f-a16f-06072094389e\",\"type\":\"ColumnDataSource\"},{\"attributes\":{\"callback\":null},\"id\":\"388565a3-b878-4b11-883c-2f6c96d9f795\",\"type\":\"DataRange1d\"},{\"attributes\":{\"align\":\"center\",\"plot\":null,\"text\":\"Feature Importance for \\\"talk.politics.guns\\\"\",\"text_font\":\"Helvetica\",\"text_font_size\":{\"value\":\"24px\"},\"text_font_style\":\"italic\"},\"id\":\"f1cf9090-8d45-422b-9554-0777a38e785d\",\"type\":\"Title\"},{\"attributes\":{},\"id\":\"700dcea2-dd66-4e47-ab59-884f44c91c5c\",\"type\":\"BasicTicker\"},{\"attributes\":{},\"id\":\"461ac88d-a208-4286-8733-af450cbde3a9\",\"type\":\"BasicTicker\"},{\"attributes\":{\"fill_alpha\":{\"value\":0.7},\"fill_color\":{\"value\":\"#3399c1\"},\"height\":{\"value\":0.9},\"line_alpha\":{\"value\":0.7},\"line_color\":{\"value\":\"#3399c1\"},\"right\":{\"field\":\"top_scores\"},\"y\":{\"field\":\"index\"}},\"id\":\"4575caea-bbf0-453b-a8a0-2ac7919e8a15\",\"type\":\"HBar\"},{\"attributes\":{\"axis_label\":\"Most important words\",\"axis_label_text_font_size\":{\"value\":\"16px\"},\"formatter\":{\"id\":\"c264c377-934b-49e2-b1de-050092c2904d\",\"type\":\"BasicTickFormatter\"},\"plot\":{\"id\":\"ecf288de-d061-43b6-9f96-990e5b7874bc\",\"subtype\":\"Figure\",\"type\":\"Plot\"},\"ticker\":{\"id\":\"461ac88d-a208-4286-8733-af450cbde3a9\",\"type\":\"BasicTicker\"}},\"id\":\"3baa4115-7863-4e6d-a785-467a97647b4d\",\"type\":\"LinearAxis\"},{\"attributes\":{\"callback\":null,\"overlay\":{\"id\":\"2f383efb-a81f-4907-820f-35f8c8f91534\",\"type\":\"BoxAnnotation\"}},\"id\":\"f2742d45-0404-40f5-b8d8-cd0a091ad535\",\"type\":\"BoxSelectTool\"},{\"attributes\":{\"background_fill_alpha\":{\"value\":0.05},\"background_fill_color\":{\"value\":\"#859dcd\"},\"below\":[{\"id\":\"8d750bb0-31fe-454c-9bd9-71083a16bd78\",\"type\":\"LinearAxis\"}],\"left\":[{\"id\":\"46151643-637a-40d6-a779-63c1b23c4ad6\",\"type\":\"LinearAxis\"}],\"plot_width\":800,\"renderers\":[{\"id\":\"8d750bb0-31fe-454c-9bd9-71083a16bd78\",\"type\":\"LinearAxis\"},{\"id\":\"9eb1bf79-3900-4010-8e6e-984c54a3b513\",\"type\":\"Grid\"},{\"id\":\"46151643-637a-40d6-a779-63c1b23c4ad6\",\"type\":\"LinearAxis\"},{\"id\":\"4dcb04bb-3b2d-4e4a-9175-bf4988445dfb\",\"type\":\"Grid\"},{\"id\":\"a5cc3ca5-abec-4d22-94b5-14e518aaa389\",\"type\":\"BoxAnnotation\"},{\"id\":\"b2ddffbc-c633-402c-9057-71048cccdc1e\",\"type\":\"GlyphRenderer\"},{\"id\":\"b18dbf61-5c34-472d-bbf5-fbb65accd550\",\"type\":\"LabelSet\"}],\"title\":{\"id\":\"cbeb4b03-b850-4364-a888-daa5ec9d57e7\",\"type\":\"Title\"},\"toolbar\":{\"id\":\"52f9e093-b6cd-419d-a6f3-7338667f43db\",\"type\":\"Toolbar\"},\"x_range\":{\"id\":\"fdf768ac-056e-47df-be07-eb98139a1e86\",\"type\":\"DataRange1d\"},\"x_scale\":{\"id\":\"cd7475aa-5bf7-4bdb-95f2-fe31a3bfaf97\",\"type\":\"LinearScale\"},\"y_range\":{\"id\":\"838c4a38-225f-404b-bf1e-edbbbd10dad0\",\"type\":\"DataRange1d\"},\"y_scale\":{\"id\":\"17610961-13d6-4b15-97d2-3fb9d6e7fef5\",\"type\":\"LinearScale\"}},\"id\":\"318816b8-9105-4e3e-8c81-20ab57f82c96\",\"subtype\":\"Figure\",\"type\":\"Plot\"},{\"attributes\":{\"fill_alpha\":{\"value\":0.1},\"fill_color\":{\"value\":\"#1f77b4\"},\"height\":{\"value\":0.9},\"line_alpha\":{\"value\":0.1},\"line_color\":{\"value\":\"#1f77b4\"},\"right\":{\"field\":\"top_scores\"},\"y\":{\"field\":\"index\"}},\"id\":\"4abce6f7-853e-476d-bf0a-77f6ae0a81c8\",\"type\":\"HBar\"},{\"attributes\":{\"data_source\":{\"id\":\"ab52d232-8de3-4f58-bc0e-1052c500f0d1\",\"type\":\"ColumnDataSource\"},\"glyph\":{\"id\":\"2cfbc189-c5c0-4960-b91d-57e6edb9024a\",\"type\":\"HBar\"},\"hover_glyph\":null,\"muted_glyph\":null,\"nonselection_glyph\":{\"id\":\"4abce6f7-853e-476d-bf0a-77f6ae0a81c8\",\"type\":\"HBar\"},\"selection_glyph\":null,\"view\":{\"id\":\"6f379ed0-650a-4cb9-86f2-522c0fbbb598\",\"type\":\"CDSView\"}},\"id\":\"6f79cf76-3faf-4fa8-8cdd-fa4c6729e5c6\",\"type\":\"GlyphRenderer\"},{\"attributes\":{},\"id\":\"25371fea-af46-43a3-9b9d-4f83340c229d\",\"type\":\"PanTool\"},{\"attributes\":{\"child\":{\"id\":\"4b3b88e0-2ae8-4269-9f5e-bd3e96084aa4\",\"subtype\":\"Figure\",\"type\":\"Plot\"},\"title\":\"alt.atheism\"},\"id\":\"2f94ac37-1a9c-452b-9643-baca7f804cec\",\"type\":\"Panel\"},{\"attributes\":{\"source\":{\"id\":\"ab52d232-8de3-4f58-bc0e-1052c500f0d1\",\"type\":\"ColumnDataSource\"}},\"id\":\"6f379ed0-650a-4cb9-86f2-522c0fbbb598\",\"type\":\"CDSView\"},{\"attributes\":{},\"id\":\"754e3d3c-f6c7-4e72-b160-6549026332a4\",\"type\":\"ResetTool\"},{\"attributes\":{\"callback\":null,\"renderers\":\"auto\",\"tooltips\":[[\"Importance\",\"@top_scores\"]]},\"id\":\"a56df848-f0d0-4412-8110-e0ef3e9f834c\",\"type\":\"HoverTool\"},{\"attributes\":{},\"id\":\"d72d3c9f-3435-47e4-9615-d1ee463361b1\",\"type\":\"SaveTool\"},{\"attributes\":{\"child\":{\"id\":\"74fc9244-0210-4db4-9eba-50c6a3174029\",\"subtype\":\"Figure\",\"type\":\"Plot\"},\"title\":\"comp.windows.x\"},\"id\":\"0cdb4571-ed85-4ddd-bf26-c8aad8c66864\",\"type\":\"Panel\"},{\"attributes\":{\"bottom_units\":\"screen\",\"fill_alpha\":{\"value\":0.5},\"fill_color\":{\"value\":\"lightgrey\"},\"left_units\":\"screen\",\"level\":\"overlay\",\"line_alpha\":{\"value\":1.0},\"line_color\":{\"value\":\"black\"},\"line_dash\":[4,4],\"line_width\":{\"value\":2},\"plot\":null,\"render_mode\":\"css\",\"right_units\":\"screen\",\"top_units\":\"screen\"},\"id\":\"2f383efb-a81f-4907-820f-35f8c8f91534\",\"type\":\"BoxAnnotation\"},{\"attributes\":{\"background_fill_alpha\":{\"value\":0.05},\"background_fill_color\":{\"value\":\"#859dcd\"},\"below\":[{\"id\":\"225b1982-1e87-47a6-bf89-1ca3085cb1d8\",\"type\":\"LinearAxis\"}],\"left\":[{\"id\":\"bdc4f286-067b-47e9-940b-ddbc6ef16493\",\"type\":\"LinearAxis\"}],\"plot_width\":800,\"renderers\":[{\"id\":\"225b1982-1e87-47a6-bf89-1ca3085cb1d8\",\"type\":\"LinearAxis\"},{\"id\":\"f185f877-de33-4e83-956f-f4bc56fd6100\",\"type\":\"Grid\"},{\"id\":\"bdc4f286-067b-47e9-940b-ddbc6ef16493\",\"type\":\"LinearAxis\"},{\"id\":\"81abc076-25c9-4845-ae66-2bf51c9ad72a\",\"type\":\"Grid\"},{\"id\":\"c31924d6-c081-42ce-a28e-c810365aef19\",\"type\":\"BoxAnnotation\"},{\"id\":\"9d252378-954d-4861-9a45-ed43ab0002c0\",\"type\":\"GlyphRenderer\"},{\"id\":\"398486ba-75b0-430d-b4c8-e3ff28f75c47\",\"type\":\"LabelSet\"}],\"title\":{\"id\":\"c84af265-b35c-46c0-b293-e8b42161e698\",\"type\":\"Title\"},\"toolbar\":{\"id\":\"843a0aba-521d-4ba7-9e65-70329598ef12\",\"type\":\"Toolbar\"},\"x_range\":{\"id\":\"b659b303-8bd7-4eb6-b79a-c611518c9dca\",\"type\":\"DataRange1d\"},\"x_scale\":{\"id\":\"79a40fa4-fadd-441d-a489-dc655a0e95ea\",\"type\":\"LinearScale\"},\"y_range\":{\"id\":\"b6608262-22ed-499d-aa9f-9a2e37b23a24\",\"type\":\"DataRange1d\"},\"y_scale\":{\"id\":\"de782dff-6efe-48c1-93f1-2dfa33069d4e\",\"type\":\"LinearScale\"}},\"id\":\"e72b79bc-cc7d-4b4a-aae6-1427193e291b\",\"subtype\":\"Figure\",\"type\":\"Plot\"},{\"attributes\":{\"fill_alpha\":{\"value\":0.7},\"fill_color\":{\"value\":\"#3399c1\"},\"height\":{\"value\":0.9},\"line_alpha\":{\"value\":0.7},\"line_color\":{\"value\":\"#3399c1\"},\"right\":{\"field\":\"top_scores\"},\"y\":{\"field\":\"index\"}},\"id\":\"ed7571c5-ec0e-4c03-9b7b-4f4a6f40913e\",\"type\":\"HBar\"},{\"attributes\":{\"axis_label\":\"Importance\",\"axis_label_text_font_size\":{\"value\":\"16px\"},\"formatter\":{\"id\":\"565cc20d-89ae-4757-8411-20d5b32be30f\",\"type\":\"BasicTickFormatter\"},\"plot\":{\"id\":\"e72b79bc-cc7d-4b4a-aae6-1427193e291b\",\"subtype\":\"Figure\",\"type\":\"Plot\"},\"ticker\":{\"id\":\"758a517d-862b-4f7c-a760-4e604d35e93e\",\"type\":\"BasicTicker\"}},\"id\":\"225b1982-1e87-47a6-bf89-1ca3085cb1d8\",\"type\":\"LinearAxis\"},{\"attributes\":{\"active_drag\":\"auto\",\"active_inspect\":\"auto\",\"active_multi\":null,\"active_scroll\":\"auto\",\"active_tap\":\"auto\",\"tools\":[{\"id\":\"bcb8f2a2-94f1-4d03-8600-5ac4a57c227e\",\"type\":\"BoxSelectTool\"},{\"id\":\"a8d39b0f-f985-4bbb-8aa1-77cbc38c8a2e\",\"type\":\"PanTool\"},{\"id\":\"7865c9da-abdd-49c5-8698-a9029419d85a\",\"type\":\"ResetTool\"},{\"id\":\"b0f6ed6e-4d71-4394-9cb2-f6182a4199c3\",\"type\":\"SaveTool\"},{\"id\":\"47a36d48-e52e-464b-9e59-78fe078bd00e\",\"type\":\"HoverTool\"}]},\"id\":\"b57f7686-0fca-4983-aa34-7fcf11959efd\",\"type\":\"Toolbar\"},{\"attributes\":{\"fill_alpha\":{\"value\":0.1},\"fill_color\":{\"value\":\"#1f77b4\"},\"height\":{\"value\":0.9},\"line_alpha\":{\"value\":0.1},\"line_color\":{\"value\":\"#1f77b4\"},\"right\":{\"field\":\"top_scores\"},\"y\":{\"field\":\"index\"}},\"id\":\"9338a314-a49e-4dd8-b7a5-a279b01fb413\",\"type\":\"HBar\"},{\"attributes\":{},\"id\":\"79a40fa4-fadd-441d-a489-dc655a0e95ea\",\"type\":\"LinearScale\"},{\"attributes\":{\"callback\":null},\"id\":\"3093e520-48f3-4e0d-9c8a-7d085d9098ae\",\"type\":\"DataRange1d\"},{\"attributes\":{\"level\":\"glyph\",\"plot\":{\"id\":\"3c466503-19c4-4015-992d-75b8ba3cd455\",\"subtype\":\"Figure\",\"type\":\"Plot\"},\"source\":{\"id\":\"12346e58-08ee-44da-9c95-6160f3680152\",\"type\":\"ColumnDataSource\"},\"text\":{\"field\":\"top_words\"},\"text_color\":{\"value\":\"black\"},\"text_font_size\":{\"value\":\"16px\"},\"x\":{\"field\":\"x_label\"},\"y\":{\"field\":\"index\"},\"y_offset\":{\"value\":-8}},\"id\":\"ea3d746f-6d7c-4b44-ac16-bbabe0150473\",\"type\":\"LabelSet\"},{\"attributes\":{\"background_fill_alpha\":{\"value\":0.05},\"background_fill_color\":{\"value\":\"#859dcd\"},\"below\":[{\"id\":\"58da7b88-0cc3-4bb1-a8a4-cd0ad4743204\",\"type\":\"LinearAxis\"}],\"left\":[{\"id\":\"09a7c477-ce6d-4ea1-80f0-21fb1335da7c\",\"type\":\"LinearAxis\"}],\"plot_width\":800,\"renderers\":[{\"id\":\"58da7b88-0cc3-4bb1-a8a4-cd0ad4743204\",\"type\":\"LinearAxis\"},{\"id\":\"7b013188-a3cd-4b6b-91be-c452ca10eed3\",\"type\":\"Grid\"},{\"id\":\"09a7c477-ce6d-4ea1-80f0-21fb1335da7c\",\"type\":\"LinearAxis\"},{\"id\":\"eac3570b-2a4d-4905-af42-e61b63dfbaa2\",\"type\":\"Grid\"},{\"id\":\"4c2c5d4e-33d7-498e-9a6d-d350bf3d7485\",\"type\":\"BoxAnnotation\"},{\"id\":\"d0d32115-02e1-4c79-ae39-ba6bad74862e\",\"type\":\"GlyphRenderer\"},{\"id\":\"c8c016f2-49d6-4007-a308-f01ab09fd0a4\",\"type\":\"LabelSet\"}],\"title\":{\"id\":\"b156fee6-3290-456e-aebf-4b567df342b5\",\"type\":\"Title\"},\"toolbar\":{\"id\":\"c99fec8a-6556-4520-9410-034693ce705e\",\"type\":\"Toolbar\"},\"x_range\":{\"id\":\"8b88f7df-b80c-4078-8d78-1c60ab1b992e\",\"type\":\"DataRange1d\"},\"x_scale\":{\"id\":\"0275053d-73a5-4fde-b4b8-c13e0ed5f5bf\",\"type\":\"LinearScale\"},\"y_range\":{\"id\":\"dc699dbe-7542-4906-9f25-f3cdfe98f153\",\"type\":\"DataRange1d\"},\"y_scale\":{\"id\":\"2d1107bb-fe0d-4ef7-878f-10ab1807063a\",\"type\":\"LinearScale\"}},\"id\":\"018e3d6c-3b2d-4183-8a58-376f2b5be7e9\",\"subtype\":\"Figure\",\"type\":\"Plot\"},{\"attributes\":{\"callback\":null},\"id\":\"b6608262-22ed-499d-aa9f-9a2e37b23a24\",\"type\":\"DataRange1d\"},{\"attributes\":{\"fill_alpha\":{\"value\":0.1},\"fill_color\":{\"value\":\"#1f77b4\"},\"height\":{\"value\":0.9},\"line_alpha\":{\"value\":0.1},\"line_color\":{\"value\":\"#1f77b4\"},\"right\":{\"field\":\"top_scores\"},\"y\":{\"field\":\"index\"}},\"id\":\"81cf3fa4-4af3-46de-a1a1-8e0b62b1faaf\",\"type\":\"HBar\"},{\"attributes\":{\"level\":\"glyph\",\"plot\":{\"id\":\"5a421979-8e24-401e-8fed-c3eaa9171d25\",\"subtype\":\"Figure\",\"type\":\"Plot\"},\"source\":{\"id\":\"dfb38f2e-0947-4a1c-8c27-86868fb0b181\",\"type\":\"ColumnDataSource\"},\"text\":{\"field\":\"top_words\"},\"text_color\":{\"value\":\"black\"},\"text_font_size\":{\"value\":\"16px\"},\"x\":{\"field\":\"x_label\"},\"y\":{\"field\":\"index\"},\"y_offset\":{\"value\":-8}},\"id\":\"afc2c393-c071-4a0f-b1b2-2e07594e1e7f\",\"type\":\"LabelSet\"},{\"attributes\":{\"callback\":null},\"id\":\"029e8c84-23d5-4218-a117-221b3510fb19\",\"type\":\"DataRange1d\"},{\"attributes\":{\"data_source\":{\"id\":\"283f92b4-93e1-409e-b3ca-dc08a5f6a425\",\"type\":\"ColumnDataSource\"},\"glyph\":{\"id\":\"4575caea-bbf0-453b-a8a0-2ac7919e8a15\",\"type\":\"HBar\"},\"hover_glyph\":null,\"muted_glyph\":null,\"nonselection_glyph\":{\"id\":\"81cf3fa4-4af3-46de-a1a1-8e0b62b1faaf\",\"type\":\"HBar\"},\"selection_glyph\":null,\"view\":{\"id\":\"6a9a8192-eec8-412c-afb7-00289b32558f\",\"type\":\"CDSView\"}},\"id\":\"efd08605-5780-495d-b87d-5daa82b27a2c\",\"type\":\"GlyphRenderer\"},{\"attributes\":{},\"id\":\"4ffff98e-63c2-40eb-b15f-137a41ad5f65\",\"type\":\"LinearScale\"},{\"attributes\":{\"source\":{\"id\":\"283f92b4-93e1-409e-b3ca-dc08a5f6a425\",\"type\":\"ColumnDataSource\"}},\"id\":\"6a9a8192-eec8-412c-afb7-00289b32558f\",\"type\":\"CDSView\"},{\"attributes\":{},\"id\":\"8cd3dd07-2cbb-4c05-860c-c1b7aa054006\",\"type\":\"LinearScale\"},{\"attributes\":{\"callback\":null,\"renderers\":\"auto\",\"tooltips\":[[\"Importance\",\"@top_scores\"]]},\"id\":\"35dad702-feea-4433-8b72-1519e94ab41a\",\"type\":\"HoverTool\"},{\"attributes\":{\"child\":{\"id\":\"86761e61-960e-447e-9065-1a31c6331825\",\"subtype\":\"Figure\",\"type\":\"Plot\"},\"title\":\"talk.politics.guns\"},\"id\":\"36d4782b-24fd-4163-b263-dbe56b129e41\",\"type\":\"Panel\"},{\"attributes\":{\"grid_line_color\":{\"value\":null},\"plot\":{\"id\":\"b8146fa2-047c-4e12-a0ba-0ae741976559\",\"subtype\":\"Figure\",\"type\":\"Plot\"},\"ticker\":{\"id\":\"04d9b4d3-c93d-4bc4-9e80-83710765a705\",\"type\":\"BasicTicker\"}},\"id\":\"9eca0c41-4fb0-49a0-8645-423639c20834\",\"type\":\"Grid\"},{\"attributes\":{\"axis_label\":\"Importance\",\"axis_label_text_font_size\":{\"value\":\"16px\"},\"formatter\":{\"id\":\"85a2bf40-dd82-4b97-a9ee-c7448663d9cb\",\"type\":\"BasicTickFormatter\"},\"plot\":{\"id\":\"b8146fa2-047c-4e12-a0ba-0ae741976559\",\"subtype\":\"Figure\",\"type\":\"Plot\"},\"ticker\":{\"id\":\"04d9b4d3-c93d-4bc4-9e80-83710765a705\",\"type\":\"BasicTicker\"}},\"id\":\"2a8874b9-9447-45e0-82fd-be1b13bdf153\",\"type\":\"LinearAxis\"},{\"attributes\":{\"active_drag\":\"auto\",\"active_inspect\":\"auto\",\"active_multi\":null,\"active_scroll\":\"auto\",\"active_tap\":\"auto\",\"tools\":[{\"id\":\"b95e2fff-254c-4bc8-97b9-ea1324376fa4\",\"type\":\"BoxSelectTool\"},{\"id\":\"7b181fc2-eefc-4fad-9713-3449dfee623d\",\"type\":\"PanTool\"},{\"id\":\"b4f214db-2b03-4f2c-b21a-9746df8f8738\",\"type\":\"ResetTool\"},{\"id\":\"b4d03fa2-974d-4f61-be98-64c2a1354fc7\",\"type\":\"SaveTool\"},{\"id\":\"080d94ab-ebaf-4315-961b-4a3b97a20d2f\",\"type\":\"HoverTool\"}]},\"id\":\"52f9e093-b6cd-419d-a6f3-7338667f43db\",\"type\":\"Toolbar\"},{\"attributes\":{},\"id\":\"04d9b4d3-c93d-4bc4-9e80-83710765a705\",\"type\":\"BasicTicker\"},{\"attributes\":{\"callback\":null},\"id\":\"fdf768ac-056e-47df-be07-eb98139a1e86\",\"type\":\"DataRange1d\"},{\"attributes\":{\"callback\":null},\"id\":\"b659b303-8bd7-4eb6-b79a-c611518c9dca\",\"type\":\"DataRange1d\"},{\"attributes\":{\"axis_label\":\"Most important words\",\"axis_label_text_font_size\":{\"value\":\"16px\"},\"formatter\":{\"id\":\"c8a1cecf-eec6-4ecd-909d-6724259f2193\",\"type\":\"BasicTickFormatter\"},\"plot\":{\"id\":\"b8146fa2-047c-4e12-a0ba-0ae741976559\",\"subtype\":\"Figure\",\"type\":\"Plot\"},\"ticker\":{\"id\":\"1a1fbbe7-ff10-49b3-9f7b-f79b95edf8ce\",\"type\":\"BasicTicker\"}},\"id\":\"c4558b76-18c9-4ec9-a223-6efb8522c47c\",\"type\":\"LinearAxis\"},{\"attributes\":{},\"id\":\"bc0026e8-e84f-4d5f-93aa-3010e26e24cc\",\"type\":\"BasicTickFormatter\"},{\"attributes\":{\"active_drag\":\"auto\",\"active_inspect\":\"auto\",\"active_multi\":null,\"active_scroll\":\"auto\",\"active_tap\":\"auto\",\"tools\":[{\"id\":\"84cd402b-605c-4a45-911d-c83abe60d67b\",\"type\":\"BoxSelectTool\"},{\"id\":\"9cb087be-84fe-4c57-a03e-c389f0f052f5\",\"type\":\"PanTool\"},{\"id\":\"49f015c4-02aa-4b38-8a76-ccea22ca6d08\",\"type\":\"ResetTool\"},{\"id\":\"ff9a67d1-557b-47d0-ac86-9b9bbd9e7765\",\"type\":\"SaveTool\"},{\"id\":\"0cd7fdfe-5049-42a4-8425-f989f7c39ed5\",\"type\":\"HoverTool\"}]},\"id\":\"843a0aba-521d-4ba7-9e65-70329598ef12\",\"type\":\"Toolbar\"},{\"attributes\":{},\"id\":\"1a1fbbe7-ff10-49b3-9f7b-f79b95edf8ce\",\"type\":\"BasicTicker\"},{\"attributes\":{\"axis_label\":\"Importance\",\"axis_label_text_font_size\":{\"value\":\"16px\"},\"formatter\":{\"id\":\"35022523-a671-4b09-ab70-67eb646424a8\",\"type\":\"BasicTickFormatter\"},\"plot\":{\"id\":\"1b7819c9-b93e-4d27-8b02-edb2bfa35f36\",\"subtype\":\"Figure\",\"type\":\"Plot\"},\"ticker\":{\"id\":\"c7b5af61-6c09-45c1-b111-70b5740946f0\",\"type\":\"BasicTicker\"}},\"id\":\"775c4e89-8290-4f38-9f8f-9542e09329a7\",\"type\":\"LinearAxis\"},{\"attributes\":{\"dimension\":1,\"plot\":{\"id\":\"b8146fa2-047c-4e12-a0ba-0ae741976559\",\"subtype\":\"Figure\",\"type\":\"Plot\"},\"ticker\":{\"id\":\"1a1fbbe7-ff10-49b3-9f7b-f79b95edf8ce\",\"type\":\"BasicTicker\"}},\"id\":\"ed766204-57eb-4e0d-8238-53468259ca04\",\"type\":\"Grid\"},{\"attributes\":{\"callback\":null},\"id\":\"838c4a38-225f-404b-bf1e-edbbbd10dad0\",\"type\":\"DataRange1d\"},{\"attributes\":{\"axis_label\":\"Most important words\",\"axis_label_text_font_size\":{\"value\":\"16px\"},\"formatter\":{\"id\":\"ce3997b8-2b37-4594-94cb-bb8f886bab75\",\"type\":\"BasicTickFormatter\"},\"plot\":{\"id\":\"4b3b88e0-2ae8-4269-9f5e-bd3e96084aa4\",\"subtype\":\"Figure\",\"type\":\"Plot\"},\"ticker\":{\"id\":\"87372a56-8b2d-4593-897f-1e67baf91404\",\"type\":\"BasicTicker\"}},\"id\":\"bd1f34e5-ae5f-44a2-83a8-c128512ecdb7\",\"type\":\"LinearAxis\"},{\"attributes\":{},\"id\":\"cd7475aa-5bf7-4bdb-95f2-fe31a3bfaf97\",\"type\":\"LinearScale\"},{\"attributes\":{\"callback\":null,\"data\":{\"index\":[0,1,2,3,4,5,6,7,8,9],\"top_scores\":{\"__ndarray__\":\"nt4ujklgBEA9/B3kNosEQA6jGVc39wRAAum4GZRBBUCego++5xAHQMN1L18xlQdATEJSYVF/DkBkaJgggVcRQCcxljAFxxJAC8VggIIBIUA=\",\"dtype\":\"float64\",\"shape\":[10]},\"top_words\":[\"convertible\",\"honda\",\"radar\",\"auto\",\"toyota\",\"eliot\",\"dealer\",\"ford\",\"engine\",\"cars\"],\"x_label\":[0.2,0.2,0.2,0.2,0.2,0.2,0.2,0.2,0.2,0.2]},\"selected\":{\"id\":\"2fd73fe3-e2da-4be4-9d3b-4062f0bab295\",\"type\":\"Selection\"},\"selection_policy\":{\"id\":\"20ae1b50-e23f-494f-b142-479e987b3edf\",\"type\":\"UnionRenderers\"}},\"id\":\"a3d4f3cc-d54f-4910-81c4-1c1173fa4ee1\",\"type\":\"ColumnDataSource\"},{\"attributes\":{\"align\":\"center\",\"plot\":null,\"text\":\"Feature Importance for \\\"misc.forsale\\\"\",\"text_font\":\"Helvetica\",\"text_font_size\":{\"value\":\"24px\"},\"text_font_style\":\"italic\"},\"id\":\"ab55b837-f37c-40d7-ba05-cd2409ac8c71\",\"type\":\"Title\"},{\"attributes\":{},\"id\":\"17610961-13d6-4b15-97d2-3fb9d6e7fef5\",\"type\":\"LinearScale\"},{\"attributes\":{\"grid_line_color\":{\"value\":null},\"plot\":{\"id\":\"318816b8-9105-4e3e-8c81-20ab57f82c96\",\"subtype\":\"Figure\",\"type\":\"Plot\"},\"ticker\":{\"id\":\"8eb846f0-d41d-4265-9e17-3566de3ac9fa\",\"type\":\"BasicTicker\"}},\"id\":\"9eb1bf79-3900-4010-8e6e-984c54a3b513\",\"type\":\"Grid\"},{\"attributes\":{\"fill_alpha\":{\"value\":0.7},\"fill_color\":{\"value\":\"#3399c1\"},\"height\":{\"value\":0.9},\"line_alpha\":{\"value\":0.7},\"line_color\":{\"value\":\"#3399c1\"},\"right\":{\"field\":\"top_scores\"},\"y\":{\"field\":\"index\"}},\"id\":\"3c0100dd-ee52-462b-b36b-c50665df01b4\",\"type\":\"HBar\"},{\"attributes\":{\"level\":\"glyph\",\"plot\":{\"id\":\"821b714b-f3f4-4f0c-ad72-a48d1bcd479f\",\"subtype\":\"Figure\",\"type\":\"Plot\"},\"source\":{\"id\":\"a74daabd-8c75-4e5e-8fb4-b5542d6e33f4\",\"type\":\"ColumnDataSource\"},\"text\":{\"field\":\"top_words\"},\"text_color\":{\"value\":\"black\"},\"text_font_size\":{\"value\":\"16px\"},\"x\":{\"field\":\"x_label\"},\"y\":{\"field\":\"index\"},\"y_offset\":{\"value\":-8}},\"id\":\"8ee04b4d-d15c-43be-ac7c-506adb4dc99b\",\"type\":\"LabelSet\"},{\"attributes\":{\"axis_label\":\"Importance\",\"axis_label_text_font_size\":{\"value\":\"16px\"},\"formatter\":{\"id\":\"42f2e1f6-0f99-4674-a10e-be502559258a\",\"type\":\"BasicTickFormatter\"},\"plot\":{\"id\":\"318816b8-9105-4e3e-8c81-20ab57f82c96\",\"subtype\":\"Figure\",\"type\":\"Plot\"},\"ticker\":{\"id\":\"8eb846f0-d41d-4265-9e17-3566de3ac9fa\",\"type\":\"BasicTicker\"}},\"id\":\"8d750bb0-31fe-454c-9bd9-71083a16bd78\",\"type\":\"LinearAxis\"},{\"attributes\":{\"callback\":null,\"overlay\":{\"id\":\"2b6e4b57-3347-4379-ad89-805ba9352bee\",\"type\":\"BoxAnnotation\"}},\"id\":\"bcb8f2a2-94f1-4d03-8600-5ac4a57c227e\",\"type\":\"BoxSelectTool\"},{\"attributes\":{\"background_fill_alpha\":{\"value\":0.05},\"background_fill_color\":{\"value\":\"#859dcd\"},\"below\":[{\"id\":\"f9efee29-a80a-405e-acc6-970bcb9671c7\",\"type\":\"LinearAxis\"}],\"left\":[{\"id\":\"3baa4115-7863-4e6d-a785-467a97647b4d\",\"type\":\"LinearAxis\"}],\"plot_width\":800,\"renderers\":[{\"id\":\"f9efee29-a80a-405e-acc6-970bcb9671c7\",\"type\":\"LinearAxis\"},{\"id\":\"76b35bdb-4b43-439d-b3c3-a5577fbac78b\",\"type\":\"Grid\"},{\"id\":\"3baa4115-7863-4e6d-a785-467a97647b4d\",\"type\":\"LinearAxis\"},{\"id\":\"93e7fd05-91d9-48e7-a123-0b693490e492\",\"type\":\"Grid\"},{\"id\":\"b1292bfb-5f3b-4d1b-8604-862dcaf1cb91\",\"type\":\"BoxAnnotation\"},{\"id\":\"3f719ac4-3e5c-4465-858d-5e1ac15e452b\",\"type\":\"GlyphRenderer\"},{\"id\":\"d558ddb2-67b0-48b8-83fe-28afdd70901a\",\"type\":\"LabelSet\"}],\"title\":{\"id\":\"120c39cb-f9e6-41da-9304-b5a63c5c20a7\",\"type\":\"Title\"},\"toolbar\":{\"id\":\"d9ed7a9d-fa73-45df-8881-8e63c5ab1b8b\",\"type\":\"Toolbar\"},\"x_range\":{\"id\":\"adb8807a-f46b-4c99-8374-37c0bd020543\",\"type\":\"DataRange1d\"},\"x_scale\":{\"id\":\"79f6787b-90d8-4d53-a5fc-95e14dfa22c7\",\"type\":\"LinearScale\"},\"y_range\":{\"id\":\"b3a10a4f-ab9f-40ab-9ae6-e40b2109e05a\",\"type\":\"DataRange1d\"},\"y_scale\":{\"id\":\"591f020d-bd88-4676-ad39-4e38123587d5\",\"type\":\"LinearScale\"}},\"id\":\"ecf288de-d061-43b6-9f96-990e5b7874bc\",\"subtype\":\"Figure\",\"type\":\"Plot\"},{\"attributes\":{},\"id\":\"8eb846f0-d41d-4265-9e17-3566de3ac9fa\",\"type\":\"BasicTicker\"},{\"attributes\":{\"axis_label\":\"Most important words\",\"axis_label_text_font_size\":{\"value\":\"16px\"},\"formatter\":{\"id\":\"aea7c0ce-83f1-4cfa-a08b-aecb1b21cca2\",\"type\":\"BasicTickFormatter\"},\"plot\":{\"id\":\"318816b8-9105-4e3e-8c81-20ab57f82c96\",\"subtype\":\"Figure\",\"type\":\"Plot\"},\"ticker\":{\"id\":\"4af56e70-0ecb-4305-bedf-5eba1dc301bc\",\"type\":\"BasicTicker\"}},\"id\":\"46151643-637a-40d6-a779-63c1b23c4ad6\",\"type\":\"LinearAxis\"},{\"attributes\":{},\"id\":\"a8d39b0f-f985-4bbb-8aa1-77cbc38c8a2e\",\"type\":\"PanTool\"},{\"attributes\":{\"active_drag\":\"auto\",\"active_inspect\":\"auto\",\"active_multi\":null,\"active_scroll\":\"auto\",\"active_tap\":\"auto\",\"tools\":[{\"id\":\"4fae2718-c461-42fc-a0d7-49e1e6cc6f6c\",\"type\":\"BoxSelectTool\"},{\"id\":\"f26fa4f6-7e69-434a-931d-e3db94654f65\",\"type\":\"PanTool\"},{\"id\":\"b1ed80ea-9517-4313-bef3-b91f2551f979\",\"type\":\"ResetTool\"},{\"id\":\"30854370-f0fd-4a6b-b25d-d948398e6413\",\"type\":\"SaveTool\"},{\"id\":\"7b9cfdd3-f7b1-40e6-a401-bf0a0c9ada2e\",\"type\":\"HoverTool\"}]},\"id\":\"020a8c85-158c-4dc6-965c-813dbe91a560\",\"type\":\"Toolbar\"},{\"attributes\":{},\"id\":\"7865c9da-abdd-49c5-8698-a9029419d85a\",\"type\":\"ResetTool\"},{\"attributes\":{},\"id\":\"4af56e70-0ecb-4305-bedf-5eba1dc301bc\",\"type\":\"BasicTicker\"},{\"attributes\":{\"dimension\":1,\"plot\":{\"id\":\"318816b8-9105-4e3e-8c81-20ab57f82c96\",\"subtype\":\"Figure\",\"type\":\"Plot\"},\"ticker\":{\"id\":\"4af56e70-0ecb-4305-bedf-5eba1dc301bc\",\"type\":\"BasicTicker\"}},\"id\":\"4dcb04bb-3b2d-4e4a-9175-bf4988445dfb\",\"type\":\"Grid\"},{\"attributes\":{\"data_source\":{\"id\":\"7b302c73-44fb-4c46-a9dc-db1aab976c5a\",\"type\":\"ColumnDataSource\"},\"glyph\":{\"id\":\"c7776528-4a2a-4690-93a2-d58f2ecde6fe\",\"type\":\"HBar\"},\"hover_glyph\":null,\"muted_glyph\":null,\"nonselection_glyph\":{\"id\":\"81f40c63-49b7-460c-a15f-de6246c17565\",\"type\":\"HBar\"},\"selection_glyph\":null,\"view\":{\"id\":\"d8ba1e12-0782-487c-a724-62e8813f6854\",\"type\":\"CDSView\"}},\"id\":\"9d252378-954d-4861-9a45-ed43ab0002c0\",\"type\":\"GlyphRenderer\"},{\"attributes\":{},\"id\":\"b0f6ed6e-4d71-4394-9cb2-f6182a4199c3\",\"type\":\"SaveTool\"},{\"attributes\":{\"callback\":null},\"id\":\"64b662e3-a69a-44f6-81d8-60cd774ab0db\",\"type\":\"DataRange1d\"},{\"attributes\":{\"bottom_units\":\"screen\",\"fill_alpha\":{\"value\":0.5},\"fill_color\":{\"value\":\"lightgrey\"},\"left_units\":\"screen\",\"level\":\"overlay\",\"line_alpha\":{\"value\":1.0},\"line_color\":{\"value\":\"black\"},\"line_dash\":[4,4],\"line_width\":{\"value\":2},\"plot\":null,\"render_mode\":\"css\",\"right_units\":\"screen\",\"top_units\":\"screen\"},\"id\":\"2b6e4b57-3347-4379-ad89-805ba9352bee\",\"type\":\"BoxAnnotation\"},{\"attributes\":{\"callback\":null,\"data\":{\"index\":[0,1,2,3,4,5,6,7,8,9],\"top_scores\":{\"__ndarray__\":\"dMs7EALxBUB2WVPB7HkGQHhE1vXAvgZAi5iX8BotCUAW1/7lFTwJQIMw4fQo7AlAXgkbdrQJC0CuIJgRFBIMQHcIAoYzOAxAcsWF5io7FkA=\",\"dtype\":\"float64\",\"shape\":[10]},\"top_words\":[\"hallam\",\"people\",\"health\",\"drugs\",\"clinton\",\"clayton\",\"government\",\"kaldis\",\"president\",\"cramer\"],\"x_label\":[0.2,0.2,0.2,0.2,0.2,0.2,0.2,0.2,0.2,0.2]},\"selected\":{\"id\":\"5b29de58-f561-4edd-b2a1-7928f2409597\",\"type\":\"Selection\"},\"selection_policy\":{\"id\":\"39cdad73-6329-4594-888b-4605838e1560\",\"type\":\"UnionRenderers\"}},\"id\":\"12346e58-08ee-44da-9c95-6160f3680152\",\"type\":\"ColumnDataSource\"},{\"attributes\":{},\"id\":\"5e806761-a903-4a7e-b494-f8dd9dd95fac\",\"type\":\"LinearScale\"},{\"attributes\":{},\"id\":\"591f020d-bd88-4676-ad39-4e38123587d5\",\"type\":\"LinearScale\"},{\"attributes\":{\"align\":\"center\",\"plot\":null,\"text\":\"Feature Importance for \\\"talk.politics.mideast\\\"\",\"text_font\":\"Helvetica\",\"text_font_size\":{\"value\":\"24px\"},\"text_font_style\":\"italic\"},\"id\":\"cbeb4b03-b850-4364-a888-daa5ec9d57e7\",\"type\":\"Title\"},{\"attributes\":{\"fill_alpha\":{\"value\":0.1},\"fill_color\":{\"value\":\"#1f77b4\"},\"height\":{\"value\":0.9},\"line_alpha\":{\"value\":0.1},\"line_color\":{\"value\":\"#1f77b4\"},\"right\":{\"field\":\"top_scores\"},\"y\":{\"field\":\"index\"}},\"id\":\"81f40c63-49b7-460c-a15f-de6246c17565\",\"type\":\"HBar\"},{\"attributes\":{\"axis_label\":\"Importance\",\"axis_label_text_font_size\":{\"value\":\"16px\"},\"formatter\":{\"id\":\"f41665b3-f0a2-41fb-bb77-63ba5fa81f47\",\"type\":\"BasicTickFormatter\"},\"plot\":{\"id\":\"ecf288de-d061-43b6-9f96-990e5b7874bc\",\"subtype\":\"Figure\",\"type\":\"Plot\"},\"ticker\":{\"id\":\"700dcea2-dd66-4e47-ab59-884f44c91c5c\",\"type\":\"BasicTicker\"}},\"id\":\"f9efee29-a80a-405e-acc6-970bcb9671c7\",\"type\":\"LinearAxis\"},{\"attributes\":{\"fill_alpha\":{\"value\":0.7},\"fill_color\":{\"value\":\"#3399c1\"},\"height\":{\"value\":0.9},\"line_alpha\":{\"value\":0.7},\"line_color\":{\"value\":\"#3399c1\"},\"right\":{\"field\":\"top_scores\"},\"y\":{\"field\":\"index\"}},\"id\":\"1dc9c5e9-a2ac-4a2a-8565-c7fa45accb17\",\"type\":\"HBar\"},{\"attributes\":{\"level\":\"glyph\",\"plot\":{\"id\":\"b8146fa2-047c-4e12-a0ba-0ae741976559\",\"subtype\":\"Figure\",\"type\":\"Plot\"},\"source\":{\"id\":\"920da06f-b7b1-4831-8d2c-97aee8d20005\",\"type\":\"ColumnDataSource\"},\"text\":{\"field\":\"top_words\"},\"text_color\":{\"value\":\"black\"},\"text_font_size\":{\"value\":\"16px\"},\"x\":{\"field\":\"x_label\"},\"y\":{\"field\":\"index\"},\"y_offset\":{\"value\":-8}},\"id\":\"9201848c-1b3d-4cc8-aa68-da3a1e652d17\",\"type\":\"LabelSet\"},{\"attributes\":{\"source\":{\"id\":\"7b302c73-44fb-4c46-a9dc-db1aab976c5a\",\"type\":\"ColumnDataSource\"}},\"id\":\"d8ba1e12-0782-487c-a724-62e8813f6854\",\"type\":\"CDSView\"},{\"attributes\":{\"callback\":null,\"overlay\":{\"id\":\"a5cc3ca5-abec-4d22-94b5-14e518aaa389\",\"type\":\"BoxAnnotation\"}},\"id\":\"b95e2fff-254c-4bc8-97b9-ea1324376fa4\",\"type\":\"BoxSelectTool\"},{\"attributes\":{\"background_fill_alpha\":{\"value\":0.05},\"background_fill_color\":{\"value\":\"#859dcd\"},\"below\":[{\"id\":\"e89cfc55-0781-4264-9ee9-3f75ca0760f0\",\"type\":\"LinearAxis\"}],\"left\":[{\"id\":\"ea2243cd-d58c-40fa-9784-63500dfa7736\",\"type\":\"LinearAxis\"}],\"plot_width\":800,\"renderers\":[{\"id\":\"e89cfc55-0781-4264-9ee9-3f75ca0760f0\",\"type\":\"LinearAxis\"},{\"id\":\"7639c8c7-13b7-4e5b-bc6b-f5a85d37aa81\",\"type\":\"Grid\"},{\"id\":\"ea2243cd-d58c-40fa-9784-63500dfa7736\",\"type\":\"LinearAxis\"},{\"id\":\"e6388119-7f73-458a-8b91-9cfadf78cb4e\",\"type\":\"Grid\"},{\"id\":\"2113c0f9-fa87-4cd2-aa07-fff56e984039\",\"type\":\"BoxAnnotation\"},{\"id\":\"e1d3b261-2720-4438-be49-120b9b9704e7\",\"type\":\"GlyphRenderer\"},{\"id\":\"ea3d746f-6d7c-4b44-ac16-bbabe0150473\",\"type\":\"LabelSet\"}],\"title\":{\"id\":\"fc28cfe3-fe6c-46ed-b248-ed93bc2c6e1b\",\"type\":\"Title\"},\"toolbar\":{\"id\":\"f2567d30-c82c-4f5e-bd9a-e39a8e299ab1\",\"type\":\"Toolbar\"},\"x_range\":{\"id\":\"c96bc7d3-6fd9-44fe-b86e-f49091040ff3\",\"type\":\"DataRange1d\"},\"x_scale\":{\"id\":\"69dd32d7-9391-49ef-9b94-7dad02bd72ea\",\"type\":\"LinearScale\"},\"y_range\":{\"id\":\"bcbbf60e-1547-4915-91f5-a68702fbfc57\",\"type\":\"DataRange1d\"},\"y_scale\":{\"id\":\"474e6f0e-af69-49b2-9980-3b58207e9ade\",\"type\":\"LinearScale\"}},\"id\":\"3c466503-19c4-4015-992d-75b8ba3cd455\",\"subtype\":\"Figure\",\"type\":\"Plot\"},{\"attributes\":{},\"id\":\"e30b3e9c-3d65-45f3-bad2-ba7396b740b4\",\"type\":\"LinearScale\"},{\"attributes\":{\"fill_alpha\":{\"value\":0.1},\"fill_color\":{\"value\":\"#1f77b4\"},\"height\":{\"value\":0.9},\"line_alpha\":{\"value\":0.1},\"line_color\":{\"value\":\"#1f77b4\"},\"right\":{\"field\":\"top_scores\"},\"y\":{\"field\":\"index\"}},\"id\":\"99060d6d-ab2a-4fae-8851-26d5eff3d3c3\",\"type\":\"HBar\"},{\"attributes\":{\"grid_line_color\":{\"value\":null},\"plot\":{\"id\":\"5a421979-8e24-401e-8fed-c3eaa9171d25\",\"subtype\":\"Figure\",\"type\":\"Plot\"},\"ticker\":{\"id\":\"eb5338d1-d8f4-4d39-84e5-88aab2fd6c81\",\"type\":\"BasicTicker\"}},\"id\":\"13e1d47c-24e5-48a8-b6d7-df4908ffd80b\",\"type\":\"Grid\"},{\"attributes\":{\"data_source\":{\"id\":\"920da06f-b7b1-4831-8d2c-97aee8d20005\",\"type\":\"ColumnDataSource\"},\"glyph\":{\"id\":\"3c0100dd-ee52-462b-b36b-c50665df01b4\",\"type\":\"HBar\"},\"hover_glyph\":null,\"muted_glyph\":null,\"nonselection_glyph\":{\"id\":\"99060d6d-ab2a-4fae-8851-26d5eff3d3c3\",\"type\":\"HBar\"},\"selection_glyph\":null,\"view\":{\"id\":\"f9e24ae4-8633-4024-844e-9c60c53c264a\",\"type\":\"CDSView\"}},\"id\":\"6901eff8-9dba-4de4-8de6-e265fd89fd4d\",\"type\":\"GlyphRenderer\"},{\"attributes\":{},\"id\":\"7b181fc2-eefc-4fad-9713-3449dfee623d\",\"type\":\"PanTool\"},{\"attributes\":{\"background_fill_alpha\":{\"value\":0.05},\"background_fill_color\":{\"value\":\"#859dcd\"},\"below\":[{\"id\":\"2380b134-d7ad-45bc-a4b7-8981c25ee6a3\",\"type\":\"LinearAxis\"}],\"left\":[{\"id\":\"0cfd63b7-2851-4dcb-b5e0-1f9cfb042143\",\"type\":\"LinearAxis\"}],\"plot_width\":800,\"renderers\":[{\"id\":\"2380b134-d7ad-45bc-a4b7-8981c25ee6a3\",\"type\":\"LinearAxis\"},{\"id\":\"13e1d47c-24e5-48a8-b6d7-df4908ffd80b\",\"type\":\"Grid\"},{\"id\":\"0cfd63b7-2851-4dcb-b5e0-1f9cfb042143\",\"type\":\"LinearAxis\"},{\"id\":\"202bd49c-8871-484f-a7f8-f1b38c02f8ed\",\"type\":\"Grid\"},{\"id\":\"55be61a7-2fac-4cb3-912a-e8a50e73b252\",\"type\":\"BoxAnnotation\"},{\"id\":\"77f0151c-fdca-4c11-9d43-4296088f4fa6\",\"type\":\"GlyphRenderer\"},{\"id\":\"afc2c393-c071-4a0f-b1b2-2e07594e1e7f\",\"type\":\"LabelSet\"}],\"title\":{\"id\":\"faee8cfc-4f21-4cf8-8009-467d9c5a88f4\",\"type\":\"Title\"},\"toolbar\":{\"id\":\"020a8c85-158c-4dc6-965c-813dbe91a560\",\"type\":\"Toolbar\"},\"x_range\":{\"id\":\"388565a3-b878-4b11-883c-2f6c96d9f795\",\"type\":\"DataRange1d\"},\"x_scale\":{\"id\":\"5e806761-a903-4a7e-b494-f8dd9dd95fac\",\"type\":\"LinearScale\"},\"y_range\":{\"id\":\"64b662e3-a69a-44f6-81d8-60cd774ab0db\",\"type\":\"DataRange1d\"},\"y_scale\":{\"id\":\"e30b3e9c-3d65-45f3-bad2-ba7396b740b4\",\"type\":\"LinearScale\"}},\"id\":\"5a421979-8e24-401e-8fed-c3eaa9171d25\",\"subtype\":\"Figure\",\"type\":\"Plot\"},{\"attributes\":{\"source\":{\"id\":\"920da06f-b7b1-4831-8d2c-97aee8d20005\",\"type\":\"ColumnDataSource\"}},\"id\":\"f9e24ae4-8633-4024-844e-9c60c53c264a\",\"type\":\"CDSView\"},{\"attributes\":{},\"id\":\"b4f214db-2b03-4f2c-b21a-9746df8f8738\",\"type\":\"ResetTool\"},{\"attributes\":{},\"id\":\"7b9dddd3-3764-4fe3-a48c-e3758170084b\",\"type\":\"LinearScale\"},{\"attributes\":{\"callback\":null,\"renderers\":\"auto\",\"tooltips\":[[\"Importance\",\"@top_scores\"]]},\"id\":\"47a36d48-e52e-464b-9e59-78fe078bd00e\",\"type\":\"HoverTool\"},{\"attributes\":{},\"id\":\"b4d03fa2-974d-4f61-be98-64c2a1354fc7\",\"type\":\"SaveTool\"},{\"attributes\":{\"child\":{\"id\":\"b8146fa2-047c-4e12-a0ba-0ae741976559\",\"subtype\":\"Figure\",\"type\":\"Plot\"},\"title\":\"misc.forsale\"},\"id\":\"5501155b-60c5-4294-ba2b-7f557f6b503f\",\"type\":\"Panel\"},{\"attributes\":{\"axis_label\":\"Importance\",\"axis_label_text_font_size\":{\"value\":\"16px\"},\"formatter\":{\"id\":\"287ef1ac-ddf2-4ade-90bf-9880e98ceea3\",\"type\":\"BasicTickFormatter\"},\"plot\":{\"id\":\"5a421979-8e24-401e-8fed-c3eaa9171d25\",\"subtype\":\"Figure\",\"type\":\"Plot\"},\"ticker\":{\"id\":\"eb5338d1-d8f4-4d39-84e5-88aab2fd6c81\",\"type\":\"BasicTicker\"}},\"id\":\"2380b134-d7ad-45bc-a4b7-8981c25ee6a3\",\"type\":\"LinearAxis\"},{\"attributes\":{\"bottom_units\":\"screen\",\"fill_alpha\":{\"value\":0.5},\"fill_color\":{\"value\":\"lightgrey\"},\"left_units\":\"screen\",\"level\":\"overlay\",\"line_alpha\":{\"value\":1.0},\"line_color\":{\"value\":\"black\"},\"line_dash\":[4,4],\"line_width\":{\"value\":2},\"plot\":null,\"render_mode\":\"css\",\"right_units\":\"screen\",\"top_units\":\"screen\"},\"id\":\"a5cc3ca5-abec-4d22-94b5-14e518aaa389\",\"type\":\"BoxAnnotation\"},{\"attributes\":{},\"id\":\"eb5338d1-d8f4-4d39-84e5-88aab2fd6c81\",\"type\":\"BasicTicker\"},{\"attributes\":{},\"id\":\"565cc20d-89ae-4757-8411-20d5b32be30f\",\"type\":\"BasicTickFormatter\"},{\"attributes\":{\"active_drag\":\"auto\",\"active_inspect\":\"auto\",\"active_multi\":null,\"active_scroll\":\"auto\",\"active_tap\":\"auto\",\"tools\":[{\"id\":\"4d1a57b9-58b9-4503-8629-5f55274049fa\",\"type\":\"BoxSelectTool\"},{\"id\":\"0b07bd51-ae17-4094-8767-36e9af434324\",\"type\":\"PanTool\"},{\"id\":\"f0ea32e7-4d07-4329-b9ac-1f41bb19da7b\",\"type\":\"ResetTool\"},{\"id\":\"9185fc61-4c92-4e75-af78-c4f0bc432687\",\"type\":\"SaveTool\"},{\"id\":\"6eb43049-7596-4a42-9a14-d6f88c54fcf3\",\"type\":\"HoverTool\"}]},\"id\":\"d9ed7a9d-fa73-45df-8881-8e63c5ab1b8b\",\"type\":\"Toolbar\"},{\"attributes\":{\"callback\":null,\"renderers\":\"auto\",\"tooltips\":[[\"Importance\",\"@top_scores\"]]},\"id\":\"0cd7fdfe-5049-42a4-8425-f989f7c39ed5\",\"type\":\"HoverTool\"},{\"attributes\":{\"source\":{\"id\":\"12346e58-08ee-44da-9c95-6160f3680152\",\"type\":\"ColumnDataSource\"}},\"id\":\"d5b8206b-ceec-4d85-a007-baf79f40d560\",\"type\":\"CDSView\"},{\"attributes\":{\"bottom_units\":\"screen\",\"fill_alpha\":{\"value\":0.5},\"fill_color\":{\"value\":\"lightgrey\"},\"left_units\":\"screen\",\"level\":\"overlay\",\"line_alpha\":{\"value\":1.0},\"line_color\":{\"value\":\"black\"},\"line_dash\":[4,4],\"line_width\":{\"value\":2},\"plot\":null,\"render_mode\":\"css\",\"right_units\":\"screen\",\"top_units\":\"screen\"},\"id\":\"c31924d6-c081-42ce-a28e-c810365aef19\",\"type\":\"BoxAnnotation\"},{\"attributes\":{\"dimension\":1,\"plot\":{\"id\":\"ecf288de-d061-43b6-9f96-990e5b7874bc\",\"subtype\":\"Figure\",\"type\":\"Plot\"},\"ticker\":{\"id\":\"461ac88d-a208-4286-8733-af450cbde3a9\",\"type\":\"BasicTicker\"}},\"id\":\"93e7fd05-91d9-48e7-a123-0b693490e492\",\"type\":\"Grid\"},{\"attributes\":{\"level\":\"glyph\",\"plot\":{\"id\":\"318816b8-9105-4e3e-8c81-20ab57f82c96\",\"subtype\":\"Figure\",\"type\":\"Plot\"},\"source\":{\"id\":\"27ba853b-6fc5-468f-a16f-06072094389e\",\"type\":\"ColumnDataSource\"},\"text\":{\"field\":\"top_words\"},\"text_color\":{\"value\":\"black\"},\"text_font_size\":{\"value\":\"16px\"},\"x\":{\"field\":\"x_label\"},\"y\":{\"field\":\"index\"},\"y_offset\":{\"value\":-8}},\"id\":\"b18dbf61-5c34-472d-bbf5-fbb65accd550\",\"type\":\"LabelSet\"},{\"attributes\":{\"axis_label\":\"Most important words\",\"axis_label_text_font_size\":{\"value\":\"16px\"},\"formatter\":{\"id\":\"f087c8b6-e023-4114-b11d-c5c705e89d31\",\"type\":\"BasicTickFormatter\"},\"plot\":{\"id\":\"5a421979-8e24-401e-8fed-c3eaa9171d25\",\"subtype\":\"Figure\",\"type\":\"Plot\"},\"ticker\":{\"id\":\"2d219c8d-e4bb-48e7-83d8-dfe76334596b\",\"type\":\"BasicTicker\"}},\"id\":\"0cfd63b7-2851-4dcb-b5e0-1f9cfb042143\",\"type\":\"LinearAxis\"},{\"attributes\":{\"level\":\"glyph\",\"plot\":{\"id\":\"6fc125d1-a552-4735-912f-a06a6b22694f\",\"subtype\":\"Figure\",\"type\":\"Plot\"},\"source\":{\"id\":\"889f8e82-d27b-4dba-9caa-f832b4fe00fa\",\"type\":\"ColumnDataSource\"},\"text\":{\"field\":\"top_words\"},\"text_color\":{\"value\":\"black\"},\"text_font_size\":{\"value\":\"16px\"},\"x\":{\"field\":\"x_label\"},\"y\":{\"field\":\"index\"},\"y_offset\":{\"value\":-8}},\"id\":\"c06f31f6-108c-4fbb-842a-5783a3da3756\",\"type\":\"LabelSet\"},{\"attributes\":{\"fill_alpha\":{\"value\":0.1},\"fill_color\":{\"value\":\"#1f77b4\"},\"height\":{\"value\":0.9},\"line_alpha\":{\"value\":0.1},\"line_color\":{\"value\":\"#1f77b4\"},\"right\":{\"field\":\"top_scores\"},\"y\":{\"field\":\"index\"}},\"id\":\"f4db08bf-6b90-4319-a1ed-20f444342227\",\"type\":\"HBar\"},{\"attributes\":{\"data_source\":{\"id\":\"27ba853b-6fc5-468f-a16f-06072094389e\",\"type\":\"ColumnDataSource\"},\"glyph\":{\"id\":\"1dc9c5e9-a2ac-4a2a-8565-c7fa45accb17\",\"type\":\"HBar\"},\"hover_glyph\":null,\"muted_glyph\":null,\"nonselection_glyph\":{\"id\":\"f4db08bf-6b90-4319-a1ed-20f444342227\",\"type\":\"HBar\"},\"selection_glyph\":null,\"view\":{\"id\":\"6c4708ed-5b95-46f9-bfd5-0914fe4e22f7\",\"type\":\"CDSView\"}},\"id\":\"b2ddffbc-c633-402c-9057-71048cccdc1e\",\"type\":\"GlyphRenderer\"},{\"attributes\":{},\"id\":\"2d219c8d-e4bb-48e7-83d8-dfe76334596b\",\"type\":\"BasicTicker\"},{\"attributes\":{\"callback\":null,\"data\":{\"index\":[0,1,2,3,4,5,6,7,8,9],\"top_scores\":{\"__ndarray__\":\"UnNkWSoDBUAdJEBROYkFQG7bai7wnglACjxGa4iYCkDsJzqDHeILQKZu4hxcBBBADAxP2zTKEUDTPehP2VoVQPWDqFtafRVAtztojfZ2I0A=\",\"dtype\":\"float64\",\"shape\":[10]},\"top_words\":[\"road\",\"ranck\",\"infante\",\"helmet\",\"bikes\",\"motorcycles\",\"riding\",\"motorcycle\",\"ride\",\"bike\"],\"x_label\":[0.2,0.2,0.2,0.2,0.2,0.2,0.2,0.2,0.2,0.2]},\"selected\":{\"id\":\"6a36ba4f-a3d4-4032-87d5-0e6e61d0c1c3\",\"type\":\"Selection\"},\"selection_policy\":{\"id\":\"8fb3c721-37ed-427c-b8bf-ed60704bdb9e\",\"type\":\"UnionRenderers\"}},\"id\":\"889f8e82-d27b-4dba-9caa-f832b4fe00fa\",\"type\":\"ColumnDataSource\"},{\"attributes\":{\"align\":\"center\",\"plot\":null,\"text\":\"Feature Importance for \\\"rec.autos\\\"\",\"text_font\":\"Helvetica\",\"text_font_size\":{\"value\":\"24px\"},\"text_font_style\":\"italic\"},\"id\":\"120c39cb-f9e6-41da-9304-b5a63c5c20a7\",\"type\":\"Title\"},{\"attributes\":{},\"id\":\"ff9a67d1-557b-47d0-ac86-9b9bbd9e7765\",\"type\":\"SaveTool\"},{\"attributes\":{\"source\":{\"id\":\"27ba853b-6fc5-468f-a16f-06072094389e\",\"type\":\"ColumnDataSource\"}},\"id\":\"6c4708ed-5b95-46f9-bfd5-0914fe4e22f7\",\"type\":\"CDSView\"},{\"attributes\":{\"callback\":null,\"overlay\":{\"id\":\"c31924d6-c081-42ce-a28e-c810365aef19\",\"type\":\"BoxAnnotation\"}},\"id\":\"84cd402b-605c-4a45-911d-c83abe60d67b\",\"type\":\"BoxSelectTool\"},{\"attributes\":{\"fill_alpha\":{\"value\":0.7},\"fill_color\":{\"value\":\"#3399c1\"},\"height\":{\"value\":0.9},\"line_alpha\":{\"value\":0.7},\"line_color\":{\"value\":\"#3399c1\"},\"right\":{\"field\":\"top_scores\"},\"y\":{\"field\":\"index\"}},\"id\":\"6cb1d7a3-0d39-49db-8cee-6390515d411e\",\"type\":\"HBar\"},{\"attributes\":{\"callback\":null,\"renderers\":\"auto\",\"tooltips\":[[\"Importance\",\"@top_scores\"]]},\"id\":\"080d94ab-ebaf-4315-961b-4a3b97a20d2f\",\"type\":\"HoverTool\"},{\"attributes\":{\"child\":{\"id\":\"318816b8-9105-4e3e-8c81-20ab57f82c96\",\"subtype\":\"Figure\",\"type\":\"Plot\"},\"title\":\"talk.politics.mideast\"},\"id\":\"d41b1d94-accd-45dd-9f05-c6bb6efc9b7b\",\"type\":\"Panel\"},{\"attributes\":{\"dimension\":1,\"plot\":{\"id\":\"5a421979-8e24-401e-8fed-c3eaa9171d25\",\"subtype\":\"Figure\",\"type\":\"Plot\"},\"ticker\":{\"id\":\"2d219c8d-e4bb-48e7-83d8-dfe76334596b\",\"type\":\"BasicTicker\"}},\"id\":\"202bd49c-8871-484f-a7f8-f1b38c02f8ed\",\"type\":\"Grid\"},{\"attributes\":{\"callback\":null,\"overlay\":{\"id\":\"b1292bfb-5f3b-4d1b-8604-862dcaf1cb91\",\"type\":\"BoxAnnotation\"}},\"id\":\"4d1a57b9-58b9-4503-8629-5f55274049fa\",\"type\":\"BoxSelectTool\"},{\"attributes\":{\"child\":{\"id\":\"e72b79bc-cc7d-4b4a-aae6-1427193e291b\",\"subtype\":\"Figure\",\"type\":\"Plot\"},\"title\":\"comp.graphics\"},\"id\":\"5196ded0-8405-40a8-a3c7-1abe118c3573\",\"type\":\"Panel\"},{\"attributes\":{\"align\":\"center\",\"plot\":null,\"text\":\"Feature Importance for \\\"talk.politics.misc\\\"\",\"text_font\":\"Helvetica\",\"text_font_size\":{\"value\":\"24px\"},\"text_font_style\":\"italic\"},\"id\":\"fc28cfe3-fe6c-46ed-b248-ed93bc2c6e1b\",\"type\":\"Title\"},{\"attributes\":{\"callback\":null,\"renderers\":\"auto\",\"tooltips\":[[\"Importance\",\"@top_scores\"]]},\"id\":\"6eb43049-7596-4a42-9a14-d6f88c54fcf3\",\"type\":\"HoverTool\"},{\"attributes\":{\"active_drag\":\"auto\",\"active_inspect\":\"auto\",\"active_multi\":null,\"active_scroll\":\"auto\",\"active_tap\":\"auto\",\"tools\":[{\"id\":\"62dc6d1c-8212-4597-a151-e1350c8595ad\",\"type\":\"BoxSelectTool\"},{\"id\":\"2b32b804-14d3-45e1-be39-f2550edafe20\",\"type\":\"PanTool\"},{\"id\":\"c3931a4c-0cf7-42b7-8cc3-694481ca9770\",\"type\":\"ResetTool\"},{\"id\":\"4ed8a7c5-1a89-4694-8865-8563581b1ca2\",\"type\":\"SaveTool\"},{\"id\":\"d2c4932d-987c-408e-8347-28ab2dbdba54\",\"type\":\"HoverTool\"}]},\"id\":\"f2567d30-c82c-4f5e-bd9a-e39a8e299ab1\",\"type\":\"Toolbar\"},{\"attributes\":{},\"id\":\"9cb087be-84fe-4c57-a03e-c389f0f052f5\",\"type\":\"PanTool\"},{\"attributes\":{},\"id\":\"0b07bd51-ae17-4094-8767-36e9af434324\",\"type\":\"PanTool\"},{\"attributes\":{\"callback\":null},\"id\":\"c96bc7d3-6fd9-44fe-b86e-f49091040ff3\",\"type\":\"DataRange1d\"},{\"attributes\":{},\"id\":\"f0ea32e7-4d07-4329-b9ac-1f41bb19da7b\",\"type\":\"ResetTool\"},{\"attributes\":{\"callback\":null},\"id\":\"16bf2359-1ca9-48bf-ad36-6ae56758fed8\",\"type\":\"DataRange1d\"},{\"attributes\":{},\"id\":\"9185fc61-4c92-4e75-af78-c4f0bc432687\",\"type\":\"SaveTool\"},{\"attributes\":{},\"id\":\"5f817a11-5b46-4086-9144-6946291e515c\",\"type\":\"BasicTicker\"},{\"attributes\":{\"align\":\"center\",\"plot\":null,\"text\":\"Feature Importance for \\\"comp.os.ms-windows.misc\\\"\",\"text_font\":\"Helvetica\",\"text_font_size\":{\"value\":\"24px\"},\"text_font_style\":\"italic\"},\"id\":\"faee8cfc-4f21-4cf8-8009-467d9c5a88f4\",\"type\":\"Title\"},{\"attributes\":{\"bottom_units\":\"screen\",\"fill_alpha\":{\"value\":0.5},\"fill_color\":{\"value\":\"lightgrey\"},\"left_units\":\"screen\",\"level\":\"overlay\",\"line_alpha\":{\"value\":1.0},\"line_color\":{\"value\":\"black\"},\"line_dash\":[4,4],\"line_width\":{\"value\":2},\"plot\":null,\"render_mode\":\"css\",\"right_units\":\"screen\",\"top_units\":\"screen\"},\"id\":\"b1292bfb-5f3b-4d1b-8604-862dcaf1cb91\",\"type\":\"BoxAnnotation\"},{\"attributes\":{\"callback\":null},\"id\":\"bcbbf60e-1547-4915-91f5-a68702fbfc57\",\"type\":\"DataRange1d\"},{\"attributes\":{},\"id\":\"69dd32d7-9391-49ef-9b94-7dad02bd72ea\",\"type\":\"LinearScale\"},{\"attributes\":{},\"id\":\"758a517d-862b-4f7c-a760-4e604d35e93e\",\"type\":\"BasicTicker\"},{\"attributes\":{\"child\":{\"id\":\"2c4ea952-5d82-4c58-8807-4eb562b02bf0\",\"subtype\":\"Figure\",\"type\":\"Plot\"},\"title\":\"rec.sport.baseball\"},\"id\":\"eab7052c-e8d8-4c8c-9ee3-b93857fe143e\",\"type\":\"Panel\"},{\"attributes\":{},\"id\":\"2a86f9cf-75ed-4abe-ae3b-051bf8574ffc\",\"type\":\"LinearScale\"},{\"attributes\":{\"align\":\"center\",\"plot\":null,\"text\":\"Feature Importance for \\\"rec.sport.hockey\\\"\",\"text_font\":\"Helvetica\",\"text_font_size\":{\"value\":\"24px\"},\"text_font_style\":\"italic\"},\"id\":\"b156fee6-3290-456e-aebf-4b567df342b5\",\"type\":\"Title\"},{\"attributes\":{},\"id\":\"474e6f0e-af69-49b2-9980-3b58207e9ade\",\"type\":\"LinearScale\"},{\"attributes\":{\"level\":\"glyph\",\"plot\":{\"id\":\"ecf288de-d061-43b6-9f96-990e5b7874bc\",\"subtype\":\"Figure\",\"type\":\"Plot\"},\"source\":{\"id\":\"a3d4f3cc-d54f-4910-81c4-1c1173fa4ee1\",\"type\":\"ColumnDataSource\"},\"text\":{\"field\":\"top_words\"},\"text_color\":{\"value\":\"black\"},\"text_font_size\":{\"value\":\"16px\"},\"x\":{\"field\":\"x_label\"},\"y\":{\"field\":\"index\"},\"y_offset\":{\"value\":-8}},\"id\":\"d558ddb2-67b0-48b8-83fe-28afdd70901a\",\"type\":\"LabelSet\"},{\"attributes\":{\"grid_line_color\":{\"value\":null},\"plot\":{\"id\":\"3c466503-19c4-4015-992d-75b8ba3cd455\",\"subtype\":\"Figure\",\"type\":\"Plot\"},\"ticker\":{\"id\":\"249e7724-8d95-434d-8dab-f9a0aeb0a5a2\",\"type\":\"BasicTicker\"}},\"id\":\"7639c8c7-13b7-4e5b-bc6b-f5a85d37aa81\",\"type\":\"Grid\"},{\"attributes\":{\"callback\":null,\"data\":{\"index\":[0,1,2,3,4,5,6,7,8,9],\"top_scores\":{\"__ndarray__\":\"dm5S5uGbBkBmNVRq0qYHQIgTuISlDAhAuhEMhecZC0CsL+WW6i8LQCQ4dxyVNQxARBAwI+6fDEBfU0JYmuYMQBoQdAmK1w5AoUuoAz7oDkA=\",\"dtype\":\"float64\",\"shape\":[10]},\"top_words\":[\"board\",\"computer\",\"modem\",\"scsi\",\"motherboard\",\"bios\",\"drive\",\"gateway\",\"controller\",\"card\"],\"x_label\":[0.2,0.2,0.2,0.2,0.2,0.2,0.2,0.2,0.2,0.2]},\"selected\":{\"id\":\"4a1708ef-bd22-4dde-8e2b-fdac48541d34\",\"type\":\"Selection\"},\"selection_policy\":{\"id\":\"53b79abf-d5b2-42fc-a13e-b14ddcadfd46\",\"type\":\"UnionRenderers\"}},\"id\":\"a74daabd-8c75-4e5e-8fb4-b5542d6e33f4\",\"type\":\"ColumnDataSource\"},{\"attributes\":{\"axis_label\":\"Importance\",\"axis_label_text_font_size\":{\"value\":\"16px\"},\"formatter\":{\"id\":\"c08091ab-d0b0-4d0f-84fd-d2717895d70b\",\"type\":\"BasicTickFormatter\"},\"plot\":{\"id\":\"3c466503-19c4-4015-992d-75b8ba3cd455\",\"subtype\":\"Figure\",\"type\":\"Plot\"},\"ticker\":{\"id\":\"249e7724-8d95-434d-8dab-f9a0aeb0a5a2\",\"type\":\"BasicTicker\"}},\"id\":\"e89cfc55-0781-4264-9ee9-3f75ca0760f0\",\"type\":\"LinearAxis\"},{\"attributes\":{\"fill_alpha\":{\"value\":0.1},\"fill_color\":{\"value\":\"#1f77b4\"},\"height\":{\"value\":0.9},\"line_alpha\":{\"value\":0.1},\"line_color\":{\"value\":\"#1f77b4\"},\"right\":{\"field\":\"top_scores\"},\"y\":{\"field\":\"index\"}},\"id\":\"9f19e0d1-aa92-46b5-a503-fe0537d028da\",\"type\":\"HBar\"},{\"attributes\":{\"fill_alpha\":{\"value\":0.7},\"fill_color\":{\"value\":\"#3399c1\"},\"height\":{\"value\":0.9},\"line_alpha\":{\"value\":0.7},\"line_color\":{\"value\":\"#3399c1\"},\"right\":{\"field\":\"top_scores\"},\"y\":{\"field\":\"index\"}},\"id\":\"c7776528-4a2a-4690-93a2-d58f2ecde6fe\",\"type\":\"HBar\"},{\"attributes\":{\"data_source\":{\"id\":\"a3d4f3cc-d54f-4910-81c4-1c1173fa4ee1\",\"type\":\"ColumnDataSource\"},\"glyph\":{\"id\":\"6cb1d7a3-0d39-49db-8cee-6390515d411e\",\"type\":\"HBar\"},\"hover_glyph\":null,\"muted_glyph\":null,\"nonselection_glyph\":{\"id\":\"9f19e0d1-aa92-46b5-a503-fe0537d028da\",\"type\":\"HBar\"},\"selection_glyph\":null,\"view\":{\"id\":\"ac4cc326-ae25-4b82-b50c-eca1484cdced\",\"type\":\"CDSView\"}},\"id\":\"3f719ac4-3e5c-4465-858d-5e1ac15e452b\",\"type\":\"GlyphRenderer\"},{\"attributes\":{},\"id\":\"249e7724-8d95-434d-8dab-f9a0aeb0a5a2\",\"type\":\"BasicTicker\"},{\"attributes\":{\"axis_label\":\"Most important words\",\"axis_label_text_font_size\":{\"value\":\"16px\"},\"formatter\":{\"id\":\"4704ed7d-98d9-48f4-a816-5ceeb4930db5\",\"type\":\"BasicTickFormatter\"},\"plot\":{\"id\":\"3c466503-19c4-4015-992d-75b8ba3cd455\",\"subtype\":\"Figure\",\"type\":\"Plot\"},\"ticker\":{\"id\":\"5f817a11-5b46-4086-9144-6946291e515c\",\"type\":\"BasicTicker\"}},\"id\":\"ea2243cd-d58c-40fa-9784-63500dfa7736\",\"type\":\"LinearAxis\"},{\"attributes\":{},\"id\":\"49f015c4-02aa-4b38-8a76-ccea22ca6d08\",\"type\":\"ResetTool\"},{\"attributes\":{\"source\":{\"id\":\"a3d4f3cc-d54f-4910-81c4-1c1173fa4ee1\",\"type\":\"ColumnDataSource\"}},\"id\":\"ac4cc326-ae25-4b82-b50c-eca1484cdced\",\"type\":\"CDSView\"},{\"attributes\":{\"background_fill_alpha\":{\"value\":0.05},\"background_fill_color\":{\"value\":\"#859dcd\"},\"below\":[{\"id\":\"78b0a40b-39f0-4301-bb25-6fa94bd2d402\",\"type\":\"LinearAxis\"}],\"left\":[{\"id\":\"bd1f34e5-ae5f-44a2-83a8-c128512ecdb7\",\"type\":\"LinearAxis\"}],\"plot_width\":800,\"renderers\":[{\"id\":\"78b0a40b-39f0-4301-bb25-6fa94bd2d402\",\"type\":\"LinearAxis\"},{\"id\":\"67a08849-de5f-4a2a-b7a3-b0cb62f5abf7\",\"type\":\"Grid\"},{\"id\":\"bd1f34e5-ae5f-44a2-83a8-c128512ecdb7\",\"type\":\"LinearAxis\"},{\"id\":\"e5822a6d-9b5d-4798-8c89-cde7dcb76d6b\",\"type\":\"Grid\"},{\"id\":\"4b520834-b851-4f81-918b-a9012152f497\",\"type\":\"BoxAnnotation\"},{\"id\":\"d4f40f08-eff7-459e-be45-b819654f3f9b\",\"type\":\"GlyphRenderer\"},{\"id\":\"47e66ddd-0af5-41a4-bca7-162061236710\",\"type\":\"LabelSet\"}],\"title\":{\"id\":\"a3d0d768-30c6-4cc3-8ef0-4ae06b06539b\",\"type\":\"Title\"},\"toolbar\":{\"id\":\"461894f6-6782-44d4-94fc-406712146176\",\"type\":\"Toolbar\"},\"x_range\":{\"id\":\"867bfe80-d5df-4d5e-b2a6-12bd0541c5ef\",\"type\":\"DataRange1d\"},\"x_scale\":{\"id\":\"1a686a6a-a743-426e-859a-89010d9ba8b4\",\"type\":\"LinearScale\"},\"y_range\":{\"id\":\"86427baf-5740-4995-8232-b959d9e089a5\",\"type\":\"DataRange1d\"},\"y_scale\":{\"id\":\"070d8f2b-f8a8-4c46-8cea-96c636c0701c\",\"type\":\"LinearScale\"}},\"id\":\"4b3b88e0-2ae8-4269-9f5e-bd3e96084aa4\",\"subtype\":\"Figure\",\"type\":\"Plot\"},{\"attributes\":{\"grid_line_color\":{\"value\":null},\"plot\":{\"id\":\"4b3b88e0-2ae8-4269-9f5e-bd3e96084aa4\",\"subtype\":\"Figure\",\"type\":\"Plot\"},\"ticker\":{\"id\":\"2efde8ee-3894-44d1-a94d-a4214ff33eff\",\"type\":\"BasicTicker\"}},\"id\":\"67a08849-de5f-4a2a-b7a3-b0cb62f5abf7\",\"type\":\"Grid\"},{\"attributes\":{\"axis_label\":\"Importance\",\"axis_label_text_font_size\":{\"value\":\"16px\"},\"formatter\":{\"id\":\"c9dd92a8-d168-4197-96bf-bdc82f1f29a1\",\"type\":\"BasicTickFormatter\"},\"plot\":{\"id\":\"4b3b88e0-2ae8-4269-9f5e-bd3e96084aa4\",\"subtype\":\"Figure\",\"type\":\"Plot\"},\"ticker\":{\"id\":\"2efde8ee-3894-44d1-a94d-a4214ff33eff\",\"type\":\"BasicTicker\"}},\"id\":\"78b0a40b-39f0-4301-bb25-6fa94bd2d402\",\"type\":\"LinearAxis\"},{\"attributes\":{\"callback\":null,\"data\":{\"index\":[0,1,2,3,4,5,6,7,8,9],\"top_scores\":{\"__ndarray__\":\"WBlKEcBvBUAjyxF2Yv4FQAuNV//dVQZA3DB/K39tBkDJFavZSxIIQHXT3nRCGQhAgT9aoSlBCECnCRa2jXkJQCkxNqV05RJAdeVOnC3NIUA=\",\"dtype\":\"float64\",\"shape\":[10]},\"top_words\":[\"polygons\",\"format\",\"tiff\",\"computer\",\"images\",\"files\",\"polygon\",\"animation\",\"image\",\"graphics\"],\"x_label\":[0.2,0.2,0.2,0.2,0.2,0.2,0.2,0.2,0.2,0.2]},\"selected\":{\"id\":\"df9c0a63-8a6b-4fe5-b2c4-96b43c563e60\",\"type\":\"Selection\"},\"selection_policy\":{\"id\":\"c887ac7d-ee54-4450-a104-e3bee637fe7c\",\"type\":\"UnionRenderers\"}},\"id\":\"7b302c73-44fb-4c46-a9dc-db1aab976c5a\",\"type\":\"ColumnDataSource\"},{\"attributes\":{\"source\":{\"id\":\"01f41b7a-8d98-4954-aba4-bb36cad55231\",\"type\":\"ColumnDataSource\"}},\"id\":\"fa02baa8-092e-4c10-85b5-88d16752e858\",\"type\":\"CDSView\"},{\"attributes\":{\"dimension\":1,\"plot\":{\"id\":\"e72b79bc-cc7d-4b4a-aae6-1427193e291b\",\"subtype\":\"Figure\",\"type\":\"Plot\"},\"ticker\":{\"id\":\"61cc6b3e-e499-4ef3-9d6b-f7cfd9b0aae5\",\"type\":\"BasicTicker\"}},\"id\":\"81abc076-25c9-4845-ae66-2bf51c9ad72a\",\"type\":\"Grid\"},{\"attributes\":{\"callback\":null,\"tabs\":[{\"id\":\"2f94ac37-1a9c-452b-9643-baca7f804cec\",\"type\":\"Panel\"},{\"id\":\"5196ded0-8405-40a8-a3c7-1abe118c3573\",\"type\":\"Panel\"},{\"id\":\"e0b84a91-9511-4347-b2b8-86e988888082\",\"type\":\"Panel\"},{\"id\":\"ddbfe577-78e0-4f0b-8e09-843ab4be234e\",\"type\":\"Panel\"},{\"id\":\"4a2aad49-ae41-4357-ad6b-6522f049533a\",\"type\":\"Panel\"},{\"id\":\"0cdb4571-ed85-4ddd-bf26-c8aad8c66864\",\"type\":\"Panel\"},{\"id\":\"5501155b-60c5-4294-ba2b-7f557f6b503f\",\"type\":\"Panel\"},{\"id\":\"b5881935-4e07-43a8-87c3-30a9e8b80409\",\"type\":\"Panel\"},{\"id\":\"5123008e-63df-4d4d-905d-93e49de076ac\",\"type\":\"Panel\"},{\"id\":\"eab7052c-e8d8-4c8c-9ee3-b93857fe143e\",\"type\":\"Panel\"},{\"id\":\"a5b61149-3989-437a-b500-b8b423bc5d6a\",\"type\":\"Panel\"},{\"id\":\"5fefbf29-1842-4348-b781-fb1c47f56614\",\"type\":\"Panel\"},{\"id\":\"3dcb7bc6-ff8f-424a-96a4-2dfb430d939b\",\"type\":\"Panel\"},{\"id\":\"2f3f904f-1851-4855-a4f9-728d908c51b1\",\"type\":\"Panel\"},{\"id\":\"b2a17edc-f92a-4878-8918-31c7626efb72\",\"type\":\"Panel\"},{\"id\":\"a4717fc9-d16a-4c7b-8475-4a8ee87f8166\",\"type\":\"Panel\"},{\"id\":\"36d4782b-24fd-4163-b263-dbe56b129e41\",\"type\":\"Panel\"},{\"id\":\"d41b1d94-accd-45dd-9f05-c6bb6efc9b7b\",\"type\":\"Panel\"},{\"id\":\"a19b8d5e-95b0-455c-bf95-2799bd407054\",\"type\":\"Panel\"},{\"id\":\"b1e280f4-1f7f-4dc5-a8c9-f633538e51f6\",\"type\":\"Panel\"}]},\"id\":\"14d49b8e-c140-4747-b3b3-12eda3245cbb\",\"type\":\"Tabs\"},{\"attributes\":{\"dimension\":1,\"plot\":{\"id\":\"4b3b88e0-2ae8-4269-9f5e-bd3e96084aa4\",\"subtype\":\"Figure\",\"type\":\"Plot\"},\"ticker\":{\"id\":\"87372a56-8b2d-4593-897f-1e67baf91404\",\"type\":\"BasicTicker\"}},\"id\":\"e5822a6d-9b5d-4798-8c89-cde7dcb76d6b\",\"type\":\"Grid\"},{\"attributes\":{\"data_source\":{\"id\":\"01f41b7a-8d98-4954-aba4-bb36cad55231\",\"type\":\"ColumnDataSource\"},\"glyph\":{\"id\":\"a40fb751-2b63-4362-b9bf-aeae160d9ebf\",\"type\":\"HBar\"},\"hover_glyph\":null,\"muted_glyph\":null,\"nonselection_glyph\":{\"id\":\"513f88a9-9cbe-43c4-9b88-35cc55e155d3\",\"type\":\"HBar\"},\"selection_glyph\":null,\"view\":{\"id\":\"fa02baa8-092e-4c10-85b5-88d16752e858\",\"type\":\"CDSView\"}},\"id\":\"d4f40f08-eff7-459e-be45-b819654f3f9b\",\"type\":\"GlyphRenderer\"},{\"attributes\":{\"align\":\"center\",\"plot\":null,\"text\":\"Feature Importance for \\\"comp.graphics\\\"\",\"text_font\":\"Helvetica\",\"text_font_size\":{\"value\":\"24px\"},\"text_font_style\":\"italic\"},\"id\":\"c84af265-b35c-46c0-b293-e8b42161e698\",\"type\":\"Title\"},{\"attributes\":{\"callback\":null,\"data\":{\"index\":[0,1,2,3,4,5,6,7,8,9],\"top_scores\":{\"__ndarray__\":\"g7P3yOg1B0Dr93PKQWgHQLUAHEdmlgdAgS2d2poHCUCDJdjHCJkJQHd8JGdxoAlAjlz54xtcDUAXbd52D94QQH6jMg/FdBFAkRJFcb9dFEA=\",\"dtype\":\"float64\",\"shape\":[10]},\"top_words\":[\"jaeger\",\"atheist\",\"islam\",\"livesey\",\"religion\",\"cobb\",\"atheists\",\"mathew\",\"atheism\",\"keith\"],\"x_label\":[0.2,0.2,0.2,0.2,0.2,0.2,0.2,0.2,0.2,0.2]},\"selected\":{\"id\":\"6f8bbc23-f0e0-4837-9f0e-fbec9b770943\",\"type\":\"Selection\"},\"selection_policy\":{\"id\":\"3df29c38-fcfd-49f0-b224-f2fe8b6360a2\",\"type\":\"UnionRenderers\"}},\"id\":\"01f41b7a-8d98-4954-aba4-bb36cad55231\",\"type\":\"ColumnDataSource\"},{\"attributes\":{},\"id\":\"61cc6b3e-e499-4ef3-9d6b-f7cfd9b0aae5\",\"type\":\"BasicTicker\"},{\"attributes\":{\"callback\":null},\"id\":\"86427baf-5740-4995-8232-b959d9e089a5\",\"type\":\"DataRange1d\"},{\"attributes\":{},\"id\":\"070d8f2b-f8a8-4c46-8cea-96c636c0701c\",\"type\":\"LinearScale\"},{\"attributes\":{},\"id\":\"1a686a6a-a743-426e-859a-89010d9ba8b4\",\"type\":\"LinearScale\"},{\"attributes\":{\"callback\":null,\"renderers\":\"auto\",\"tooltips\":[[\"Importance\",\"@top_scores\"]]},\"id\":\"4ef7c4e5-b85d-4853-81cf-9b6cd38bf081\",\"type\":\"HoverTool\"},{\"attributes\":{},\"id\":\"2efde8ee-3894-44d1-a94d-a4214ff33eff\",\"type\":\"BasicTicker\"},{\"attributes\":{\"callback\":null,\"overlay\":{\"id\":\"4b520834-b851-4f81-918b-a9012152f497\",\"type\":\"BoxAnnotation\"}},\"id\":\"7e7acbb2-1c6f-4158-a792-eb8c17a79016\",\"type\":\"BoxSelectTool\"},{\"attributes\":{},\"id\":\"320e8741-9a43-4576-bd8e-39aad0de4f0f\",\"type\":\"SaveTool\"},{\"attributes\":{\"callback\":null,\"data\":{\"index\":[0,1,2,3,4,5,6,7,8,9],\"top_scores\":{\"__ndarray__\":\"+8sppB+2AkCFZu+N9AoDQO0X3RdlLQNA1JcDV/gKBEDeIjA6jt0IQJB72sJzbwpATXERIoeZCkCoaydfP4YPQIjbqAni4hFAe22rlemCJkA=\",\"dtype\":\"float64\",\"shape\":[10]},\"top_words\":[\"access\",\"font\",\"using\",\"drivers\",\"files\",\"driver\",\"cica\",\"microsoft\",\"file\",\"windows\"],\"x_label\":[0.2,0.2,0.2,0.2,0.2,0.2,0.2,0.2,0.2,0.2]},\"selected\":{\"id\":\"b4b25184-2358-4951-954b-7f4ae6b16b1d\",\"type\":\"Selection\"},\"selection_policy\":{\"id\":\"bfd37ca8-da2e-4aa3-9929-ae3b8c96c2e0\",\"type\":\"UnionRenderers\"}},\"id\":\"dfb38f2e-0947-4a1c-8c27-86868fb0b181\",\"type\":\"ColumnDataSource\"},{\"attributes\":{\"bottom_units\":\"screen\",\"fill_alpha\":{\"value\":0.5},\"fill_color\":{\"value\":\"lightgrey\"},\"left_units\":\"screen\",\"level\":\"overlay\",\"line_alpha\":{\"value\":1.0},\"line_color\":{\"value\":\"black\"},\"line_dash\":[4,4],\"line_width\":{\"value\":2},\"plot\":null,\"render_mode\":\"css\",\"right_units\":\"screen\",\"top_units\":\"screen\"},\"id\":\"4b520834-b851-4f81-918b-a9012152f497\",\"type\":\"BoxAnnotation\"},{\"attributes\":{\"axis_label\":\"Most important words\",\"axis_label_text_font_size\":{\"value\":\"16px\"},\"formatter\":{\"id\":\"bc0026e8-e84f-4d5f-93aa-3010e26e24cc\",\"type\":\"BasicTickFormatter\"},\"plot\":{\"id\":\"e72b79bc-cc7d-4b4a-aae6-1427193e291b\",\"subtype\":\"Figure\",\"type\":\"Plot\"},\"ticker\":{\"id\":\"61cc6b3e-e499-4ef3-9d6b-f7cfd9b0aae5\",\"type\":\"BasicTicker\"}},\"id\":\"bdc4f286-067b-47e9-940b-ddbc6ef16493\",\"type\":\"LinearAxis\"},{\"attributes\":{\"align\":\"center\",\"plot\":null,\"text\":\"Feature Importance for \\\"alt.atheism\\\"\",\"text_font\":\"Helvetica\",\"text_font_size\":{\"value\":\"24px\"},\"text_font_style\":\"italic\"},\"id\":\"a3d0d768-30c6-4cc3-8ef0-4ae06b06539b\",\"type\":\"Title\"}],\"root_ids\":[\"14d49b8e-c140-4747-b3b3-12eda3245cbb\"]},\"title\":\"Bokeh Application\",\"version\":\"0.13.0\"}};\n",
       "  var render_items = [{\"docid\":\"7137a0f4-52ee-40a4-a215-ff6b94153a45\",\"roots\":{\"14d49b8e-c140-4747-b3b3-12eda3245cbb\":\"e08c36ea-e5a9-425a-bea7-12d806f66e07\"}}];\n",
       "  root.Bokeh.embed.embed_items_notebook(docs_json, render_items);\n",
       "\n",
       "  }\n",
       "  if (root.Bokeh !== undefined) {\n",
       "    embed_document(root);\n",
       "  } else {\n",
       "    var attempts = 0;\n",
       "    var timer = setInterval(function(root) {\n",
       "      if (root.Bokeh !== undefined) {\n",
       "        embed_document(root);\n",
       "        clearInterval(timer);\n",
       "      }\n",
       "      attempts++;\n",
       "      if (attempts > 100) {\n",
       "        console.log(\"Bokeh: ERROR: Unable to run BokehJS code because BokehJS library is missing\")\n",
       "        clearInterval(timer);\n",
       "      }\n",
       "    }, 10, root)\n",
       "  }\n",
       "})(window);"
      ],
      "application/vnd.bokehjs_exec.v0+json": ""
     },
     "metadata": {
      "application/vnd.bokehjs_exec.v0+json": {
       "id": "14d49b8e-c140-4747-b3b3-12eda3245cbb"
      }
     },
     "output_type": "display_data"
    }
   ],
   "source": [
    "plot_important_words(importance, lgr_clf.classes_)"
   ]
  },
  {
   "cell_type": "markdown",
   "metadata": {},
   "source": [
    "### Most frequent words"
   ]
  },
  {
   "cell_type": "code",
   "execution_count": 30,
   "metadata": {},
   "outputs": [],
   "source": [
    "from mltools.textMining.features_importance import plot_word_freq"
   ]
  },
  {
   "cell_type": "code",
   "execution_count": 31,
   "metadata": {},
   "outputs": [
    {
     "data": {
      "text/html": [
       "\n",
       "\n",
       "\n",
       "\n",
       "\n",
       "\n",
       "  <div class=\"bk-root\" id=\"a2c9bdc9-0948-4bbc-b89a-288bb3295775\"></div>\n"
      ]
     },
     "metadata": {},
     "output_type": "display_data"
    },
    {
     "data": {
      "application/javascript": [
       "(function(root) {\n",
       "  function embed_document(root) {\n",
       "    \n",
       "  var docs_json = {\"b3e247b4-049c-483b-a39a-d90cbfb5fad8\":{\"roots\":{\"references\":[{\"attributes\":{\"callback\":null,\"mode\":\"vline\",\"renderers\":\"auto\",\"tooltips\":[[\"Word\",\"@word\"],[\"Count\",\"@count\"]]},\"id\":\"ae84fc8d-be57-4f8b-964c-df311860e14e\",\"type\":\"HoverTool\"},{\"attributes\":{\"source\":{\"id\":\"a55f433f-5894-44ef-b43b-bcba0f5964df\",\"type\":\"ColumnDataSource\"}},\"id\":\"becb4ff0-c2c8-41e9-be15-ddc63f017b31\",\"type\":\"CDSView\"},{\"attributes\":{},\"id\":\"09a58371-f53e-4232-8aad-54634eddec4c\",\"type\":\"BasicTicker\"},{\"attributes\":{\"bottom_units\":\"screen\",\"fill_alpha\":{\"value\":0.5},\"fill_color\":{\"value\":\"lightgrey\"},\"left_units\":\"screen\",\"level\":\"overlay\",\"line_alpha\":{\"value\":1.0},\"line_color\":{\"value\":\"black\"},\"line_dash\":[4,4],\"line_width\":{\"value\":2},\"plot\":null,\"render_mode\":\"css\",\"right_units\":\"screen\",\"top_units\":\"screen\"},\"id\":\"1c34a016-c097-47c4-a077-06ba717f747b\",\"type\":\"BoxAnnotation\"},{\"attributes\":{\"callback\":null,\"overlay\":{\"id\":\"f352ec61-c7aa-4736-8bbd-183c1d6868a6\",\"type\":\"BoxAnnotation\"}},\"id\":\"defd3c6f-b2b9-42d5-a33f-ba6559fc655a\",\"type\":\"BoxSelectTool\"},{\"attributes\":{\"dimension\":1,\"plot\":{\"id\":\"fe3bf257-25e6-433e-801e-15efcc690b52\",\"subtype\":\"Figure\",\"type\":\"Plot\"},\"ticker\":{\"id\":\"09a58371-f53e-4232-8aad-54634eddec4c\",\"type\":\"BasicTicker\"}},\"id\":\"15c7497e-7c4f-4a76-98e0-d361dcccedb4\",\"type\":\"Grid\"},{\"attributes\":{\"child\":{\"id\":\"7f40c2b2-14e1-43aa-928d-89cb15e7b31e\",\"subtype\":\"Figure\",\"type\":\"Plot\"},\"title\":\"comp.windows.x\"},\"id\":\"557db2b4-e6ad-4028-8adc-98642aeb55ee\",\"type\":\"Panel\"},{\"attributes\":{},\"id\":\"64431773-08a8-453e-82c5-df3312999e1f\",\"type\":\"CategoricalTickFormatter\"},{\"attributes\":{\"active_drag\":\"auto\",\"active_inspect\":\"auto\",\"active_multi\":null,\"active_scroll\":\"auto\",\"active_tap\":\"auto\",\"tools\":[{\"id\":\"27666520-a281-4e3e-a488-e9fe58e653d4\",\"type\":\"BoxSelectTool\"},{\"id\":\"78562444-9425-487d-afe9-f630d41b16fd\",\"type\":\"PanTool\"},{\"id\":\"fb6ad302-c364-4101-b76d-4a3be4079f42\",\"type\":\"ResetTool\"},{\"id\":\"7816f38d-6e46-4455-97b1-ea56b2d22451\",\"type\":\"SaveTool\"},{\"id\":\"229eae2b-2ce2-4092-8745-6c3f65659d96\",\"type\":\"HoverTool\"}]},\"id\":\"aea60423-1012-43b6-9f57-d0fb5112b31b\",\"type\":\"Toolbar\"},{\"attributes\":{},\"id\":\"ec83ff69-89c5-4651-8d26-3c57bd52ecdc\",\"type\":\"BasicTickFormatter\"},{\"attributes\":{},\"id\":\"a5b7ad1e-e4d4-4b74-8a83-ff8e104fd9fe\",\"type\":\"CategoricalTickFormatter\"},{\"attributes\":{\"callback\":null,\"data\":{\"count\":[449,374,341,332,323,302,281,269,266,240,240,235,235,221,219,214,205,193,185,179,178,178,177,175,171,169,165,164,155,152,150,148,143,143,140,139,138,134,123,122,122,122,121,120,120,119,119,116,115,115],\"index\":[0,1,2,3,4,5,6,7,8,9,10,11,12,13,14,15,16,17,18,19,20,21,22,23,24,25,26,27,28,29,30,31,32,33,34,35,36,37,38,39,40,41,42,43,44,45,46,47,48,49],\"word\":[\"sale\",\"please\",\"shipping\",\"offer\",\"mail\",\"price\",\"drive\",\"condition\",\"asking\",\"email\",\"like\",\"interested\",\"good\",\"system\",\"used\",\"would\",\"sell\",\"card\",\"call\",\"make\",\"best\",\"software\",\"thanks\",\"list\",\"original\",\"cover\",\"also\",\"send\",\"excellent\",\"power\",\"wolverine\",\"appears\",\"know\",\"great\",\"hard\",\"following\",\"computer\",\"want\",\"package\",\"games\",\"disk\",\"time\",\"included\",\"need\",\"phone\",\"well\",\"book\",\"comics\",\"looking\",\"manual\"]},\"selected\":{\"id\":\"3803a35f-6503-4560-9dc9-1dc62860f158\",\"type\":\"Selection\"},\"selection_policy\":{\"id\":\"859f40cc-d8e1-4fb5-b9cd-8882b0626a99\",\"type\":\"UnionRenderers\"}},\"id\":\"7470ddfa-7fde-406a-a4ba-3bde6d547cb3\",\"type\":\"ColumnDataSource\"},{\"attributes\":{},\"id\":\"f72eb8d2-6d7f-477a-b978-538a61f72a4f\",\"type\":\"BasicTickFormatter\"},{\"attributes\":{\"line_alpha\":0.1,\"line_color\":\"#1f77b4\",\"x\":{\"field\":\"word\"},\"y\":{\"field\":\"count\"}},\"id\":\"f3f87cfd-b7c8-4e33-9ae0-13faa9ce4e1e\",\"type\":\"Line\"},{\"attributes\":{\"callback\":null,\"data\":{\"count\":[893,810,783,558,453,326,323,283,274,268,255,248,227,215,214,211,201,199,197,193,193,192,186,186,179,176,175,175,173,162,162,160,159,155,153,150,148,147,145,142,137,136,135,130,130,130,126,125,120,116],\"index\":[0,1,2,3,4,5,6,7,8,9,10,11,12,13,14,15,16,17,18,19,20,21,22,23,24,25,26,27,28,29,30,31,32,33,34,35,36,37,38,39,40,41,42,43,44,45,46,47,48,49],\"word\":[\"writes\",\"bike\",\"article\",\"like\",\"would\",\"know\",\"ride\",\"good\",\"well\",\"time\",\"right\",\"back\",\"think\",\"riding\",\"motorcycle\",\"much\",\"first\",\"even\",\"also\",\"bikes\",\"make\",\"anyone\",\"really\",\"thing\",\"road\",\"could\",\"front\",\"people\",\"going\",\"list\",\"little\",\"helmet\",\"left\",\"want\",\"take\",\"still\",\"never\",\"need\",\"work\",\"something\",\"around\",\"last\",\"used\",\"sure\",\"rider\",\"keep\",\"motorcycles\",\"least\",\"mike\",\"side\"]},\"selected\":{\"id\":\"ed10184c-87ea-4e16-9fd4-4badb9daba76\",\"type\":\"Selection\"},\"selection_policy\":{\"id\":\"c78c231e-3100-4788-b987-269d5484182d\",\"type\":\"UnionRenderers\"}},\"id\":\"70a27af1-6431-45fd-8a00-65bff27e9aaa\",\"type\":\"ColumnDataSource\"},{\"attributes\":{},\"id\":\"03759904-f800-4867-89f1-8a78e9e644a8\",\"type\":\"SaveTool\"},{\"attributes\":{\"active_drag\":\"auto\",\"active_inspect\":\"auto\",\"active_multi\":null,\"active_scroll\":\"auto\",\"active_tap\":\"auto\",\"tools\":[{\"id\":\"5046ebcb-c61e-4dc0-84de-a00b6bf7a02d\",\"type\":\"BoxSelectTool\"},{\"id\":\"f33595c2-db64-4421-b823-39a31e0be3f7\",\"type\":\"PanTool\"},{\"id\":\"d5dfbbad-df4f-4f53-87a9-3aa110d8ba66\",\"type\":\"ResetTool\"},{\"id\":\"4a226dd2-def6-458d-b78e-85ff38da9245\",\"type\":\"SaveTool\"},{\"id\":\"68c148b2-e7e1-421f-9704-bc27fa231314\",\"type\":\"HoverTool\"}]},\"id\":\"fcc611b2-4511-42c9-98da-06a6b8d18393\",\"type\":\"Toolbar\"},{\"attributes\":{},\"id\":\"dd19cdfd-87dd-46ee-9964-7693dc9244ae\",\"type\":\"PanTool\"},{\"attributes\":{\"axis_label\":\"Count\",\"formatter\":{\"id\":\"66cbdeae-8885-4772-b6ef-c1d37ceaf5b6\",\"type\":\"BasicTickFormatter\"},\"plot\":{\"id\":\"7a107ee3-211b-4870-bd2f-746e94806ed5\",\"subtype\":\"Figure\",\"type\":\"Plot\"},\"ticker\":{\"id\":\"92670357-b41a-4290-a146-3110aa86154a\",\"type\":\"BasicTicker\"}},\"id\":\"74e02b96-7e6c-46a9-94de-bb2fb7cec411\",\"type\":\"LinearAxis\"},{\"attributes\":{},\"id\":\"dcee0fc3-9a9c-4fa4-a021-4dd0c2e61060\",\"type\":\"ResetTool\"},{\"attributes\":{\"callback\":null,\"factors\":[\"sale\",\"please\",\"shipping\",\"offer\",\"mail\",\"price\",\"drive\",\"condition\",\"asking\",\"email\",\"like\",\"interested\",\"good\",\"system\",\"used\",\"would\",\"sell\",\"card\",\"call\",\"make\",\"best\",\"software\",\"thanks\",\"list\",\"original\",\"cover\",\"also\",\"send\",\"excellent\",\"power\",\"wolverine\",\"appears\",\"know\",\"great\",\"hard\",\"following\",\"computer\",\"want\",\"package\",\"games\",\"disk\",\"time\",\"included\",\"need\",\"phone\",\"well\",\"book\",\"comics\",\"looking\",\"manual\"]},\"id\":\"82dc7568-3c15-4e7f-8a0e-97e0c7c515a7\",\"type\":\"FactorRange\"},{\"attributes\":{\"bottom_units\":\"screen\",\"fill_alpha\":{\"value\":0.5},\"fill_color\":{\"value\":\"lightgrey\"},\"left_units\":\"screen\",\"level\":\"overlay\",\"line_alpha\":{\"value\":1.0},\"line_color\":{\"value\":\"black\"},\"line_dash\":[4,4],\"line_width\":{\"value\":2},\"plot\":null,\"render_mode\":\"css\",\"right_units\":\"screen\",\"top_units\":\"screen\"},\"id\":\"f352ec61-c7aa-4736-8bbd-183c1d6868a6\",\"type\":\"BoxAnnotation\"},{\"attributes\":{\"below\":[{\"id\":\"eb14280b-7c79-463d-a949-28d90212a196\",\"type\":\"CategoricalAxis\"}],\"left\":[{\"id\":\"74e02b96-7e6c-46a9-94de-bb2fb7cec411\",\"type\":\"LinearAxis\"}],\"plot_width\":800,\"renderers\":[{\"id\":\"eb14280b-7c79-463d-a949-28d90212a196\",\"type\":\"CategoricalAxis\"},{\"id\":\"580b189e-bf03-4f51-bd5e-2aad8b1b949b\",\"type\":\"Grid\"},{\"id\":\"74e02b96-7e6c-46a9-94de-bb2fb7cec411\",\"type\":\"LinearAxis\"},{\"id\":\"68dfbc4d-cffe-4154-9995-f025e2f4f744\",\"type\":\"Grid\"},{\"id\":\"8aa49a97-ba50-4456-b2e8-2cdaf19f8997\",\"type\":\"BoxAnnotation\"},{\"id\":\"eeef8413-5856-4b30-91d2-c8ca3017206f\",\"type\":\"GlyphRenderer\"}],\"title\":{\"id\":\"2631ad67-2aac-4e36-a92b-91fd7f38ff6c\",\"type\":\"Title\"},\"toolbar\":{\"id\":\"fcc611b2-4511-42c9-98da-06a6b8d18393\",\"type\":\"Toolbar\"},\"x_range\":{\"id\":\"82dc7568-3c15-4e7f-8a0e-97e0c7c515a7\",\"type\":\"FactorRange\"},\"x_scale\":{\"id\":\"ab88aa13-329f-4b17-a9c7-f4c77c01e681\",\"type\":\"CategoricalScale\"},\"y_range\":{\"id\":\"0edc144e-229a-4429-9411-5e552e002e95\",\"type\":\"DataRange1d\"},\"y_scale\":{\"id\":\"9872a639-9369-4a8d-a959-1053675448f0\",\"type\":\"LinearScale\"}},\"id\":\"7a107ee3-211b-4870-bd2f-746e94806ed5\",\"subtype\":\"Figure\",\"type\":\"Plot\"},{\"attributes\":{},\"id\":\"5f660a6a-aa98-4a5c-9824-da091b1c7a12\",\"type\":\"BasicTickFormatter\"},{\"attributes\":{\"callback\":null},\"id\":\"0edc144e-229a-4429-9411-5e552e002e95\",\"type\":\"DataRange1d\"},{\"attributes\":{},\"id\":\"15b39fc0-0f6f-4d5d-b68e-f4a2c51894d2\",\"type\":\"CategoricalTickFormatter\"},{\"attributes\":{},\"id\":\"ab88aa13-329f-4b17-a9c7-f4c77c01e681\",\"type\":\"CategoricalScale\"},{\"attributes\":{},\"id\":\"43b2301c-0b61-4bd8-9bec-ec8c8c530131\",\"type\":\"CategoricalTickFormatter\"},{\"attributes\":{},\"id\":\"9872a639-9369-4a8d-a959-1053675448f0\",\"type\":\"LinearScale\"},{\"attributes\":{},\"id\":\"0bcf02f2-3691-4f52-b666-6bba4f3dd103\",\"type\":\"BasicTickFormatter\"},{\"attributes\":{\"plot\":{\"id\":\"7a107ee3-211b-4870-bd2f-746e94806ed5\",\"subtype\":\"Figure\",\"type\":\"Plot\"},\"ticker\":{\"id\":\"79ab8086-7e30-478d-957d-72596d999d1e\",\"type\":\"CategoricalTicker\"}},\"id\":\"580b189e-bf03-4f51-bd5e-2aad8b1b949b\",\"type\":\"Grid\"},{\"attributes\":{},\"id\":\"c72c9f20-8828-47d8-8879-c9ecedddd053\",\"type\":\"CategoricalTickFormatter\"},{\"attributes\":{\"axis_label\":\"Samples\",\"formatter\":{\"id\":\"245fca53-06a6-4084-8f0a-fb631c3a374a\",\"type\":\"CategoricalTickFormatter\"},\"major_label_orientation\":1.5707963267948966,\"plot\":{\"id\":\"7a107ee3-211b-4870-bd2f-746e94806ed5\",\"subtype\":\"Figure\",\"type\":\"Plot\"},\"ticker\":{\"id\":\"79ab8086-7e30-478d-957d-72596d999d1e\",\"type\":\"CategoricalTicker\"}},\"id\":\"eb14280b-7c79-463d-a949-28d90212a196\",\"type\":\"CategoricalAxis\"},{\"attributes\":{},\"id\":\"2dcb28c0-4247-43b5-8264-8ce93982185b\",\"type\":\"CategoricalTickFormatter\"},{\"attributes\":{},\"id\":\"9dd6fd30-5d10-40d8-bc19-6cedd6158f82\",\"type\":\"BasicTickFormatter\"},{\"attributes\":{},\"id\":\"79ab8086-7e30-478d-957d-72596d999d1e\",\"type\":\"CategoricalTicker\"},{\"attributes\":{},\"id\":\"a16b6905-0d7a-4b48-814d-8d2988f6a1ea\",\"type\":\"CategoricalTickFormatter\"},{\"attributes\":{\"line_color\":\"#1f77b4\",\"x\":{\"field\":\"word\"},\"y\":{\"field\":\"count\"}},\"id\":\"a7906018-9fa0-4343-bf6f-14735e76c28e\",\"type\":\"Line\"},{\"attributes\":{},\"id\":\"92670357-b41a-4290-a146-3110aa86154a\",\"type\":\"BasicTicker\"},{\"attributes\":{},\"id\":\"66cbdeae-8885-4772-b6ef-c1d37ceaf5b6\",\"type\":\"BasicTickFormatter\"},{\"attributes\":{\"dimension\":1,\"plot\":{\"id\":\"7a107ee3-211b-4870-bd2f-746e94806ed5\",\"subtype\":\"Figure\",\"type\":\"Plot\"},\"ticker\":{\"id\":\"92670357-b41a-4290-a146-3110aa86154a\",\"type\":\"BasicTicker\"}},\"id\":\"68dfbc4d-cffe-4154-9995-f025e2f4f744\",\"type\":\"Grid\"},{\"attributes\":{},\"id\":\"245fca53-06a6-4084-8f0a-fb631c3a374a\",\"type\":\"CategoricalTickFormatter\"},{\"attributes\":{},\"id\":\"00e93108-49ee-4b75-9710-1561537ea277\",\"type\":\"BasicTickFormatter\"},{\"attributes\":{\"line_color\":\"#1f77b4\",\"x\":{\"field\":\"word\"},\"y\":{\"field\":\"count\"}},\"id\":\"d59ee8ac-43eb-4f64-930e-8bc70d5bd9cd\",\"type\":\"Line\"},{\"attributes\":{\"align\":\"center\",\"plot\":null,\"text\":\"Word frequency for \\\"misc.forsale\\\"\",\"text_font\":\"Helvetica\",\"text_font_size\":{\"value\":\"24px\"}},\"id\":\"2631ad67-2aac-4e36-a92b-91fd7f38ff6c\",\"type\":\"Title\"},{\"attributes\":{},\"id\":\"ce25ff9a-d149-4e4b-aeb7-3a65b3d9ff31\",\"type\":\"BasicTickFormatter\"},{\"attributes\":{\"callback\":null,\"mode\":\"vline\",\"renderers\":\"auto\",\"tooltips\":[[\"Word\",\"@word\"],[\"Count\",\"@count\"]]},\"id\":\"68c148b2-e7e1-421f-9704-bc27fa231314\",\"type\":\"HoverTool\"},{\"attributes\":{},\"id\":\"3449e35d-8244-49d4-9e21-0b70766ef6ee\",\"type\":\"CategoricalTickFormatter\"},{\"attributes\":{\"callback\":null,\"overlay\":{\"id\":\"8aa49a97-ba50-4456-b2e8-2cdaf19f8997\",\"type\":\"BoxAnnotation\"}},\"id\":\"5046ebcb-c61e-4dc0-84de-a00b6bf7a02d\",\"type\":\"BoxSelectTool\"},{\"attributes\":{},\"id\":\"ffc3c2a0-bf4e-482c-b5a4-801d684357f1\",\"type\":\"BasicTickFormatter\"},{\"attributes\":{\"source\":{\"id\":\"7470ddfa-7fde-406a-a4ba-3bde6d547cb3\",\"type\":\"ColumnDataSource\"}},\"id\":\"c11214e9-5778-490d-aa00-de0b44584454\",\"type\":\"CDSView\"},{\"attributes\":{},\"id\":\"d20d8e81-d52a-4207-a835-f762b21ef4e2\",\"type\":\"CategoricalTickFormatter\"},{\"attributes\":{},\"id\":\"f33595c2-db64-4421-b823-39a31e0be3f7\",\"type\":\"PanTool\"},{\"attributes\":{},\"id\":\"2d78ae3d-7b2b-4509-b4fe-7d7c7eb0b926\",\"type\":\"BasicTickFormatter\"},{\"attributes\":{},\"id\":\"d5dfbbad-df4f-4f53-87a9-3aa110d8ba66\",\"type\":\"ResetTool\"},{\"attributes\":{},\"id\":\"7330df09-ff2b-477d-8893-e3df7afccae8\",\"type\":\"CategoricalTickFormatter\"},{\"attributes\":{},\"id\":\"4a226dd2-def6-458d-b78e-85ff38da9245\",\"type\":\"SaveTool\"},{\"attributes\":{},\"id\":\"aa8af345-60d7-4120-89ac-ec2ea6dd2361\",\"type\":\"BasicTickFormatter\"},{\"attributes\":{\"bottom_units\":\"screen\",\"fill_alpha\":{\"value\":0.5},\"fill_color\":{\"value\":\"lightgrey\"},\"left_units\":\"screen\",\"level\":\"overlay\",\"line_alpha\":{\"value\":1.0},\"line_color\":{\"value\":\"black\"},\"line_dash\":[4,4],\"line_width\":{\"value\":2},\"plot\":null,\"render_mode\":\"css\",\"right_units\":\"screen\",\"top_units\":\"screen\"},\"id\":\"8aa49a97-ba50-4456-b2e8-2cdaf19f8997\",\"type\":\"BoxAnnotation\"},{\"attributes\":{},\"id\":\"70dbf5cb-9d9c-4501-b9dd-21ea148a125b\",\"type\":\"CategoricalTickFormatter\"},{\"attributes\":{\"line_alpha\":0.1,\"line_color\":\"#1f77b4\",\"x\":{\"field\":\"word\"},\"y\":{\"field\":\"count\"}},\"id\":\"ce4e9dcf-d93d-4444-af93-b4f445fe45cc\",\"type\":\"Line\"},{\"attributes\":{},\"id\":\"26657fbf-5826-440e-ac04-bf0e83bd4e6d\",\"type\":\"BasicTickFormatter\"},{\"attributes\":{\"data_source\":{\"id\":\"7470ddfa-7fde-406a-a4ba-3bde6d547cb3\",\"type\":\"ColumnDataSource\"},\"glyph\":{\"id\":\"a7906018-9fa0-4343-bf6f-14735e76c28e\",\"type\":\"Line\"},\"hover_glyph\":null,\"muted_glyph\":null,\"nonselection_glyph\":{\"id\":\"ce4e9dcf-d93d-4444-af93-b4f445fe45cc\",\"type\":\"Line\"},\"selection_glyph\":null,\"view\":{\"id\":\"c11214e9-5778-490d-aa00-de0b44584454\",\"type\":\"CDSView\"}},\"id\":\"eeef8413-5856-4b30-91d2-c8ca3017206f\",\"type\":\"GlyphRenderer\"},{\"attributes\":{},\"id\":\"539ae0d4-9afc-4c12-a6de-a0ff00f92087\",\"type\":\"CategoricalTickFormatter\"},{\"attributes\":{\"child\":{\"id\":\"7a107ee3-211b-4870-bd2f-746e94806ed5\",\"subtype\":\"Figure\",\"type\":\"Plot\"},\"title\":\"misc.forsale\"},\"id\":\"a3838978-a3a6-4dd1-9536-06bc973aedaa\",\"type\":\"Panel\"},{\"attributes\":{},\"id\":\"e588e1a5-826e-4f31-a806-3a2aa9799513\",\"type\":\"BasicTickFormatter\"},{\"attributes\":{},\"id\":\"7f9d6375-b09f-45a5-9f3c-4e0b4f66a76a\",\"type\":\"BasicTickFormatter\"},{\"attributes\":{\"callback\":null,\"data\":{\"count\":[808,723,653,553,541,399,397,379,367,356,332,262,251,251,249,246,238,236,225,221,219,215,209,207,205,202,200,197,191,189,188,185,170,168,167,160,157,156,153,152,151,151,151,150,148,144,141,140,138,137],\"index\":[0,1,2,3,4,5,6,7,8,9,10,11,12,13,14,15,16,17,18,19,20,21,22,23,24,25,26,27,28,29,30,31,32,33,34,35,36,37,38,39,40,41,42,43,44,45,46,47,48,49],\"word\":[\"writes\",\"article\",\"would\",\"cars\",\"like\",\"know\",\"also\",\"good\",\"engine\",\"think\",\"much\",\"well\",\"could\",\"people\",\"time\",\"really\",\"anyone\",\"ford\",\"speed\",\"right\",\"dealer\",\"make\",\"back\",\"drive\",\"used\",\"price\",\"year\",\"even\",\"better\",\"problem\",\"want\",\"still\",\"around\",\"miles\",\"since\",\"many\",\"thanks\",\"years\",\"first\",\"driving\",\"power\",\"sure\",\"work\",\"take\",\"never\",\"please\",\"front\",\"road\",\"thing\",\"little\"]},\"selected\":{\"id\":\"b7792bdb-c2ef-429e-b94b-7bf01fa5a948\",\"type\":\"Selection\"},\"selection_policy\":{\"id\":\"e7db08fd-190d-4fe0-9dc7-12beabcd7e28\",\"type\":\"UnionRenderers\"}},\"id\":\"5e938d21-70a5-4f39-b099-402f1598283e\",\"type\":\"ColumnDataSource\"},{\"attributes\":{},\"id\":\"2bc7e9bd-b119-4de7-a2ff-779fd1d15b91\",\"type\":\"CategoricalTickFormatter\"},{\"attributes\":{},\"id\":\"352f5432-b0f8-43ea-a85e-9a9673605a1e\",\"type\":\"CategoricalTickFormatter\"},{\"attributes\":{\"callback\":null,\"mode\":\"vline\",\"renderers\":\"auto\",\"tooltips\":[[\"Word\",\"@word\"],[\"Count\",\"@count\"]]},\"id\":\"a4aa595f-3b68-40ac-8258-292ec24bfadb\",\"type\":\"HoverTool\"},{\"attributes\":{},\"id\":\"a7ea10b3-2585-45e2-96e8-fe5977ea690d\",\"type\":\"BasicTickFormatter\"},{\"attributes\":{\"active_drag\":\"auto\",\"active_inspect\":\"auto\",\"active_multi\":null,\"active_scroll\":\"auto\",\"active_tap\":\"auto\",\"tools\":[{\"id\":\"f83e734e-3e92-4101-aa5d-7aa1e5b5193d\",\"type\":\"BoxSelectTool\"},{\"id\":\"71ba35ef-060d-42fa-817e-3da26a2e39b3\",\"type\":\"PanTool\"},{\"id\":\"832a56ff-ba05-4bd1-8d63-dff565e351de\",\"type\":\"ResetTool\"},{\"id\":\"c4366e77-38ea-462c-a208-6736725e66e4\",\"type\":\"SaveTool\"},{\"id\":\"a4aa595f-3b68-40ac-8258-292ec24bfadb\",\"type\":\"HoverTool\"}]},\"id\":\"51ebd75c-9ff6-4342-a764-cfd2c6264b0d\",\"type\":\"Toolbar\"},{\"attributes\":{},\"id\":\"c1a7a38a-59d2-4852-82ff-78af63e94d4b\",\"type\":\"CategoricalTickFormatter\"},{\"attributes\":{\"axis_label\":\"Count\",\"formatter\":{\"id\":\"00e93108-49ee-4b75-9710-1561537ea277\",\"type\":\"BasicTickFormatter\"},\"plot\":{\"id\":\"0e940941-6d94-4f50-8797-54a1a5ed91ba\",\"subtype\":\"Figure\",\"type\":\"Plot\"},\"ticker\":{\"id\":\"437b1bd5-4e1d-43b4-98a8-4907b23880a9\",\"type\":\"BasicTicker\"}},\"id\":\"4370f314-a426-4a99-99d1-44fe31b5cbcb\",\"type\":\"LinearAxis\"},{\"attributes\":{},\"id\":\"e2959150-023c-4f5a-a32c-3d2f671ad196\",\"type\":\"BasicTickFormatter\"},{\"attributes\":{\"callback\":null,\"factors\":[\"writes\",\"article\",\"would\",\"cars\",\"like\",\"know\",\"also\",\"good\",\"engine\",\"think\",\"much\",\"well\",\"could\",\"people\",\"time\",\"really\",\"anyone\",\"ford\",\"speed\",\"right\",\"dealer\",\"make\",\"back\",\"drive\",\"used\",\"price\",\"year\",\"even\",\"better\",\"problem\",\"want\",\"still\",\"around\",\"miles\",\"since\",\"many\",\"thanks\",\"years\",\"first\",\"driving\",\"power\",\"sure\",\"work\",\"take\",\"never\",\"please\",\"front\",\"road\",\"thing\",\"little\"]},\"id\":\"ca8f02b4-0466-4559-87c0-c9331f20975e\",\"type\":\"FactorRange\"},{\"attributes\":{},\"id\":\"0d881cf1-d731-4db7-a6ea-8ada6d0faca0\",\"type\":\"CategoricalTickFormatter\"},{\"attributes\":{\"below\":[{\"id\":\"4152b222-45da-48f9-9969-9b75cf25ced4\",\"type\":\"CategoricalAxis\"}],\"left\":[{\"id\":\"4370f314-a426-4a99-99d1-44fe31b5cbcb\",\"type\":\"LinearAxis\"}],\"plot_width\":800,\"renderers\":[{\"id\":\"4152b222-45da-48f9-9969-9b75cf25ced4\",\"type\":\"CategoricalAxis\"},{\"id\":\"b1158f3b-0e7c-4017-a0c6-52767749f9d3\",\"type\":\"Grid\"},{\"id\":\"4370f314-a426-4a99-99d1-44fe31b5cbcb\",\"type\":\"LinearAxis\"},{\"id\":\"a684d2f2-f59b-47ac-928b-68d4f4f2519d\",\"type\":\"Grid\"},{\"id\":\"03c1ea73-1ab1-41c1-b538-2dcfd88c07cc\",\"type\":\"BoxAnnotation\"},{\"id\":\"76ca9aff-89ac-4ed1-ab6d-e16975eddd81\",\"type\":\"GlyphRenderer\"}],\"title\":{\"id\":\"a540b58b-0fdd-4ab3-a272-2c8e966c3932\",\"type\":\"Title\"},\"toolbar\":{\"id\":\"51ebd75c-9ff6-4342-a764-cfd2c6264b0d\",\"type\":\"Toolbar\"},\"x_range\":{\"id\":\"ca8f02b4-0466-4559-87c0-c9331f20975e\",\"type\":\"FactorRange\"},\"x_scale\":{\"id\":\"c282a7bd-a33e-4f76-afd1-7f6101b680b2\",\"type\":\"CategoricalScale\"},\"y_range\":{\"id\":\"94b5790b-ce14-49f0-a56f-8f1b4e483aa1\",\"type\":\"DataRange1d\"},\"y_scale\":{\"id\":\"a3f0c54a-182f-4f77-92a2-9a6dad8e77fe\",\"type\":\"LinearScale\"}},\"id\":\"0e940941-6d94-4f50-8797-54a1a5ed91ba\",\"subtype\":\"Figure\",\"type\":\"Plot\"},{\"attributes\":{},\"id\":\"493ef534-9a9e-45f0-8f15-ea3bab0d99fd\",\"type\":\"Selection\"},{\"attributes\":{\"callback\":null},\"id\":\"94b5790b-ce14-49f0-a56f-8f1b4e483aa1\",\"type\":\"DataRange1d\"},{\"attributes\":{},\"id\":\"514ec60b-6505-4d62-b452-8e265d6e4b47\",\"type\":\"CategoricalTickFormatter\"},{\"attributes\":{},\"id\":\"c282a7bd-a33e-4f76-afd1-7f6101b680b2\",\"type\":\"CategoricalScale\"},{\"attributes\":{},\"id\":\"76c52fd3-c5a9-438d-804d-a063b12a2033\",\"type\":\"BasicTickFormatter\"},{\"attributes\":{},\"id\":\"a3f0c54a-182f-4f77-92a2-9a6dad8e77fe\",\"type\":\"LinearScale\"},{\"attributes\":{},\"id\":\"25588975-e4e5-468b-b70c-27fa9af4b0c6\",\"type\":\"CategoricalTickFormatter\"},{\"attributes\":{\"plot\":{\"id\":\"0e940941-6d94-4f50-8797-54a1a5ed91ba\",\"subtype\":\"Figure\",\"type\":\"Plot\"},\"ticker\":{\"id\":\"826df34f-e684-48ab-9295-57635eed7959\",\"type\":\"CategoricalTicker\"}},\"id\":\"b1158f3b-0e7c-4017-a0c6-52767749f9d3\",\"type\":\"Grid\"},{\"attributes\":{},\"id\":\"e4f3e861-3d16-4e36-99a7-222ffc1d5582\",\"type\":\"BasicTickFormatter\"},{\"attributes\":{\"axis_label\":\"Samples\",\"formatter\":{\"id\":\"3449e35d-8244-49d4-9e21-0b70766ef6ee\",\"type\":\"CategoricalTickFormatter\"},\"major_label_orientation\":1.5707963267948966,\"plot\":{\"id\":\"0e940941-6d94-4f50-8797-54a1a5ed91ba\",\"subtype\":\"Figure\",\"type\":\"Plot\"},\"ticker\":{\"id\":\"826df34f-e684-48ab-9295-57635eed7959\",\"type\":\"CategoricalTicker\"}},\"id\":\"4152b222-45da-48f9-9969-9b75cf25ced4\",\"type\":\"CategoricalAxis\"},{\"attributes\":{},\"id\":\"400518fe-9e71-4177-bf2a-3627b4e009fc\",\"type\":\"Selection\"},{\"attributes\":{},\"id\":\"826df34f-e684-48ab-9295-57635eed7959\",\"type\":\"CategoricalTicker\"},{\"attributes\":{},\"id\":\"2142ea55-2236-491a-b932-662867770a67\",\"type\":\"BasicTickFormatter\"},{\"attributes\":{\"data_source\":{\"id\":\"5e938d21-70a5-4f39-b099-402f1598283e\",\"type\":\"ColumnDataSource\"},\"glyph\":{\"id\":\"4347f5e4-a67e-48a4-8511-b5a100f01e65\",\"type\":\"Line\"},\"hover_glyph\":null,\"muted_glyph\":null,\"nonselection_glyph\":{\"id\":\"a791705d-cee4-45f0-a9d3-a9e0762b3604\",\"type\":\"Line\"},\"selection_glyph\":null,\"view\":{\"id\":\"56d6979b-a575-4de9-8fa0-7e7acebfc832\",\"type\":\"CDSView\"}},\"id\":\"76ca9aff-89ac-4ed1-ab6d-e16975eddd81\",\"type\":\"GlyphRenderer\"},{\"attributes\":{},\"id\":\"e4760368-e1f0-4f34-803c-8e87c9be4bf4\",\"type\":\"CategoricalTickFormatter\"},{\"attributes\":{},\"id\":\"437b1bd5-4e1d-43b4-98a8-4907b23880a9\",\"type\":\"BasicTicker\"},{\"attributes\":{},\"id\":\"61c46801-85ea-456e-a8dc-758ce290346f\",\"type\":\"UnionRenderers\"},{\"attributes\":{\"dimension\":1,\"plot\":{\"id\":\"0e940941-6d94-4f50-8797-54a1a5ed91ba\",\"subtype\":\"Figure\",\"type\":\"Plot\"},\"ticker\":{\"id\":\"437b1bd5-4e1d-43b4-98a8-4907b23880a9\",\"type\":\"BasicTicker\"}},\"id\":\"a684d2f2-f59b-47ac-928b-68d4f4f2519d\",\"type\":\"Grid\"},{\"attributes\":{},\"id\":\"6ce57ca5-905f-428e-8cea-fcfea7663821\",\"type\":\"Selection\"},{\"attributes\":{\"source\":{\"id\":\"5e938d21-70a5-4f39-b099-402f1598283e\",\"type\":\"ColumnDataSource\"}},\"id\":\"56d6979b-a575-4de9-8fa0-7e7acebfc832\",\"type\":\"CDSView\"},{\"attributes\":{},\"id\":\"5c167bb6-a26b-4264-8ddf-fa455fc5514a\",\"type\":\"UnionRenderers\"},{\"attributes\":{},\"id\":\"9b7c7e93-2e6f-48ae-b720-a0300a1f7204\",\"type\":\"Selection\"},{\"attributes\":{\"align\":\"center\",\"plot\":null,\"text\":\"Word frequency for \\\"rec.sport.hockey\\\"\",\"text_font\":\"Helvetica\",\"text_font_size\":{\"value\":\"24px\"}},\"id\":\"e9345a5f-7d6c-4ae8-865c-5b04bd638db9\",\"type\":\"Title\"},{\"attributes\":{},\"id\":\"1526c14a-a13a-41f2-b0f9-0e1bb3507460\",\"type\":\"Selection\"},{\"attributes\":{\"callback\":null,\"overlay\":{\"id\":\"03c1ea73-1ab1-41c1-b538-2dcfd88c07cc\",\"type\":\"BoxAnnotation\"}},\"id\":\"f83e734e-3e92-4101-aa5d-7aa1e5b5193d\",\"type\":\"BoxSelectTool\"},{\"attributes\":{},\"id\":\"d7e3db78-175b-41aa-bb8e-e8badce4975e\",\"type\":\"UnionRenderers\"},{\"attributes\":{\"axis_label\":\"Count\",\"formatter\":{\"id\":\"ffc3c2a0-bf4e-482c-b5a4-801d684357f1\",\"type\":\"BasicTickFormatter\"},\"plot\":{\"id\":\"36067998-9bea-4825-be30-fbfebfa33835\",\"subtype\":\"Figure\",\"type\":\"Plot\"},\"ticker\":{\"id\":\"ef36f7b1-857e-4d0b-a60c-dce7ccc6be8a\",\"type\":\"BasicTicker\"}},\"id\":\"dbfe2df4-0add-47c1-a910-64a9bb72c2e9\",\"type\":\"LinearAxis\"},{\"attributes\":{},\"id\":\"4d97fa7f-9cf7-4a16-8d0a-3555837f5d1d\",\"type\":\"UnionRenderers\"},{\"attributes\":{},\"id\":\"71ba35ef-060d-42fa-817e-3da26a2e39b3\",\"type\":\"PanTool\"},{\"attributes\":{},\"id\":\"93662f60-0afa-4ad2-a370-20d3e77e6558\",\"type\":\"UnionRenderers\"},{\"attributes\":{},\"id\":\"832a56ff-ba05-4bd1-8d63-dff565e351de\",\"type\":\"ResetTool\"},{\"attributes\":{},\"id\":\"c78c231e-3100-4788-b987-269d5484182d\",\"type\":\"UnionRenderers\"},{\"attributes\":{},\"id\":\"c4366e77-38ea-462c-a208-6736725e66e4\",\"type\":\"SaveTool\"},{\"attributes\":{},\"id\":\"575f1609-df8c-4120-94a0-532fb709a6ab\",\"type\":\"Selection\"},{\"attributes\":{\"bottom_units\":\"screen\",\"fill_alpha\":{\"value\":0.5},\"fill_color\":{\"value\":\"lightgrey\"},\"left_units\":\"screen\",\"level\":\"overlay\",\"line_alpha\":{\"value\":1.0},\"line_color\":{\"value\":\"black\"},\"line_dash\":[4,4],\"line_width\":{\"value\":2},\"plot\":null,\"render_mode\":\"css\",\"right_units\":\"screen\",\"top_units\":\"screen\"},\"id\":\"03c1ea73-1ab1-41c1-b538-2dcfd88c07cc\",\"type\":\"BoxAnnotation\"},{\"attributes\":{},\"id\":\"aee4bb72-ff60-4b3e-a32b-aeeabc25dce4\",\"type\":\"UnionRenderers\"},{\"attributes\":{\"child\":{\"id\":\"0e940941-6d94-4f50-8797-54a1a5ed91ba\",\"subtype\":\"Figure\",\"type\":\"Plot\"},\"title\":\"rec.autos\"},\"id\":\"5b09aa7a-36cf-4dc8-a53b-fbe8e0ce22e9\",\"type\":\"Panel\"},{\"attributes\":{},\"id\":\"44c3218b-9b35-4d10-9852-e677a0c417c3\",\"type\":\"Selection\"},{\"attributes\":{\"callback\":null,\"factors\":[\"writes\",\"bike\",\"article\",\"like\",\"would\",\"know\",\"ride\",\"good\",\"well\",\"time\",\"right\",\"back\",\"think\",\"riding\",\"motorcycle\",\"much\",\"first\",\"even\",\"also\",\"bikes\",\"make\",\"anyone\",\"really\",\"thing\",\"road\",\"could\",\"front\",\"people\",\"going\",\"list\",\"little\",\"helmet\",\"left\",\"want\",\"take\",\"still\",\"never\",\"need\",\"work\",\"something\",\"around\",\"last\",\"used\",\"sure\",\"rider\",\"keep\",\"motorcycles\",\"least\",\"mike\",\"side\"]},\"id\":\"fa4f9ec1-6700-4037-8db0-25acb525da1d\",\"type\":\"FactorRange\"},{\"attributes\":{},\"id\":\"3803a35f-6503-4560-9dc9-1dc62860f158\",\"type\":\"Selection\"},{\"attributes\":{\"below\":[{\"id\":\"13188cac-8ad5-441e-b908-05d5cd2c8551\",\"type\":\"CategoricalAxis\"}],\"left\":[{\"id\":\"dbfe2df4-0add-47c1-a910-64a9bb72c2e9\",\"type\":\"LinearAxis\"}],\"plot_width\":800,\"renderers\":[{\"id\":\"13188cac-8ad5-441e-b908-05d5cd2c8551\",\"type\":\"CategoricalAxis\"},{\"id\":\"209edb88-0c60-41d5-9779-a7cd0a1cb8b6\",\"type\":\"Grid\"},{\"id\":\"dbfe2df4-0add-47c1-a910-64a9bb72c2e9\",\"type\":\"LinearAxis\"},{\"id\":\"f7a934dd-2659-478d-b039-461b22dc1517\",\"type\":\"Grid\"},{\"id\":\"9f673e4b-c88b-404a-8220-df4519ed6392\",\"type\":\"BoxAnnotation\"},{\"id\":\"3b6ef62d-d30b-4748-a421-e6df4df6b726\",\"type\":\"GlyphRenderer\"}],\"title\":{\"id\":\"616233dd-3bf7-47b8-a3ea-3c167408b17e\",\"type\":\"Title\"},\"toolbar\":{\"id\":\"aea60423-1012-43b6-9f57-d0fb5112b31b\",\"type\":\"Toolbar\"},\"x_range\":{\"id\":\"fa4f9ec1-6700-4037-8db0-25acb525da1d\",\"type\":\"FactorRange\"},\"x_scale\":{\"id\":\"34b098ba-981c-441c-a993-3431db0e624f\",\"type\":\"CategoricalScale\"},\"y_range\":{\"id\":\"92bd1937-84b3-40fc-b61e-e340c03f2d0c\",\"type\":\"DataRange1d\"},\"y_scale\":{\"id\":\"c6897a04-a0cb-44f7-a5bd-abf9d385f781\",\"type\":\"LinearScale\"}},\"id\":\"36067998-9bea-4825-be30-fbfebfa33835\",\"subtype\":\"Figure\",\"type\":\"Plot\"},{\"attributes\":{},\"id\":\"859f40cc-d8e1-4fb5-b9cd-8882b0626a99\",\"type\":\"UnionRenderers\"},{\"attributes\":{\"callback\":null},\"id\":\"92bd1937-84b3-40fc-b61e-e340c03f2d0c\",\"type\":\"DataRange1d\"},{\"attributes\":{},\"id\":\"b7792bdb-c2ef-429e-b94b-7bf01fa5a948\",\"type\":\"Selection\"},{\"attributes\":{},\"id\":\"34b098ba-981c-441c-a993-3431db0e624f\",\"type\":\"CategoricalScale\"},{\"attributes\":{},\"id\":\"e7db08fd-190d-4fe0-9dc7-12beabcd7e28\",\"type\":\"UnionRenderers\"},{\"attributes\":{},\"id\":\"c6897a04-a0cb-44f7-a5bd-abf9d385f781\",\"type\":\"LinearScale\"},{\"attributes\":{},\"id\":\"ed10184c-87ea-4e16-9fd4-4badb9daba76\",\"type\":\"Selection\"},{\"attributes\":{\"plot\":{\"id\":\"36067998-9bea-4825-be30-fbfebfa33835\",\"subtype\":\"Figure\",\"type\":\"Plot\"},\"ticker\":{\"id\":\"52dd4082-92f2-4f89-8f22-a117db41c2df\",\"type\":\"CategoricalTicker\"}},\"id\":\"209edb88-0c60-41d5-9779-a7cd0a1cb8b6\",\"type\":\"Grid\"},{\"attributes\":{},\"id\":\"02215cdd-b09d-4b42-aecd-8209d80df911\",\"type\":\"UnionRenderers\"},{\"attributes\":{\"axis_label\":\"Samples\",\"formatter\":{\"id\":\"d20d8e81-d52a-4207-a835-f762b21ef4e2\",\"type\":\"CategoricalTickFormatter\"},\"major_label_orientation\":1.5707963267948966,\"plot\":{\"id\":\"36067998-9bea-4825-be30-fbfebfa33835\",\"subtype\":\"Figure\",\"type\":\"Plot\"},\"ticker\":{\"id\":\"52dd4082-92f2-4f89-8f22-a117db41c2df\",\"type\":\"CategoricalTicker\"}},\"id\":\"13188cac-8ad5-441e-b908-05d5cd2c8551\",\"type\":\"CategoricalAxis\"},{\"attributes\":{},\"id\":\"f9db65fb-bfe1-4409-b770-d808d69d6703\",\"type\":\"UnionRenderers\"},{\"attributes\":{},\"id\":\"52dd4082-92f2-4f89-8f22-a117db41c2df\",\"type\":\"CategoricalTicker\"},{\"attributes\":{},\"id\":\"d5e188a9-a8e6-4a0c-910e-356762ad804d\",\"type\":\"Selection\"},{\"attributes\":{\"align\":\"center\",\"plot\":null,\"text\":\"Word frequency for \\\"rec.motorcycles\\\"\",\"text_font\":\"Helvetica\",\"text_font_size\":{\"value\":\"24px\"}},\"id\":\"616233dd-3bf7-47b8-a3ea-3c167408b17e\",\"type\":\"Title\"},{\"attributes\":{},\"id\":\"63309409-3648-4d14-b7b6-123b698e29f9\",\"type\":\"UnionRenderers\"},{\"attributes\":{},\"id\":\"ef36f7b1-857e-4d0b-a60c-dce7ccc6be8a\",\"type\":\"BasicTicker\"},{\"attributes\":{},\"id\":\"8b252538-7d74-4132-876d-df1c1bf6c529\",\"type\":\"Selection\"},{\"attributes\":{\"dimension\":1,\"plot\":{\"id\":\"36067998-9bea-4825-be30-fbfebfa33835\",\"subtype\":\"Figure\",\"type\":\"Plot\"},\"ticker\":{\"id\":\"ef36f7b1-857e-4d0b-a60c-dce7ccc6be8a\",\"type\":\"BasicTicker\"}},\"id\":\"f7a934dd-2659-478d-b039-461b22dc1517\",\"type\":\"Grid\"},{\"attributes\":{},\"id\":\"a53872c7-31d0-42de-a274-941ebb8ec73a\",\"type\":\"UnionRenderers\"},{\"attributes\":{\"axis_label\":\"Count\",\"formatter\":{\"id\":\"26657fbf-5826-440e-ac04-bf0e83bd4e6d\",\"type\":\"BasicTickFormatter\"},\"plot\":{\"id\":\"66b3832a-c041-42fa-b9a9-3ab9e2e4f6af\",\"subtype\":\"Figure\",\"type\":\"Plot\"},\"ticker\":{\"id\":\"e862b2e5-a912-4b87-9c03-0de17799112e\",\"type\":\"BasicTicker\"}},\"id\":\"f4fc2262-0c3c-4b16-8c1a-7144676e12cb\",\"type\":\"LinearAxis\"},{\"attributes\":{},\"id\":\"56218028-43ff-400e-8204-398509c06221\",\"type\":\"Selection\"},{\"attributes\":{\"plot\":{\"id\":\"66b3832a-c041-42fa-b9a9-3ab9e2e4f6af\",\"subtype\":\"Figure\",\"type\":\"Plot\"},\"ticker\":{\"id\":\"02e424d2-6367-498e-be1a-b1f9d8099c10\",\"type\":\"CategoricalTicker\"}},\"id\":\"f4444edb-6892-4d15-ad67-63c2cca104c6\",\"type\":\"Grid\"},{\"attributes\":{},\"id\":\"bba087fb-928e-4b49-9ebc-217aa69d347b\",\"type\":\"Selection\"},{\"attributes\":{\"axis_label\":\"Samples\",\"formatter\":{\"id\":\"539ae0d4-9afc-4c12-a6de-a0ff00f92087\",\"type\":\"CategoricalTickFormatter\"},\"major_label_orientation\":1.5707963267948966,\"plot\":{\"id\":\"66b3832a-c041-42fa-b9a9-3ab9e2e4f6af\",\"subtype\":\"Figure\",\"type\":\"Plot\"},\"ticker\":{\"id\":\"02e424d2-6367-498e-be1a-b1f9d8099c10\",\"type\":\"CategoricalTicker\"}},\"id\":\"e026b162-61fc-4a56-ab32-52eceb811990\",\"type\":\"CategoricalAxis\"},{\"attributes\":{},\"id\":\"2a9262eb-f2ae-4e02-8e4d-8d61f191f32c\",\"type\":\"UnionRenderers\"},{\"attributes\":{},\"id\":\"02e424d2-6367-498e-be1a-b1f9d8099c10\",\"type\":\"CategoricalTicker\"},{\"attributes\":{},\"id\":\"6dee0217-31cb-4f93-9c9a-28367aef9121\",\"type\":\"Selection\"},{\"attributes\":{\"source\":{\"id\":\"c5954916-5ec0-449c-918d-144a74721c13\",\"type\":\"ColumnDataSource\"}},\"id\":\"9f1cad6d-3d29-490e-9ae6-d1a600ca04bf\",\"type\":\"CDSView\"},{\"attributes\":{},\"id\":\"43212192-6a97-47fa-97c8-8505f20241a0\",\"type\":\"UnionRenderers\"},{\"attributes\":{},\"id\":\"e862b2e5-a912-4b87-9c03-0de17799112e\",\"type\":\"BasicTicker\"},{\"attributes\":{},\"id\":\"7e723c7c-1777-4af6-a794-37f40818e5a4\",\"type\":\"Selection\"},{\"attributes\":{\"dimension\":1,\"plot\":{\"id\":\"66b3832a-c041-42fa-b9a9-3ab9e2e4f6af\",\"subtype\":\"Figure\",\"type\":\"Plot\"},\"ticker\":{\"id\":\"e862b2e5-a912-4b87-9c03-0de17799112e\",\"type\":\"BasicTicker\"}},\"id\":\"50dd3e7e-7656-4abd-962b-f4f276af9f03\",\"type\":\"Grid\"},{\"attributes\":{},\"id\":\"39e37dd2-320c-4184-b433-895da76529a1\",\"type\":\"UnionRenderers\"},{\"attributes\":{},\"id\":\"b04753ca-ab1e-4d7b-bf0d-d7eeae7259b4\",\"type\":\"Selection\"},{\"attributes\":{\"line_color\":\"#1f77b4\",\"x\":{\"field\":\"word\"},\"y\":{\"field\":\"count\"}},\"id\":\"fdab180f-a359-489d-9597-ee2290a3f477\",\"type\":\"Line\"},{\"attributes\":{},\"id\":\"30ede545-0065-4f86-b656-2e1b11ac8524\",\"type\":\"UnionRenderers\"},{\"attributes\":{\"callback\":null,\"mode\":\"vline\",\"renderers\":\"auto\",\"tooltips\":[[\"Word\",\"@word\"],[\"Count\",\"@count\"]]},\"id\":\"eeea517f-c1c5-47dd-836c-eccaf0752218\",\"type\":\"HoverTool\"},{\"attributes\":{},\"id\":\"f906d172-b99a-44f2-a51f-934760bdb959\",\"type\":\"Selection\"},{\"attributes\":{\"callback\":null,\"overlay\":{\"id\":\"664c2794-6798-4d8d-9984-272290d50aa2\",\"type\":\"BoxAnnotation\"}},\"id\":\"b9184159-4e6a-49eb-932d-b96a091b8492\",\"type\":\"BoxSelectTool\"},{\"attributes\":{},\"id\":\"6100f270-fd53-4c03-ad15-628c385670e2\",\"type\":\"UnionRenderers\"},{\"attributes\":{\"source\":{\"id\":\"3f78cd05-63f9-4106-a465-32306e46f3c2\",\"type\":\"ColumnDataSource\"}},\"id\":\"f236f069-1c68-403d-bc9d-296394b2c79e\",\"type\":\"CDSView\"},{\"attributes\":{},\"id\":\"d4ee20aa-5298-4870-9321-b7b29885d1a9\",\"type\":\"Selection\"},{\"attributes\":{},\"id\":\"e812f5bf-5fe1-4175-a386-183534fa4413\",\"type\":\"PanTool\"},{\"attributes\":{},\"id\":\"6079086b-7ab7-4fde-93ad-c67bc4a08132\",\"type\":\"UnionRenderers\"},{\"attributes\":{},\"id\":\"4971ea04-cbb0-4dbf-9291-81a04a53be8c\",\"type\":\"ResetTool\"},{\"attributes\":{},\"id\":\"3de1884f-3e61-4d27-9297-7ef630fa4e9d\",\"type\":\"Selection\"},{\"attributes\":{},\"id\":\"7e603a85-1d6a-4a00-864f-35684e8d4831\",\"type\":\"SaveTool\"},{\"attributes\":{},\"id\":\"42d9057e-0859-4182-863b-07ebfe340650\",\"type\":\"UnionRenderers\"},{\"attributes\":{\"bottom_units\":\"screen\",\"fill_alpha\":{\"value\":0.5},\"fill_color\":{\"value\":\"lightgrey\"},\"left_units\":\"screen\",\"level\":\"overlay\",\"line_alpha\":{\"value\":1.0},\"line_color\":{\"value\":\"black\"},\"line_dash\":[4,4],\"line_width\":{\"value\":2},\"plot\":null,\"render_mode\":\"css\",\"right_units\":\"screen\",\"top_units\":\"screen\"},\"id\":\"664c2794-6798-4d8d-9984-272290d50aa2\",\"type\":\"BoxAnnotation\"},{\"attributes\":{\"line_alpha\":0.1,\"line_color\":\"#1f77b4\",\"x\":{\"field\":\"word\"},\"y\":{\"field\":\"count\"}},\"id\":\"76fde430-ad73-415b-aa79-509604202c70\",\"type\":\"Line\"},{\"attributes\":{\"data_source\":{\"id\":\"3f78cd05-63f9-4106-a465-32306e46f3c2\",\"type\":\"ColumnDataSource\"},\"glyph\":{\"id\":\"fdab180f-a359-489d-9597-ee2290a3f477\",\"type\":\"Line\"},\"hover_glyph\":null,\"muted_glyph\":null,\"nonselection_glyph\":{\"id\":\"76fde430-ad73-415b-aa79-509604202c70\",\"type\":\"Line\"},\"selection_glyph\":null,\"view\":{\"id\":\"f236f069-1c68-403d-bc9d-296394b2c79e\",\"type\":\"CDSView\"}},\"id\":\"e9f5cd13-5197-4fd5-8078-0bd53f15fd1e\",\"type\":\"GlyphRenderer\"},{\"attributes\":{\"child\":{\"id\":\"66b3832a-c041-42fa-b9a9-3ab9e2e4f6af\",\"subtype\":\"Figure\",\"type\":\"Plot\"},\"title\":\"sci.crypt\"},\"id\":\"e5aa9e9a-507e-49d1-b76e-13265af5dd1c\",\"type\":\"Panel\"},{\"attributes\":{\"child\":{\"id\":\"b073f877-0298-4c1c-9685-8d9e5de02a33\",\"subtype\":\"Figure\",\"type\":\"Plot\"},\"title\":\"sci.med\"},\"id\":\"90644384-7b10-4bcc-a835-d7dce241a7dd\",\"type\":\"Panel\"},{\"attributes\":{\"callback\":null,\"data\":{\"count\":[707,582,473,424,423,342,316,315,309,298,294,285,263,261,260,255,247,218,217,214,205,204,199,199,198,188,185,182,179,179,179,174,171,167,167,166,164,162,162,160,157,156,153,152,151,150,145,142,141,139],\"index\":[0,1,2,3,4,5,6,7,8,9,10,11,12,13,14,15,16,17,18,19,20,21,22,23,24,25,26,27,28,29,30,31,32,33,34,35,36,37,38,39,40,41,42,43,44,45,46,47,48,49],\"word\":[\"would\",\"writes\",\"article\",\"know\",\"like\",\"used\",\"anyone\",\"could\",\"also\",\"power\",\"good\",\"need\",\"want\",\"work\",\"ground\",\"time\",\"circuit\",\"make\",\"much\",\"wire\",\"current\",\"thanks\",\"phone\",\"copy\",\"think\",\"radio\",\"using\",\"well\",\"help\",\"something\",\"battery\",\"high\",\"even\",\"line\",\"problem\",\"chip\",\"voltage\",\"output\",\"sure\",\"data\",\"around\",\"please\",\"mail\",\"system\",\"find\",\"really\",\"electronics\",\"wiring\",\"many\",\"information\"]},\"selected\":{\"id\":\"56218028-43ff-400e-8204-398509c06221\",\"type\":\"Selection\"},\"selection_policy\":{\"id\":\"f9db65fb-bfe1-4409-b770-d808d69d6703\",\"type\":\"UnionRenderers\"}},\"id\":\"50ea223f-b906-4c39-955c-2ae584a9ddb8\",\"type\":\"ColumnDataSource\"},{\"attributes\":{\"data_source\":{\"id\":\"8847bd57-50db-4d4f-8461-1e38f9ba6147\",\"type\":\"ColumnDataSource\"},\"glyph\":{\"id\":\"fa153800-1bd0-4a85-b652-46d743ae6676\",\"type\":\"Line\"},\"hover_glyph\":null,\"muted_glyph\":null,\"nonselection_glyph\":{\"id\":\"646c87da-d197-4ba1-b216-b30af826b5bf\",\"type\":\"Line\"},\"selection_glyph\":null,\"view\":{\"id\":\"3597c51e-7026-4a4f-b0be-7928f5fef967\",\"type\":\"CDSView\"}},\"id\":\"638b90f7-8be2-48e8-8c3e-912eb5981453\",\"type\":\"GlyphRenderer\"},{\"attributes\":{\"active_drag\":\"auto\",\"active_inspect\":\"auto\",\"active_multi\":null,\"active_scroll\":\"auto\",\"active_tap\":\"auto\",\"tools\":[{\"id\":\"c4fb927e-dac8-49d7-8a99-d5ddd8394815\",\"type\":\"BoxSelectTool\"},{\"id\":\"16822b18-100e-4c36-9bf4-f0dfeaf3d087\",\"type\":\"PanTool\"},{\"id\":\"95283bf8-54df-45f1-bc1f-ebe1f7d21406\",\"type\":\"ResetTool\"},{\"id\":\"83822bdf-c5e0-4ed8-92ca-2fa4d152acbd\",\"type\":\"SaveTool\"},{\"id\":\"22311f90-166a-43f8-8726-8f2165d6d222\",\"type\":\"HoverTool\"}]},\"id\":\"d0bf7157-1f0b-45cd-afad-00cec2a8c707\",\"type\":\"Toolbar\"},{\"attributes\":{\"axis_label\":\"Count\",\"formatter\":{\"id\":\"e588e1a5-826e-4f31-a806-3a2aa9799513\",\"type\":\"BasicTickFormatter\"},\"plot\":{\"id\":\"398b78fd-72be-4350-bd8e-6aa6356e14cc\",\"subtype\":\"Figure\",\"type\":\"Plot\"},\"ticker\":{\"id\":\"787493fd-de85-405c-aaf0-413c593c9fef\",\"type\":\"BasicTicker\"}},\"id\":\"ce0f4d03-603b-4fe7-a2c6-2f074b27a080\",\"type\":\"LinearAxis\"},{\"attributes\":{\"callback\":null,\"factors\":[\"would\",\"writes\",\"article\",\"know\",\"like\",\"used\",\"anyone\",\"could\",\"also\",\"power\",\"good\",\"need\",\"want\",\"work\",\"ground\",\"time\",\"circuit\",\"make\",\"much\",\"wire\",\"current\",\"thanks\",\"phone\",\"copy\",\"think\",\"radio\",\"using\",\"well\",\"help\",\"something\",\"battery\",\"high\",\"even\",\"line\",\"problem\",\"chip\",\"voltage\",\"output\",\"sure\",\"data\",\"around\",\"please\",\"mail\",\"system\",\"find\",\"really\",\"electronics\",\"wiring\",\"many\",\"information\"]},\"id\":\"55495718-935e-4bf7-afe6-a16dc87d823f\",\"type\":\"FactorRange\"},{\"attributes\":{\"below\":[{\"id\":\"c353daa0-dbc5-4ba8-b809-c93a5cc6a8e0\",\"type\":\"CategoricalAxis\"}],\"left\":[{\"id\":\"ce0f4d03-603b-4fe7-a2c6-2f074b27a080\",\"type\":\"LinearAxis\"}],\"plot_width\":800,\"renderers\":[{\"id\":\"c353daa0-dbc5-4ba8-b809-c93a5cc6a8e0\",\"type\":\"CategoricalAxis\"},{\"id\":\"45dd98a3-4e26-44cf-9eec-b3a727188074\",\"type\":\"Grid\"},{\"id\":\"ce0f4d03-603b-4fe7-a2c6-2f074b27a080\",\"type\":\"LinearAxis\"},{\"id\":\"11fbb921-6bb4-4241-a500-0492563c8ed6\",\"type\":\"Grid\"},{\"id\":\"7668299b-c3c4-4deb-85bb-648eef8fb33b\",\"type\":\"BoxAnnotation\"},{\"id\":\"d1a3227a-6640-41a7-b415-1736f4916255\",\"type\":\"GlyphRenderer\"}],\"title\":{\"id\":\"693ac9e2-5d3c-45ee-9292-78d4fc43f222\",\"type\":\"Title\"},\"toolbar\":{\"id\":\"d0bf7157-1f0b-45cd-afad-00cec2a8c707\",\"type\":\"Toolbar\"},\"x_range\":{\"id\":\"55495718-935e-4bf7-afe6-a16dc87d823f\",\"type\":\"FactorRange\"},\"x_scale\":{\"id\":\"17745493-9896-4ef2-9875-cc29b7791958\",\"type\":\"CategoricalScale\"},\"y_range\":{\"id\":\"e9d63418-d668-44bc-8f60-f37429bb9b7c\",\"type\":\"DataRange1d\"},\"y_scale\":{\"id\":\"1d2f0a14-3fcb-4c2d-a62a-b00fc4925806\",\"type\":\"LinearScale\"}},\"id\":\"398b78fd-72be-4350-bd8e-6aa6356e14cc\",\"subtype\":\"Figure\",\"type\":\"Plot\"},{\"attributes\":{\"callback\":null},\"id\":\"e9d63418-d668-44bc-8f60-f37429bb9b7c\",\"type\":\"DataRange1d\"},{\"attributes\":{},\"id\":\"17745493-9896-4ef2-9875-cc29b7791958\",\"type\":\"CategoricalScale\"},{\"attributes\":{},\"id\":\"1d2f0a14-3fcb-4c2d-a62a-b00fc4925806\",\"type\":\"LinearScale\"},{\"attributes\":{\"plot\":{\"id\":\"398b78fd-72be-4350-bd8e-6aa6356e14cc\",\"subtype\":\"Figure\",\"type\":\"Plot\"},\"ticker\":{\"id\":\"a0265c61-8a79-4f32-a801-9b8a458ac8e8\",\"type\":\"CategoricalTicker\"}},\"id\":\"45dd98a3-4e26-44cf-9eec-b3a727188074\",\"type\":\"Grid\"},{\"attributes\":{\"axis_label\":\"Samples\",\"formatter\":{\"id\":\"2dcb28c0-4247-43b5-8264-8ce93982185b\",\"type\":\"CategoricalTickFormatter\"},\"major_label_orientation\":1.5707963267948966,\"plot\":{\"id\":\"398b78fd-72be-4350-bd8e-6aa6356e14cc\",\"subtype\":\"Figure\",\"type\":\"Plot\"},\"ticker\":{\"id\":\"a0265c61-8a79-4f32-a801-9b8a458ac8e8\",\"type\":\"CategoricalTicker\"}},\"id\":\"c353daa0-dbc5-4ba8-b809-c93a5cc6a8e0\",\"type\":\"CategoricalAxis\"},{\"attributes\":{},\"id\":\"a0265c61-8a79-4f32-a801-9b8a458ac8e8\",\"type\":\"CategoricalTicker\"},{\"attributes\":{\"line_color\":\"#1f77b4\",\"x\":{\"field\":\"word\"},\"y\":{\"field\":\"count\"}},\"id\":\"d7f2d0ce-d511-43e7-a5ec-a4427ecc2552\",\"type\":\"Line\"},{\"attributes\":{},\"id\":\"787493fd-de85-405c-aaf0-413c593c9fef\",\"type\":\"BasicTicker\"},{\"attributes\":{\"dimension\":1,\"plot\":{\"id\":\"398b78fd-72be-4350-bd8e-6aa6356e14cc\",\"subtype\":\"Figure\",\"type\":\"Plot\"},\"ticker\":{\"id\":\"787493fd-de85-405c-aaf0-413c593c9fef\",\"type\":\"BasicTicker\"}},\"id\":\"11fbb921-6bb4-4241-a500-0492563c8ed6\",\"type\":\"Grid\"},{\"attributes\":{\"source\":{\"id\":\"8847bd57-50db-4d4f-8461-1e38f9ba6147\",\"type\":\"ColumnDataSource\"}},\"id\":\"3597c51e-7026-4a4f-b0be-7928f5fef967\",\"type\":\"CDSView\"},{\"attributes\":{\"align\":\"center\",\"plot\":null,\"text\":\"Word frequency for \\\"sci.electronics\\\"\",\"text_font\":\"Helvetica\",\"text_font_size\":{\"value\":\"24px\"}},\"id\":\"693ac9e2-5d3c-45ee-9292-78d4fc43f222\",\"type\":\"Title\"},{\"attributes\":{\"callback\":null,\"mode\":\"vline\",\"renderers\":\"auto\",\"tooltips\":[[\"Word\",\"@word\"],[\"Count\",\"@count\"]]},\"id\":\"22311f90-166a-43f8-8726-8f2165d6d222\",\"type\":\"HoverTool\"},{\"attributes\":{\"callback\":null,\"overlay\":{\"id\":\"7668299b-c3c4-4deb-85bb-648eef8fb33b\",\"type\":\"BoxAnnotation\"}},\"id\":\"c4fb927e-dac8-49d7-8a99-d5ddd8394815\",\"type\":\"BoxSelectTool\"},{\"attributes\":{\"source\":{\"id\":\"50ea223f-b906-4c39-955c-2ae584a9ddb8\",\"type\":\"ColumnDataSource\"}},\"id\":\"c65e56a0-cb18-4342-a873-c61a37cee251\",\"type\":\"CDSView\"},{\"attributes\":{},\"id\":\"16822b18-100e-4c36-9bf4-f0dfeaf3d087\",\"type\":\"PanTool\"},{\"attributes\":{},\"id\":\"95283bf8-54df-45f1-bc1f-ebe1f7d21406\",\"type\":\"ResetTool\"},{\"attributes\":{},\"id\":\"83822bdf-c5e0-4ed8-92ca-2fa4d152acbd\",\"type\":\"SaveTool\"},{\"attributes\":{\"bottom_units\":\"screen\",\"fill_alpha\":{\"value\":0.5},\"fill_color\":{\"value\":\"lightgrey\"},\"left_units\":\"screen\",\"level\":\"overlay\",\"line_alpha\":{\"value\":1.0},\"line_color\":{\"value\":\"black\"},\"line_dash\":[4,4],\"line_width\":{\"value\":2},\"plot\":null,\"render_mode\":\"css\",\"right_units\":\"screen\",\"top_units\":\"screen\"},\"id\":\"7668299b-c3c4-4deb-85bb-648eef8fb33b\",\"type\":\"BoxAnnotation\"},{\"attributes\":{\"line_alpha\":0.1,\"line_color\":\"#1f77b4\",\"x\":{\"field\":\"word\"},\"y\":{\"field\":\"count\"}},\"id\":\"741e9c36-aada-44f4-983f-3b5bac7bbc70\",\"type\":\"Line\"},{\"attributes\":{\"data_source\":{\"id\":\"50ea223f-b906-4c39-955c-2ae584a9ddb8\",\"type\":\"ColumnDataSource\"},\"glyph\":{\"id\":\"d7f2d0ce-d511-43e7-a5ec-a4427ecc2552\",\"type\":\"Line\"},\"hover_glyph\":null,\"muted_glyph\":null,\"nonselection_glyph\":{\"id\":\"741e9c36-aada-44f4-983f-3b5bac7bbc70\",\"type\":\"Line\"},\"selection_glyph\":null,\"view\":{\"id\":\"c65e56a0-cb18-4342-a873-c61a37cee251\",\"type\":\"CDSView\"}},\"id\":\"d1a3227a-6640-41a7-b415-1736f4916255\",\"type\":\"GlyphRenderer\"},{\"attributes\":{\"child\":{\"id\":\"398b78fd-72be-4350-bd8e-6aa6356e14cc\",\"subtype\":\"Figure\",\"type\":\"Plot\"},\"title\":\"sci.electronics\"},\"id\":\"fe5f5357-7f72-46dc-a339-daa3d4a0c2ed\",\"type\":\"Panel\"},{\"attributes\":{\"callback\":null,\"data\":{\"count\":[695,686,681,521,521,507,501,486,405,388,380,348,345,344,340,331,304,302,302,291,282,281,272,268,265,261,260,252,248,242,222,222,219,219,218,214,212,211,209,208,207,204,203,203,201,201,198,197,196,195],\"index\":[0,1,2,3,4,5,6,7,8,9,10,11,12,13,14,15,16,17,18,19,20,21,22,23,24,25,26,27,28,29,30,31,32,33,34,35,36,37,38,39,40,41,42,43,44,45,46,47,48,49],\"word\":[\"writes\",\"article\",\"would\",\"also\",\"like\",\"know\",\"people\",\"medical\",\"health\",\"disease\",\"time\",\"cancer\",\"many\",\"patients\",\"think\",\"good\",\"well\",\"much\",\"information\",\"food\",\"could\",\"doctor\",\"years\",\"treatment\",\"even\",\"research\",\"anyone\",\"help\",\"used\",\"since\",\"number\",\"medicine\",\"cause\",\"first\",\"take\",\"work\",\"problem\",\"long\",\"said\",\"university\",\"study\",\"diet\",\"vitamin\",\"make\",\"something\",\"might\",\"science\",\"really\",\"body\",\"aids\"]},\"selected\":{\"id\":\"bba087fb-928e-4b49-9ebc-217aa69d347b\",\"type\":\"Selection\"},\"selection_policy\":{\"id\":\"2a9262eb-f2ae-4e02-8e4d-8d61f191f32c\",\"type\":\"UnionRenderers\"}},\"id\":\"8847bd57-50db-4d4f-8461-1e38f9ba6147\",\"type\":\"ColumnDataSource\"},{\"attributes\":{\"callback\":null,\"mode\":\"vline\",\"renderers\":\"auto\",\"tooltips\":[[\"Word\",\"@word\"],[\"Count\",\"@count\"]]},\"id\":\"02af46d4-10f4-45a7-903e-0d95c8cef202\",\"type\":\"HoverTool\"},{\"attributes\":{\"callback\":null,\"data\":{\"count\":[1576,1372,1169,1139,1111,1059,994,993,973,966,810,727,691,663,632,622,602,583,575,572,568,562,536,516,516,512,502,472,471,464,459,457,444,440,424,416,389,384,379,371,369,367,366,360,358,353,351,343,340,332],\"index\":[0,1,2,3,4,5,6,7,8,9,10,11,12,13,14,15,16,17,18,19,20,21,22,23,24,25,26,27,28,29,30,31,32,33,34,35,36,37,38,39,40,41,42,43,44,45,46,47,48,49],\"word\":[\"people\",\"israel\",\"armenian\",\"would\",\"turkish\",\"writes\",\"said\",\"article\",\"jews\",\"armenians\",\"israeli\",\"like\",\"know\",\"jewish\",\"armenia\",\"arab\",\"even\",\"government\",\"first\",\"many\",\"right\",\"also\",\"turks\",\"time\",\"well\",\"could\",\"think\",\"world\",\"turkey\",\"state\",\"soviet\",\"years\",\"genocide\",\"killed\",\"muslims\",\"muslim\",\"rights\",\"arabs\",\"fact\",\"history\",\"might\",\"university\",\"soldiers\",\"human\",\"children\",\"peace\",\"today\",\"never\",\"want\",\"going\"]},\"selected\":{\"id\":\"f906d172-b99a-44f2-a51f-934760bdb959\",\"type\":\"Selection\"},\"selection_policy\":{\"id\":\"6100f270-fd53-4c03-ad15-628c385670e2\",\"type\":\"UnionRenderers\"}},\"id\":\"96671a00-6a6b-4cbd-8b1b-43d7737b4c08\",\"type\":\"ColumnDataSource\"},{\"attributes\":{\"active_drag\":\"auto\",\"active_inspect\":\"auto\",\"active_multi\":null,\"active_scroll\":\"auto\",\"active_tap\":\"auto\",\"tools\":[{\"id\":\"aba5b5a5-fde1-4ff9-b1de-95c8df637135\",\"type\":\"BoxSelectTool\"},{\"id\":\"1953bf5b-6de3-4984-b5fd-ed7a11bdb888\",\"type\":\"PanTool\"},{\"id\":\"0b4fbd5f-3119-422a-ab6f-176ece4928bd\",\"type\":\"ResetTool\"},{\"id\":\"12e7bad4-755b-4e42-90a4-da830b3b8e47\",\"type\":\"SaveTool\"},{\"id\":\"02af46d4-10f4-45a7-903e-0d95c8cef202\",\"type\":\"HoverTool\"}]},\"id\":\"88ebde93-4475-4349-b226-461da7cbc54a\",\"type\":\"Toolbar\"},{\"attributes\":{\"axis_label\":\"Count\",\"formatter\":{\"id\":\"ce25ff9a-d149-4e4b-aeb7-3a65b3d9ff31\",\"type\":\"BasicTickFormatter\"},\"plot\":{\"id\":\"b073f877-0298-4c1c-9685-8d9e5de02a33\",\"subtype\":\"Figure\",\"type\":\"Plot\"},\"ticker\":{\"id\":\"ca80792f-bb14-4591-8368-9f4ee4ef1ca3\",\"type\":\"BasicTicker\"}},\"id\":\"4891bcf0-566a-4bc5-a7db-58cd0e93d711\",\"type\":\"LinearAxis\"},{\"attributes\":{\"callback\":null,\"factors\":[\"writes\",\"article\",\"would\",\"also\",\"like\",\"know\",\"people\",\"medical\",\"health\",\"disease\",\"time\",\"cancer\",\"many\",\"patients\",\"think\",\"good\",\"well\",\"much\",\"information\",\"food\",\"could\",\"doctor\",\"years\",\"treatment\",\"even\",\"research\",\"anyone\",\"help\",\"used\",\"since\",\"number\",\"medicine\",\"cause\",\"first\",\"take\",\"work\",\"problem\",\"long\",\"said\",\"university\",\"study\",\"diet\",\"vitamin\",\"make\",\"something\",\"might\",\"science\",\"really\",\"body\",\"aids\"]},\"id\":\"e338d1d1-5927-4b03-a242-bd40e657feed\",\"type\":\"FactorRange\"},{\"attributes\":{\"below\":[{\"id\":\"9a80024d-1a9a-4fc4-80dc-70e105b769ec\",\"type\":\"CategoricalAxis\"}],\"left\":[{\"id\":\"4891bcf0-566a-4bc5-a7db-58cd0e93d711\",\"type\":\"LinearAxis\"}],\"plot_width\":800,\"renderers\":[{\"id\":\"9a80024d-1a9a-4fc4-80dc-70e105b769ec\",\"type\":\"CategoricalAxis\"},{\"id\":\"74a66708-59d9-46c9-aa09-ebde5026ae4d\",\"type\":\"Grid\"},{\"id\":\"4891bcf0-566a-4bc5-a7db-58cd0e93d711\",\"type\":\"LinearAxis\"},{\"id\":\"815d5b8b-9ccc-4dbf-8447-adc4f2bac515\",\"type\":\"Grid\"},{\"id\":\"a4c4a504-7b68-49eb-b491-f431e1921cd6\",\"type\":\"BoxAnnotation\"},{\"id\":\"638b90f7-8be2-48e8-8c3e-912eb5981453\",\"type\":\"GlyphRenderer\"}],\"title\":{\"id\":\"8bab4e47-16fe-430e-aa94-4f49c240265e\",\"type\":\"Title\"},\"toolbar\":{\"id\":\"88ebde93-4475-4349-b226-461da7cbc54a\",\"type\":\"Toolbar\"},\"x_range\":{\"id\":\"e338d1d1-5927-4b03-a242-bd40e657feed\",\"type\":\"FactorRange\"},\"x_scale\":{\"id\":\"c3a9602e-9f62-491a-8fb3-5c0416005c3c\",\"type\":\"CategoricalScale\"},\"y_range\":{\"id\":\"95ba0fab-cefe-40e8-81c6-c0d90056c6c4\",\"type\":\"DataRange1d\"},\"y_scale\":{\"id\":\"74f02b65-9429-4225-8ecc-902ede09bffb\",\"type\":\"LinearScale\"}},\"id\":\"b073f877-0298-4c1c-9685-8d9e5de02a33\",\"subtype\":\"Figure\",\"type\":\"Plot\"},{\"attributes\":{\"callback\":null},\"id\":\"95ba0fab-cefe-40e8-81c6-c0d90056c6c4\",\"type\":\"DataRange1d\"},{\"attributes\":{},\"id\":\"c3a9602e-9f62-491a-8fb3-5c0416005c3c\",\"type\":\"CategoricalScale\"},{\"attributes\":{},\"id\":\"74f02b65-9429-4225-8ecc-902ede09bffb\",\"type\":\"LinearScale\"},{\"attributes\":{\"plot\":{\"id\":\"b073f877-0298-4c1c-9685-8d9e5de02a33\",\"subtype\":\"Figure\",\"type\":\"Plot\"},\"ticker\":{\"id\":\"728948e9-7c18-46e9-a600-8eff905e09bf\",\"type\":\"CategoricalTicker\"}},\"id\":\"74a66708-59d9-46c9-aa09-ebde5026ae4d\",\"type\":\"Grid\"},{\"attributes\":{\"axis_label\":\"Samples\",\"formatter\":{\"id\":\"2bc7e9bd-b119-4de7-a2ff-779fd1d15b91\",\"type\":\"CategoricalTickFormatter\"},\"major_label_orientation\":1.5707963267948966,\"plot\":{\"id\":\"b073f877-0298-4c1c-9685-8d9e5de02a33\",\"subtype\":\"Figure\",\"type\":\"Plot\"},\"ticker\":{\"id\":\"728948e9-7c18-46e9-a600-8eff905e09bf\",\"type\":\"CategoricalTicker\"}},\"id\":\"9a80024d-1a9a-4fc4-80dc-70e105b769ec\",\"type\":\"CategoricalAxis\"},{\"attributes\":{},\"id\":\"728948e9-7c18-46e9-a600-8eff905e09bf\",\"type\":\"CategoricalTicker\"},{\"attributes\":{\"line_color\":\"#1f77b4\",\"x\":{\"field\":\"word\"},\"y\":{\"field\":\"count\"}},\"id\":\"fa153800-1bd0-4a85-b652-46d743ae6676\",\"type\":\"Line\"},{\"attributes\":{},\"id\":\"ca80792f-bb14-4591-8368-9f4ee4ef1ca3\",\"type\":\"BasicTicker\"},{\"attributes\":{\"dimension\":1,\"plot\":{\"id\":\"b073f877-0298-4c1c-9685-8d9e5de02a33\",\"subtype\":\"Figure\",\"type\":\"Plot\"},\"ticker\":{\"id\":\"ca80792f-bb14-4591-8368-9f4ee4ef1ca3\",\"type\":\"BasicTicker\"}},\"id\":\"815d5b8b-9ccc-4dbf-8447-adc4f2bac515\",\"type\":\"Grid\"},{\"attributes\":{\"below\":[{\"id\":\"853cbacb-6e6d-4a94-93ee-ee01199718f3\",\"type\":\"CategoricalAxis\"}],\"left\":[{\"id\":\"ad57df98-7ed4-44e1-90e2-90534a3e5987\",\"type\":\"LinearAxis\"}],\"plot_width\":800,\"renderers\":[{\"id\":\"853cbacb-6e6d-4a94-93ee-ee01199718f3\",\"type\":\"CategoricalAxis\"},{\"id\":\"4b361913-fc50-44a6-ad1c-5e907a1301c2\",\"type\":\"Grid\"},{\"id\":\"ad57df98-7ed4-44e1-90e2-90534a3e5987\",\"type\":\"LinearAxis\"},{\"id\":\"a69164d4-3fa2-4e26-ba2e-170155f7baa4\",\"type\":\"Grid\"},{\"id\":\"3fe12971-a787-4ec5-b3b3-3a3b70788293\",\"type\":\"BoxAnnotation\"},{\"id\":\"5de5ca06-2114-41b4-b70f-443c09903de5\",\"type\":\"GlyphRenderer\"}],\"title\":{\"id\":\"28dba2c2-1d7e-480f-b6d7-947de44e8be6\",\"type\":\"Title\"},\"toolbar\":{\"id\":\"45842589-e477-4e68-935e-7b7c747c8c26\",\"type\":\"Toolbar\"},\"x_range\":{\"id\":\"318700b4-9200-468c-bdd0-27b81f3f3bc9\",\"type\":\"FactorRange\"},\"x_scale\":{\"id\":\"827079d5-9386-4208-81b9-6867ef055446\",\"type\":\"CategoricalScale\"},\"y_range\":{\"id\":\"0f31880c-9f31-467d-81fb-1392ed84397e\",\"type\":\"DataRange1d\"},\"y_scale\":{\"id\":\"ab903371-11bd-4d6d-83a9-0c115f03e327\",\"type\":\"LinearScale\"}},\"id\":\"41ce2cf8-17f1-44af-820c-4d712368815b\",\"subtype\":\"Figure\",\"type\":\"Plot\"},{\"attributes\":{\"align\":\"center\",\"plot\":null,\"text\":\"Word frequency for \\\"sci.med\\\"\",\"text_font\":\"Helvetica\",\"text_font_size\":{\"value\":\"24px\"}},\"id\":\"8bab4e47-16fe-430e-aa94-4f49c240265e\",\"type\":\"Title\"},{\"attributes\":{\"line_alpha\":0.1,\"line_color\":\"#1f77b4\",\"x\":{\"field\":\"word\"},\"y\":{\"field\":\"count\"}},\"id\":\"646c87da-d197-4ba1-b216-b30af826b5bf\",\"type\":\"Line\"},{\"attributes\":{\"callback\":null,\"overlay\":{\"id\":\"a4c4a504-7b68-49eb-b491-f431e1921cd6\",\"type\":\"BoxAnnotation\"}},\"id\":\"aba5b5a5-fde1-4ff9-b1de-95c8df637135\",\"type\":\"BoxSelectTool\"},{\"attributes\":{},\"id\":\"12e7bad4-755b-4e42-90a4-da830b3b8e47\",\"type\":\"SaveTool\"},{\"attributes\":{},\"id\":\"1953bf5b-6de3-4984-b5fd-ed7a11bdb888\",\"type\":\"PanTool\"},{\"attributes\":{},\"id\":\"0b4fbd5f-3119-422a-ab6f-176ece4928bd\",\"type\":\"ResetTool\"},{\"attributes\":{\"line_color\":\"#1f77b4\",\"x\":{\"field\":\"word\"},\"y\":{\"field\":\"count\"}},\"id\":\"769227a6-4db1-4591-98e3-78664143b055\",\"type\":\"Line\"},{\"attributes\":{\"callback\":null,\"mode\":\"vline\",\"renderers\":\"auto\",\"tooltips\":[[\"Word\",\"@word\"],[\"Count\",\"@count\"]]},\"id\":\"229eae2b-2ce2-4092-8745-6c3f65659d96\",\"type\":\"HoverTool\"},{\"attributes\":{\"callback\":null,\"overlay\":{\"id\":\"9f673e4b-c88b-404a-8220-df4519ed6392\",\"type\":\"BoxAnnotation\"}},\"id\":\"27666520-a281-4e3e-a488-e9fe58e653d4\",\"type\":\"BoxSelectTool\"},{\"attributes\":{\"source\":{\"id\":\"70a27af1-6431-45fd-8a00-65bff27e9aaa\",\"type\":\"ColumnDataSource\"}},\"id\":\"4d317d91-a290-4d0b-a902-fd5980af9ff1\",\"type\":\"CDSView\"},{\"attributes\":{},\"id\":\"78562444-9425-487d-afe9-f630d41b16fd\",\"type\":\"PanTool\"},{\"attributes\":{},\"id\":\"fb6ad302-c364-4101-b76d-4a3be4079f42\",\"type\":\"ResetTool\"},{\"attributes\":{},\"id\":\"7816f38d-6e46-4455-97b1-ea56b2d22451\",\"type\":\"SaveTool\"},{\"attributes\":{\"bottom_units\":\"screen\",\"fill_alpha\":{\"value\":0.5},\"fill_color\":{\"value\":\"lightgrey\"},\"left_units\":\"screen\",\"level\":\"overlay\",\"line_alpha\":{\"value\":1.0},\"line_color\":{\"value\":\"black\"},\"line_dash\":[4,4],\"line_width\":{\"value\":2},\"plot\":null,\"render_mode\":\"css\",\"right_units\":\"screen\",\"top_units\":\"screen\"},\"id\":\"9f673e4b-c88b-404a-8220-df4519ed6392\",\"type\":\"BoxAnnotation\"},{\"attributes\":{\"line_alpha\":0.1,\"line_color\":\"#1f77b4\",\"x\":{\"field\":\"word\"},\"y\":{\"field\":\"count\"}},\"id\":\"5298e34a-6865-4f1d-8c53-da965c3ee956\",\"type\":\"Line\"},{\"attributes\":{\"data_source\":{\"id\":\"70a27af1-6431-45fd-8a00-65bff27e9aaa\",\"type\":\"ColumnDataSource\"},\"glyph\":{\"id\":\"769227a6-4db1-4591-98e3-78664143b055\",\"type\":\"Line\"},\"hover_glyph\":null,\"muted_glyph\":null,\"nonselection_glyph\":{\"id\":\"5298e34a-6865-4f1d-8c53-da965c3ee956\",\"type\":\"Line\"},\"selection_glyph\":null,\"view\":{\"id\":\"4d317d91-a290-4d0b-a902-fd5980af9ff1\",\"type\":\"CDSView\"}},\"id\":\"3b6ef62d-d30b-4748-a421-e6df4df6b726\",\"type\":\"GlyphRenderer\"},{\"attributes\":{\"child\":{\"id\":\"36067998-9bea-4825-be30-fbfebfa33835\",\"subtype\":\"Figure\",\"type\":\"Plot\"},\"title\":\"rec.motorcycles\"},\"id\":\"1d839649-e81a-427f-858a-d837784d3eab\",\"type\":\"Panel\"},{\"attributes\":{\"active_drag\":\"auto\",\"active_inspect\":\"auto\",\"active_multi\":null,\"active_scroll\":\"auto\",\"active_tap\":\"auto\",\"tools\":[{\"id\":\"b9184159-4e6a-49eb-932d-b96a091b8492\",\"type\":\"BoxSelectTool\"},{\"id\":\"e812f5bf-5fe1-4175-a386-183534fa4413\",\"type\":\"PanTool\"},{\"id\":\"4971ea04-cbb0-4dbf-9291-81a04a53be8c\",\"type\":\"ResetTool\"},{\"id\":\"7e603a85-1d6a-4a00-864f-35684e8d4831\",\"type\":\"SaveTool\"},{\"id\":\"eeea517f-c1c5-47dd-836c-eccaf0752218\",\"type\":\"HoverTool\"}]},\"id\":\"b7b4e10f-db19-4f0a-9f51-3daaec54174f\",\"type\":\"Toolbar\"},{\"attributes\":{\"callback\":null,\"data\":{\"count\":[849,748,703,696,655,543,506,493,486,468,442,440,421,392,372,365,361,361,313,283,277,276,269,267,260,244,236,234,231,225,224,217,216,214,214,212,211,211,205,203,195,195,192,190,190,181,180,177,171,170],\"index\":[0,1,2,3,4,5,6,7,8,9,10,11,12,13,14,15,16,17,18,19,20,21,22,23,24,25,26,27,28,29,30,31,32,33,34,35,36,37,38,39,40,41,42,43,44,45,46,47,48,49],\"word\":[\"writes\",\"year\",\"would\",\"article\",\"game\",\"team\",\"baseball\",\"think\",\"last\",\"good\",\"like\",\"games\",\"time\",\"first\",\"players\",\"know\",\"better\",\"well\",\"runs\",\"season\",\"much\",\"could\",\"league\",\"even\",\"also\",\"years\",\"really\",\"back\",\"player\",\"play\",\"many\",\"braves\",\"best\",\"still\",\"pitcher\",\"average\",\"ball\",\"make\",\"might\",\"people\",\"pitching\",\"right\",\"hitter\",\"morris\",\"anyone\",\"home\",\"clutch\",\"lost\",\"cubs\",\"hitting\"]},\"selected\":{\"id\":\"44c3218b-9b35-4d10-9852-e677a0c417c3\",\"type\":\"Selection\"},\"selection_policy\":{\"id\":\"02215cdd-b09d-4b42-aecd-8209d80df911\",\"type\":\"UnionRenderers\"}},\"id\":\"0f40200e-fc87-4b77-82e7-78264cb6fb6c\",\"type\":\"ColumnDataSource\"},{\"attributes\":{\"align\":\"center\",\"plot\":null,\"text\":\"Word frequency for \\\"sci.crypt\\\"\",\"text_font\":\"Helvetica\",\"text_font_size\":{\"value\":\"24px\"}},\"id\":\"cba76274-b549-4816-9893-9f72df013638\",\"type\":\"Title\"},{\"attributes\":{\"callback\":null,\"data\":{\"count\":[1021,981,848,810,794,775,682,632,596,594,557,554,527,520,505,502,456,452,430,420,412,407,407,405,399,375,375,359,352,350,335,320,311,309,303,302,296,291,285,285,279,278,277,277,272,271,271,269,260,258],\"index\":[0,1,2,3,4,5,6,7,8,9,10,11,12,13,14,15,16,17,18,19,20,21,22,23,24,25,26,27,28,29,30,31,32,33,34,35,36,37,38,39,40,41,42,43,44,45,46,47,48,49],\"word\":[\"would\",\"encryption\",\"government\",\"chip\",\"writes\",\"clipper\",\"people\",\"article\",\"system\",\"keys\",\"public\",\"security\",\"like\",\"could\",\"privacy\",\"information\",\"know\",\"even\",\"used\",\"escrow\",\"also\",\"phone\",\"time\",\"data\",\"think\",\"algorithm\",\"right\",\"number\",\"message\",\"secure\",\"mail\",\"available\",\"make\",\"technology\",\"using\",\"many\",\"good\",\"need\",\"computer\",\"enforcement\",\"crypto\",\"well\",\"internet\",\"anonymous\",\"first\",\"encrypted\",\"want\",\"much\",\"without\",\"david\"]},\"selected\":{\"id\":\"8b252538-7d74-4132-876d-df1c1bf6c529\",\"type\":\"Selection\"},\"selection_policy\":{\"id\":\"a53872c7-31d0-42de-a274-941ebb8ec73a\",\"type\":\"UnionRenderers\"}},\"id\":\"3f78cd05-63f9-4106-a465-32306e46f3c2\",\"type\":\"ColumnDataSource\"},{\"attributes\":{\"active_drag\":\"auto\",\"active_inspect\":\"auto\",\"active_multi\":null,\"active_scroll\":\"auto\",\"active_tap\":\"auto\",\"tools\":[{\"id\":\"a72d1c22-966d-42b2-a42e-082731835ccf\",\"type\":\"BoxSelectTool\"},{\"id\":\"12230cde-d120-4693-a77e-afdfede42720\",\"type\":\"PanTool\"},{\"id\":\"9a6cfd3c-66e5-490f-b8ee-18871058f902\",\"type\":\"ResetTool\"},{\"id\":\"68851e74-85f1-4103-8ec6-c529478220b3\",\"type\":\"SaveTool\"},{\"id\":\"b6cf265f-03a7-4f8a-a5a4-6b11bafaff34\",\"type\":\"HoverTool\"}]},\"id\":\"03017e68-07a2-4fb5-9955-15153fa8051e\",\"type\":\"Toolbar\"},{\"attributes\":{\"axis_label\":\"Count\",\"formatter\":{\"id\":\"2d78ae3d-7b2b-4509-b4fe-7d7c7eb0b926\",\"type\":\"BasicTickFormatter\"},\"plot\":{\"id\":\"912acfbd-1138-43e3-925a-104cddc07176\",\"subtype\":\"Figure\",\"type\":\"Plot\"},\"ticker\":{\"id\":\"f8d603df-a59c-40f6-b41c-e3d18f1b235c\",\"type\":\"BasicTicker\"}},\"id\":\"59237063-0710-4742-bf04-6fe73f8a6870\",\"type\":\"LinearAxis\"},{\"attributes\":{\"callback\":null,\"factors\":[\"writes\",\"year\",\"would\",\"article\",\"game\",\"team\",\"baseball\",\"think\",\"last\",\"good\",\"like\",\"games\",\"time\",\"first\",\"players\",\"know\",\"better\",\"well\",\"runs\",\"season\",\"much\",\"could\",\"league\",\"even\",\"also\",\"years\",\"really\",\"back\",\"player\",\"play\",\"many\",\"braves\",\"best\",\"still\",\"pitcher\",\"average\",\"ball\",\"make\",\"might\",\"people\",\"pitching\",\"right\",\"hitter\",\"morris\",\"anyone\",\"home\",\"clutch\",\"lost\",\"cubs\",\"hitting\"]},\"id\":\"a5ab4a4d-25a5-448c-9128-fbe433f6a341\",\"type\":\"FactorRange\"},{\"attributes\":{\"below\":[{\"id\":\"94f7fabf-7a58-489b-a227-33f500b4b523\",\"type\":\"CategoricalAxis\"}],\"left\":[{\"id\":\"59237063-0710-4742-bf04-6fe73f8a6870\",\"type\":\"LinearAxis\"}],\"plot_width\":800,\"renderers\":[{\"id\":\"94f7fabf-7a58-489b-a227-33f500b4b523\",\"type\":\"CategoricalAxis\"},{\"id\":\"2d42369a-0f62-48cc-b667-85198a32eadb\",\"type\":\"Grid\"},{\"id\":\"59237063-0710-4742-bf04-6fe73f8a6870\",\"type\":\"LinearAxis\"},{\"id\":\"2768547d-77cc-4612-b174-cc5f5404eab6\",\"type\":\"Grid\"},{\"id\":\"161337ad-7d50-45e8-bec8-a45ab0d89e30\",\"type\":\"BoxAnnotation\"},{\"id\":\"13478fb3-8a57-4734-9719-abb755bcc4bd\",\"type\":\"GlyphRenderer\"}],\"title\":{\"id\":\"e9a3bf82-94c3-4d62-899e-bac3d023d6f2\",\"type\":\"Title\"},\"toolbar\":{\"id\":\"03017e68-07a2-4fb5-9955-15153fa8051e\",\"type\":\"Toolbar\"},\"x_range\":{\"id\":\"a5ab4a4d-25a5-448c-9128-fbe433f6a341\",\"type\":\"FactorRange\"},\"x_scale\":{\"id\":\"5deff397-59b9-423f-8c56-61a45544d056\",\"type\":\"CategoricalScale\"},\"y_range\":{\"id\":\"af646236-0103-4a90-8b8d-c3fcb46f6e7f\",\"type\":\"DataRange1d\"},\"y_scale\":{\"id\":\"5376c12b-ebc4-422b-9a55-01498cbd6de3\",\"type\":\"LinearScale\"}},\"id\":\"912acfbd-1138-43e3-925a-104cddc07176\",\"subtype\":\"Figure\",\"type\":\"Plot\"},{\"attributes\":{\"callback\":null},\"id\":\"af646236-0103-4a90-8b8d-c3fcb46f6e7f\",\"type\":\"DataRange1d\"},{\"attributes\":{},\"id\":\"5deff397-59b9-423f-8c56-61a45544d056\",\"type\":\"CategoricalScale\"},{\"attributes\":{},\"id\":\"5376c12b-ebc4-422b-9a55-01498cbd6de3\",\"type\":\"LinearScale\"},{\"attributes\":{\"plot\":{\"id\":\"912acfbd-1138-43e3-925a-104cddc07176\",\"subtype\":\"Figure\",\"type\":\"Plot\"},\"ticker\":{\"id\":\"0ba985eb-daf6-41a6-a608-43c0cf686c0d\",\"type\":\"CategoricalTicker\"}},\"id\":\"2d42369a-0f62-48cc-b667-85198a32eadb\",\"type\":\"Grid\"},{\"attributes\":{\"axis_label\":\"Samples\",\"formatter\":{\"id\":\"7330df09-ff2b-477d-8893-e3df7afccae8\",\"type\":\"CategoricalTickFormatter\"},\"major_label_orientation\":1.5707963267948966,\"plot\":{\"id\":\"912acfbd-1138-43e3-925a-104cddc07176\",\"subtype\":\"Figure\",\"type\":\"Plot\"},\"ticker\":{\"id\":\"0ba985eb-daf6-41a6-a608-43c0cf686c0d\",\"type\":\"CategoricalTicker\"}},\"id\":\"94f7fabf-7a58-489b-a227-33f500b4b523\",\"type\":\"CategoricalAxis\"},{\"attributes\":{},\"id\":\"0ba985eb-daf6-41a6-a608-43c0cf686c0d\",\"type\":\"CategoricalTicker\"},{\"attributes\":{\"line_color\":\"#1f77b4\",\"x\":{\"field\":\"word\"},\"y\":{\"field\":\"count\"}},\"id\":\"3fe77c77-e555-4d4b-a7f5-2eef60134880\",\"type\":\"Line\"},{\"attributes\":{},\"id\":\"f8d603df-a59c-40f6-b41c-e3d18f1b235c\",\"type\":\"BasicTicker\"},{\"attributes\":{\"dimension\":1,\"plot\":{\"id\":\"912acfbd-1138-43e3-925a-104cddc07176\",\"subtype\":\"Figure\",\"type\":\"Plot\"},\"ticker\":{\"id\":\"f8d603df-a59c-40f6-b41c-e3d18f1b235c\",\"type\":\"BasicTicker\"}},\"id\":\"2768547d-77cc-4612-b174-cc5f5404eab6\",\"type\":\"Grid\"},{\"attributes\":{\"callback\":null,\"data\":{\"count\":[1637,1005,795,629,585,539,512,464,462,415,409,400,399,389,362,360,357,354,322,321,321,319,313,309,297,289,272,270,265,263,256,244,240,240,238,237,230,229,227,223,215,213,209,208,207,205,203,203,197,197],\"index\":[0,1,2,3,4,5,6,7,8,9,10,11,12,13,14,15,16,17,18,19,20,21,22,23,24,25,26,27,28,29,30,31,32,33,34,35,36,37,38,39,40,41,42,43,44,45,46,47,48,49],\"word\":[\"space\",\"would\",\"writes\",\"article\",\"like\",\"nasa\",\"earth\",\"launch\",\"also\",\"orbit\",\"could\",\"shuttle\",\"time\",\"system\",\"think\",\"moon\",\"much\",\"first\",\"data\",\"mission\",\"people\",\"know\",\"henry\",\"solar\",\"satellite\",\"spacecraft\",\"program\",\"high\",\"years\",\"well\",\"make\",\"even\",\"work\",\"lunar\",\"good\",\"year\",\"long\",\"cost\",\"science\",\"something\",\"might\",\"since\",\"power\",\"mars\",\"information\",\"part\",\"back\",\"flight\",\"station\",\"planet\"]},\"selected\":{\"id\":\"6dee0217-31cb-4f93-9c9a-28367aef9121\",\"type\":\"Selection\"},\"selection_policy\":{\"id\":\"43212192-6a97-47fa-97c8-8505f20241a0\",\"type\":\"UnionRenderers\"}},\"id\":\"fe84f08b-fbec-4b4b-b5d0-0682a3696cd2\",\"type\":\"ColumnDataSource\"},{\"attributes\":{\"align\":\"center\",\"plot\":null,\"text\":\"Word frequency for \\\"rec.sport.baseball\\\"\",\"text_font\":\"Helvetica\",\"text_font_size\":{\"value\":\"24px\"}},\"id\":\"e9a3bf82-94c3-4d62-899e-bac3d023d6f2\",\"type\":\"Title\"},{\"attributes\":{\"callback\":null,\"mode\":\"vline\",\"renderers\":\"auto\",\"tooltips\":[[\"Word\",\"@word\"],[\"Count\",\"@count\"]]},\"id\":\"b6cf265f-03a7-4f8a-a5a4-6b11bafaff34\",\"type\":\"HoverTool\"},{\"attributes\":{\"callback\":null,\"overlay\":{\"id\":\"161337ad-7d50-45e8-bec8-a45ab0d89e30\",\"type\":\"BoxAnnotation\"}},\"id\":\"a72d1c22-966d-42b2-a42e-082731835ccf\",\"type\":\"BoxSelectTool\"},{\"attributes\":{\"source\":{\"id\":\"0f40200e-fc87-4b77-82e7-78264cb6fb6c\",\"type\":\"ColumnDataSource\"}},\"id\":\"f59ea982-9674-48d5-851a-f1505a79f04b\",\"type\":\"CDSView\"},{\"attributes\":{},\"id\":\"12230cde-d120-4693-a77e-afdfede42720\",\"type\":\"PanTool\"},{\"attributes\":{},\"id\":\"9a6cfd3c-66e5-490f-b8ee-18871058f902\",\"type\":\"ResetTool\"},{\"attributes\":{},\"id\":\"68851e74-85f1-4103-8ec6-c529478220b3\",\"type\":\"SaveTool\"},{\"attributes\":{\"bottom_units\":\"screen\",\"fill_alpha\":{\"value\":0.5},\"fill_color\":{\"value\":\"lightgrey\"},\"left_units\":\"screen\",\"level\":\"overlay\",\"line_alpha\":{\"value\":1.0},\"line_color\":{\"value\":\"black\"},\"line_dash\":[4,4],\"line_width\":{\"value\":2},\"plot\":null,\"render_mode\":\"css\",\"right_units\":\"screen\",\"top_units\":\"screen\"},\"id\":\"161337ad-7d50-45e8-bec8-a45ab0d89e30\",\"type\":\"BoxAnnotation\"},{\"attributes\":{\"line_alpha\":0.1,\"line_color\":\"#1f77b4\",\"x\":{\"field\":\"word\"},\"y\":{\"field\":\"count\"}},\"id\":\"1fa6e184-7429-4a97-ad65-07a59102dcd7\",\"type\":\"Line\"},{\"attributes\":{\"data_source\":{\"id\":\"0f40200e-fc87-4b77-82e7-78264cb6fb6c\",\"type\":\"ColumnDataSource\"},\"glyph\":{\"id\":\"3fe77c77-e555-4d4b-a7f5-2eef60134880\",\"type\":\"Line\"},\"hover_glyph\":null,\"muted_glyph\":null,\"nonselection_glyph\":{\"id\":\"1fa6e184-7429-4a97-ad65-07a59102dcd7\",\"type\":\"Line\"},\"selection_glyph\":null,\"view\":{\"id\":\"f59ea982-9674-48d5-851a-f1505a79f04b\",\"type\":\"CDSView\"}},\"id\":\"13478fb3-8a57-4734-9719-abb755bcc4bd\",\"type\":\"GlyphRenderer\"},{\"attributes\":{\"child\":{\"id\":\"912acfbd-1138-43e3-925a-104cddc07176\",\"subtype\":\"Figure\",\"type\":\"Plot\"},\"title\":\"rec.sport.baseball\"},\"id\":\"8735b58b-34c7-4743-8a23-237051e67cc7\",\"type\":\"Panel\"},{\"attributes\":{\"align\":\"center\",\"plot\":null,\"text\":\"Word frequency for \\\"sci.space\\\"\",\"text_font\":\"Helvetica\",\"text_font_size\":{\"value\":\"24px\"}},\"id\":\"768c6f16-5a4c-4dd8-b611-c7715cf157e7\",\"type\":\"Title\"},{\"attributes\":{\"callback\":null,\"data\":{\"count\":[1135,970,875,666,662,596,536,505,503,493,483,453,431,415,392,385,373,367,367,337,329,313,303,299,289,268,265,264,263,259,256,248,247,245,245,244,243,241,241,241,240,239,239,233,227,220,216,215,215,214],\"index\":[0,1,2,3,4,5,6,7,8,9,10,11,12,13,14,15,16,17,18,19,20,21,22,23,24,25,26,27,28,29,30,31,32,33,34,35,36,37,38,39,40,41,42,43,44,45,46,47,48,49],\"word\":[\"game\",\"team\",\"hockey\",\"writes\",\"would\",\"play\",\"games\",\"article\",\"season\",\"think\",\"year\",\"like\",\"first\",\"players\",\"period\",\"time\",\"know\",\"good\",\"last\",\"player\",\"goal\",\"league\",\"well\",\"teams\",\"even\",\"espn\",\"leafs\",\"fans\",\"back\",\"best\",\"detroit\",\"also\",\"pittsburgh\",\"mike\",\"boston\",\"playoffs\",\"going\",\"series\",\"wings\",\"next\",\"division\",\"people\",\"really\",\"could\",\"much\",\"toronto\",\"rangers\",\"better\",\"second\",\"played\"]},\"selected\":{\"id\":\"d5e188a9-a8e6-4a0c-910e-356762ad804d\",\"type\":\"Selection\"},\"selection_policy\":{\"id\":\"63309409-3648-4d14-b7b6-123b698e29f9\",\"type\":\"UnionRenderers\"}},\"id\":\"b4496e36-b61d-4377-b68d-6c9a75b01ef2\",\"type\":\"ColumnDataSource\"},{\"attributes\":{\"below\":[{\"id\":\"ab30360f-cdba-4b97-997d-0677ed5d4ebe\",\"type\":\"CategoricalAxis\"}],\"left\":[{\"id\":\"e79dfee1-fc72-4d99-8fbe-3b7a3ea48ab3\",\"type\":\"LinearAxis\"}],\"plot_width\":800,\"renderers\":[{\"id\":\"ab30360f-cdba-4b97-997d-0677ed5d4ebe\",\"type\":\"CategoricalAxis\"},{\"id\":\"41d4cb85-2a9a-44b3-9488-c0fab76eac5c\",\"type\":\"Grid\"},{\"id\":\"e79dfee1-fc72-4d99-8fbe-3b7a3ea48ab3\",\"type\":\"LinearAxis\"},{\"id\":\"4a00762c-4967-43bb-910d-4359ab90f0b5\",\"type\":\"Grid\"},{\"id\":\"012f7351-88d2-4afc-b5c8-f4b9030f28af\",\"type\":\"BoxAnnotation\"},{\"id\":\"bcf1eb5b-55e0-4900-a4ad-066d222143b0\",\"type\":\"GlyphRenderer\"}],\"title\":{\"id\":\"768c6f16-5a4c-4dd8-b611-c7715cf157e7\",\"type\":\"Title\"},\"toolbar\":{\"id\":\"7ff00ae7-1a83-4c0c-803a-3587e9b1cd79\",\"type\":\"Toolbar\"},\"x_range\":{\"id\":\"4822616a-9cc3-4d0f-bf49-288a57a6ab5b\",\"type\":\"FactorRange\"},\"x_scale\":{\"id\":\"d795a151-35f8-4a68-b1a9-54541b1f3ebe\",\"type\":\"CategoricalScale\"},\"y_range\":{\"id\":\"5541c40e-c781-480e-86e7-497294a108ac\",\"type\":\"DataRange1d\"},\"y_scale\":{\"id\":\"08f188d9-2f32-483f-bde6-d7b1e8efca78\",\"type\":\"LinearScale\"}},\"id\":\"9ebb2e3d-671f-467b-8c59-1cd40e48212c\",\"subtype\":\"Figure\",\"type\":\"Plot\"},{\"attributes\":{\"callback\":null,\"mode\":\"vline\",\"renderers\":\"auto\",\"tooltips\":[[\"Word\",\"@word\"],[\"Count\",\"@count\"]]},\"id\":\"1a0ab4cf-cefe-477f-b727-0279d6d4cc57\",\"type\":\"HoverTool\"},{\"attributes\":{\"active_drag\":\"auto\",\"active_inspect\":\"auto\",\"active_multi\":null,\"active_scroll\":\"auto\",\"active_tap\":\"auto\",\"tools\":[{\"id\":\"a2c1eba7-e507-493f-8cca-d5047e641a65\",\"type\":\"BoxSelectTool\"},{\"id\":\"52be4268-a1b1-4316-8eaa-adbf261aa849\",\"type\":\"PanTool\"},{\"id\":\"406379f6-73d2-4af3-b8bc-8e6a55ab7d8d\",\"type\":\"ResetTool\"},{\"id\":\"a9ffa66a-ab16-4b3b-8ea6-2b8a82df29bd\",\"type\":\"SaveTool\"},{\"id\":\"1a0ab4cf-cefe-477f-b727-0279d6d4cc57\",\"type\":\"HoverTool\"}]},\"id\":\"4688529d-89b1-4863-8d21-9dd8fa9cdf0b\",\"type\":\"Toolbar\"},{\"attributes\":{\"axis_label\":\"Count\",\"formatter\":{\"id\":\"aa8af345-60d7-4120-89ac-ec2ea6dd2361\",\"type\":\"BasicTickFormatter\"},\"plot\":{\"id\":\"470fc112-1a86-49e4-8175-f2fa155ae867\",\"subtype\":\"Figure\",\"type\":\"Plot\"},\"ticker\":{\"id\":\"742d8228-46b0-4c7c-ba79-243a7b45000b\",\"type\":\"BasicTicker\"}},\"id\":\"263892be-442f-4f5e-8215-e08ca2e72ddb\",\"type\":\"LinearAxis\"},{\"attributes\":{\"callback\":null,\"factors\":[\"game\",\"team\",\"hockey\",\"writes\",\"would\",\"play\",\"games\",\"article\",\"season\",\"think\",\"year\",\"like\",\"first\",\"players\",\"period\",\"time\",\"know\",\"good\",\"last\",\"player\",\"goal\",\"league\",\"well\",\"teams\",\"even\",\"espn\",\"leafs\",\"fans\",\"back\",\"best\",\"detroit\",\"also\",\"pittsburgh\",\"mike\",\"boston\",\"playoffs\",\"going\",\"series\",\"wings\",\"next\",\"division\",\"people\",\"really\",\"could\",\"much\",\"toronto\",\"rangers\",\"better\",\"second\",\"played\"]},\"id\":\"58a69e18-1570-47bb-86f8-6497f0cf1737\",\"type\":\"FactorRange\"},{\"attributes\":{\"below\":[{\"id\":\"4ae04087-743e-41ee-a215-c4f7783341d5\",\"type\":\"CategoricalAxis\"}],\"left\":[{\"id\":\"263892be-442f-4f5e-8215-e08ca2e72ddb\",\"type\":\"LinearAxis\"}],\"plot_width\":800,\"renderers\":[{\"id\":\"4ae04087-743e-41ee-a215-c4f7783341d5\",\"type\":\"CategoricalAxis\"},{\"id\":\"8c7db18c-4179-4213-bfdc-bdc2a114157f\",\"type\":\"Grid\"},{\"id\":\"263892be-442f-4f5e-8215-e08ca2e72ddb\",\"type\":\"LinearAxis\"},{\"id\":\"475b43a4-9446-4adb-93c0-aa57fd22a00a\",\"type\":\"Grid\"},{\"id\":\"d270954b-54a0-4b0c-96f0-85aa743a857f\",\"type\":\"BoxAnnotation\"},{\"id\":\"edc60ed9-f1c7-4bb9-b0de-77f09f60cbaf\",\"type\":\"GlyphRenderer\"}],\"title\":{\"id\":\"e9345a5f-7d6c-4ae8-865c-5b04bd638db9\",\"type\":\"Title\"},\"toolbar\":{\"id\":\"4688529d-89b1-4863-8d21-9dd8fa9cdf0b\",\"type\":\"Toolbar\"},\"x_range\":{\"id\":\"58a69e18-1570-47bb-86f8-6497f0cf1737\",\"type\":\"FactorRange\"},\"x_scale\":{\"id\":\"a26e4483-d3a1-470e-8dc2-0baf382416de\",\"type\":\"CategoricalScale\"},\"y_range\":{\"id\":\"c313b653-0726-4b10-8277-8f2b5cffb374\",\"type\":\"DataRange1d\"},\"y_scale\":{\"id\":\"7450bb82-bd61-46b2-9032-c2139c39261d\",\"type\":\"LinearScale\"}},\"id\":\"470fc112-1a86-49e4-8175-f2fa155ae867\",\"subtype\":\"Figure\",\"type\":\"Plot\"},{\"attributes\":{\"callback\":null},\"id\":\"c313b653-0726-4b10-8277-8f2b5cffb374\",\"type\":\"DataRange1d\"},{\"attributes\":{},\"id\":\"a26e4483-d3a1-470e-8dc2-0baf382416de\",\"type\":\"CategoricalScale\"},{\"attributes\":{},\"id\":\"7450bb82-bd61-46b2-9032-c2139c39261d\",\"type\":\"LinearScale\"},{\"attributes\":{\"plot\":{\"id\":\"470fc112-1a86-49e4-8175-f2fa155ae867\",\"subtype\":\"Figure\",\"type\":\"Plot\"},\"ticker\":{\"id\":\"fe614083-44d2-464f-91b8-136094c8b417\",\"type\":\"CategoricalTicker\"}},\"id\":\"8c7db18c-4179-4213-bfdc-bdc2a114157f\",\"type\":\"Grid\"},{\"attributes\":{\"axis_label\":\"Samples\",\"formatter\":{\"id\":\"70dbf5cb-9d9c-4501-b9dd-21ea148a125b\",\"type\":\"CategoricalTickFormatter\"},\"major_label_orientation\":1.5707963267948966,\"plot\":{\"id\":\"470fc112-1a86-49e4-8175-f2fa155ae867\",\"subtype\":\"Figure\",\"type\":\"Plot\"},\"ticker\":{\"id\":\"fe614083-44d2-464f-91b8-136094c8b417\",\"type\":\"CategoricalTicker\"}},\"id\":\"4ae04087-743e-41ee-a215-c4f7783341d5\",\"type\":\"CategoricalAxis\"},{\"attributes\":{},\"id\":\"fe614083-44d2-464f-91b8-136094c8b417\",\"type\":\"CategoricalTicker\"},{\"attributes\":{\"data_source\":{\"id\":\"b4496e36-b61d-4377-b68d-6c9a75b01ef2\",\"type\":\"ColumnDataSource\"},\"glyph\":{\"id\":\"d59ee8ac-43eb-4f64-930e-8bc70d5bd9cd\",\"type\":\"Line\"},\"hover_glyph\":null,\"muted_glyph\":null,\"nonselection_glyph\":{\"id\":\"f3f87cfd-b7c8-4e33-9ae0-13faa9ce4e1e\",\"type\":\"Line\"},\"selection_glyph\":null,\"view\":{\"id\":\"25dc9920-8de4-4060-9a28-9454486e5854\",\"type\":\"CDSView\"}},\"id\":\"edc60ed9-f1c7-4bb9-b0de-77f09f60cbaf\",\"type\":\"GlyphRenderer\"},{\"attributes\":{},\"id\":\"742d8228-46b0-4c7c-ba79-243a7b45000b\",\"type\":\"BasicTicker\"},{\"attributes\":{\"dimension\":1,\"plot\":{\"id\":\"470fc112-1a86-49e4-8175-f2fa155ae867\",\"subtype\":\"Figure\",\"type\":\"Plot\"},\"ticker\":{\"id\":\"742d8228-46b0-4c7c-ba79-243a7b45000b\",\"type\":\"BasicTicker\"}},\"id\":\"475b43a4-9446-4adb-93c0-aa57fd22a00a\",\"type\":\"Grid\"},{\"attributes\":{\"source\":{\"id\":\"b4496e36-b61d-4377-b68d-6c9a75b01ef2\",\"type\":\"ColumnDataSource\"}},\"id\":\"25dc9920-8de4-4060-9a28-9454486e5854\",\"type\":\"CDSView\"},{\"attributes\":{\"callback\":null,\"overlay\":{\"id\":\"d270954b-54a0-4b0c-96f0-85aa743a857f\",\"type\":\"BoxAnnotation\"}},\"id\":\"a2c1eba7-e507-493f-8cca-d5047e641a65\",\"type\":\"BoxSelectTool\"},{\"attributes\":{},\"id\":\"aa7ae102-62c2-43ea-8dfa-5d538aee8245\",\"type\":\"LinearScale\"},{\"attributes\":{},\"id\":\"52be4268-a1b1-4316-8eaa-adbf261aa849\",\"type\":\"PanTool\"},{\"attributes\":{},\"id\":\"406379f6-73d2-4af3-b8bc-8e6a55ab7d8d\",\"type\":\"ResetTool\"},{\"attributes\":{},\"id\":\"a9ffa66a-ab16-4b3b-8ea6-2b8a82df29bd\",\"type\":\"SaveTool\"},{\"attributes\":{\"bottom_units\":\"screen\",\"fill_alpha\":{\"value\":0.5},\"fill_color\":{\"value\":\"lightgrey\"},\"left_units\":\"screen\",\"level\":\"overlay\",\"line_alpha\":{\"value\":1.0},\"line_color\":{\"value\":\"black\"},\"line_dash\":[4,4],\"line_width\":{\"value\":2},\"plot\":null,\"render_mode\":\"css\",\"right_units\":\"screen\",\"top_units\":\"screen\"},\"id\":\"d270954b-54a0-4b0c-96f0-85aa743a857f\",\"type\":\"BoxAnnotation\"},{\"attributes\":{\"child\":{\"id\":\"470fc112-1a86-49e4-8175-f2fa155ae867\",\"subtype\":\"Figure\",\"type\":\"Plot\"},\"title\":\"rec.sport.hockey\"},\"id\":\"e733829b-7017-48fa-9216-0ed4facdf7d6\",\"type\":\"Panel\"},{\"attributes\":{\"callback\":null,\"factors\":[\"would\",\"encryption\",\"government\",\"chip\",\"writes\",\"clipper\",\"people\",\"article\",\"system\",\"keys\",\"public\",\"security\",\"like\",\"could\",\"privacy\",\"information\",\"know\",\"even\",\"used\",\"escrow\",\"also\",\"phone\",\"time\",\"data\",\"think\",\"algorithm\",\"right\",\"number\",\"message\",\"secure\",\"mail\",\"available\",\"make\",\"technology\",\"using\",\"many\",\"good\",\"need\",\"computer\",\"enforcement\",\"crypto\",\"well\",\"internet\",\"anonymous\",\"first\",\"encrypted\",\"want\",\"much\",\"without\",\"david\"]},\"id\":\"349a11cc-0dc6-4be8-927f-02aeac23d773\",\"type\":\"FactorRange\"},{\"attributes\":{\"below\":[{\"id\":\"e026b162-61fc-4a56-ab32-52eceb811990\",\"type\":\"CategoricalAxis\"}],\"left\":[{\"id\":\"f4fc2262-0c3c-4b16-8c1a-7144676e12cb\",\"type\":\"LinearAxis\"}],\"plot_width\":800,\"renderers\":[{\"id\":\"e026b162-61fc-4a56-ab32-52eceb811990\",\"type\":\"CategoricalAxis\"},{\"id\":\"f4444edb-6892-4d15-ad67-63c2cca104c6\",\"type\":\"Grid\"},{\"id\":\"f4fc2262-0c3c-4b16-8c1a-7144676e12cb\",\"type\":\"LinearAxis\"},{\"id\":\"50dd3e7e-7656-4abd-962b-f4f276af9f03\",\"type\":\"Grid\"},{\"id\":\"664c2794-6798-4d8d-9984-272290d50aa2\",\"type\":\"BoxAnnotation\"},{\"id\":\"e9f5cd13-5197-4fd5-8078-0bd53f15fd1e\",\"type\":\"GlyphRenderer\"}],\"title\":{\"id\":\"cba76274-b549-4816-9893-9f72df013638\",\"type\":\"Title\"},\"toolbar\":{\"id\":\"b7b4e10f-db19-4f0a-9f51-3daaec54174f\",\"type\":\"Toolbar\"},\"x_range\":{\"id\":\"349a11cc-0dc6-4be8-927f-02aeac23d773\",\"type\":\"FactorRange\"},\"x_scale\":{\"id\":\"02a31627-483a-4ca7-a9e2-f75a8db44ccf\",\"type\":\"CategoricalScale\"},\"y_range\":{\"id\":\"13bf58d2-36cf-49ec-8937-0b585fec39a7\",\"type\":\"DataRange1d\"},\"y_scale\":{\"id\":\"aa7ae102-62c2-43ea-8dfa-5d538aee8245\",\"type\":\"LinearScale\"}},\"id\":\"66b3832a-c041-42fa-b9a9-3ab9e2e4f6af\",\"subtype\":\"Figure\",\"type\":\"Plot\"},{\"attributes\":{\"callback\":null},\"id\":\"13bf58d2-36cf-49ec-8937-0b585fec39a7\",\"type\":\"DataRange1d\"},{\"attributes\":{},\"id\":\"02a31627-483a-4ca7-a9e2-f75a8db44ccf\",\"type\":\"CategoricalScale\"},{\"attributes\":{\"axis_label\":\"Count\",\"formatter\":{\"id\":\"9dd6fd30-5d10-40d8-bc19-6cedd6158f82\",\"type\":\"BasicTickFormatter\"},\"plot\":{\"id\":\"7f40c2b2-14e1-43aa-928d-89cb15e7b31e\",\"subtype\":\"Figure\",\"type\":\"Plot\"},\"ticker\":{\"id\":\"6457c099-a376-4e43-86db-930d6c445ee5\",\"type\":\"BasicTicker\"}},\"id\":\"8360bbe3-f8e9-4f9a-a8a2-5239a71f6a30\",\"type\":\"LinearAxis\"},{\"attributes\":{\"axis_label\":\"Count\",\"formatter\":{\"id\":\"76c52fd3-c5a9-438d-804d-a063b12a2033\",\"type\":\"BasicTickFormatter\"},\"plot\":{\"id\":\"41ce2cf8-17f1-44af-820c-4d712368815b\",\"subtype\":\"Figure\",\"type\":\"Plot\"},\"ticker\":{\"id\":\"4c65480a-4bb2-4069-a28c-1e0304306b6b\",\"type\":\"BasicTicker\"}},\"id\":\"ad57df98-7ed4-44e1-90e2-90534a3e5987\",\"type\":\"LinearAxis\"},{\"attributes\":{},\"id\":\"bd343715-efe7-426b-a0ec-d8781be488b7\",\"type\":\"PanTool\"},{\"attributes\":{\"active_drag\":\"auto\",\"active_inspect\":\"auto\",\"active_multi\":null,\"active_scroll\":\"auto\",\"active_tap\":\"auto\",\"tools\":[{\"id\":\"4e3a3d60-9b43-4d0c-9940-b0bed8bc8ee5\",\"type\":\"BoxSelectTool\"},{\"id\":\"d775b466-2df3-47b8-97b0-245b76b788ff\",\"type\":\"PanTool\"},{\"id\":\"d83474a3-6064-44c1-9ee0-7e4fad9f4786\",\"type\":\"ResetTool\"},{\"id\":\"6d91fbce-1db4-4cd3-850c-06a65da62f73\",\"type\":\"SaveTool\"},{\"id\":\"dc0116ac-72b5-4c47-a18b-c8741a4e839b\",\"type\":\"HoverTool\"}]},\"id\":\"80d213ac-b5f6-4165-87d5-3f36c98354e1\",\"type\":\"Toolbar\"},{\"attributes\":{},\"id\":\"27e1a454-fbfc-455f-aa19-a0ecd2ea6579\",\"type\":\"ResetTool\"},{\"attributes\":{\"axis_label\":\"Count\",\"formatter\":{\"id\":\"be1b14e3-f9c2-4ada-9c25-e0075eda3ca9\",\"type\":\"BasicTickFormatter\"},\"plot\":{\"id\":\"34389747-e3a5-4f0e-9d28-9c9835b12bb9\",\"subtype\":\"Figure\",\"type\":\"Plot\"},\"ticker\":{\"id\":\"e1e1490c-2572-40ae-b277-e44f16f04941\",\"type\":\"BasicTicker\"}},\"id\":\"4bbff82f-9b98-4584-ae3a-15dcb2acbc63\",\"type\":\"LinearAxis\"},{\"attributes\":{},\"id\":\"2974f0d5-7c91-4ef4-976d-e96ca3732f23\",\"type\":\"SaveTool\"},{\"attributes\":{\"callback\":null,\"factors\":[\"drive\",\"scsi\",\"card\",\"would\",\"system\",\"controller\",\"know\",\"writes\",\"like\",\"disk\",\"drives\",\"article\",\"also\",\"thanks\",\"hard\",\"anyone\",\"problem\",\"work\",\"windows\",\"bios\",\"data\",\"using\",\"time\",\"computer\",\"please\",\"software\",\"help\",\"board\",\"need\",\"think\",\"could\",\"floppy\",\"monitor\",\"good\",\"drivers\",\"mail\",\"modem\",\"memory\",\"port\",\"used\",\"speed\",\"much\",\"chip\",\"motherboard\",\"well\",\"problems\",\"want\",\"tape\",\"even\",\"hardware\"]},\"id\":\"d953fe79-b16b-483f-bf43-4796caa5a865\",\"type\":\"FactorRange\"},{\"attributes\":{\"active_drag\":\"auto\",\"active_inspect\":\"auto\",\"active_multi\":null,\"active_scroll\":\"auto\",\"active_tap\":\"auto\",\"tools\":[{\"id\":\"7abe123c-482b-4fe6-aca6-ad7ace6a3646\",\"type\":\"BoxSelectTool\"},{\"id\":\"6ca2e501-bc1b-40cd-a5a3-07a700cdded1\",\"type\":\"PanTool\"},{\"id\":\"c42c0228-c63d-48f0-8840-7ca7c75c7cab\",\"type\":\"ResetTool\"},{\"id\":\"f7f79ca1-fd52-4f62-9385-ddbd6fdf604e\",\"type\":\"SaveTool\"},{\"id\":\"f47b882d-5d12-46ad-82e3-26e789edabf4\",\"type\":\"HoverTool\"}]},\"id\":\"45842589-e477-4e68-935e-7b7c747c8c26\",\"type\":\"Toolbar\"},{\"attributes\":{\"below\":[{\"id\":\"d527acf9-214e-4603-9433-198fb034cbb5\",\"type\":\"CategoricalAxis\"}],\"left\":[{\"id\":\"4bbff82f-9b98-4584-ae3a-15dcb2acbc63\",\"type\":\"LinearAxis\"}],\"plot_width\":800,\"renderers\":[{\"id\":\"d527acf9-214e-4603-9433-198fb034cbb5\",\"type\":\"CategoricalAxis\"},{\"id\":\"85c12b36-3678-4462-8b0e-46eb4f8b6940\",\"type\":\"Grid\"},{\"id\":\"4bbff82f-9b98-4584-ae3a-15dcb2acbc63\",\"type\":\"LinearAxis\"},{\"id\":\"c408f916-6ee0-4a8f-b01a-05ad091e3648\",\"type\":\"Grid\"},{\"id\":\"e6bf3eb2-1361-47ef-8a6c-80e5aecf3fab\",\"type\":\"BoxAnnotation\"},{\"id\":\"14a5a01b-d1f2-4aaf-9794-69522bbc5285\",\"type\":\"GlyphRenderer\"}],\"title\":{\"id\":\"6b70938a-1e1f-47f7-a014-45772b6407b5\",\"type\":\"Title\"},\"toolbar\":{\"id\":\"80d213ac-b5f6-4165-87d5-3f36c98354e1\",\"type\":\"Toolbar\"},\"x_range\":{\"id\":\"d953fe79-b16b-483f-bf43-4796caa5a865\",\"type\":\"FactorRange\"},\"x_scale\":{\"id\":\"a34762e3-7787-44cb-a762-734048f4d335\",\"type\":\"CategoricalScale\"},\"y_range\":{\"id\":\"ed27a683-04e3-4e79-9db3-007e1c63747e\",\"type\":\"DataRange1d\"},\"y_scale\":{\"id\":\"f00e391c-d9a8-4d95-a1ea-7044a4860d43\",\"type\":\"LinearScale\"}},\"id\":\"34389747-e3a5-4f0e-9d28-9c9835b12bb9\",\"subtype\":\"Figure\",\"type\":\"Plot\"},{\"attributes\":{\"bottom_units\":\"screen\",\"fill_alpha\":{\"value\":0.5},\"fill_color\":{\"value\":\"lightgrey\"},\"left_units\":\"screen\",\"level\":\"overlay\",\"line_alpha\":{\"value\":1.0},\"line_color\":{\"value\":\"black\"},\"line_dash\":[4,4],\"line_width\":{\"value\":2},\"plot\":null,\"render_mode\":\"css\",\"right_units\":\"screen\",\"top_units\":\"screen\"},\"id\":\"535c8260-5163-4269-9d84-8b32830b35aa\",\"type\":\"BoxAnnotation\"},{\"attributes\":{\"callback\":null},\"id\":\"ed27a683-04e3-4e79-9db3-007e1c63747e\",\"type\":\"DataRange1d\"},{\"attributes\":{\"callback\":null,\"factors\":[\"people\",\"israel\",\"armenian\",\"would\",\"turkish\",\"writes\",\"said\",\"article\",\"jews\",\"armenians\",\"israeli\",\"like\",\"know\",\"jewish\",\"armenia\",\"arab\",\"even\",\"government\",\"first\",\"many\",\"right\",\"also\",\"turks\",\"time\",\"well\",\"could\",\"think\",\"world\",\"turkey\",\"state\",\"soviet\",\"years\",\"genocide\",\"killed\",\"muslims\",\"muslim\",\"rights\",\"arabs\",\"fact\",\"history\",\"might\",\"university\",\"soldiers\",\"human\",\"children\",\"peace\",\"today\",\"never\",\"want\",\"going\"]},\"id\":\"318700b4-9200-468c-bdd0-27b81f3f3bc9\",\"type\":\"FactorRange\"},{\"attributes\":{},\"id\":\"a34762e3-7787-44cb-a762-734048f4d335\",\"type\":\"CategoricalScale\"},{\"attributes\":{},\"id\":\"f00e391c-d9a8-4d95-a1ea-7044a4860d43\",\"type\":\"LinearScale\"},{\"attributes\":{\"callback\":null},\"id\":\"0f31880c-9f31-467d-81fb-1392ed84397e\",\"type\":\"DataRange1d\"},{\"attributes\":{\"plot\":{\"id\":\"34389747-e3a5-4f0e-9d28-9c9835b12bb9\",\"subtype\":\"Figure\",\"type\":\"Plot\"},\"ticker\":{\"id\":\"28efb012-4559-4166-b6d9-97245f38e3c5\",\"type\":\"CategoricalTicker\"}},\"id\":\"85c12b36-3678-4462-8b0e-46eb4f8b6940\",\"type\":\"Grid\"},{\"attributes\":{},\"id\":\"827079d5-9386-4208-81b9-6867ef055446\",\"type\":\"CategoricalScale\"},{\"attributes\":{\"axis_label\":\"Samples\",\"formatter\":{\"id\":\"43b2301c-0b61-4bd8-9bec-ec8c8c530131\",\"type\":\"CategoricalTickFormatter\"},\"major_label_orientation\":1.5707963267948966,\"plot\":{\"id\":\"34389747-e3a5-4f0e-9d28-9c9835b12bb9\",\"subtype\":\"Figure\",\"type\":\"Plot\"},\"ticker\":{\"id\":\"28efb012-4559-4166-b6d9-97245f38e3c5\",\"type\":\"CategoricalTicker\"}},\"id\":\"d527acf9-214e-4603-9433-198fb034cbb5\",\"type\":\"CategoricalAxis\"},{\"attributes\":{},\"id\":\"ab903371-11bd-4d6d-83a9-0c115f03e327\",\"type\":\"LinearScale\"},{\"attributes\":{\"plot\":{\"id\":\"41ce2cf8-17f1-44af-820c-4d712368815b\",\"subtype\":\"Figure\",\"type\":\"Plot\"},\"ticker\":{\"id\":\"5511e52f-db8e-475f-8428-215f5669355f\",\"type\":\"CategoricalTicker\"}},\"id\":\"4b361913-fc50-44a6-ad1c-5e907a1301c2\",\"type\":\"Grid\"},{\"attributes\":{},\"id\":\"28efb012-4559-4166-b6d9-97245f38e3c5\",\"type\":\"CategoricalTicker\"},{\"attributes\":{\"axis_label\":\"Samples\",\"formatter\":{\"id\":\"25588975-e4e5-468b-b70c-27fa9af4b0c6\",\"type\":\"CategoricalTickFormatter\"},\"major_label_orientation\":1.5707963267948966,\"plot\":{\"id\":\"41ce2cf8-17f1-44af-820c-4d712368815b\",\"subtype\":\"Figure\",\"type\":\"Plot\"},\"ticker\":{\"id\":\"5511e52f-db8e-475f-8428-215f5669355f\",\"type\":\"CategoricalTicker\"}},\"id\":\"853cbacb-6e6d-4a94-93ee-ee01199718f3\",\"type\":\"CategoricalAxis\"},{\"attributes\":{\"line_color\":\"#1f77b4\",\"x\":{\"field\":\"word\"},\"y\":{\"field\":\"count\"}},\"id\":\"9f3fc76a-f30c-41e4-b943-1179d57550ee\",\"type\":\"Line\"},{\"attributes\":{},\"id\":\"e1e1490c-2572-40ae-b277-e44f16f04941\",\"type\":\"BasicTicker\"},{\"attributes\":{},\"id\":\"5511e52f-db8e-475f-8428-215f5669355f\",\"type\":\"CategoricalTicker\"},{\"attributes\":{\"dimension\":1,\"plot\":{\"id\":\"34389747-e3a5-4f0e-9d28-9c9835b12bb9\",\"subtype\":\"Figure\",\"type\":\"Plot\"},\"ticker\":{\"id\":\"e1e1490c-2572-40ae-b277-e44f16f04941\",\"type\":\"BasicTicker\"}},\"id\":\"c408f916-6ee0-4a8f-b01a-05ad091e3648\",\"type\":\"Grid\"},{\"attributes\":{\"line_color\":\"#1f77b4\",\"x\":{\"field\":\"word\"},\"y\":{\"field\":\"count\"}},\"id\":\"8680ee94-a5ec-45b4-841a-1e413868b2a9\",\"type\":\"Line\"},{\"attributes\":{\"active_drag\":\"auto\",\"active_inspect\":\"auto\",\"active_multi\":null,\"active_scroll\":\"auto\",\"active_tap\":\"auto\",\"tools\":[{\"id\":\"7bb93d10-377c-4685-b3d3-1f6fb33da5c5\",\"type\":\"BoxSelectTool\"},{\"id\":\"c4798fdc-7167-46c3-ac7c-11ebe3d7e0d6\",\"type\":\"PanTool\"},{\"id\":\"dc2344db-ac02-4284-86c1-d637b26e9dfc\",\"type\":\"ResetTool\"},{\"id\":\"71aca372-53ab-46e4-8452-ea498f847a3a\",\"type\":\"SaveTool\"},{\"id\":\"ae84fc8d-be57-4f8b-964c-df311860e14e\",\"type\":\"HoverTool\"}]},\"id\":\"59838081-c917-48f9-8678-f7c097a73c1c\",\"type\":\"Toolbar\"},{\"attributes\":{},\"id\":\"4c65480a-4bb2-4069-a28c-1e0304306b6b\",\"type\":\"BasicTicker\"},{\"attributes\":{\"align\":\"center\",\"plot\":null,\"text\":\"Word frequency for \\\"comp.sys.ibm.pc.hardware\\\"\",\"text_font\":\"Helvetica\",\"text_font_size\":{\"value\":\"24px\"}},\"id\":\"6b70938a-1e1f-47f7-a014-45772b6407b5\",\"type\":\"Title\"},{\"attributes\":{\"dimension\":1,\"plot\":{\"id\":\"41ce2cf8-17f1-44af-820c-4d712368815b\",\"subtype\":\"Figure\",\"type\":\"Plot\"},\"ticker\":{\"id\":\"4c65480a-4bb2-4069-a28c-1e0304306b6b\",\"type\":\"BasicTicker\"}},\"id\":\"a69164d4-3fa2-4e26-ba2e-170155f7baa4\",\"type\":\"Grid\"},{\"attributes\":{\"data_source\":{\"id\":\"c5954916-5ec0-449c-918d-144a74721c13\",\"type\":\"ColumnDataSource\"},\"glyph\":{\"id\":\"7bcd6c47-4ef9-47e9-81ed-bdf24f9f4195\",\"type\":\"Line\"},\"hover_glyph\":null,\"muted_glyph\":null,\"nonselection_glyph\":{\"id\":\"4a5cf359-170c-4737-908a-c1a1ef0dcfda\",\"type\":\"Line\"},\"selection_glyph\":null,\"view\":{\"id\":\"9f1cad6d-3d29-490e-9ae6-d1a600ca04bf\",\"type\":\"CDSView\"}},\"id\":\"1d3a93ae-4473-4d8f-8d39-80b4ac9470c3\",\"type\":\"GlyphRenderer\"},{\"attributes\":{\"callback\":null,\"mode\":\"vline\",\"renderers\":\"auto\",\"tooltips\":[[\"Word\",\"@word\"],[\"Count\",\"@count\"]]},\"id\":\"dc0116ac-72b5-4c47-a18b-c8741a4e839b\",\"type\":\"HoverTool\"},{\"attributes\":{\"align\":\"center\",\"plot\":null,\"text\":\"Word frequency for \\\"talk.politics.mideast\\\"\",\"text_font\":\"Helvetica\",\"text_font_size\":{\"value\":\"24px\"}},\"id\":\"28dba2c2-1d7e-480f-b6d7-947de44e8be6\",\"type\":\"Title\"},{\"attributes\":{\"callback\":null,\"overlay\":{\"id\":\"e6bf3eb2-1361-47ef-8a6c-80e5aecf3fab\",\"type\":\"BoxAnnotation\"}},\"id\":\"4e3a3d60-9b43-4d0c-9940-b0bed8bc8ee5\",\"type\":\"BoxSelectTool\"},{\"attributes\":{\"source\":{\"id\":\"82b63dd6-0865-4f4b-8a62-dcb3acf49d1c\",\"type\":\"ColumnDataSource\"}},\"id\":\"cba2008f-2d16-4d3a-87dd-1cf7c8db94c4\",\"type\":\"CDSView\"},{\"attributes\":{\"callback\":null,\"mode\":\"vline\",\"renderers\":\"auto\",\"tooltips\":[[\"Word\",\"@word\"],[\"Count\",\"@count\"]]},\"id\":\"f47b882d-5d12-46ad-82e3-26e789edabf4\",\"type\":\"HoverTool\"},{\"attributes\":{},\"id\":\"d775b466-2df3-47b8-97b0-245b76b788ff\",\"type\":\"PanTool\"},{\"attributes\":{\"callback\":null,\"overlay\":{\"id\":\"3fe12971-a787-4ec5-b3b3-3a3b70788293\",\"type\":\"BoxAnnotation\"}},\"id\":\"7abe123c-482b-4fe6-aca6-ad7ace6a3646\",\"type\":\"BoxSelectTool\"},{\"attributes\":{},\"id\":\"d83474a3-6064-44c1-9ee0-7e4fad9f4786\",\"type\":\"ResetTool\"},{\"attributes\":{\"source\":{\"id\":\"96671a00-6a6b-4cbd-8b1b-43d7737b4c08\",\"type\":\"ColumnDataSource\"}},\"id\":\"3083be68-9f5a-4fd7-ac50-a2290d4a7913\",\"type\":\"CDSView\"},{\"attributes\":{},\"id\":\"6d91fbce-1db4-4cd3-850c-06a65da62f73\",\"type\":\"SaveTool\"},{\"attributes\":{},\"id\":\"6ca2e501-bc1b-40cd-a5a3-07a700cdded1\",\"type\":\"PanTool\"},{\"attributes\":{\"bottom_units\":\"screen\",\"fill_alpha\":{\"value\":0.5},\"fill_color\":{\"value\":\"lightgrey\"},\"left_units\":\"screen\",\"level\":\"overlay\",\"line_alpha\":{\"value\":1.0},\"line_color\":{\"value\":\"black\"},\"line_dash\":[4,4],\"line_width\":{\"value\":2},\"plot\":null,\"render_mode\":\"css\",\"right_units\":\"screen\",\"top_units\":\"screen\"},\"id\":\"e6bf3eb2-1361-47ef-8a6c-80e5aecf3fab\",\"type\":\"BoxAnnotation\"},{\"attributes\":{},\"id\":\"c42c0228-c63d-48f0-8840-7ca7c75c7cab\",\"type\":\"ResetTool\"},{\"attributes\":{\"line_alpha\":0.1,\"line_color\":\"#1f77b4\",\"x\":{\"field\":\"word\"},\"y\":{\"field\":\"count\"}},\"id\":\"683211c9-0672-4abf-b8c1-02b3c88212b3\",\"type\":\"Line\"},{\"attributes\":{},\"id\":\"f7f79ca1-fd52-4f62-9385-ddbd6fdf604e\",\"type\":\"SaveTool\"},{\"attributes\":{\"data_source\":{\"id\":\"82b63dd6-0865-4f4b-8a62-dcb3acf49d1c\",\"type\":\"ColumnDataSource\"},\"glyph\":{\"id\":\"9f3fc76a-f30c-41e4-b943-1179d57550ee\",\"type\":\"Line\"},\"hover_glyph\":null,\"muted_glyph\":null,\"nonselection_glyph\":{\"id\":\"683211c9-0672-4abf-b8c1-02b3c88212b3\",\"type\":\"Line\"},\"selection_glyph\":null,\"view\":{\"id\":\"cba2008f-2d16-4d3a-87dd-1cf7c8db94c4\",\"type\":\"CDSView\"}},\"id\":\"14a5a01b-d1f2-4aaf-9794-69522bbc5285\",\"type\":\"GlyphRenderer\"},{\"attributes\":{\"bottom_units\":\"screen\",\"fill_alpha\":{\"value\":0.5},\"fill_color\":{\"value\":\"lightgrey\"},\"left_units\":\"screen\",\"level\":\"overlay\",\"line_alpha\":{\"value\":1.0},\"line_color\":{\"value\":\"black\"},\"line_dash\":[4,4],\"line_width\":{\"value\":2},\"plot\":null,\"render_mode\":\"css\",\"right_units\":\"screen\",\"top_units\":\"screen\"},\"id\":\"3fe12971-a787-4ec5-b3b3-3a3b70788293\",\"type\":\"BoxAnnotation\"},{\"attributes\":{\"child\":{\"id\":\"34389747-e3a5-4f0e-9d28-9c9835b12bb9\",\"subtype\":\"Figure\",\"type\":\"Plot\"},\"title\":\"comp.sys.ibm.pc.hardware\"},\"id\":\"a5e064d2-ff53-4a43-9bbe-cbd85e576275\",\"type\":\"Panel\"},{\"attributes\":{\"line_alpha\":0.1,\"line_color\":\"#1f77b4\",\"x\":{\"field\":\"word\"},\"y\":{\"field\":\"count\"}},\"id\":\"59b4a7ac-f952-4fca-9a52-57e3c5aa9b8d\",\"type\":\"Line\"},{\"attributes\":{\"callback\":null},\"id\":\"5541c40e-c781-480e-86e7-497294a108ac\",\"type\":\"DataRange1d\"},{\"attributes\":{\"data_source\":{\"id\":\"96671a00-6a6b-4cbd-8b1b-43d7737b4c08\",\"type\":\"ColumnDataSource\"},\"glyph\":{\"id\":\"8680ee94-a5ec-45b4-841a-1e413868b2a9\",\"type\":\"Line\"},\"hover_glyph\":null,\"muted_glyph\":null,\"nonselection_glyph\":{\"id\":\"59b4a7ac-f952-4fca-9a52-57e3c5aa9b8d\",\"type\":\"Line\"},\"selection_glyph\":null,\"view\":{\"id\":\"3083be68-9f5a-4fd7-ac50-a2290d4a7913\",\"type\":\"CDSView\"}},\"id\":\"5de5ca06-2114-41b4-b70f-443c09903de5\",\"type\":\"GlyphRenderer\"},{\"attributes\":{\"child\":{\"id\":\"41ce2cf8-17f1-44af-820c-4d712368815b\",\"subtype\":\"Figure\",\"type\":\"Plot\"},\"title\":\"talk.politics.mideast\"},\"id\":\"3549f6e2-2b59-43e1-a2cb-dca1667e3180\",\"type\":\"Panel\"},{\"attributes\":{\"callback\":null,\"data\":{\"count\":[608,513,450,434,428,411,396,367,344,309,295,295,256,256,256,252,242,241,237,228,223,215,215,206,205,203,201,201,200,199,191,189,188,187,185,182,179,176,176,174,171,171,170,164,157,152,145,143,141,138],\"index\":[0,1,2,3,4,5,6,7,8,9,10,11,12,13,14,15,16,17,18,19,20,21,22,23,24,25,26,27,28,29,30,31,32,33,34,35,36,37,38,39,40,41,42,43,44,45,46,47,48,49],\"word\":[\"apple\",\"would\",\"know\",\"writes\",\"drive\",\"system\",\"like\",\"problem\",\"article\",\"anyone\",\"monitor\",\"thanks\",\"also\",\"scsi\",\"software\",\"disk\",\"power\",\"work\",\"computer\",\"need\",\"could\",\"want\",\"card\",\"memory\",\"speed\",\"price\",\"time\",\"problems\",\"used\",\"think\",\"hard\",\"hardware\",\"video\",\"mail\",\"please\",\"much\",\"well\",\"good\",\"quadra\",\"since\",\"board\",\"simms\",\"using\",\"machine\",\"centris\",\"make\",\"color\",\"nubus\",\"sound\",\"university\"]},\"selected\":{\"id\":\"493ef534-9a9e-45f0-8f15-ea3bab0d99fd\",\"type\":\"Selection\"},\"selection_policy\":{\"id\":\"93662f60-0afa-4ad2-a370-20d3e77e6558\",\"type\":\"UnionRenderers\"}},\"id\":\"708ef846-7761-4242-bd4d-40fc22103fed\",\"type\":\"ColumnDataSource\"},{\"attributes\":{\"data_source\":{\"id\":\"a55f433f-5894-44ef-b43b-bcba0f5964df\",\"type\":\"ColumnDataSource\"},\"glyph\":{\"id\":\"e05e5008-1626-4e10-9b0e-0e29338073ef\",\"type\":\"Line\"},\"hover_glyph\":null,\"muted_glyph\":null,\"nonselection_glyph\":{\"id\":\"19ec8023-b00e-4447-97e5-ea63f0fe55db\",\"type\":\"Line\"},\"selection_glyph\":null,\"view\":{\"id\":\"becb4ff0-c2c8-41e9-be15-ddc63f017b31\",\"type\":\"CDSView\"}},\"id\":\"32088b66-e9dc-4b5f-9c76-c5067d7b437e\",\"type\":\"GlyphRenderer\"},{\"attributes\":{\"line_alpha\":0.1,\"line_color\":\"#1f77b4\",\"x\":{\"field\":\"word\"},\"y\":{\"field\":\"count\"}},\"id\":\"4a5cf359-170c-4737-908a-c1a1ef0dcfda\",\"type\":\"Line\"},{\"attributes\":{\"callback\":null,\"mode\":\"vline\",\"renderers\":\"auto\",\"tooltips\":[[\"Word\",\"@word\"],[\"Count\",\"@count\"]]},\"id\":\"7e2ca2f1-ad2e-4fb7-826f-453fac7f56ad\",\"type\":\"HoverTool\"},{\"attributes\":{\"callback\":null,\"data\":{\"count\":[1439,1425,1277,1155,917,808,775,684,679,537,530,512,511,503,497,450,448,442,428,413,406,402,388,387,371,367,361,349,332,324,322,322,318,305,303,301,293,290,285,284,276,276,275,275,269,266,265,264,261,261],\"index\":[0,1,2,3,4,5,6,7,8,9,10,11,12,13,14,15,16,17,18,19,20,21,22,23,24,25,26,27,28,29,30,31,32,33,34,35,36,37,38,39,40,41,42,43,44,45,46,47,48,49],\"word\":[\"would\",\"people\",\"writes\",\"article\",\"think\",\"government\",\"president\",\"know\",\"like\",\"make\",\"going\",\"said\",\"right\",\"well\",\"time\",\"stephanopoulos\",\"want\",\"even\",\"much\",\"also\",\"could\",\"believe\",\"cramer\",\"many\",\"health\",\"first\",\"state\",\"made\",\"good\",\"take\",\"something\",\"states\",\"american\",\"insurance\",\"really\",\"myers\",\"money\",\"care\",\"private\",\"rights\",\"children\",\"back\",\"since\",\"point\",\"last\",\"work\",\"sure\",\"fact\",\"case\",\"still\"]},\"selected\":{\"id\":\"d4ee20aa-5298-4870-9321-b7b29885d1a9\",\"type\":\"Selection\"},\"selection_policy\":{\"id\":\"6079086b-7ab7-4fde-93ad-c67bc4a08132\",\"type\":\"UnionRenderers\"}},\"id\":\"f71fd957-f219-4e7c-9064-b5812b7cb2a9\",\"type\":\"ColumnDataSource\"},{\"attributes\":{\"active_drag\":\"auto\",\"active_inspect\":\"auto\",\"active_multi\":null,\"active_scroll\":\"auto\",\"active_tap\":\"auto\",\"tools\":[{\"id\":\"2a56b3a0-c57e-4f9e-ba8d-07e553ded047\",\"type\":\"BoxSelectTool\"},{\"id\":\"c88814e6-1e3b-4e66-8c9c-be29e0a35280\",\"type\":\"PanTool\"},{\"id\":\"e1ee68b3-21f5-4546-803b-f1b4a335d0fe\",\"type\":\"ResetTool\"},{\"id\":\"d920b7ec-839c-48b9-bb59-9633d3d06732\",\"type\":\"SaveTool\"},{\"id\":\"7e2ca2f1-ad2e-4fb7-826f-453fac7f56ad\",\"type\":\"HoverTool\"}]},\"id\":\"05f1ca40-5052-4d8a-b1d8-fa91f4558d16\",\"type\":\"Toolbar\"},{\"attributes\":{\"line_color\":\"#1f77b4\",\"x\":{\"field\":\"word\"},\"y\":{\"field\":\"count\"}},\"id\":\"7bcd6c47-4ef9-47e9-81ed-bdf24f9f4195\",\"type\":\"Line\"},{\"attributes\":{\"axis_label\":\"Count\",\"formatter\":{\"id\":\"0bcf02f2-3691-4f52-b666-6bba4f3dd103\",\"type\":\"BasicTickFormatter\"},\"plot\":{\"id\":\"00d91e87-0b6b-4610-afc7-ff196b5047ca\",\"subtype\":\"Figure\",\"type\":\"Plot\"},\"ticker\":{\"id\":\"cbe8235e-863b-4209-8f94-fea5119f3a83\",\"type\":\"BasicTicker\"}},\"id\":\"97458a07-f3fb-475b-8af9-b9ca1faeaaf9\",\"type\":\"LinearAxis\"},{\"attributes\":{\"callback\":null,\"factors\":[\"apple\",\"would\",\"know\",\"writes\",\"drive\",\"system\",\"like\",\"problem\",\"article\",\"anyone\",\"monitor\",\"thanks\",\"also\",\"scsi\",\"software\",\"disk\",\"power\",\"work\",\"computer\",\"need\",\"could\",\"want\",\"card\",\"memory\",\"speed\",\"price\",\"time\",\"problems\",\"used\",\"think\",\"hard\",\"hardware\",\"video\",\"mail\",\"please\",\"much\",\"well\",\"good\",\"quadra\",\"since\",\"board\",\"simms\",\"using\",\"machine\",\"centris\",\"make\",\"color\",\"nubus\",\"sound\",\"university\"]},\"id\":\"0be9b09e-50df-4689-b5fa-02a120b3cbf9\",\"type\":\"FactorRange\"},{\"attributes\":{\"active_drag\":\"auto\",\"active_inspect\":\"auto\",\"active_multi\":null,\"active_scroll\":\"auto\",\"active_tap\":\"auto\",\"tools\":[{\"id\":\"9affc586-16a2-4489-a871-9cc8fbcb5358\",\"type\":\"BoxSelectTool\"},{\"id\":\"29853d6a-f55e-4363-862a-e0ae8842ef3c\",\"type\":\"PanTool\"},{\"id\":\"75ce223d-0862-4ca7-a055-077f470ab232\",\"type\":\"ResetTool\"},{\"id\":\"143faf7c-e33d-426f-9c83-79452be56e34\",\"type\":\"SaveTool\"},{\"id\":\"4105296d-8daf-4679-a72f-41b770f3a8a6\",\"type\":\"HoverTool\"}]},\"id\":\"ead2236a-4327-45fd-8ab7-61f9ee99c77f\",\"type\":\"Toolbar\"},{\"attributes\":{\"below\":[{\"id\":\"de0176bc-42ca-470d-a61d-fe09c947e094\",\"type\":\"CategoricalAxis\"}],\"left\":[{\"id\":\"97458a07-f3fb-475b-8af9-b9ca1faeaaf9\",\"type\":\"LinearAxis\"}],\"plot_width\":800,\"renderers\":[{\"id\":\"de0176bc-42ca-470d-a61d-fe09c947e094\",\"type\":\"CategoricalAxis\"},{\"id\":\"246c1c68-412d-4efc-8a33-3ae1f5cf07f5\",\"type\":\"Grid\"},{\"id\":\"97458a07-f3fb-475b-8af9-b9ca1faeaaf9\",\"type\":\"LinearAxis\"},{\"id\":\"e408bc8a-7711-4a1d-88f8-71fb5e164286\",\"type\":\"Grid\"},{\"id\":\"0061ee27-741b-4fad-881e-43949640149c\",\"type\":\"BoxAnnotation\"},{\"id\":\"cc0ce82c-0cf0-4658-9970-c4a48812928a\",\"type\":\"GlyphRenderer\"}],\"title\":{\"id\":\"3ba77262-bbc9-425c-b57e-067edbd1b3a3\",\"type\":\"Title\"},\"toolbar\":{\"id\":\"05f1ca40-5052-4d8a-b1d8-fa91f4558d16\",\"type\":\"Toolbar\"},\"x_range\":{\"id\":\"0be9b09e-50df-4689-b5fa-02a120b3cbf9\",\"type\":\"FactorRange\"},\"x_scale\":{\"id\":\"17e31aa2-dfd9-411a-91b9-a13220babd3d\",\"type\":\"CategoricalScale\"},\"y_range\":{\"id\":\"b6243d0e-ef59-4627-aa1f-b017beb09659\",\"type\":\"DataRange1d\"},\"y_scale\":{\"id\":\"e7c039c3-75aa-40ed-8304-7079471088c8\",\"type\":\"LinearScale\"}},\"id\":\"00d91e87-0b6b-4610-afc7-ff196b5047ca\",\"subtype\":\"Figure\",\"type\":\"Plot\"},{\"attributes\":{\"axis_label\":\"Count\",\"formatter\":{\"id\":\"e4f3e861-3d16-4e36-99a7-222ffc1d5582\",\"type\":\"BasicTickFormatter\"},\"plot\":{\"id\":\"100b8ad8-f6e4-4581-b532-b28ca412b629\",\"subtype\":\"Figure\",\"type\":\"Plot\"},\"ticker\":{\"id\":\"463761ab-4305-4af4-b04e-36926911d07b\",\"type\":\"BasicTicker\"}},\"id\":\"326438df-ee2e-4cb6-9bbe-16d4f1f89413\",\"type\":\"LinearAxis\"},{\"attributes\":{\"callback\":null},\"id\":\"b6243d0e-ef59-4627-aa1f-b017beb09659\",\"type\":\"DataRange1d\"},{\"attributes\":{\"callback\":null,\"factors\":[\"would\",\"people\",\"writes\",\"article\",\"think\",\"government\",\"president\",\"know\",\"like\",\"make\",\"going\",\"said\",\"right\",\"well\",\"time\",\"stephanopoulos\",\"want\",\"even\",\"much\",\"also\",\"could\",\"believe\",\"cramer\",\"many\",\"health\",\"first\",\"state\",\"made\",\"good\",\"take\",\"something\",\"states\",\"american\",\"insurance\",\"really\",\"myers\",\"money\",\"care\",\"private\",\"rights\",\"children\",\"back\",\"since\",\"point\",\"last\",\"work\",\"sure\",\"fact\",\"case\",\"still\"]},\"id\":\"e16dae1e-d42e-4da9-be30-c4c9c33a4966\",\"type\":\"FactorRange\"},{\"attributes\":{\"below\":[{\"id\":\"13608326-5af9-4bc5-bffe-43fc469adda4\",\"type\":\"CategoricalAxis\"}],\"left\":[{\"id\":\"326438df-ee2e-4cb6-9bbe-16d4f1f89413\",\"type\":\"LinearAxis\"}],\"plot_width\":800,\"renderers\":[{\"id\":\"13608326-5af9-4bc5-bffe-43fc469adda4\",\"type\":\"CategoricalAxis\"},{\"id\":\"3126044c-f4ae-4af3-8802-1ae6f9e80667\",\"type\":\"Grid\"},{\"id\":\"326438df-ee2e-4cb6-9bbe-16d4f1f89413\",\"type\":\"LinearAxis\"},{\"id\":\"7141fbaf-da2c-4cbf-8ffb-8aa7baf201a9\",\"type\":\"Grid\"},{\"id\":\"d190cd8b-710e-4a41-9c3d-bc4cbf389260\",\"type\":\"BoxAnnotation\"},{\"id\":\"d448690d-d6c7-4e3c-92fc-95aa00545e1f\",\"type\":\"GlyphRenderer\"}],\"title\":{\"id\":\"a8dd4f47-5ce6-48f9-b0e3-e0cd7c533639\",\"type\":\"Title\"},\"toolbar\":{\"id\":\"ead2236a-4327-45fd-8ab7-61f9ee99c77f\",\"type\":\"Toolbar\"},\"x_range\":{\"id\":\"e16dae1e-d42e-4da9-be30-c4c9c33a4966\",\"type\":\"FactorRange\"},\"x_scale\":{\"id\":\"37b2f0a3-4964-41e1-9ca7-0582a0557dfe\",\"type\":\"CategoricalScale\"},\"y_range\":{\"id\":\"9ea99a26-c547-4095-b1d3-b99a3c6d00bf\",\"type\":\"DataRange1d\"},\"y_scale\":{\"id\":\"26e931c1-7222-4436-925a-cd100259c1ec\",\"type\":\"LinearScale\"}},\"id\":\"100b8ad8-f6e4-4581-b532-b28ca412b629\",\"subtype\":\"Figure\",\"type\":\"Plot\"},{\"attributes\":{},\"id\":\"17e31aa2-dfd9-411a-91b9-a13220babd3d\",\"type\":\"CategoricalScale\"},{\"attributes\":{},\"id\":\"e7c039c3-75aa-40ed-8304-7079471088c8\",\"type\":\"LinearScale\"},{\"attributes\":{\"axis_label\":\"Samples\",\"formatter\":{\"id\":\"e4760368-e1f0-4f34-803c-8e87c9be4bf4\",\"type\":\"CategoricalTickFormatter\"},\"major_label_orientation\":1.5707963267948966,\"plot\":{\"id\":\"fe3bf257-25e6-433e-801e-15efcc690b52\",\"subtype\":\"Figure\",\"type\":\"Plot\"},\"ticker\":{\"id\":\"52e1dc39-56a4-4230-a401-cfb45d85265b\",\"type\":\"CategoricalTicker\"}},\"id\":\"c3b21296-b087-455f-ad71-0f648d49bbd9\",\"type\":\"CategoricalAxis\"},{\"attributes\":{\"plot\":{\"id\":\"00d91e87-0b6b-4610-afc7-ff196b5047ca\",\"subtype\":\"Figure\",\"type\":\"Plot\"},\"ticker\":{\"id\":\"4da2c673-3d9b-4576-bf74-111ab4288dbc\",\"type\":\"CategoricalTicker\"}},\"id\":\"246c1c68-412d-4efc-8a33-3ae1f5cf07f5\",\"type\":\"Grid\"},{\"attributes\":{\"callback\":null},\"id\":\"9ea99a26-c547-4095-b1d3-b99a3c6d00bf\",\"type\":\"DataRange1d\"},{\"attributes\":{\"axis_label\":\"Samples\",\"formatter\":{\"id\":\"c72c9f20-8828-47d8-8879-c9ecedddd053\",\"type\":\"CategoricalTickFormatter\"},\"major_label_orientation\":1.5707963267948966,\"plot\":{\"id\":\"00d91e87-0b6b-4610-afc7-ff196b5047ca\",\"subtype\":\"Figure\",\"type\":\"Plot\"},\"ticker\":{\"id\":\"4da2c673-3d9b-4576-bf74-111ab4288dbc\",\"type\":\"CategoricalTicker\"}},\"id\":\"de0176bc-42ca-470d-a61d-fe09c947e094\",\"type\":\"CategoricalAxis\"},{\"attributes\":{},\"id\":\"52e1dc39-56a4-4230-a401-cfb45d85265b\",\"type\":\"CategoricalTicker\"},{\"attributes\":{},\"id\":\"37b2f0a3-4964-41e1-9ca7-0582a0557dfe\",\"type\":\"CategoricalScale\"},{\"attributes\":{},\"id\":\"4da2c673-3d9b-4576-bf74-111ab4288dbc\",\"type\":\"CategoricalTicker\"},{\"attributes\":{\"data_source\":{\"id\":\"708ef846-7761-4242-bd4d-40fc22103fed\",\"type\":\"ColumnDataSource\"},\"glyph\":{\"id\":\"2aa51d3d-fa5a-4c60-8cef-768984c74c78\",\"type\":\"Line\"},\"hover_glyph\":null,\"muted_glyph\":null,\"nonselection_glyph\":{\"id\":\"a73af274-0faf-48ec-9b50-3182bc8d600b\",\"type\":\"Line\"},\"selection_glyph\":null,\"view\":{\"id\":\"bee19392-e596-4c74-ab12-d0b569c89dc8\",\"type\":\"CDSView\"}},\"id\":\"cc0ce82c-0cf0-4658-9970-c4a48812928a\",\"type\":\"GlyphRenderer\"},{\"attributes\":{},\"id\":\"26e931c1-7222-4436-925a-cd100259c1ec\",\"type\":\"LinearScale\"},{\"attributes\":{\"plot\":{\"id\":\"100b8ad8-f6e4-4581-b532-b28ca412b629\",\"subtype\":\"Figure\",\"type\":\"Plot\"},\"ticker\":{\"id\":\"af19fe9a-211f-4496-9942-d60d683d0c08\",\"type\":\"CategoricalTicker\"}},\"id\":\"3126044c-f4ae-4af3-8802-1ae6f9e80667\",\"type\":\"Grid\"},{\"attributes\":{},\"id\":\"cbe8235e-863b-4209-8f94-fea5119f3a83\",\"type\":\"BasicTicker\"},{\"attributes\":{\"dimension\":1,\"plot\":{\"id\":\"00d91e87-0b6b-4610-afc7-ff196b5047ca\",\"subtype\":\"Figure\",\"type\":\"Plot\"},\"ticker\":{\"id\":\"cbe8235e-863b-4209-8f94-fea5119f3a83\",\"type\":\"BasicTicker\"}},\"id\":\"e408bc8a-7711-4a1d-88f8-71fb5e164286\",\"type\":\"Grid\"},{\"attributes\":{\"axis_label\":\"Samples\",\"formatter\":{\"id\":\"514ec60b-6505-4d62-b452-8e265d6e4b47\",\"type\":\"CategoricalTickFormatter\"},\"major_label_orientation\":1.5707963267948966,\"plot\":{\"id\":\"100b8ad8-f6e4-4581-b532-b28ca412b629\",\"subtype\":\"Figure\",\"type\":\"Plot\"},\"ticker\":{\"id\":\"af19fe9a-211f-4496-9942-d60d683d0c08\",\"type\":\"CategoricalTicker\"}},\"id\":\"13608326-5af9-4bc5-bffe-43fc469adda4\",\"type\":\"CategoricalAxis\"},{\"attributes\":{\"source\":{\"id\":\"708ef846-7761-4242-bd4d-40fc22103fed\",\"type\":\"ColumnDataSource\"}},\"id\":\"bee19392-e596-4c74-ab12-d0b569c89dc8\",\"type\":\"CDSView\"},{\"attributes\":{},\"id\":\"af19fe9a-211f-4496-9942-d60d683d0c08\",\"type\":\"CategoricalTicker\"},{\"attributes\":{\"line_color\":\"#1f77b4\",\"x\":{\"field\":\"word\"},\"y\":{\"field\":\"count\"}},\"id\":\"347daba9-ab14-4a2b-ac0a-3110d9dd9038\",\"type\":\"Line\"},{\"attributes\":{\"align\":\"center\",\"plot\":null,\"text\":\"Word frequency for \\\"rec.autos\\\"\",\"text_font\":\"Helvetica\",\"text_font_size\":{\"value\":\"24px\"}},\"id\":\"a540b58b-0fdd-4ab3-a272-2c8e966c3932\",\"type\":\"Title\"},{\"attributes\":{},\"id\":\"463761ab-4305-4af4-b04e-36926911d07b\",\"type\":\"BasicTicker\"},{\"attributes\":{\"dimension\":1,\"plot\":{\"id\":\"100b8ad8-f6e4-4581-b532-b28ca412b629\",\"subtype\":\"Figure\",\"type\":\"Plot\"},\"ticker\":{\"id\":\"463761ab-4305-4af4-b04e-36926911d07b\",\"type\":\"BasicTicker\"}},\"id\":\"7141fbaf-da2c-4cbf-8ffb-8aa7baf201a9\",\"type\":\"Grid\"},{\"attributes\":{\"callback\":null,\"overlay\":{\"id\":\"0061ee27-741b-4fad-881e-43949640149c\",\"type\":\"BoxAnnotation\"}},\"id\":\"2a56b3a0-c57e-4f9e-ba8d-07e553ded047\",\"type\":\"BoxSelectTool\"},{\"attributes\":{},\"id\":\"be1b14e3-f9c2-4ada-9c25-e0075eda3ca9\",\"type\":\"BasicTickFormatter\"},{\"attributes\":{\"callback\":null,\"data\":{\"count\":[1060,844,691,586,583,568,493,487,478,470,468,460,442,404,403,401,398,381,360,356,356,354,354,353,341,336,333,319,316,315,303,301,300,297,296,292,291,288,288,284,281,281,281,279,279,278,277,275,263,257],\"index\":[0,1,2,3,4,5,6,7,8,9,10,11,12,13,14,15,16,17,18,19,20,21,22,23,24,25,26,27,28,29,30,31,32,33,34,35,36,37,38,39,40,41,42,43,44,45,46,47,48,49],\"word\":[\"window\",\"file\",\"server\",\"windows\",\"program\",\"motif\",\"also\",\"using\",\"display\",\"would\",\"like\",\"widget\",\"available\",\"entry\",\"version\",\"application\",\"output\",\"system\",\"code\",\"thanks\",\"know\",\"xterm\",\"writes\",\"information\",\"problem\",\"time\",\"running\",\"line\",\"work\",\"software\",\"name\",\"article\",\"files\",\"help\",\"open\",\"include\",\"mail\",\"user\",\"color\",\"manager\",\"want\",\"need\",\"subject\",\"support\",\"make\",\"info\",\"source\",\"please\",\"used\",\"email\"]},\"selected\":{\"id\":\"575f1609-df8c-4120-94a0-532fb709a6ab\",\"type\":\"Selection\"},\"selection_policy\":{\"id\":\"aee4bb72-ff60-4b3e-a32b-aeeabc25dce4\",\"type\":\"UnionRenderers\"}},\"id\":\"a55f433f-5894-44ef-b43b-bcba0f5964df\",\"type\":\"ColumnDataSource\"},{\"attributes\":{\"align\":\"center\",\"plot\":null,\"text\":\"Word frequency for \\\"talk.politics.misc\\\"\",\"text_font\":\"Helvetica\",\"text_font_size\":{\"value\":\"24px\"}},\"id\":\"a8dd4f47-5ce6-48f9-b0e3-e0cd7c533639\",\"type\":\"Title\"},{\"attributes\":{},\"id\":\"c88814e6-1e3b-4e66-8c9c-be29e0a35280\",\"type\":\"PanTool\"},{\"attributes\":{},\"id\":\"e1ee68b3-21f5-4546-803b-f1b4a335d0fe\",\"type\":\"ResetTool\"},{\"attributes\":{\"callback\":null,\"mode\":\"vline\",\"renderers\":\"auto\",\"tooltips\":[[\"Word\",\"@word\"],[\"Count\",\"@count\"]]},\"id\":\"4105296d-8daf-4679-a72f-41b770f3a8a6\",\"type\":\"HoverTool\"},{\"attributes\":{},\"id\":\"d920b7ec-839c-48b9-bb59-9633d3d06732\",\"type\":\"SaveTool\"},{\"attributes\":{},\"id\":\"75ce223d-0862-4ca7-a055-077f470ab232\",\"type\":\"ResetTool\"},{\"attributes\":{\"child\":{\"id\":\"00d91e87-0b6b-4610-afc7-ff196b5047ca\",\"subtype\":\"Figure\",\"type\":\"Plot\"},\"title\":\"comp.sys.mac.hardware\"},\"id\":\"8b3a06bc-8ebd-4837-aaee-f9d59024b98d\",\"type\":\"Panel\"},{\"attributes\":{\"callback\":null,\"overlay\":{\"id\":\"d190cd8b-710e-4a41-9c3d-bc4cbf389260\",\"type\":\"BoxAnnotation\"}},\"id\":\"9affc586-16a2-4489-a871-9cc8fbcb5358\",\"type\":\"BoxSelectTool\"},{\"attributes\":{\"line_color\":\"#1f77b4\",\"x\":{\"field\":\"word\"},\"y\":{\"field\":\"count\"}},\"id\":\"4347f5e4-a67e-48a4-8511-b5a100f01e65\",\"type\":\"Line\"},{\"attributes\":{\"source\":{\"id\":\"f71fd957-f219-4e7c-9064-b5812b7cb2a9\",\"type\":\"ColumnDataSource\"}},\"id\":\"4972d9cc-0a64-46ad-b2cb-f48c6cb7356a\",\"type\":\"CDSView\"},{\"attributes\":{\"callback\":null,\"factors\":[\"window\",\"file\",\"server\",\"windows\",\"program\",\"motif\",\"also\",\"using\",\"display\",\"would\",\"like\",\"widget\",\"available\",\"entry\",\"version\",\"application\",\"output\",\"system\",\"code\",\"thanks\",\"know\",\"xterm\",\"writes\",\"information\",\"problem\",\"time\",\"running\",\"line\",\"work\",\"software\",\"name\",\"article\",\"files\",\"help\",\"open\",\"include\",\"mail\",\"user\",\"color\",\"manager\",\"want\",\"need\",\"subject\",\"support\",\"make\",\"info\",\"source\",\"please\",\"used\",\"email\"]},\"id\":\"931f7546-0de9-4d4b-af2c-f1a986b9439e\",\"type\":\"FactorRange\"},{\"attributes\":{},\"id\":\"29853d6a-f55e-4363-862a-e0ae8842ef3c\",\"type\":\"PanTool\"},{\"attributes\":{\"below\":[{\"id\":\"bff773a0-c50b-46a1-82be-1e219802bf64\",\"type\":\"CategoricalAxis\"}],\"left\":[{\"id\":\"8360bbe3-f8e9-4f9a-a8a2-5239a71f6a30\",\"type\":\"LinearAxis\"}],\"plot_width\":800,\"renderers\":[{\"id\":\"bff773a0-c50b-46a1-82be-1e219802bf64\",\"type\":\"CategoricalAxis\"},{\"id\":\"f46f73c4-8ac8-456d-a79d-16d38f14e207\",\"type\":\"Grid\"},{\"id\":\"8360bbe3-f8e9-4f9a-a8a2-5239a71f6a30\",\"type\":\"LinearAxis\"},{\"id\":\"41a1afe9-48aa-4f19-9e9f-37c6203efc0e\",\"type\":\"Grid\"},{\"id\":\"1c34a016-c097-47c4-a077-06ba717f747b\",\"type\":\"BoxAnnotation\"},{\"id\":\"32088b66-e9dc-4b5f-9c76-c5067d7b437e\",\"type\":\"GlyphRenderer\"}],\"title\":{\"id\":\"626f3ee4-31e7-498d-95d5-ad454c612746\",\"type\":\"Title\"},\"toolbar\":{\"id\":\"59838081-c917-48f9-8678-f7c097a73c1c\",\"type\":\"Toolbar\"},\"x_range\":{\"id\":\"931f7546-0de9-4d4b-af2c-f1a986b9439e\",\"type\":\"FactorRange\"},\"x_scale\":{\"id\":\"3fb1865b-108a-4af6-9645-8a52f1156db8\",\"type\":\"CategoricalScale\"},\"y_range\":{\"id\":\"6ed50cc1-7f52-46b7-b7f1-068405499168\",\"type\":\"DataRange1d\"},\"y_scale\":{\"id\":\"fc46325f-fa0e-4903-aaab-3af22e29c212\",\"type\":\"LinearScale\"}},\"id\":\"7f40c2b2-14e1-43aa-928d-89cb15e7b31e\",\"subtype\":\"Figure\",\"type\":\"Plot\"},{\"attributes\":{},\"id\":\"143faf7c-e33d-426f-9c83-79452be56e34\",\"type\":\"SaveTool\"},{\"attributes\":{\"callback\":null},\"id\":\"6ed50cc1-7f52-46b7-b7f1-068405499168\",\"type\":\"DataRange1d\"},{\"attributes\":{\"bottom_units\":\"screen\",\"fill_alpha\":{\"value\":0.5},\"fill_color\":{\"value\":\"lightgrey\"},\"left_units\":\"screen\",\"level\":\"overlay\",\"line_alpha\":{\"value\":1.0},\"line_color\":{\"value\":\"black\"},\"line_dash\":[4,4],\"line_width\":{\"value\":2},\"plot\":null,\"render_mode\":\"css\",\"right_units\":\"screen\",\"top_units\":\"screen\"},\"id\":\"d190cd8b-710e-4a41-9c3d-bc4cbf389260\",\"type\":\"BoxAnnotation\"},{\"attributes\":{},\"id\":\"3fb1865b-108a-4af6-9645-8a52f1156db8\",\"type\":\"CategoricalScale\"},{\"attributes\":{\"line_alpha\":0.1,\"line_color\":\"#1f77b4\",\"x\":{\"field\":\"word\"},\"y\":{\"field\":\"count\"}},\"id\":\"472e9276-6799-4db2-ad9f-4738b49b1f40\",\"type\":\"Line\"},{\"attributes\":{},\"id\":\"fc46325f-fa0e-4903-aaab-3af22e29c212\",\"type\":\"LinearScale\"},{\"attributes\":{\"data_source\":{\"id\":\"f71fd957-f219-4e7c-9064-b5812b7cb2a9\",\"type\":\"ColumnDataSource\"},\"glyph\":{\"id\":\"347daba9-ab14-4a2b-ac0a-3110d9dd9038\",\"type\":\"Line\"},\"hover_glyph\":null,\"muted_glyph\":null,\"nonselection_glyph\":{\"id\":\"472e9276-6799-4db2-ad9f-4738b49b1f40\",\"type\":\"Line\"},\"selection_glyph\":null,\"view\":{\"id\":\"4972d9cc-0a64-46ad-b2cb-f48c6cb7356a\",\"type\":\"CDSView\"}},\"id\":\"d448690d-d6c7-4e3c-92fc-95aa00545e1f\",\"type\":\"GlyphRenderer\"},{\"attributes\":{\"child\":{\"id\":\"100b8ad8-f6e4-4581-b532-b28ca412b629\",\"subtype\":\"Figure\",\"type\":\"Plot\"},\"title\":\"talk.politics.misc\"},\"id\":\"5247ebf0-156e-40cf-9264-257c499dd0ed\",\"type\":\"Panel\"},{\"attributes\":{\"plot\":{\"id\":\"7f40c2b2-14e1-43aa-928d-89cb15e7b31e\",\"subtype\":\"Figure\",\"type\":\"Plot\"},\"ticker\":{\"id\":\"317890c4-bbe9-4d3d-b444-cafa54e296a9\",\"type\":\"CategoricalTicker\"}},\"id\":\"f46f73c4-8ac8-456d-a79d-16d38f14e207\",\"type\":\"Grid\"},{\"attributes\":{\"axis_label\":\"Samples\",\"formatter\":{\"id\":\"a16b6905-0d7a-4b48-814d-8d2988f6a1ea\",\"type\":\"CategoricalTickFormatter\"},\"major_label_orientation\":1.5707963267948966,\"plot\":{\"id\":\"7f40c2b2-14e1-43aa-928d-89cb15e7b31e\",\"subtype\":\"Figure\",\"type\":\"Plot\"},\"ticker\":{\"id\":\"317890c4-bbe9-4d3d-b444-cafa54e296a9\",\"type\":\"CategoricalTicker\"}},\"id\":\"bff773a0-c50b-46a1-82be-1e219802bf64\",\"type\":\"CategoricalAxis\"},{\"attributes\":{},\"id\":\"317890c4-bbe9-4d3d-b444-cafa54e296a9\",\"type\":\"CategoricalTicker\"},{\"attributes\":{\"callback\":null,\"data\":{\"count\":[1180,1057,970,924,703,590,552,551,484,438,429,409,394,386,384,381,379,367,365,360,349,343,338,336,335,334,319,301,301,297,291,291,285,284,276,275,264,260,251,249,248,246,246,245,244,242,240,237,236,233],\"index\":[0,1,2,3,4,5,6,7,8,9,10,11,12,13,14,15,16,17,18,19,20,21,22,23,24,25,26,27,28,29,30,31,32,33,34,35,36,37,38,39,40,41,42,43,44,45,46,47,48,49],\"word\":[\"writes\",\"would\",\"article\",\"people\",\"jesus\",\"know\",\"think\",\"like\",\"even\",\"good\",\"objective\",\"also\",\"bible\",\"said\",\"time\",\"many\",\"believe\",\"well\",\"life\",\"christian\",\"make\",\"frank\",\"right\",\"really\",\"fact\",\"could\",\"point\",\"want\",\"science\",\"christ\",\"much\",\"koresh\",\"first\",\"true\",\"moral\",\"religion\",\"world\",\"things\",\"still\",\"christians\",\"word\",\"truth\",\"something\",\"better\",\"theory\",\"evidence\",\"take\",\"mean\",\"never\",\"made\"]},\"selected\":{\"id\":\"3de1884f-3e61-4d27-9297-7ef630fa4e9d\",\"type\":\"Selection\"},\"selection_policy\":{\"id\":\"42d9057e-0859-4182-863b-07ebfe340650\",\"type\":\"UnionRenderers\"}},\"id\":\"c5954916-5ec0-449c-918d-144a74721c13\",\"type\":\"ColumnDataSource\"},{\"attributes\":{\"line_color\":\"#1f77b4\",\"x\":{\"field\":\"word\"},\"y\":{\"field\":\"count\"}},\"id\":\"e05e5008-1626-4e10-9b0e-0e29338073ef\",\"type\":\"Line\"},{\"attributes\":{\"callback\":null,\"mode\":\"vline\",\"renderers\":\"auto\",\"tooltips\":[[\"Word\",\"@word\"],[\"Count\",\"@count\"]]},\"id\":\"5dabf751-10b2-462f-9b29-2a09e5f010f3\",\"type\":\"HoverTool\"},{\"attributes\":{\"align\":\"center\",\"plot\":null,\"text\":\"Word frequency for \\\"talk.religion.misc\\\"\",\"text_font\":\"Helvetica\",\"text_font_size\":{\"value\":\"24px\"}},\"id\":\"220d0b0c-5ca2-4b21-9037-2f5eed146dfa\",\"type\":\"Title\"},{\"attributes\":{},\"id\":\"6457c099-a376-4e43-86db-930d6c445ee5\",\"type\":\"BasicTicker\"},{\"attributes\":{\"dimension\":1,\"plot\":{\"id\":\"7f40c2b2-14e1-43aa-928d-89cb15e7b31e\",\"subtype\":\"Figure\",\"type\":\"Plot\"},\"ticker\":{\"id\":\"6457c099-a376-4e43-86db-930d6c445ee5\",\"type\":\"BasicTicker\"}},\"id\":\"41a1afe9-48aa-4f19-9e9f-37c6203efc0e\",\"type\":\"Grid\"},{\"attributes\":{\"active_drag\":\"auto\",\"active_inspect\":\"auto\",\"active_multi\":null,\"active_scroll\":\"auto\",\"active_tap\":\"auto\",\"tools\":[{\"id\":\"defd3c6f-b2b9-42d5-a33f-ba6559fc655a\",\"type\":\"BoxSelectTool\"},{\"id\":\"dd19cdfd-87dd-46ee-9964-7693dc9244ae\",\"type\":\"PanTool\"},{\"id\":\"dcee0fc3-9a9c-4fa4-a021-4dd0c2e61060\",\"type\":\"ResetTool\"},{\"id\":\"03759904-f800-4867-89f1-8a78e9e644a8\",\"type\":\"SaveTool\"},{\"id\":\"5dabf751-10b2-462f-9b29-2a09e5f010f3\",\"type\":\"HoverTool\"}]},\"id\":\"b0314b50-687a-411c-bf62-0081e2f60e3f\",\"type\":\"Toolbar\"},{\"attributes\":{\"axis_label\":\"Count\",\"formatter\":{\"id\":\"2142ea55-2236-491a-b932-662867770a67\",\"type\":\"BasicTickFormatter\"},\"plot\":{\"id\":\"fe3bf257-25e6-433e-801e-15efcc690b52\",\"subtype\":\"Figure\",\"type\":\"Plot\"},\"ticker\":{\"id\":\"09a58371-f53e-4232-8aad-54634eddec4c\",\"type\":\"BasicTicker\"}},\"id\":\"a29b3ffb-2be6-4335-b92a-d68234ba45f9\",\"type\":\"LinearAxis\"},{\"attributes\":{\"line_alpha\":0.1,\"line_color\":\"#1f77b4\",\"x\":{\"field\":\"word\"},\"y\":{\"field\":\"count\"}},\"id\":\"a791705d-cee4-45f0-a9d3-a9e0762b3604\",\"type\":\"Line\"},{\"attributes\":{\"align\":\"center\",\"plot\":null,\"text\":\"Word frequency for \\\"comp.windows.x\\\"\",\"text_font\":\"Helvetica\",\"text_font_size\":{\"value\":\"24px\"}},\"id\":\"626f3ee4-31e7-498d-95d5-ad454c612746\",\"type\":\"Title\"},{\"attributes\":{\"callback\":null,\"factors\":[\"writes\",\"would\",\"article\",\"people\",\"jesus\",\"know\",\"think\",\"like\",\"even\",\"good\",\"objective\",\"also\",\"bible\",\"said\",\"time\",\"many\",\"believe\",\"well\",\"life\",\"christian\",\"make\",\"frank\",\"right\",\"really\",\"fact\",\"could\",\"point\",\"want\",\"science\",\"christ\",\"much\",\"koresh\",\"first\",\"true\",\"moral\",\"religion\",\"world\",\"things\",\"still\",\"christians\",\"word\",\"truth\",\"something\",\"better\",\"theory\",\"evidence\",\"take\",\"mean\",\"never\",\"made\"]},\"id\":\"820d750a-4c60-4fb8-a470-4aa175a41a10\",\"type\":\"FactorRange\"},{\"attributes\":{\"below\":[{\"id\":\"c3b21296-b087-455f-ad71-0f648d49bbd9\",\"type\":\"CategoricalAxis\"}],\"left\":[{\"id\":\"a29b3ffb-2be6-4335-b92a-d68234ba45f9\",\"type\":\"LinearAxis\"}],\"plot_width\":800,\"renderers\":[{\"id\":\"c3b21296-b087-455f-ad71-0f648d49bbd9\",\"type\":\"CategoricalAxis\"},{\"id\":\"a6dd7894-93a7-4644-87a5-ae609150dcf1\",\"type\":\"Grid\"},{\"id\":\"a29b3ffb-2be6-4335-b92a-d68234ba45f9\",\"type\":\"LinearAxis\"},{\"id\":\"15c7497e-7c4f-4a76-98e0-d361dcccedb4\",\"type\":\"Grid\"},{\"id\":\"f352ec61-c7aa-4736-8bbd-183c1d6868a6\",\"type\":\"BoxAnnotation\"},{\"id\":\"1d3a93ae-4473-4d8f-8d39-80b4ac9470c3\",\"type\":\"GlyphRenderer\"}],\"title\":{\"id\":\"220d0b0c-5ca2-4b21-9037-2f5eed146dfa\",\"type\":\"Title\"},\"toolbar\":{\"id\":\"b0314b50-687a-411c-bf62-0081e2f60e3f\",\"type\":\"Toolbar\"},\"x_range\":{\"id\":\"820d750a-4c60-4fb8-a470-4aa175a41a10\",\"type\":\"FactorRange\"},\"x_scale\":{\"id\":\"b711402f-788c-40c9-874e-37ef60650f33\",\"type\":\"CategoricalScale\"},\"y_range\":{\"id\":\"b9c7ebb7-7b76-4fca-90b3-cc35b1965fc7\",\"type\":\"DataRange1d\"},\"y_scale\":{\"id\":\"1ab3b8b8-5a67-4062-83dd-79f054b15aca\",\"type\":\"LinearScale\"}},\"id\":\"fe3bf257-25e6-433e-801e-15efcc690b52\",\"subtype\":\"Figure\",\"type\":\"Plot\"},{\"attributes\":{\"line_alpha\":0.1,\"line_color\":\"#1f77b4\",\"x\":{\"field\":\"word\"},\"y\":{\"field\":\"count\"}},\"id\":\"19ec8023-b00e-4447-97e5-ea63f0fe55db\",\"type\":\"Line\"},{\"attributes\":{\"callback\":null},\"id\":\"b9c7ebb7-7b76-4fca-90b3-cc35b1965fc7\",\"type\":\"DataRange1d\"},{\"attributes\":{\"callback\":null,\"overlay\":{\"id\":\"1c34a016-c097-47c4-a077-06ba717f747b\",\"type\":\"BoxAnnotation\"}},\"id\":\"7bb93d10-377c-4685-b3d3-1f6fb33da5c5\",\"type\":\"BoxSelectTool\"},{\"attributes\":{},\"id\":\"b711402f-788c-40c9-874e-37ef60650f33\",\"type\":\"CategoricalScale\"},{\"attributes\":{},\"id\":\"71aca372-53ab-46e4-8452-ea498f847a3a\",\"type\":\"SaveTool\"},{\"attributes\":{},\"id\":\"1ab3b8b8-5a67-4062-83dd-79f054b15aca\",\"type\":\"LinearScale\"},{\"attributes\":{},\"id\":\"c4798fdc-7167-46c3-ac7c-11ebe3d7e0d6\",\"type\":\"PanTool\"},{\"attributes\":{\"plot\":{\"id\":\"fe3bf257-25e6-433e-801e-15efcc690b52\",\"subtype\":\"Figure\",\"type\":\"Plot\"},\"ticker\":{\"id\":\"52e1dc39-56a4-4230-a401-cfb45d85265b\",\"type\":\"CategoricalTicker\"}},\"id\":\"a6dd7894-93a7-4644-87a5-ae609150dcf1\",\"type\":\"Grid\"},{\"attributes\":{},\"id\":\"dc2344db-ac02-4284-86c1-d637b26e9dfc\",\"type\":\"ResetTool\"},{\"attributes\":{\"axis_label\":\"Count\",\"formatter\":{\"id\":\"ec83ff69-89c5-4651-8d26-3c57bd52ecdc\",\"type\":\"BasicTickFormatter\"},\"plot\":{\"id\":\"67966ea5-0026-491c-b8e8-9990e0385cb4\",\"subtype\":\"Figure\",\"type\":\"Plot\"},\"ticker\":{\"id\":\"4d91e2da-6691-4e48-bdff-d033fef95e75\",\"type\":\"BasicTicker\"}},\"id\":\"2fab0342-5cdc-4045-9689-5015bb3dab85\",\"type\":\"LinearAxis\"},{\"attributes\":{},\"id\":\"d795a151-35f8-4a68-b1a9-54541b1f3ebe\",\"type\":\"CategoricalScale\"},{\"attributes\":{\"data_source\":{\"id\":\"b99ff19c-f08e-4146-a047-17ed11ae8c92\",\"type\":\"ColumnDataSource\"},\"glyph\":{\"id\":\"7e719c91-0722-4d3d-94eb-5c9f708630ba\",\"type\":\"Line\"},\"hover_glyph\":null,\"muted_glyph\":null,\"nonselection_glyph\":{\"id\":\"b384d706-2176-481c-8d5b-88b0130c5942\",\"type\":\"Line\"},\"selection_glyph\":null,\"view\":{\"id\":\"d03a421d-0d08-41f9-92d1-8ac4c0fb300b\",\"type\":\"CDSView\"}},\"id\":\"23e8038d-6e83-4bc9-bc23-67583093900d\",\"type\":\"GlyphRenderer\"},{\"attributes\":{\"axis_label\":\"Count\",\"formatter\":{\"id\":\"7f9d6375-b09f-45a5-9f3c-4e0b4f66a76a\",\"type\":\"BasicTickFormatter\"},\"plot\":{\"id\":\"9ebb2e3d-671f-467b-8c59-1cd40e48212c\",\"subtype\":\"Figure\",\"type\":\"Plot\"},\"ticker\":{\"id\":\"1a0c791e-0a55-4f30-8d7c-73272394e010\",\"type\":\"BasicTicker\"}},\"id\":\"e79dfee1-fc72-4d99-8fbe-3b7a3ea48ab3\",\"type\":\"LinearAxis\"},{\"attributes\":{\"bottom_units\":\"screen\",\"fill_alpha\":{\"value\":0.5},\"fill_color\":{\"value\":\"lightgrey\"},\"left_units\":\"screen\",\"level\":\"overlay\",\"line_alpha\":{\"value\":1.0},\"line_color\":{\"value\":\"black\"},\"line_dash\":[4,4],\"line_width\":{\"value\":2},\"plot\":null,\"render_mode\":\"css\",\"right_units\":\"screen\",\"top_units\":\"screen\"},\"id\":\"a4c4a504-7b68-49eb-b491-f431e1921cd6\",\"type\":\"BoxAnnotation\"},{\"attributes\":{},\"id\":\"4d91e2da-6691-4e48-bdff-d033fef95e75\",\"type\":\"BasicTicker\"},{\"attributes\":{\"dimension\":1,\"plot\":{\"id\":\"67966ea5-0026-491c-b8e8-9990e0385cb4\",\"subtype\":\"Figure\",\"type\":\"Plot\"},\"ticker\":{\"id\":\"4d91e2da-6691-4e48-bdff-d033fef95e75\",\"type\":\"BasicTicker\"}},\"id\":\"a01af3ba-686a-4f79-8fc3-2c3a06d283e8\",\"type\":\"Grid\"},{\"attributes\":{},\"id\":\"08f188d9-2f32-483f-bde6-d7b1e8efca78\",\"type\":\"LinearScale\"},{\"attributes\":{\"plot\":{\"id\":\"9ebb2e3d-671f-467b-8c59-1cd40e48212c\",\"subtype\":\"Figure\",\"type\":\"Plot\"},\"ticker\":{\"id\":\"8f9cecf6-b111-429a-97e4-2cf79abc0c8a\",\"type\":\"CategoricalTicker\"}},\"id\":\"41d4cb85-2a9a-44b3-9488-c0fab76eac5c\",\"type\":\"Grid\"},{\"attributes\":{\"callback\":null,\"data\":{\"count\":[984,927,555,521,485,440,403,401,396,394,360,360,357,349,343,324,318,295,287,277,271,266,256,256,250,248,244,239,234,220,220,211,207,206,199,196,195,195,193,192,186,181,179,177,175,172,168,166,164,162],\"index\":[0,1,2,3,4,5,6,7,8,9,10,11,12,13,14,15,16,17,18,19,20,21,22,23,24,25,26,27,28,29,30,31,32,33,34,35,36,37,38,39,40,41,42,43,44,45,46,47,48,49],\"word\":[\"drive\",\"scsi\",\"card\",\"would\",\"system\",\"controller\",\"know\",\"writes\",\"like\",\"disk\",\"drives\",\"article\",\"also\",\"thanks\",\"hard\",\"anyone\",\"problem\",\"work\",\"windows\",\"bios\",\"data\",\"using\",\"time\",\"computer\",\"please\",\"software\",\"help\",\"board\",\"need\",\"think\",\"could\",\"floppy\",\"monitor\",\"good\",\"drivers\",\"mail\",\"modem\",\"memory\",\"port\",\"used\",\"speed\",\"much\",\"chip\",\"motherboard\",\"well\",\"problems\",\"want\",\"tape\",\"even\",\"hardware\"]},\"selected\":{\"id\":\"9b7c7e93-2e6f-48ae-b720-a0300a1f7204\",\"type\":\"Selection\"},\"selection_policy\":{\"id\":\"4d97fa7f-9cf7-4a16-8d0a-3555837f5d1d\",\"type\":\"UnionRenderers\"}},\"id\":\"82b63dd6-0865-4f4b-8a62-dcb3acf49d1c\",\"type\":\"ColumnDataSource\"},{\"attributes\":{\"axis_label\":\"Samples\",\"formatter\":{\"id\":\"352f5432-b0f8-43ea-a85e-9a9673605a1e\",\"type\":\"CategoricalTickFormatter\"},\"major_label_orientation\":1.5707963267948966,\"plot\":{\"id\":\"9ebb2e3d-671f-467b-8c59-1cd40e48212c\",\"subtype\":\"Figure\",\"type\":\"Plot\"},\"ticker\":{\"id\":\"8f9cecf6-b111-429a-97e4-2cf79abc0c8a\",\"type\":\"CategoricalTicker\"}},\"id\":\"ab30360f-cdba-4b97-997d-0677ed5d4ebe\",\"type\":\"CategoricalAxis\"},{\"attributes\":{\"line_color\":\"#1f77b4\",\"x\":{\"field\":\"word\"},\"y\":{\"field\":\"count\"}},\"id\":\"841b7978-b694-48f9-8bb9-baba258afb0b\",\"type\":\"Line\"},{\"attributes\":{\"callback\":null,\"mode\":\"vline\",\"renderers\":\"auto\",\"tooltips\":[[\"Word\",\"@word\"],[\"Count\",\"@count\"]]},\"id\":\"011e229d-c4f3-4789-bc84-8bbe5ad8a63b\",\"type\":\"HoverTool\"},{\"attributes\":{},\"id\":\"8f9cecf6-b111-429a-97e4-2cf79abc0c8a\",\"type\":\"CategoricalTicker\"},{\"attributes\":{\"callback\":null,\"tabs\":[{\"id\":\"361890c6-8981-4df4-8714-536ffa587df7\",\"type\":\"Panel\"},{\"id\":\"2fa28cfb-c6f0-4ed0-86e1-d09975d5f959\",\"type\":\"Panel\"},{\"id\":\"40be5b04-fa04-47c7-924f-564f4d7ca984\",\"type\":\"Panel\"},{\"id\":\"a5e064d2-ff53-4a43-9bbe-cbd85e576275\",\"type\":\"Panel\"},{\"id\":\"8b3a06bc-8ebd-4837-aaee-f9d59024b98d\",\"type\":\"Panel\"},{\"id\":\"557db2b4-e6ad-4028-8adc-98642aeb55ee\",\"type\":\"Panel\"},{\"id\":\"a3838978-a3a6-4dd1-9536-06bc973aedaa\",\"type\":\"Panel\"},{\"id\":\"5b09aa7a-36cf-4dc8-a53b-fbe8e0ce22e9\",\"type\":\"Panel\"},{\"id\":\"1d839649-e81a-427f-858a-d837784d3eab\",\"type\":\"Panel\"},{\"id\":\"8735b58b-34c7-4743-8a23-237051e67cc7\",\"type\":\"Panel\"},{\"id\":\"e733829b-7017-48fa-9216-0ed4facdf7d6\",\"type\":\"Panel\"},{\"id\":\"e5aa9e9a-507e-49d1-b76e-13265af5dd1c\",\"type\":\"Panel\"},{\"id\":\"fe5f5357-7f72-46dc-a339-daa3d4a0c2ed\",\"type\":\"Panel\"},{\"id\":\"90644384-7b10-4bcc-a835-d7dce241a7dd\",\"type\":\"Panel\"},{\"id\":\"6967b820-f6db-4214-9180-af5696fa24a7\",\"type\":\"Panel\"},{\"id\":\"715e6989-3ba4-4dd5-82e5-1c2db89c2d0c\",\"type\":\"Panel\"},{\"id\":\"680116d1-c607-409f-b336-673618c9072a\",\"type\":\"Panel\"},{\"id\":\"3549f6e2-2b59-43e1-a2cb-dca1667e3180\",\"type\":\"Panel\"},{\"id\":\"5247ebf0-156e-40cf-9264-257c499dd0ed\",\"type\":\"Panel\"},{\"id\":\"4849cbad-e069-4805-a739-c5071eff6ef5\",\"type\":\"Panel\"}]},\"id\":\"5f3b4684-7f9b-4fe7-82f7-282a5df66462\",\"type\":\"Tabs\"},{\"attributes\":{\"callback\":null,\"overlay\":{\"id\":\"f14690f8-fa64-4a1d-9375-d643dcef782e\",\"type\":\"BoxAnnotation\"}},\"id\":\"8208cc25-9a8e-4fa9-8323-1e896b1f7350\",\"type\":\"BoxSelectTool\"},{\"attributes\":{\"source\":{\"id\":\"f6bda705-f308-4575-af2a-fcb5ff6735e5\",\"type\":\"ColumnDataSource\"}},\"id\":\"0f079891-c474-43ac-a994-a98603c4a95d\",\"type\":\"CDSView\"},{\"attributes\":{},\"id\":\"1a0c791e-0a55-4f30-8d7c-73272394e010\",\"type\":\"BasicTicker\"},{\"attributes\":{\"dimension\":1,\"plot\":{\"id\":\"9ebb2e3d-671f-467b-8c59-1cd40e48212c\",\"subtype\":\"Figure\",\"type\":\"Plot\"},\"ticker\":{\"id\":\"1a0c791e-0a55-4f30-8d7c-73272394e010\",\"type\":\"BasicTicker\"}},\"id\":\"4a00762c-4967-43bb-910d-4359ab90f0b5\",\"type\":\"Grid\"},{\"attributes\":{},\"id\":\"cb94ce79-c8b6-4da2-adec-22138e5e3c2e\",\"type\":\"PanTool\"},{\"attributes\":{},\"id\":\"843dd930-52e1-4e8a-9037-d5f10f784dd8\",\"type\":\"ResetTool\"},{\"attributes\":{},\"id\":\"d1648f1b-ad1e-4120-8aa6-c173af9b9599\",\"type\":\"SaveTool\"},{\"attributes\":{\"line_color\":\"#1f77b4\",\"x\":{\"field\":\"word\"},\"y\":{\"field\":\"count\"}},\"id\":\"144d7391-75f1-485d-b8cb-ceab3dc7e38f\",\"type\":\"Line\"},{\"attributes\":{\"bottom_units\":\"screen\",\"fill_alpha\":{\"value\":0.5},\"fill_color\":{\"value\":\"lightgrey\"},\"left_units\":\"screen\",\"level\":\"overlay\",\"line_alpha\":{\"value\":1.0},\"line_color\":{\"value\":\"black\"},\"line_dash\":[4,4],\"line_width\":{\"value\":2},\"plot\":null,\"render_mode\":\"css\",\"right_units\":\"screen\",\"top_units\":\"screen\"},\"id\":\"f14690f8-fa64-4a1d-9375-d643dcef782e\",\"type\":\"BoxAnnotation\"},{\"attributes\":{\"callback\":null,\"mode\":\"vline\",\"renderers\":\"auto\",\"tooltips\":[[\"Word\",\"@word\"],[\"Count\",\"@count\"]]},\"id\":\"d50b9661-d218-43f0-b025-c0a1bee9c75b\",\"type\":\"HoverTool\"},{\"attributes\":{\"line_alpha\":0.1,\"line_color\":\"#1f77b4\",\"x\":{\"field\":\"word\"},\"y\":{\"field\":\"count\"}},\"id\":\"2bf3af68-208e-42ca-8a61-966c1f5d9897\",\"type\":\"Line\"},{\"attributes\":{\"callback\":null,\"overlay\":{\"id\":\"012f7351-88d2-4afc-b5c8-f4b9030f28af\",\"type\":\"BoxAnnotation\"}},\"id\":\"63480f1f-10d4-44f5-88bf-7d8af927fb53\",\"type\":\"BoxSelectTool\"},{\"attributes\":{\"data_source\":{\"id\":\"f6bda705-f308-4575-af2a-fcb5ff6735e5\",\"type\":\"ColumnDataSource\"},\"glyph\":{\"id\":\"841b7978-b694-48f9-8bb9-baba258afb0b\",\"type\":\"Line\"},\"hover_glyph\":null,\"muted_glyph\":null,\"nonselection_glyph\":{\"id\":\"2bf3af68-208e-42ca-8a61-966c1f5d9897\",\"type\":\"Line\"},\"selection_glyph\":null,\"view\":{\"id\":\"0f079891-c474-43ac-a994-a98603c4a95d\",\"type\":\"CDSView\"}},\"id\":\"2879227e-46cc-4387-8d08-d8481e146849\",\"type\":\"GlyphRenderer\"},{\"attributes\":{\"source\":{\"id\":\"fe84f08b-fbec-4b4b-b5d0-0682a3696cd2\",\"type\":\"ColumnDataSource\"}},\"id\":\"80780df8-93fa-4e07-81a5-b95a28f7249e\",\"type\":\"CDSView\"},{\"attributes\":{\"child\":{\"id\":\"67966ea5-0026-491c-b8e8-9990e0385cb4\",\"subtype\":\"Figure\",\"type\":\"Plot\"},\"title\":\"alt.atheism\"},\"id\":\"361890c6-8981-4df4-8714-536ffa587df7\",\"type\":\"Panel\"},{\"attributes\":{},\"id\":\"c724a419-2fcb-49a1-bb37-d0e28ffff625\",\"type\":\"PanTool\"},{\"attributes\":{\"active_drag\":\"auto\",\"active_inspect\":\"auto\",\"active_multi\":null,\"active_scroll\":\"auto\",\"active_tap\":\"auto\",\"tools\":[{\"id\":\"63480f1f-10d4-44f5-88bf-7d8af927fb53\",\"type\":\"BoxSelectTool\"},{\"id\":\"c724a419-2fcb-49a1-bb37-d0e28ffff625\",\"type\":\"PanTool\"},{\"id\":\"1be8ce10-f536-4b64-803d-ed7bbdad25b5\",\"type\":\"ResetTool\"},{\"id\":\"2958c838-8215-4a4c-994e-50c0dcb16109\",\"type\":\"SaveTool\"},{\"id\":\"d50b9661-d218-43f0-b025-c0a1bee9c75b\",\"type\":\"HoverTool\"}]},\"id\":\"7ff00ae7-1a83-4c0c-803a-3587e9b1cd79\",\"type\":\"Toolbar\"},{\"attributes\":{},\"id\":\"1be8ce10-f536-4b64-803d-ed7bbdad25b5\",\"type\":\"ResetTool\"},{\"attributes\":{\"callback\":null,\"data\":{\"count\":[1270,1014,816,705,594,583,547,511,499,482,480,480,466,456,450,430,422,405,393,380,373,351,325,323,320,319,316,307,292,291,286,278,276,273,267,265,259,252,250,243,242,240,239,236,235,230,218,217,217,216],\"index\":[0,1,2,3,4,5,6,7,8,9,10,11,12,13,14,15,16,17,18,19,20,21,22,23,24,25,26,27,28,29,30,31,32,33,34,35,36,37,38,39,40,41,42,43,44,45,46,47,48,49],\"word\":[\"image\",\"graphics\",\"jpeg\",\"file\",\"would\",\"images\",\"also\",\"data\",\"software\",\"available\",\"format\",\"files\",\"like\",\"program\",\"color\",\"mail\",\"know\",\"writes\",\"version\",\"article\",\"computer\",\"information\",\"please\",\"display\",\"need\",\"system\",\"thanks\",\"anyone\",\"code\",\"using\",\"package\",\"many\",\"help\",\"find\",\"time\",\"line\",\"could\",\"free\",\"much\",\"windows\",\"send\",\"want\",\"programs\",\"good\",\"well\",\"number\",\"formats\",\"university\",\"read\",\"used\"]},\"selected\":{\"id\":\"400518fe-9e71-4177-bf2a-3627b4e009fc\",\"type\":\"Selection\"},\"selection_policy\":{\"id\":\"5c167bb6-a26b-4264-8ddf-fa455fc5514a\",\"type\":\"UnionRenderers\"}},\"id\":\"b99ff19c-f08e-4146-a047-17ed11ae8c92\",\"type\":\"ColumnDataSource\"},{\"attributes\":{},\"id\":\"2958c838-8215-4a4c-994e-50c0dcb16109\",\"type\":\"SaveTool\"},{\"attributes\":{\"bottom_units\":\"screen\",\"fill_alpha\":{\"value\":0.5},\"fill_color\":{\"value\":\"lightgrey\"},\"left_units\":\"screen\",\"level\":\"overlay\",\"line_alpha\":{\"value\":1.0},\"line_color\":{\"value\":\"black\"},\"line_dash\":[4,4],\"line_width\":{\"value\":2},\"plot\":null,\"render_mode\":\"css\",\"right_units\":\"screen\",\"top_units\":\"screen\"},\"id\":\"012f7351-88d2-4afc-b5c8-f4b9030f28af\",\"type\":\"BoxAnnotation\"},{\"attributes\":{\"callback\":null,\"mode\":\"vline\",\"renderers\":\"auto\",\"tooltips\":[[\"Word\",\"@word\"],[\"Count\",\"@count\"]]},\"id\":\"aeca9093-f57c-4e74-8aff-9e865a56bf89\",\"type\":\"HoverTool\"},{\"attributes\":{\"line_alpha\":0.1,\"line_color\":\"#1f77b4\",\"x\":{\"field\":\"word\"},\"y\":{\"field\":\"count\"}},\"id\":\"b384d706-2176-481c-8d5b-88b0130c5942\",\"type\":\"Line\"},{\"attributes\":{\"line_alpha\":0.1,\"line_color\":\"#1f77b4\",\"x\":{\"field\":\"word\"},\"y\":{\"field\":\"count\"}},\"id\":\"3fb55605-744c-474f-898e-619bb50f988b\",\"type\":\"Line\"},{\"attributes\":{\"active_drag\":\"auto\",\"active_inspect\":\"auto\",\"active_multi\":null,\"active_scroll\":\"auto\",\"active_tap\":\"auto\",\"tools\":[{\"id\":\"30ab38bc-f96c-4587-bbee-a2c13077e031\",\"type\":\"BoxSelectTool\"},{\"id\":\"21ab5c50-4d23-429d-bce2-4ed90924f6cb\",\"type\":\"PanTool\"},{\"id\":\"dbf9ea50-95aa-4c17-9ada-8ed89db8f1bc\",\"type\":\"ResetTool\"},{\"id\":\"9eada587-5aa1-4b6f-8ec0-a63951985943\",\"type\":\"SaveTool\"},{\"id\":\"aeca9093-f57c-4e74-8aff-9e865a56bf89\",\"type\":\"HoverTool\"}]},\"id\":\"72630585-556a-4c77-a919-94dcdd0b01c1\",\"type\":\"Toolbar\"},{\"attributes\":{\"data_source\":{\"id\":\"fe84f08b-fbec-4b4b-b5d0-0682a3696cd2\",\"type\":\"ColumnDataSource\"},\"glyph\":{\"id\":\"144d7391-75f1-485d-b8cb-ceab3dc7e38f\",\"type\":\"Line\"},\"hover_glyph\":null,\"muted_glyph\":null,\"nonselection_glyph\":{\"id\":\"3fb55605-744c-474f-898e-619bb50f988b\",\"type\":\"Line\"},\"selection_glyph\":null,\"view\":{\"id\":\"80780df8-93fa-4e07-81a5-b95a28f7249e\",\"type\":\"CDSView\"}},\"id\":\"bcf1eb5b-55e0-4900-a4ad-066d222143b0\",\"type\":\"GlyphRenderer\"},{\"attributes\":{\"child\":{\"id\":\"9ebb2e3d-671f-467b-8c59-1cd40e48212c\",\"subtype\":\"Figure\",\"type\":\"Plot\"},\"title\":\"sci.space\"},\"id\":\"6967b820-f6db-4214-9180-af5696fa24a7\",\"type\":\"Panel\"},{\"attributes\":{\"axis_label\":\"Count\",\"formatter\":{\"id\":\"5f660a6a-aa98-4a5c-9824-da091b1c7a12\",\"type\":\"BasicTickFormatter\"},\"plot\":{\"id\":\"dcdb7095-9927-4e08-96c8-9b30b4a2f747\",\"subtype\":\"Figure\",\"type\":\"Plot\"},\"ticker\":{\"id\":\"4d909b44-faa4-49c0-b664-c2d2467eea91\",\"type\":\"BasicTicker\"}},\"id\":\"1f3b3fb4-6ea0-4a21-9580-d20cc5292916\",\"type\":\"LinearAxis\"},{\"attributes\":{\"child\":{\"id\":\"c38f9dbd-b1e1-459a-92f2-b967f09f5109\",\"subtype\":\"Figure\",\"type\":\"Plot\"},\"title\":\"talk.politics.guns\"},\"id\":\"680116d1-c607-409f-b336-673618c9072a\",\"type\":\"Panel\"},{\"attributes\":{\"callback\":null,\"factors\":[\"image\",\"graphics\",\"jpeg\",\"file\",\"would\",\"images\",\"also\",\"data\",\"software\",\"available\",\"format\",\"files\",\"like\",\"program\",\"color\",\"mail\",\"know\",\"writes\",\"version\",\"article\",\"computer\",\"information\",\"please\",\"display\",\"need\",\"system\",\"thanks\",\"anyone\",\"code\",\"using\",\"package\",\"many\",\"help\",\"find\",\"time\",\"line\",\"could\",\"free\",\"much\",\"windows\",\"send\",\"want\",\"programs\",\"good\",\"well\",\"number\",\"formats\",\"university\",\"read\",\"used\"]},\"id\":\"977ed8cf-b4d3-4ffa-bfaa-f600a2b7341c\",\"type\":\"FactorRange\"},{\"attributes\":{\"below\":[{\"id\":\"fa73f825-d6ec-4d25-b8bc-e8bb4ecb28ba\",\"type\":\"CategoricalAxis\"}],\"left\":[{\"id\":\"1f3b3fb4-6ea0-4a21-9580-d20cc5292916\",\"type\":\"LinearAxis\"}],\"plot_width\":800,\"renderers\":[{\"id\":\"fa73f825-d6ec-4d25-b8bc-e8bb4ecb28ba\",\"type\":\"CategoricalAxis\"},{\"id\":\"d729a8e7-36ca-4f74-a103-0d90a2973aba\",\"type\":\"Grid\"},{\"id\":\"1f3b3fb4-6ea0-4a21-9580-d20cc5292916\",\"type\":\"LinearAxis\"},{\"id\":\"7b584033-8f29-41b7-b086-b93c72429716\",\"type\":\"Grid\"},{\"id\":\"8421c922-ac5d-436d-8b2f-984d1331f696\",\"type\":\"BoxAnnotation\"},{\"id\":\"23e8038d-6e83-4bc9-bc23-67583093900d\",\"type\":\"GlyphRenderer\"}],\"title\":{\"id\":\"4544dc24-ce3c-4ef6-8ead-9779fd041846\",\"type\":\"Title\"},\"toolbar\":{\"id\":\"72630585-556a-4c77-a919-94dcdd0b01c1\",\"type\":\"Toolbar\"},\"x_range\":{\"id\":\"977ed8cf-b4d3-4ffa-bfaa-f600a2b7341c\",\"type\":\"FactorRange\"},\"x_scale\":{\"id\":\"d1fbf4f1-5e2d-40d9-8ff6-8938ca7dc5d0\",\"type\":\"CategoricalScale\"},\"y_range\":{\"id\":\"c30ded68-c396-4993-9c54-323eb74ac55f\",\"type\":\"DataRange1d\"},\"y_scale\":{\"id\":\"3daae866-8a39-4057-8b29-71f0260b59cd\",\"type\":\"LinearScale\"}},\"id\":\"dcdb7095-9927-4e08-96c8-9b30b4a2f747\",\"subtype\":\"Figure\",\"type\":\"Plot\"},{\"attributes\":{\"callback\":null,\"data\":{\"count\":[1320,1018,887,785,748,717,693,685,670,645,629,613,605,576,555,547,521,495,445,442,437,408,406,401,396,388,378,352,346,339,336,335,330,326,321,318,318,316,314,313,313,312,304,299,293,293,286,286,284,280],\"index\":[0,1,2,3,4,5,6,7,8,9,10,11,12,13,14,15,16,17,18,19,20,21,22,23,24,25,26,27,28,29,30,31,32,33,34,35,36,37,38,39,40,41,42,43,44,45,46,47,48,49],\"word\":[\"would\",\"people\",\"jesus\",\"church\",\"think\",\"know\",\"christ\",\"writes\",\"believe\",\"like\",\"christian\",\"also\",\"christians\",\"bible\",\"time\",\"article\",\"faith\",\"even\",\"life\",\"paul\",\"many\",\"good\",\"question\",\"could\",\"love\",\"things\",\"must\",\"christianity\",\"truth\",\"much\",\"lord\",\"well\",\"word\",\"something\",\"come\",\"true\",\"make\",\"said\",\"point\",\"find\",\"world\",\"never\",\"however\",\"since\",\"hell\",\"first\",\"human\",\"really\",\"fact\",\"homosexuality\"]},\"selected\":{\"id\":\"7e723c7c-1777-4af6-a794-37f40818e5a4\",\"type\":\"Selection\"},\"selection_policy\":{\"id\":\"39e37dd2-320c-4184-b433-895da76529a1\",\"type\":\"UnionRenderers\"}},\"id\":\"c327571c-f559-4f39-94b4-0d3c5c7a6216\",\"type\":\"ColumnDataSource\"},{\"attributes\":{\"callback\":null},\"id\":\"c30ded68-c396-4993-9c54-323eb74ac55f\",\"type\":\"DataRange1d\"},{\"attributes\":{\"data_source\":{\"id\":\"9f0c3430-4152-4c99-bf1f-05dffc4548d1\",\"type\":\"ColumnDataSource\"},\"glyph\":{\"id\":\"93949e0f-ec76-459c-a60f-59381239ccbe\",\"type\":\"Line\"},\"hover_glyph\":null,\"muted_glyph\":null,\"nonselection_glyph\":{\"id\":\"1149445e-1aea-4615-9c87-90894768cf17\",\"type\":\"Line\"},\"selection_glyph\":null,\"view\":{\"id\":\"bdef546f-6b6b-4d51-82b1-9a7cf2eb74d1\",\"type\":\"CDSView\"}},\"id\":\"76f84e29-61d5-43f8-9add-8dcb790fd619\",\"type\":\"GlyphRenderer\"},{\"attributes\":{},\"id\":\"d1fbf4f1-5e2d-40d9-8ff6-8938ca7dc5d0\",\"type\":\"CategoricalScale\"},{\"attributes\":{},\"id\":\"3daae866-8a39-4057-8b29-71f0260b59cd\",\"type\":\"LinearScale\"},{\"attributes\":{\"active_drag\":\"auto\",\"active_inspect\":\"auto\",\"active_multi\":null,\"active_scroll\":\"auto\",\"active_tap\":\"auto\",\"tools\":[{\"id\":\"9ae98980-17ac-475e-8f26-7fdfdd6b7a32\",\"type\":\"BoxSelectTool\"},{\"id\":\"fb479a23-7b18-47ff-b295-18297dde602e\",\"type\":\"PanTool\"},{\"id\":\"4e39c147-deeb-41ce-ad57-3d9276f85f82\",\"type\":\"ResetTool\"},{\"id\":\"be301752-ee6d-400b-8ff5-70fd9afd3576\",\"type\":\"SaveTool\"},{\"id\":\"038c958f-c2e2-49bb-908c-574a1629cfe2\",\"type\":\"HoverTool\"}]},\"id\":\"91505562-29e6-473b-925c-eb566bd544ea\",\"type\":\"Toolbar\"},{\"attributes\":{\"plot\":{\"id\":\"dcdb7095-9927-4e08-96c8-9b30b4a2f747\",\"subtype\":\"Figure\",\"type\":\"Plot\"},\"ticker\":{\"id\":\"269a151a-8dde-4974-8a21-433b33056f98\",\"type\":\"CategoricalTicker\"}},\"id\":\"d729a8e7-36ca-4f74-a103-0d90a2973aba\",\"type\":\"Grid\"},{\"attributes\":{\"axis_label\":\"Count\",\"formatter\":{\"id\":\"e2959150-023c-4f5a-a32c-3d2f671ad196\",\"type\":\"BasicTickFormatter\"},\"plot\":{\"id\":\"4727f775-5887-452b-91da-e2cdd8d564f5\",\"subtype\":\"Figure\",\"type\":\"Plot\"},\"ticker\":{\"id\":\"a5d2a150-7bb9-4e05-954e-30fad1449c08\",\"type\":\"BasicTicker\"}},\"id\":\"0e5808c6-2bb5-48ee-ac79-a0b97f7a9656\",\"type\":\"LinearAxis\"},{\"attributes\":{\"axis_label\":\"Samples\",\"formatter\":{\"id\":\"a5b7ad1e-e4d4-4b74-8a83-ff8e104fd9fe\",\"type\":\"CategoricalTickFormatter\"},\"major_label_orientation\":1.5707963267948966,\"plot\":{\"id\":\"dcdb7095-9927-4e08-96c8-9b30b4a2f747\",\"subtype\":\"Figure\",\"type\":\"Plot\"},\"ticker\":{\"id\":\"269a151a-8dde-4974-8a21-433b33056f98\",\"type\":\"CategoricalTicker\"}},\"id\":\"fa73f825-d6ec-4d25-b8bc-e8bb4ecb28ba\",\"type\":\"CategoricalAxis\"},{\"attributes\":{\"callback\":null,\"factors\":[\"would\",\"people\",\"jesus\",\"church\",\"think\",\"know\",\"christ\",\"writes\",\"believe\",\"like\",\"christian\",\"also\",\"christians\",\"bible\",\"time\",\"article\",\"faith\",\"even\",\"life\",\"paul\",\"many\",\"good\",\"question\",\"could\",\"love\",\"things\",\"must\",\"christianity\",\"truth\",\"much\",\"lord\",\"well\",\"word\",\"something\",\"come\",\"true\",\"make\",\"said\",\"point\",\"find\",\"world\",\"never\",\"however\",\"since\",\"hell\",\"first\",\"human\",\"really\",\"fact\",\"homosexuality\"]},\"id\":\"a5364a18-dacb-4be5-aef8-de2c95ad6875\",\"type\":\"FactorRange\"},{\"attributes\":{\"below\":[{\"id\":\"8d0c2949-706a-4bb0-9efa-eb9bbb3dd50d\",\"type\":\"CategoricalAxis\"}],\"left\":[{\"id\":\"0e5808c6-2bb5-48ee-ac79-a0b97f7a9656\",\"type\":\"LinearAxis\"}],\"plot_width\":800,\"renderers\":[{\"id\":\"8d0c2949-706a-4bb0-9efa-eb9bbb3dd50d\",\"type\":\"CategoricalAxis\"},{\"id\":\"7b19f3f4-45ac-4a83-95f9-5638c6bf031c\",\"type\":\"Grid\"},{\"id\":\"0e5808c6-2bb5-48ee-ac79-a0b97f7a9656\",\"type\":\"LinearAxis\"},{\"id\":\"83bfb55b-a3f7-4e89-a0df-928ab81e33e2\",\"type\":\"Grid\"},{\"id\":\"c1089b9d-57a2-4736-8a0c-62b46de6301f\",\"type\":\"BoxAnnotation\"},{\"id\":\"7bbf52d9-22bf-4669-b41d-1d8f04b426f2\",\"type\":\"GlyphRenderer\"}],\"title\":{\"id\":\"79f5473c-2889-485e-8952-d438efbb1e20\",\"type\":\"Title\"},\"toolbar\":{\"id\":\"91505562-29e6-473b-925c-eb566bd544ea\",\"type\":\"Toolbar\"},\"x_range\":{\"id\":\"a5364a18-dacb-4be5-aef8-de2c95ad6875\",\"type\":\"FactorRange\"},\"x_scale\":{\"id\":\"9bfdd22f-1b5d-498c-847b-1697d4d4eeeb\",\"type\":\"CategoricalScale\"},\"y_range\":{\"id\":\"707220c3-245c-408b-95f2-1cf845686a4c\",\"type\":\"DataRange1d\"},\"y_scale\":{\"id\":\"7f9f0f18-070b-4543-97d4-255e8c8825fa\",\"type\":\"LinearScale\"}},\"id\":\"4727f775-5887-452b-91da-e2cdd8d564f5\",\"subtype\":\"Figure\",\"type\":\"Plot\"},{\"attributes\":{},\"id\":\"269a151a-8dde-4974-8a21-433b33056f98\",\"type\":\"CategoricalTicker\"},{\"attributes\":{\"callback\":null},\"id\":\"707220c3-245c-408b-95f2-1cf845686a4c\",\"type\":\"DataRange1d\"},{\"attributes\":{\"line_color\":\"#1f77b4\",\"x\":{\"field\":\"word\"},\"y\":{\"field\":\"count\"}},\"id\":\"2aa51d3d-fa5a-4c60-8cef-768984c74c78\",\"type\":\"Line\"},{\"attributes\":{},\"id\":\"9bfdd22f-1b5d-498c-847b-1697d4d4eeeb\",\"type\":\"CategoricalScale\"},{\"attributes\":{},\"id\":\"4d909b44-faa4-49c0-b664-c2d2467eea91\",\"type\":\"BasicTicker\"},{\"attributes\":{\"dimension\":1,\"plot\":{\"id\":\"dcdb7095-9927-4e08-96c8-9b30b4a2f747\",\"subtype\":\"Figure\",\"type\":\"Plot\"},\"ticker\":{\"id\":\"4d909b44-faa4-49c0-b664-c2d2467eea91\",\"type\":\"BasicTicker\"}},\"id\":\"7b584033-8f29-41b7-b086-b93c72429716\",\"type\":\"Grid\"},{\"attributes\":{},\"id\":\"7f9f0f18-070b-4543-97d4-255e8c8825fa\",\"type\":\"LinearScale\"},{\"attributes\":{\"plot\":{\"id\":\"4727f775-5887-452b-91da-e2cdd8d564f5\",\"subtype\":\"Figure\",\"type\":\"Plot\"},\"ticker\":{\"id\":\"3e11eda1-de4d-4aca-b716-d1660020421a\",\"type\":\"CategoricalTicker\"}},\"id\":\"7b19f3f4-45ac-4a83-95f9-5638c6bf031c\",\"type\":\"Grid\"},{\"attributes\":{\"axis_label\":\"Samples\",\"formatter\":{\"id\":\"0d881cf1-d731-4db7-a6ea-8ada6d0faca0\",\"type\":\"CategoricalTickFormatter\"},\"major_label_orientation\":1.5707963267948966,\"plot\":{\"id\":\"4727f775-5887-452b-91da-e2cdd8d564f5\",\"subtype\":\"Figure\",\"type\":\"Plot\"},\"ticker\":{\"id\":\"3e11eda1-de4d-4aca-b716-d1660020421a\",\"type\":\"CategoricalTicker\"}},\"id\":\"8d0c2949-706a-4bb0-9efa-eb9bbb3dd50d\",\"type\":\"CategoricalAxis\"},{\"attributes\":{\"line_color\":\"#1f77b4\",\"x\":{\"field\":\"word\"},\"y\":{\"field\":\"count\"}},\"id\":\"7e719c91-0722-4d3d-94eb-5c9f708630ba\",\"type\":\"Line\"},{\"attributes\":{\"source\":{\"id\":\"b99ff19c-f08e-4146-a047-17ed11ae8c92\",\"type\":\"ColumnDataSource\"}},\"id\":\"d03a421d-0d08-41f9-92d1-8ac4c0fb300b\",\"type\":\"CDSView\"},{\"attributes\":{},\"id\":\"3e11eda1-de4d-4aca-b716-d1660020421a\",\"type\":\"CategoricalTicker\"},{\"attributes\":{\"callback\":null,\"overlay\":{\"id\":\"8421c922-ac5d-436d-8b2f-984d1331f696\",\"type\":\"BoxAnnotation\"}},\"id\":\"30ab38bc-f96c-4587-bbee-a2c13077e031\",\"type\":\"BoxSelectTool\"},{\"attributes\":{\"line_color\":\"#1f77b4\",\"x\":{\"field\":\"word\"},\"y\":{\"field\":\"count\"}},\"id\":\"e3d2dcf7-03ec-4238-aa05-60c85ade0cc1\",\"type\":\"Line\"},{\"attributes\":{\"callback\":null,\"factors\":[\"space\",\"would\",\"writes\",\"article\",\"like\",\"nasa\",\"earth\",\"launch\",\"also\",\"orbit\",\"could\",\"shuttle\",\"time\",\"system\",\"think\",\"moon\",\"much\",\"first\",\"data\",\"mission\",\"people\",\"know\",\"henry\",\"solar\",\"satellite\",\"spacecraft\",\"program\",\"high\",\"years\",\"well\",\"make\",\"even\",\"work\",\"lunar\",\"good\",\"year\",\"long\",\"cost\",\"science\",\"something\",\"might\",\"since\",\"power\",\"mars\",\"information\",\"part\",\"back\",\"flight\",\"station\",\"planet\"]},\"id\":\"4822616a-9cc3-4d0f-bf49-288a57a6ab5b\",\"type\":\"FactorRange\"},{\"attributes\":{},\"id\":\"a5d2a150-7bb9-4e05-954e-30fad1449c08\",\"type\":\"BasicTicker\"},{\"attributes\":{\"dimension\":1,\"plot\":{\"id\":\"4727f775-5887-452b-91da-e2cdd8d564f5\",\"subtype\":\"Figure\",\"type\":\"Plot\"},\"ticker\":{\"id\":\"a5d2a150-7bb9-4e05-954e-30fad1449c08\",\"type\":\"BasicTicker\"}},\"id\":\"83bfb55b-a3f7-4e89-a0df-928ab81e33e2\",\"type\":\"Grid\"},{\"attributes\":{},\"id\":\"21ab5c50-4d23-429d-bce2-4ed90924f6cb\",\"type\":\"PanTool\"},{\"attributes\":{},\"id\":\"dbf9ea50-95aa-4c17-9ada-8ed89db8f1bc\",\"type\":\"ResetTool\"},{\"attributes\":{\"source\":{\"id\":\"9f0c3430-4152-4c99-bf1f-05dffc4548d1\",\"type\":\"ColumnDataSource\"}},\"id\":\"bdef546f-6b6b-4d51-82b1-9a7cf2eb74d1\",\"type\":\"CDSView\"},{\"attributes\":{\"align\":\"center\",\"plot\":null,\"text\":\"Word frequency for \\\"soc.religion.christian\\\"\",\"text_font\":\"Helvetica\",\"text_font_size\":{\"value\":\"24px\"}},\"id\":\"79f5473c-2889-485e-8952-d438efbb1e20\",\"type\":\"Title\"},{\"attributes\":{},\"id\":\"9eada587-5aa1-4b6f-8ec0-a63951985943\",\"type\":\"SaveTool\"},{\"attributes\":{\"child\":{\"id\":\"dcdb7095-9927-4e08-96c8-9b30b4a2f747\",\"subtype\":\"Figure\",\"type\":\"Plot\"},\"title\":\"comp.graphics\"},\"id\":\"2fa28cfb-c6f0-4ed0-86e1-d09975d5f959\",\"type\":\"Panel\"},{\"attributes\":{\"callback\":null,\"mode\":\"vline\",\"renderers\":\"auto\",\"tooltips\":[[\"Word\",\"@word\"],[\"Count\",\"@count\"]]},\"id\":\"038c958f-c2e2-49bb-908c-574a1629cfe2\",\"type\":\"HoverTool\"},{\"attributes\":{\"callback\":null},\"id\":\"3cb6e636-a6e2-4a39-ab2a-f94167ed7ad2\",\"type\":\"DataRange1d\"},{\"attributes\":{\"callback\":null,\"data\":{\"count\":[1697,664,515,445,434,413,412,404,369,330,326,313,300,289,289,283,251,250,249,248,242,238,233,233,224,221,219,205,201,198,196,191,190,190,184,182,181,176,166,159,157,155,155,154,152,151,147,144,144,143],\"index\":[0,1,2,3,4,5,6,7,8,9,10,11,12,13,14,15,16,17,18,19,20,21,22,23,24,25,26,27,28,29,30,31,32,33,34,35,36,37,38,39,40,41,42,43,44,45,46,47,48,49],\"word\":[\"windows\",\"file\",\"writes\",\"like\",\"would\",\"know\",\"article\",\"files\",\"using\",\"card\",\"problem\",\"program\",\"thanks\",\"anyone\",\"system\",\"driver\",\"also\",\"think\",\"version\",\"mouse\",\"work\",\"drivers\",\"microsoft\",\"mail\",\"help\",\"please\",\"well\",\"good\",\"need\",\"disk\",\"much\",\"memory\",\"running\",\"time\",\"want\",\"software\",\"make\",\"used\",\"something\",\"could\",\"computer\",\"manager\",\"printer\",\"font\",\"people\",\"directory\",\"find\",\"access\",\"available\",\"university\"]},\"selected\":{\"id\":\"1526c14a-a13a-41f2-b0f9-0e1bb3507460\",\"type\":\"Selection\"},\"selection_policy\":{\"id\":\"d7e3db78-175b-41aa-bb8e-e8badce4975e\",\"type\":\"UnionRenderers\"}},\"id\":\"8c42645a-5883-4b6d-ba31-b76d3f5e67d1\",\"type\":\"ColumnDataSource\"},{\"attributes\":{\"callback\":null,\"overlay\":{\"id\":\"c1089b9d-57a2-4736-8a0c-62b46de6301f\",\"type\":\"BoxAnnotation\"}},\"id\":\"9ae98980-17ac-475e-8f26-7fdfdd6b7a32\",\"type\":\"BoxSelectTool\"},{\"attributes\":{},\"id\":\"def6de0e-6a7e-482d-87c7-6b978d34b9f7\",\"type\":\"LinearScale\"},{\"attributes\":{\"line_alpha\":0.1,\"line_color\":\"#1f77b4\",\"x\":{\"field\":\"word\"},\"y\":{\"field\":\"count\"}},\"id\":\"a73af274-0faf-48ec-9b50-3182bc8d600b\",\"type\":\"Line\"},{\"attributes\":{\"source\":{\"id\":\"c327571c-f559-4f39-94b4-0d3c5c7a6216\",\"type\":\"ColumnDataSource\"}},\"id\":\"216eddc0-4f76-4744-81c8-74fbe32a5940\",\"type\":\"CDSView\"},{\"attributes\":{},\"id\":\"c56292dc-add4-48e0-8c76-218ba3e65264\",\"type\":\"CategoricalTicker\"},{\"attributes\":{},\"id\":\"fb479a23-7b18-47ff-b295-18297dde602e\",\"type\":\"PanTool\"},{\"attributes\":{},\"id\":\"f3e45285-2beb-4b4f-adf9-e27a04d177f3\",\"type\":\"CategoricalScale\"},{\"attributes\":{\"active_drag\":\"auto\",\"active_inspect\":\"auto\",\"active_multi\":null,\"active_scroll\":\"auto\",\"active_tap\":\"auto\",\"tools\":[{\"id\":\"fa749e2f-2f5f-4cf4-9b97-ce06ea73c9ae\",\"type\":\"BoxSelectTool\"},{\"id\":\"82e08ddc-51b3-460a-8fc2-1e283235f1e0\",\"type\":\"PanTool\"},{\"id\":\"c5665324-fc40-4d93-8419-b4e0500cc1c6\",\"type\":\"ResetTool\"},{\"id\":\"7cf541a4-8a65-420b-9f9c-b3f092f3773e\",\"type\":\"SaveTool\"},{\"id\":\"100f60c8-483f-4baa-9dea-70b1400026fc\",\"type\":\"HoverTool\"}]},\"id\":\"79229f94-5e79-4379-bee4-c08619cbef1b\",\"type\":\"Toolbar\"},{\"attributes\":{},\"id\":\"4e39c147-deeb-41ce-ad57-3d9276f85f82\",\"type\":\"ResetTool\"},{\"attributes\":{\"axis_label\":\"Count\",\"formatter\":{\"id\":\"f72eb8d2-6d7f-477a-b978-538a61f72a4f\",\"type\":\"BasicTickFormatter\"},\"plot\":{\"id\":\"9152e1c8-8531-4236-a441-f643f0344d95\",\"subtype\":\"Figure\",\"type\":\"Plot\"},\"ticker\":{\"id\":\"8906af74-cef2-434b-bbc1-de87863aeeb7\",\"type\":\"BasicTicker\"}},\"id\":\"e4694115-204e-455b-a475-12e2a04b9b91\",\"type\":\"LinearAxis\"},{\"attributes\":{},\"id\":\"be301752-ee6d-400b-8ff5-70fd9afd3576\",\"type\":\"SaveTool\"},{\"attributes\":{\"bottom_units\":\"screen\",\"fill_alpha\":{\"value\":0.5},\"fill_color\":{\"value\":\"lightgrey\"},\"left_units\":\"screen\",\"level\":\"overlay\",\"line_alpha\":{\"value\":1.0},\"line_color\":{\"value\":\"black\"},\"line_dash\":[4,4],\"line_width\":{\"value\":2},\"plot\":null,\"render_mode\":\"css\",\"right_units\":\"screen\",\"top_units\":\"screen\"},\"id\":\"8421c922-ac5d-436d-8b2f-984d1331f696\",\"type\":\"BoxAnnotation\"},{\"attributes\":{\"callback\":null,\"factors\":[\"windows\",\"file\",\"writes\",\"like\",\"would\",\"know\",\"article\",\"files\",\"using\",\"card\",\"problem\",\"program\",\"thanks\",\"anyone\",\"system\",\"driver\",\"also\",\"think\",\"version\",\"mouse\",\"work\",\"drivers\",\"microsoft\",\"mail\",\"help\",\"please\",\"well\",\"good\",\"need\",\"disk\",\"much\",\"memory\",\"running\",\"time\",\"want\",\"software\",\"make\",\"used\",\"something\",\"could\",\"computer\",\"manager\",\"printer\",\"font\",\"people\",\"directory\",\"find\",\"access\",\"available\",\"university\"]},\"id\":\"6dcc4465-f1c1-441e-9315-f1cbb7034c23\",\"type\":\"FactorRange\"},{\"attributes\":{\"bottom_units\":\"screen\",\"fill_alpha\":{\"value\":0.5},\"fill_color\":{\"value\":\"lightgrey\"},\"left_units\":\"screen\",\"level\":\"overlay\",\"line_alpha\":{\"value\":1.0},\"line_color\":{\"value\":\"black\"},\"line_dash\":[4,4],\"line_width\":{\"value\":2},\"plot\":null,\"render_mode\":\"css\",\"right_units\":\"screen\",\"top_units\":\"screen\"},\"id\":\"c1089b9d-57a2-4736-8a0c-62b46de6301f\",\"type\":\"BoxAnnotation\"},{\"attributes\":{\"below\":[{\"id\":\"b34c1b21-35d1-43e6-979f-530033568bcf\",\"type\":\"CategoricalAxis\"}],\"left\":[{\"id\":\"e4694115-204e-455b-a475-12e2a04b9b91\",\"type\":\"LinearAxis\"}],\"plot_width\":800,\"renderers\":[{\"id\":\"b34c1b21-35d1-43e6-979f-530033568bcf\",\"type\":\"CategoricalAxis\"},{\"id\":\"12d89a57-48c7-4bfa-9e28-c80641af933e\",\"type\":\"Grid\"},{\"id\":\"e4694115-204e-455b-a475-12e2a04b9b91\",\"type\":\"LinearAxis\"},{\"id\":\"615b26fe-1679-4630-a7f7-2ea6c705a76d\",\"type\":\"Grid\"},{\"id\":\"bf2ae2fa-dd1e-4ea3-ab04-89e889dafefe\",\"type\":\"BoxAnnotation\"},{\"id\":\"8b1cdec3-69b0-4a41-8429-e5c185baa6f2\",\"type\":\"GlyphRenderer\"}],\"title\":{\"id\":\"149aec52-8f4a-4ae7-99fc-b9f52fb7d118\",\"type\":\"Title\"},\"toolbar\":{\"id\":\"79229f94-5e79-4379-bee4-c08619cbef1b\",\"type\":\"Toolbar\"},\"x_range\":{\"id\":\"6dcc4465-f1c1-441e-9315-f1cbb7034c23\",\"type\":\"FactorRange\"},\"x_scale\":{\"id\":\"3467e9e3-220b-4e51-9f0c-18f25cca25a1\",\"type\":\"CategoricalScale\"},\"y_range\":{\"id\":\"930068e3-a75f-48f2-9382-7d74fcc40444\",\"type\":\"DataRange1d\"},\"y_scale\":{\"id\":\"410f37fd-9ad1-4459-9878-534c77a1c7e3\",\"type\":\"LinearScale\"}},\"id\":\"9152e1c8-8531-4236-a441-f643f0344d95\",\"subtype\":\"Figure\",\"type\":\"Plot\"},{\"attributes\":{\"align\":\"center\",\"plot\":null,\"text\":\"Word frequency for \\\"comp.graphics\\\"\",\"text_font\":\"Helvetica\",\"text_font_size\":{\"value\":\"24px\"}},\"id\":\"4544dc24-ce3c-4ef6-8ead-9779fd041846\",\"type\":\"Title\"},{\"attributes\":{\"line_alpha\":0.1,\"line_color\":\"#1f77b4\",\"x\":{\"field\":\"word\"},\"y\":{\"field\":\"count\"}},\"id\":\"addaf197-3713-4c7c-8e3d-f734c7633ea9\",\"type\":\"Line\"},{\"attributes\":{\"callback\":null},\"id\":\"930068e3-a75f-48f2-9382-7d74fcc40444\",\"type\":\"DataRange1d\"},{\"attributes\":{\"data_source\":{\"id\":\"c327571c-f559-4f39-94b4-0d3c5c7a6216\",\"type\":\"ColumnDataSource\"},\"glyph\":{\"id\":\"e3d2dcf7-03ec-4238-aa05-60c85ade0cc1\",\"type\":\"Line\"},\"hover_glyph\":null,\"muted_glyph\":null,\"nonselection_glyph\":{\"id\":\"addaf197-3713-4c7c-8e3d-f734c7633ea9\",\"type\":\"Line\"},\"selection_glyph\":null,\"view\":{\"id\":\"216eddc0-4f76-4744-81c8-74fbe32a5940\",\"type\":\"CDSView\"}},\"id\":\"7bbf52d9-22bf-4669-b41d-1d8f04b426f2\",\"type\":\"GlyphRenderer\"},{\"attributes\":{\"child\":{\"id\":\"4727f775-5887-452b-91da-e2cdd8d564f5\",\"subtype\":\"Figure\",\"type\":\"Plot\"},\"title\":\"soc.religion.christian\"},\"id\":\"715e6989-3ba4-4dd5-82e5-1c2db89c2d0c\",\"type\":\"Panel\"},{\"attributes\":{},\"id\":\"3467e9e3-220b-4e51-9f0c-18f25cca25a1\",\"type\":\"CategoricalScale\"},{\"attributes\":{\"axis_label\":\"Samples\",\"formatter\":{\"id\":\"64431773-08a8-453e-82c5-df3312999e1f\",\"type\":\"CategoricalTickFormatter\"},\"major_label_orientation\":1.5707963267948966,\"plot\":{\"id\":\"67966ea5-0026-491c-b8e8-9990e0385cb4\",\"subtype\":\"Figure\",\"type\":\"Plot\"},\"ticker\":{\"id\":\"c56292dc-add4-48e0-8c76-218ba3e65264\",\"type\":\"CategoricalTicker\"}},\"id\":\"32aa39b0-da7f-469f-a8ab-790966e48eaf\",\"type\":\"CategoricalAxis\"},{\"attributes\":{},\"id\":\"410f37fd-9ad1-4459-9878-534c77a1c7e3\",\"type\":\"LinearScale\"},{\"attributes\":{\"plot\":{\"id\":\"9152e1c8-8531-4236-a441-f643f0344d95\",\"subtype\":\"Figure\",\"type\":\"Plot\"},\"ticker\":{\"id\":\"8ac1bb3e-6915-477f-b617-68f5ef89a68b\",\"type\":\"CategoricalTicker\"}},\"id\":\"12d89a57-48c7-4bfa-9e28-c80641af933e\",\"type\":\"Grid\"},{\"attributes\":{\"callback\":null,\"data\":{\"count\":[1300,1090,967,922,630,578,558,554,553,494,475,439,431,429,420,408,375,372,352,352,348,346,343,337,317,313,311,308,301,299,284,281,279,277,277,271,264,263,258,246,241,238,237,233,232,227,223,223,222,220],\"index\":[0,1,2,3,4,5,6,7,8,9,10,11,12,13,14,15,16,17,18,19,20,21,22,23,24,25,26,27,28,29,30,31,32,33,34,35,36,37,38,39,40,41,42,43,44,45,46,47,48,49],\"word\":[\"would\",\"people\",\"writes\",\"article\",\"guns\",\"government\",\"like\",\"think\",\"right\",\"fire\",\"well\",\"could\",\"weapons\",\"time\",\"know\",\"believe\",\"firearms\",\"even\",\"batf\",\"never\",\"also\",\"state\",\"control\",\"make\",\"koresh\",\"good\",\"children\",\"file\",\"many\",\"said\",\"rights\",\"used\",\"bill\",\"much\",\"crime\",\"first\",\"arms\",\"police\",\"point\",\"compound\",\"public\",\"militia\",\"things\",\"without\",\"federal\",\"amendment\",\"take\",\"made\",\"still\",\"come\"]},\"selected\":{\"id\":\"b04753ca-ab1e-4d7b-bf0d-d7eeae7259b4\",\"type\":\"Selection\"},\"selection_policy\":{\"id\":\"30ede545-0065-4f86-b656-2e1b11ac8524\",\"type\":\"UnionRenderers\"}},\"id\":\"9f0c3430-4152-4c99-bf1f-05dffc4548d1\",\"type\":\"ColumnDataSource\"},{\"attributes\":{\"axis_label\":\"Samples\",\"formatter\":{\"id\":\"15b39fc0-0f6f-4d5d-b68e-f4a2c51894d2\",\"type\":\"CategoricalTickFormatter\"},\"major_label_orientation\":1.5707963267948966,\"plot\":{\"id\":\"9152e1c8-8531-4236-a441-f643f0344d95\",\"subtype\":\"Figure\",\"type\":\"Plot\"},\"ticker\":{\"id\":\"8ac1bb3e-6915-477f-b617-68f5ef89a68b\",\"type\":\"CategoricalTicker\"}},\"id\":\"b34c1b21-35d1-43e6-979f-530033568bcf\",\"type\":\"CategoricalAxis\"},{\"attributes\":{\"callback\":null,\"mode\":\"vline\",\"renderers\":\"auto\",\"tooltips\":[[\"Word\",\"@word\"],[\"Count\",\"@count\"]]},\"id\":\"027df43d-7cea-4ea5-916f-a9f243eee399\",\"type\":\"HoverTool\"},{\"attributes\":{},\"id\":\"8ac1bb3e-6915-477f-b617-68f5ef89a68b\",\"type\":\"CategoricalTicker\"},{\"attributes\":{\"active_drag\":\"auto\",\"active_inspect\":\"auto\",\"active_multi\":null,\"active_scroll\":\"auto\",\"active_tap\":\"auto\",\"tools\":[{\"id\":\"ecda2ddc-871c-42d2-b915-c0b81c739c7d\",\"type\":\"BoxSelectTool\"},{\"id\":\"bd343715-efe7-426b-a0ec-d8781be488b7\",\"type\":\"PanTool\"},{\"id\":\"27e1a454-fbfc-455f-aa19-a0ecd2ea6579\",\"type\":\"ResetTool\"},{\"id\":\"2974f0d5-7c91-4ef4-976d-e96ca3732f23\",\"type\":\"SaveTool\"},{\"id\":\"027df43d-7cea-4ea5-916f-a9f243eee399\",\"type\":\"HoverTool\"}]},\"id\":\"dff3139d-b45a-4cb4-a9f1-1b2c93850f22\",\"type\":\"Toolbar\"},{\"attributes\":{\"line_color\":\"#1f77b4\",\"x\":{\"field\":\"word\"},\"y\":{\"field\":\"count\"}},\"id\":\"d900aa71-b1fe-4eae-a185-094a1d2d1932\",\"type\":\"Line\"},{\"attributes\":{\"align\":\"center\",\"plot\":null,\"text\":\"Word frequency for \\\"alt.atheism\\\"\",\"text_font\":\"Helvetica\",\"text_font_size\":{\"value\":\"24px\"}},\"id\":\"39fa1b2e-cf5e-4ad6-8591-f70ae817dfe3\",\"type\":\"Title\"},{\"attributes\":{\"axis_label\":\"Count\",\"formatter\":{\"id\":\"a7ea10b3-2585-45e2-96e8-fe5977ea690d\",\"type\":\"BasicTickFormatter\"},\"plot\":{\"id\":\"c38f9dbd-b1e1-459a-92f2-b967f09f5109\",\"subtype\":\"Figure\",\"type\":\"Plot\"},\"ticker\":{\"id\":\"46e748aa-f38a-4e6e-92f0-9fd43ff15088\",\"type\":\"BasicTicker\"}},\"id\":\"4f4f16f9-9cf7-40ae-b0b7-a7457b099192\",\"type\":\"LinearAxis\"},{\"attributes\":{},\"id\":\"8906af74-cef2-434b-bbc1-de87863aeeb7\",\"type\":\"BasicTicker\"},{\"attributes\":{\"active_drag\":\"auto\",\"active_inspect\":\"auto\",\"active_multi\":null,\"active_scroll\":\"auto\",\"active_tap\":\"auto\",\"tools\":[{\"id\":\"8208cc25-9a8e-4fa9-8323-1e896b1f7350\",\"type\":\"BoxSelectTool\"},{\"id\":\"cb94ce79-c8b6-4da2-adec-22138e5e3c2e\",\"type\":\"PanTool\"},{\"id\":\"843dd930-52e1-4e8a-9037-d5f10f784dd8\",\"type\":\"ResetTool\"},{\"id\":\"d1648f1b-ad1e-4120-8aa6-c173af9b9599\",\"type\":\"SaveTool\"},{\"id\":\"011e229d-c4f3-4789-bc84-8bbe5ad8a63b\",\"type\":\"HoverTool\"}]},\"id\":\"cc6ec897-d9e8-46ea-a2e7-1d14d06ca35f\",\"type\":\"Toolbar\"},{\"attributes\":{\"dimension\":1,\"plot\":{\"id\":\"9152e1c8-8531-4236-a441-f643f0344d95\",\"subtype\":\"Figure\",\"type\":\"Plot\"},\"ticker\":{\"id\":\"8906af74-cef2-434b-bbc1-de87863aeeb7\",\"type\":\"BasicTicker\"}},\"id\":\"615b26fe-1679-4630-a7f7-2ea6c705a76d\",\"type\":\"Grid\"},{\"attributes\":{\"callback\":null,\"factors\":[\"would\",\"people\",\"writes\",\"article\",\"guns\",\"government\",\"like\",\"think\",\"right\",\"fire\",\"well\",\"could\",\"weapons\",\"time\",\"know\",\"believe\",\"firearms\",\"even\",\"batf\",\"never\",\"also\",\"state\",\"control\",\"make\",\"koresh\",\"good\",\"children\",\"file\",\"many\",\"said\",\"rights\",\"used\",\"bill\",\"much\",\"crime\",\"first\",\"arms\",\"police\",\"point\",\"compound\",\"public\",\"militia\",\"things\",\"without\",\"federal\",\"amendment\",\"take\",\"made\",\"still\",\"come\"]},\"id\":\"0002fcdf-c11a-4af8-9972-7f50dce99c1e\",\"type\":\"FactorRange\"},{\"attributes\":{\"below\":[{\"id\":\"97e1a5e5-6d66-4e0d-b820-1a72cd9a267a\",\"type\":\"CategoricalAxis\"}],\"left\":[{\"id\":\"4f4f16f9-9cf7-40ae-b0b7-a7457b099192\",\"type\":\"LinearAxis\"}],\"plot_width\":800,\"renderers\":[{\"id\":\"97e1a5e5-6d66-4e0d-b820-1a72cd9a267a\",\"type\":\"CategoricalAxis\"},{\"id\":\"78e64859-9452-4572-8863-3c85a757c9d4\",\"type\":\"Grid\"},{\"id\":\"4f4f16f9-9cf7-40ae-b0b7-a7457b099192\",\"type\":\"LinearAxis\"},{\"id\":\"c003abb8-f427-4d9f-8c2d-24b15ff918fb\",\"type\":\"Grid\"},{\"id\":\"535c8260-5163-4269-9d84-8b32830b35aa\",\"type\":\"BoxAnnotation\"},{\"id\":\"76f84e29-61d5-43f8-9add-8dcb790fd619\",\"type\":\"GlyphRenderer\"}],\"title\":{\"id\":\"bd6ae807-329c-4d3e-933d-8c4f83427cbc\",\"type\":\"Title\"},\"toolbar\":{\"id\":\"dff3139d-b45a-4cb4-a9f1-1b2c93850f22\",\"type\":\"Toolbar\"},\"x_range\":{\"id\":\"0002fcdf-c11a-4af8-9972-7f50dce99c1e\",\"type\":\"FactorRange\"},\"x_scale\":{\"id\":\"58bc5b0f-a357-4806-8b4c-016f65ab2ba1\",\"type\":\"CategoricalScale\"},\"y_range\":{\"id\":\"d10d3175-c77b-4fe2-8594-a9010bc178d0\",\"type\":\"DataRange1d\"},\"y_scale\":{\"id\":\"7c0edd35-ed1a-4c14-b556-a1e7c88ec38a\",\"type\":\"LinearScale\"}},\"id\":\"c38f9dbd-b1e1-459a-92f2-b967f09f5109\",\"subtype\":\"Figure\",\"type\":\"Plot\"},{\"attributes\":{\"bottom_units\":\"screen\",\"fill_alpha\":{\"value\":0.5},\"fill_color\":{\"value\":\"lightgrey\"},\"left_units\":\"screen\",\"level\":\"overlay\",\"line_alpha\":{\"value\":1.0},\"line_color\":{\"value\":\"black\"},\"line_dash\":[4,4],\"line_width\":{\"value\":2},\"plot\":null,\"render_mode\":\"css\",\"right_units\":\"screen\",\"top_units\":\"screen\"},\"id\":\"0061ee27-741b-4fad-881e-43949640149c\",\"type\":\"BoxAnnotation\"},{\"attributes\":{\"align\":\"center\",\"plot\":null,\"text\":\"Word frequency for \\\"comp.os.ms-windows.misc\\\"\",\"text_font\":\"Helvetica\",\"text_font_size\":{\"value\":\"24px\"}},\"id\":\"149aec52-8f4a-4ae7-99fc-b9f52fb7d118\",\"type\":\"Title\"},{\"attributes\":{\"callback\":null},\"id\":\"d10d3175-c77b-4fe2-8594-a9010bc178d0\",\"type\":\"DataRange1d\"},{\"attributes\":{},\"id\":\"58bc5b0f-a357-4806-8b4c-016f65ab2ba1\",\"type\":\"CategoricalScale\"},{\"attributes\":{\"callback\":null,\"mode\":\"vline\",\"renderers\":\"auto\",\"tooltips\":[[\"Word\",\"@word\"],[\"Count\",\"@count\"]]},\"id\":\"100f60c8-483f-4baa-9dea-70b1400026fc\",\"type\":\"HoverTool\"},{\"attributes\":{},\"id\":\"7c0edd35-ed1a-4c14-b556-a1e7c88ec38a\",\"type\":\"LinearScale\"},{\"attributes\":{\"callback\":null,\"overlay\":{\"id\":\"bf2ae2fa-dd1e-4ea3-ab04-89e889dafefe\",\"type\":\"BoxAnnotation\"}},\"id\":\"fa749e2f-2f5f-4cf4-9b97-ce06ea73c9ae\",\"type\":\"BoxSelectTool\"},{\"attributes\":{\"plot\":{\"id\":\"c38f9dbd-b1e1-459a-92f2-b967f09f5109\",\"subtype\":\"Figure\",\"type\":\"Plot\"},\"ticker\":{\"id\":\"f3e891b0-1af3-4fef-96a8-60c8040fa99e\",\"type\":\"CategoricalTicker\"}},\"id\":\"78e64859-9452-4572-8863-3c85a757c9d4\",\"type\":\"Grid\"},{\"attributes\":{\"source\":{\"id\":\"8c42645a-5883-4b6d-ba31-b76d3f5e67d1\",\"type\":\"ColumnDataSource\"}},\"id\":\"0a7a3604-b897-4f12-b989-52b78a407c9d\",\"type\":\"CDSView\"},{\"attributes\":{\"axis_label\":\"Samples\",\"formatter\":{\"id\":\"c1a7a38a-59d2-4852-82ff-78af63e94d4b\",\"type\":\"CategoricalTickFormatter\"},\"major_label_orientation\":1.5707963267948966,\"plot\":{\"id\":\"c38f9dbd-b1e1-459a-92f2-b967f09f5109\",\"subtype\":\"Figure\",\"type\":\"Plot\"},\"ticker\":{\"id\":\"f3e891b0-1af3-4fef-96a8-60c8040fa99e\",\"type\":\"CategoricalTicker\"}},\"id\":\"97e1a5e5-6d66-4e0d-b820-1a72cd9a267a\",\"type\":\"CategoricalAxis\"},{\"attributes\":{},\"id\":\"82e08ddc-51b3-460a-8fc2-1e283235f1e0\",\"type\":\"PanTool\"},{\"attributes\":{},\"id\":\"c5665324-fc40-4d93-8419-b4e0500cc1c6\",\"type\":\"ResetTool\"},{\"attributes\":{},\"id\":\"f3e891b0-1af3-4fef-96a8-60c8040fa99e\",\"type\":\"CategoricalTicker\"},{\"attributes\":{},\"id\":\"7cf541a4-8a65-420b-9f9c-b3f092f3773e\",\"type\":\"SaveTool\"},{\"attributes\":{\"line_color\":\"#1f77b4\",\"x\":{\"field\":\"word\"},\"y\":{\"field\":\"count\"}},\"id\":\"93949e0f-ec76-459c-a60f-59381239ccbe\",\"type\":\"Line\"},{\"attributes\":{\"plot\":{\"id\":\"67966ea5-0026-491c-b8e8-9990e0385cb4\",\"subtype\":\"Figure\",\"type\":\"Plot\"},\"ticker\":{\"id\":\"c56292dc-add4-48e0-8c76-218ba3e65264\",\"type\":\"CategoricalTicker\"}},\"id\":\"864bebb1-7cbd-4b0d-a0fe-31ecaf524934\",\"type\":\"Grid\"},{\"attributes\":{\"bottom_units\":\"screen\",\"fill_alpha\":{\"value\":0.5},\"fill_color\":{\"value\":\"lightgrey\"},\"left_units\":\"screen\",\"level\":\"overlay\",\"line_alpha\":{\"value\":1.0},\"line_color\":{\"value\":\"black\"},\"line_dash\":[4,4],\"line_width\":{\"value\":2},\"plot\":null,\"render_mode\":\"css\",\"right_units\":\"screen\",\"top_units\":\"screen\"},\"id\":\"bf2ae2fa-dd1e-4ea3-ab04-89e889dafefe\",\"type\":\"BoxAnnotation\"},{\"attributes\":{},\"id\":\"46e748aa-f38a-4e6e-92f0-9fd43ff15088\",\"type\":\"BasicTicker\"},{\"attributes\":{\"dimension\":1,\"plot\":{\"id\":\"c38f9dbd-b1e1-459a-92f2-b967f09f5109\",\"subtype\":\"Figure\",\"type\":\"Plot\"},\"ticker\":{\"id\":\"46e748aa-f38a-4e6e-92f0-9fd43ff15088\",\"type\":\"BasicTicker\"}},\"id\":\"c003abb8-f427-4d9f-8c2d-24b15ff918fb\",\"type\":\"Grid\"},{\"attributes\":{\"callback\":null,\"data\":{\"count\":[1232,1058,978,959,742,602,576,492,469,454,452,443,427,426,420,416,412,407,395,376,371,369,360,358,355,342,341,339,326,322,322,318,315,313,308,299,295,284,278,275,275,272,270,270,268,260,258,256,254,250],\"index\":[0,1,2,3,4,5,6,7,8,9,10,11,12,13,14,15,16,17,18,19,20,21,22,23,24,25,26,27,28,29,30,31,32,33,34,35,36,37,38,39,40,41,42,43,44,45,46,47,48,49],\"word\":[\"writes\",\"would\",\"article\",\"people\",\"think\",\"know\",\"like\",\"believe\",\"many\",\"religion\",\"even\",\"time\",\"well\",\"could\",\"atheism\",\"objective\",\"good\",\"said\",\"moral\",\"something\",\"make\",\"evidence\",\"must\",\"jesus\",\"point\",\"frank\",\"fact\",\"science\",\"also\",\"morality\",\"system\",\"true\",\"atheists\",\"right\",\"things\",\"much\",\"argument\",\"mean\",\"still\",\"really\",\"read\",\"better\",\"bible\",\"example\",\"claim\",\"book\",\"belief\",\"question\",\"since\",\"take\"]},\"selected\":{\"id\":\"6ce57ca5-905f-428e-8cea-fcfea7663821\",\"type\":\"Selection\"},\"selection_policy\":{\"id\":\"61c46801-85ea-456e-a8dc-758ce290346f\",\"type\":\"UnionRenderers\"}},\"id\":\"f6bda705-f308-4575-af2a-fcb5ff6735e5\",\"type\":\"ColumnDataSource\"},{\"attributes\":{\"line_alpha\":0.1,\"line_color\":\"#1f77b4\",\"x\":{\"field\":\"word\"},\"y\":{\"field\":\"count\"}},\"id\":\"acd75898-e7b1-417f-a5c2-3dbb2e8cf6c5\",\"type\":\"Line\"},{\"attributes\":{\"child\":{\"id\":\"fe3bf257-25e6-433e-801e-15efcc690b52\",\"subtype\":\"Figure\",\"type\":\"Plot\"},\"title\":\"talk.religion.misc\"},\"id\":\"4849cbad-e069-4805-a739-c5071eff6ef5\",\"type\":\"Panel\"},{\"attributes\":{\"data_source\":{\"id\":\"8c42645a-5883-4b6d-ba31-b76d3f5e67d1\",\"type\":\"ColumnDataSource\"},\"glyph\":{\"id\":\"d900aa71-b1fe-4eae-a185-094a1d2d1932\",\"type\":\"Line\"},\"hover_glyph\":null,\"muted_glyph\":null,\"nonselection_glyph\":{\"id\":\"acd75898-e7b1-417f-a5c2-3dbb2e8cf6c5\",\"type\":\"Line\"},\"selection_glyph\":null,\"view\":{\"id\":\"0a7a3604-b897-4f12-b989-52b78a407c9d\",\"type\":\"CDSView\"}},\"id\":\"8b1cdec3-69b0-4a41-8429-e5c185baa6f2\",\"type\":\"GlyphRenderer\"},{\"attributes\":{\"child\":{\"id\":\"9152e1c8-8531-4236-a441-f643f0344d95\",\"subtype\":\"Figure\",\"type\":\"Plot\"},\"title\":\"comp.os.ms-windows.misc\"},\"id\":\"40be5b04-fa04-47c7-924f-564f4d7ca984\",\"type\":\"Panel\"},{\"attributes\":{\"align\":\"center\",\"plot\":null,\"text\":\"Word frequency for \\\"talk.politics.guns\\\"\",\"text_font\":\"Helvetica\",\"text_font_size\":{\"value\":\"24px\"}},\"id\":\"bd6ae807-329c-4d3e-933d-8c4f83427cbc\",\"type\":\"Title\"},{\"attributes\":{\"align\":\"center\",\"plot\":null,\"text\":\"Word frequency for \\\"comp.sys.mac.hardware\\\"\",\"text_font\":\"Helvetica\",\"text_font_size\":{\"value\":\"24px\"}},\"id\":\"3ba77262-bbc9-425c-b57e-067edbd1b3a3\",\"type\":\"Title\"},{\"attributes\":{\"below\":[{\"id\":\"32aa39b0-da7f-469f-a8ab-790966e48eaf\",\"type\":\"CategoricalAxis\"}],\"left\":[{\"id\":\"2fab0342-5cdc-4045-9689-5015bb3dab85\",\"type\":\"LinearAxis\"}],\"plot_width\":800,\"renderers\":[{\"id\":\"32aa39b0-da7f-469f-a8ab-790966e48eaf\",\"type\":\"CategoricalAxis\"},{\"id\":\"864bebb1-7cbd-4b0d-a0fe-31ecaf524934\",\"type\":\"Grid\"},{\"id\":\"2fab0342-5cdc-4045-9689-5015bb3dab85\",\"type\":\"LinearAxis\"},{\"id\":\"a01af3ba-686a-4f79-8fc3-2c3a06d283e8\",\"type\":\"Grid\"},{\"id\":\"f14690f8-fa64-4a1d-9375-d643dcef782e\",\"type\":\"BoxAnnotation\"},{\"id\":\"2879227e-46cc-4387-8d08-d8481e146849\",\"type\":\"GlyphRenderer\"}],\"title\":{\"id\":\"39fa1b2e-cf5e-4ad6-8591-f70ae817dfe3\",\"type\":\"Title\"},\"toolbar\":{\"id\":\"cc6ec897-d9e8-46ea-a2e7-1d14d06ca35f\",\"type\":\"Toolbar\"},\"x_range\":{\"id\":\"45710085-f30f-4976-bb2f-fb5687f6da1f\",\"type\":\"FactorRange\"},\"x_scale\":{\"id\":\"f3e45285-2beb-4b4f-adf9-e27a04d177f3\",\"type\":\"CategoricalScale\"},\"y_range\":{\"id\":\"3cb6e636-a6e2-4a39-ab2a-f94167ed7ad2\",\"type\":\"DataRange1d\"},\"y_scale\":{\"id\":\"def6de0e-6a7e-482d-87c7-6b978d34b9f7\",\"type\":\"LinearScale\"}},\"id\":\"67966ea5-0026-491c-b8e8-9990e0385cb4\",\"subtype\":\"Figure\",\"type\":\"Plot\"},{\"attributes\":{\"line_alpha\":0.1,\"line_color\":\"#1f77b4\",\"x\":{\"field\":\"word\"},\"y\":{\"field\":\"count\"}},\"id\":\"1149445e-1aea-4615-9c87-90894768cf17\",\"type\":\"Line\"},{\"attributes\":{\"callback\":null,\"factors\":[\"writes\",\"would\",\"article\",\"people\",\"think\",\"know\",\"like\",\"believe\",\"many\",\"religion\",\"even\",\"time\",\"well\",\"could\",\"atheism\",\"objective\",\"good\",\"said\",\"moral\",\"something\",\"make\",\"evidence\",\"must\",\"jesus\",\"point\",\"frank\",\"fact\",\"science\",\"also\",\"morality\",\"system\",\"true\",\"atheists\",\"right\",\"things\",\"much\",\"argument\",\"mean\",\"still\",\"really\",\"read\",\"better\",\"bible\",\"example\",\"claim\",\"book\",\"belief\",\"question\",\"since\",\"take\"]},\"id\":\"45710085-f30f-4976-bb2f-fb5687f6da1f\",\"type\":\"FactorRange\"},{\"attributes\":{\"callback\":null,\"overlay\":{\"id\":\"535c8260-5163-4269-9d84-8b32830b35aa\",\"type\":\"BoxAnnotation\"}},\"id\":\"ecda2ddc-871c-42d2-b915-c0b81c739c7d\",\"type\":\"BoxSelectTool\"}],\"root_ids\":[\"5f3b4684-7f9b-4fe7-82f7-282a5df66462\"]},\"title\":\"Bokeh Application\",\"version\":\"0.13.0\"}};\n",
       "  var render_items = [{\"docid\":\"b3e247b4-049c-483b-a39a-d90cbfb5fad8\",\"roots\":{\"5f3b4684-7f9b-4fe7-82f7-282a5df66462\":\"a2c9bdc9-0948-4bbc-b89a-288bb3295775\"}}];\n",
       "  root.Bokeh.embed.embed_items_notebook(docs_json, render_items);\n",
       "\n",
       "  }\n",
       "  if (root.Bokeh !== undefined) {\n",
       "    embed_document(root);\n",
       "  } else {\n",
       "    var attempts = 0;\n",
       "    var timer = setInterval(function(root) {\n",
       "      if (root.Bokeh !== undefined) {\n",
       "        embed_document(root);\n",
       "        clearInterval(timer);\n",
       "      }\n",
       "      attempts++;\n",
       "      if (attempts > 100) {\n",
       "        console.log(\"Bokeh: ERROR: Unable to run BokehJS code because BokehJS library is missing\")\n",
       "        clearInterval(timer);\n",
       "      }\n",
       "    }, 10, root)\n",
       "  }\n",
       "})(window);"
      ],
      "application/vnd.bokehjs_exec.v0+json": ""
     },
     "metadata": {
      "application/vnd.bokehjs_exec.v0+json": {
       "id": "5f3b4684-7f9b-4fe7-82f7-282a5df66462"
      }
     },
     "output_type": "display_data"
    }
   ],
   "source": [
    "plot_word_freq(output, target=\"class\", col=\"tokens\")"
   ]
  },
  {
   "cell_type": "markdown",
   "metadata": {},
   "source": [
    "## BBC NEWS SUMMARIZATION "
   ]
  },
  {
   "cell_type": "markdown",
   "metadata": {},
   "source": [
    "### Dataset construction"
   ]
  },
  {
   "cell_type": "code",
   "execution_count": 38,
   "metadata": {},
   "outputs": [],
   "source": [
    "import re\n",
    "import os\n",
    "import sys\n",
    "import codecs"
   ]
  },
  {
   "cell_type": "code",
   "execution_count": 39,
   "metadata": {},
   "outputs": [],
   "source": [
    "path_news = \"./data/BBC_Business_News/business_news\"\n",
    "path_summary = \"./data/BBC_Business_News/business_summary\""
   ]
  },
  {
   "cell_type": "code",
   "execution_count": 40,
   "metadata": {},
   "outputs": [],
   "source": [
    "def create_df(path, column_name):\n",
    "    dataset = pd.DataFrame()\n",
    "    filename_list = os.listdir(path)\n",
    "    for filename in filename_list:\n",
    "        with codecs.open(\"{}/{}\".format(path, filename), \"r\", encoding='utf-8', errors='ignore') as file:\n",
    "            text = file.readlines()\n",
    "            clean_text = [re.sub(r'(\\n)', '', line) for line in text]\n",
    "            complete_text = \" \".join(clean_text)\n",
    "            df = np.array(complete_text).reshape(1,1)\n",
    "        dataset = pd.concat([dataset, pd.DataFrame(df)])\n",
    "        \n",
    "    dataset.columns = [column_name]\n",
    "    dataset.index = np.arange(len(dataset))\n",
    "    return dataset"
   ]
  },
  {
   "cell_type": "code",
   "execution_count": 41,
   "metadata": {},
   "outputs": [],
   "source": [
    "dataset_news = create_df(path_news, 'article')\n",
    "dataset_summaries = create_df(path_summary, 'reference_summary')"
   ]
  },
  {
   "cell_type": "code",
   "execution_count": 43,
   "metadata": {},
   "outputs": [
    {
     "data": {
      "text/html": [
       "<div>\n",
       "<style scoped>\n",
       "    .dataframe tbody tr th:only-of-type {\n",
       "        vertical-align: middle;\n",
       "    }\n",
       "\n",
       "    .dataframe tbody tr th {\n",
       "        vertical-align: top;\n",
       "    }\n",
       "\n",
       "    .dataframe thead th {\n",
       "        text-align: right;\n",
       "    }\n",
       "</style>\n",
       "<table border=\"1\" class=\"dataframe\">\n",
       "  <thead>\n",
       "    <tr style=\"text-align: right;\">\n",
       "      <th></th>\n",
       "      <th>article</th>\n",
       "      <th>reference_summary</th>\n",
       "    </tr>\n",
       "  </thead>\n",
       "  <tbody>\n",
       "    <tr>\n",
       "      <th>0</th>\n",
       "      <td>UK economy facing 'major risks'  The UK manufa...</td>\n",
       "      <td>\"Despite some positive news for the export sec...</td>\n",
       "    </tr>\n",
       "    <tr>\n",
       "      <th>1</th>\n",
       "      <td>Aids and climate top Davos agenda  Climate cha...</td>\n",
       "      <td>At the same time, about 100,000 people are exp...</td>\n",
       "    </tr>\n",
       "    <tr>\n",
       "      <th>2</th>\n",
       "      <td>Asian quake hits European shares  Shares in Eu...</td>\n",
       "      <td>The unfolding scale of the disaster in south A...</td>\n",
       "    </tr>\n",
       "    <tr>\n",
       "      <th>3</th>\n",
       "      <td>India power shares jump on debut  Shares in In...</td>\n",
       "      <td>Shares in India's largest power producer, Nati...</td>\n",
       "    </tr>\n",
       "    <tr>\n",
       "      <th>4</th>\n",
       "      <td>Lacroix label bought by US firm  Luxury goods ...</td>\n",
       "      <td>LVMH said the French designer's haute couture ...</td>\n",
       "    </tr>\n",
       "  </tbody>\n",
       "</table>\n",
       "</div>"
      ],
      "text/plain": [
       "                                             article  \\\n",
       "0  UK economy facing 'major risks'  The UK manufa...   \n",
       "1  Aids and climate top Davos agenda  Climate cha...   \n",
       "2  Asian quake hits European shares  Shares in Eu...   \n",
       "3  India power shares jump on debut  Shares in In...   \n",
       "4  Lacroix label bought by US firm  Luxury goods ...   \n",
       "\n",
       "                                   reference_summary  \n",
       "0  \"Despite some positive news for the export sec...  \n",
       "1  At the same time, about 100,000 people are exp...  \n",
       "2  The unfolding scale of the disaster in south A...  \n",
       "3  Shares in India's largest power producer, Nati...  \n",
       "4  LVMH said the French designer's haute couture ...  "
      ]
     },
     "execution_count": 43,
     "metadata": {},
     "output_type": "execute_result"
    }
   ],
   "source": [
    "dataset = pd.concat([dataset_news, dataset_summaries], axis = 1)\n",
    "dataset.head()"
   ]
  },
  {
   "cell_type": "code",
   "execution_count": 44,
   "metadata": {},
   "outputs": [],
   "source": [
    "dataset = dataset[dataset['article'].apply(len) > 100]"
   ]
  },
  {
   "cell_type": "code",
   "execution_count": 45,
   "metadata": {},
   "outputs": [
    {
     "data": {
      "text/plain": [
       "'UK economy facing \\'major risks\\'  The UK manufacturing sector will continue to face \"serious challenges\" over the next two years, the British Chamber of Commerce (BCC) has said.  The group\\'s quarterly survey of companies found exports had picked up in the last three months of 2004 to their best levels in eight years. The rise came despite exchange rates being cited as a major concern. However, the BCC found the whole UK economy still faced \"major risks\" and warned that growth is set to slow. It recently forecast economic growth will slow from more than 3% in 2004 to a little below 2.5% in both 2005 and 2006.  Manufacturers\\' domestic sales growth fell back slightly in the quarter, the survey of 5,196 firms found. Employment in manufacturing also fell and job expectations were at their lowest level for a year.  \"Despite some positive news for the export sector, there are worrying signs for manufacturing,\" the BCC said. \"These results reinforce our concern over the sector\\'s persistent inability to sustain recovery.\" The outlook for the service sector was \"uncertain\" despite an increase in exports and orders over the quarter, the BCC noted.  The BCC found confidence increased in the quarter across both the manufacturing and service sectors although overall it failed to reach the levels at the start of 2004. The reduced threat of interest rate increases had contributed to improved confidence, it said. The Bank of England raised interest rates five times between November 2003 and August last year. But rates have been kept on hold since then amid signs of falling consumer confidence and a slowdown in output. \"The pressure on costs and margins, the relentless increase in regulations, and the threat of higher taxes remain serious problems,\" BCC director general David Frost said. \"While consumer spending is set to decelerate significantly over the next 12-18 months, it is unlikely that investment and exports will rise sufficiently strongly to pick up the slack.\"'"
      ]
     },
     "execution_count": 45,
     "metadata": {},
     "output_type": "execute_result"
    }
   ],
   "source": [
    "dataset_news['article'][0]"
   ]
  },
  {
   "cell_type": "code",
   "execution_count": 46,
   "metadata": {},
   "outputs": [
    {
     "data": {
      "text/plain": [
       "(510, 2)"
      ]
     },
     "execution_count": 46,
     "metadata": {},
     "output_type": "execute_result"
    }
   ],
   "source": [
    "dataset_finale.shape"
   ]
  },
  {
   "cell_type": "markdown",
   "metadata": {},
   "source": [
    "### Summarization"
   ]
  },
  {
   "cell_type": "markdown",
   "metadata": {},
   "source": [
    "In particular, the class Summarization uses 'extraction-based' methods, which work by selecting a subset of the most important phrases existing in the original text to compose the summary.\n",
    ":\n",
    "- TextRank (gensim and sumy);\n",
    "- LexRank (sumy);\n",
    "- Lsa (sumy);\n",
    "- Luhn (sumy). \n",
    "\n",
    "Furthermore, by setting the parameter 'keywords' equal to True, it's possible to extract the keywords from the input text."
   ]
  },
  {
   "cell_type": "markdown",
   "metadata": {},
   "source": [
    "First of all, it is necessary to filter the text field to eliminate any fields containing empty strings or texts with too few sentences:"
   ]
  },
  {
   "cell_type": "code",
   "execution_count": 61,
   "metadata": {},
   "outputs": [],
   "source": [
    "from mltools.textMining import Summarization"
   ]
  },
  {
   "cell_type": "code",
   "execution_count": 62,
   "metadata": {},
   "outputs": [
    {
     "name": "stdout",
     "output_type": "stream",
     "text": [
      "['textrank-g', 'textrank-s', 'lexrank-s', 'lsa-s', 'luhn-s']\n"
     ]
    }
   ],
   "source": [
    "Summarization.getInfo_models()"
   ]
  },
  {
   "cell_type": "code",
   "execution_count": 63,
   "metadata": {},
   "outputs": [],
   "source": [
    "dataset = dataset[dataset['article'].apply(Summarization.count_sentences) > 5]"
   ]
  },
  {
   "cell_type": "code",
   "execution_count": 64,
   "metadata": {},
   "outputs": [
    {
     "data": {
      "text/plain": [
       "(510, 2)"
      ]
     },
     "execution_count": 64,
     "metadata": {},
     "output_type": "execute_result"
    }
   ],
   "source": [
    "dataset.shape"
   ]
  },
  {
   "cell_type": "code",
   "execution_count": 65,
   "metadata": {},
   "outputs": [],
   "source": [
    "SUM = Summarization(models = ['textrank-g', 'lexrank-s', 'lsa-s'])"
   ]
  },
  {
   "cell_type": "code",
   "execution_count": 66,
   "metadata": {},
   "outputs": [
    {
     "name": "stdout",
     "output_type": "stream",
     "text": [
      "Summarizing...\n",
      "Finish\n",
      "\n"
     ]
    },
    {
     "data": {
      "text/html": [
       "<div>\n",
       "<style scoped>\n",
       "    .dataframe tbody tr th:only-of-type {\n",
       "        vertical-align: middle;\n",
       "    }\n",
       "\n",
       "    .dataframe tbody tr th {\n",
       "        vertical-align: top;\n",
       "    }\n",
       "\n",
       "    .dataframe thead th {\n",
       "        text-align: right;\n",
       "    }\n",
       "</style>\n",
       "<table border=\"1\" class=\"dataframe\">\n",
       "  <thead>\n",
       "    <tr style=\"text-align: right;\">\n",
       "      <th></th>\n",
       "      <th>article</th>\n",
       "      <th>reference_summary</th>\n",
       "      <th>textrank-g_summary</th>\n",
       "      <th>lexrank-s_summary</th>\n",
       "      <th>lsa-s_summary</th>\n",
       "    </tr>\n",
       "  </thead>\n",
       "  <tbody>\n",
       "    <tr>\n",
       "      <th>0</th>\n",
       "      <td>UK economy facing 'major risks'  The UK manufa...</td>\n",
       "      <td>\"Despite some positive news for the export sec...</td>\n",
       "      <td>UK economy facing 'major risks'  The UK manufa...</td>\n",
       "      <td>The group's quarterly survey of companies foun...</td>\n",
       "      <td>Employment in manufacturing also fell and job ...</td>\n",
       "    </tr>\n",
       "    <tr>\n",
       "      <th>1</th>\n",
       "      <td>Aids and climate top Davos agenda  Climate cha...</td>\n",
       "      <td>At the same time, about 100,000 people are exp...</td>\n",
       "      <td>Other issues to be discussed at the five-day c...</td>\n",
       "      <td>The World Health Organisation (WHO) said 700,0...</td>\n",
       "      <td>Some 2,000 business and political leaders from...</td>\n",
       "    </tr>\n",
       "    <tr>\n",
       "      <th>2</th>\n",
       "      <td>Asian quake hits European shares  Shares in Eu...</td>\n",
       "      <td>The unfolding scale of the disaster in south A...</td>\n",
       "      <td>Asian quake hits European shares  Shares in Eu...</td>\n",
       "      <td>But the disaster has little impact on stock ma...</td>\n",
       "      <td>More than 23,000 people have been killed follo...</td>\n",
       "    </tr>\n",
       "    <tr>\n",
       "      <th>3</th>\n",
       "      <td>India power shares jump on debut  Shares in In...</td>\n",
       "      <td>Shares in India's largest power producer, Nati...</td>\n",
       "      <td>\"Power needs in India are set to rise and NTPC...</td>\n",
       "      <td>The government's partial sell-off of NTPC is p...</td>\n",
       "      <td>It was India's second $1bn stock debut in thre...</td>\n",
       "    </tr>\n",
       "    <tr>\n",
       "      <th>4</th>\n",
       "      <td>Lacroix label bought by US firm  Luxury goods ...</td>\n",
       "      <td>LVMH said the French designer's haute couture ...</td>\n",
       "      <td>LVMH said the French designer's haute couture ...</td>\n",
       "      <td>Lacroix label bought by US firm  Luxury goods ...</td>\n",
       "      <td>Lacroix label bought by US firm  Luxury goods ...</td>\n",
       "    </tr>\n",
       "  </tbody>\n",
       "</table>\n",
       "</div>"
      ],
      "text/plain": [
       "                                             article  \\\n",
       "0  UK economy facing 'major risks'  The UK manufa...   \n",
       "1  Aids and climate top Davos agenda  Climate cha...   \n",
       "2  Asian quake hits European shares  Shares in Eu...   \n",
       "3  India power shares jump on debut  Shares in In...   \n",
       "4  Lacroix label bought by US firm  Luxury goods ...   \n",
       "\n",
       "                                   reference_summary  \\\n",
       "0  \"Despite some positive news for the export sec...   \n",
       "1  At the same time, about 100,000 people are exp...   \n",
       "2  The unfolding scale of the disaster in south A...   \n",
       "3  Shares in India's largest power producer, Nati...   \n",
       "4  LVMH said the French designer's haute couture ...   \n",
       "\n",
       "                                  textrank-g_summary  \\\n",
       "0  UK economy facing 'major risks'  The UK manufa...   \n",
       "1  Other issues to be discussed at the five-day c...   \n",
       "2  Asian quake hits European shares  Shares in Eu...   \n",
       "3  \"Power needs in India are set to rise and NTPC...   \n",
       "4  LVMH said the French designer's haute couture ...   \n",
       "\n",
       "                                   lexrank-s_summary  \\\n",
       "0  The group's quarterly survey of companies foun...   \n",
       "1  The World Health Organisation (WHO) said 700,0...   \n",
       "2  But the disaster has little impact on stock ma...   \n",
       "3  The government's partial sell-off of NTPC is p...   \n",
       "4  Lacroix label bought by US firm  Luxury goods ...   \n",
       "\n",
       "                                       lsa-s_summary  \n",
       "0  Employment in manufacturing also fell and job ...  \n",
       "1  Some 2,000 business and political leaders from...  \n",
       "2  More than 23,000 people have been killed follo...  \n",
       "3  It was India's second $1bn stock debut in thre...  \n",
       "4  Lacroix label bought by US firm  Luxury goods ...  "
      ]
     },
     "execution_count": 66,
     "metadata": {},
     "output_type": "execute_result"
    }
   ],
   "source": [
    "df_summary = SUM.fit(dataset, field = 'article', n_sentences = 3)\n",
    "df_summary.head()"
   ]
  },
  {
   "cell_type": "code",
   "execution_count": 67,
   "metadata": {},
   "outputs": [
    {
     "data": {
      "text/plain": [
       "'UK economy facing \\'major risks\\'  The UK manufacturing sector will continue to face \"serious challenges\" over the next two years, the British Chamber of Commerce (BCC) has said.  The group\\'s quarterly survey of companies found exports had picked up in the last three months of 2004 to their best levels in eight years. The rise came despite exchange rates being cited as a major concern. However, the BCC found the whole UK economy still faced \"major risks\" and warned that growth is set to slow. It recently forecast economic growth will slow from more than 3% in 2004 to a little below 2.5% in both 2005 and 2006.  Manufacturers\\' domestic sales growth fell back slightly in the quarter, the survey of 5,196 firms found. Employment in manufacturing also fell and job expectations were at their lowest level for a year.  \"Despite some positive news for the export sector, there are worrying signs for manufacturing,\" the BCC said. \"These results reinforce our concern over the sector\\'s persistent inability to sustain recovery.\" The outlook for the service sector was \"uncertain\" despite an increase in exports and orders over the quarter, the BCC noted.  The BCC found confidence increased in the quarter across both the manufacturing and service sectors although overall it failed to reach the levels at the start of 2004. The reduced threat of interest rate increases had contributed to improved confidence, it said. The Bank of England raised interest rates five times between November 2003 and August last year. But rates have been kept on hold since then amid signs of falling consumer confidence and a slowdown in output. \"The pressure on costs and margins, the relentless increase in regulations, and the threat of higher taxes remain serious problems,\" BCC director general David Frost said. \"While consumer spending is set to decelerate significantly over the next 12-18 months, it is unlikely that investment and exports will rise sufficiently strongly to pick up the slack.\"'"
      ]
     },
     "execution_count": 67,
     "metadata": {},
     "output_type": "execute_result"
    }
   ],
   "source": [
    "df_summary.loc[0]['article']"
   ]
  },
  {
   "cell_type": "code",
   "execution_count": 68,
   "metadata": {},
   "outputs": [
    {
     "data": {
      "text/plain": [
       "'UK economy facing \\'major risks\\'  The UK manufacturing sector will continue to face \"serious challenges\" over the next two years, the British Chamber of Commerce (BCC) has said. The BCC found confidence increased in the quarter across both the manufacturing and service sectors although overall it failed to reach the levels at the start of 2004.'"
      ]
     },
     "execution_count": 68,
     "metadata": {},
     "output_type": "execute_result"
    }
   ],
   "source": [
    "df_summary.loc[0]['textrank-g_summary']"
   ]
  },
  {
   "cell_type": "code",
   "execution_count": 69,
   "metadata": {},
   "outputs": [
    {
     "data": {
      "text/plain": [
       "'The group\\'s quarterly survey of companies found exports had picked up in the last three months of 2004 to their best levels in eight years. However, the BCC found the whole UK economy still faced \"major risks\" and warned that growth is set to slow. \"Despite some positive news for the export sector, there are worrying signs for manufacturing,\" the BCC said.'"
      ]
     },
     "execution_count": 69,
     "metadata": {},
     "output_type": "execute_result"
    }
   ],
   "source": [
    "df_summary.loc[0]['lexrank-s_summary']"
   ]
  },
  {
   "cell_type": "markdown",
   "metadata": {},
   "source": [
    "### Evaluation"
   ]
  },
  {
   "cell_type": "markdown",
   "metadata": {},
   "source": [
    "One of the most commonly used metrics for this purpose is ROUGE, which essentially calculates the overlaps of the n-grams between the two summaries being compared. A high degree of overlap should indicate a high level of concepts shared between the two summaries.\n",
    " \n",
    "- Rouge-1 (one-grams);\n",
    "- Rouge-2 (bi-grams);\n",
    "- Rouge-L (Longest Common Subsequence).\n",
    "\n",
    "For each of them, by setting the parameter 'type_metric' equal to 'f', 'p' or 'r', one has the f-score, the precision or the recall respectively (default is 'f')."
   ]
  },
  {
   "cell_type": "code",
   "execution_count": 70,
   "metadata": {},
   "outputs": [
    {
     "name": "stdout",
     "output_type": "stream",
     "text": [
      "Validation...\n",
      "\n",
      "Dataframe for the rouge-1 metric has been saved...\n",
      "Dataframe for the rouge-2 metric has been saved...\n",
      "Dataframe for the rouge-l metric has been saved...\n",
      "\n",
      "Finish\n"
     ]
    }
   ],
   "source": [
    "dictionary, df_scores = SUM.evaluate(df_summary, field_summary = 'reference_summary',\n",
    "                            metrics = ['rouge-1', 'rouge-2', 'rouge-l'], type_metric = 'r')"
   ]
  },
  {
   "cell_type": "code",
   "execution_count": 71,
   "metadata": {},
   "outputs": [
    {
     "data": {
      "text/plain": [
       "dict_keys(['rouge-1_r_df', 'rouge-2_r_df', 'rouge-l_r_df'])"
      ]
     },
     "execution_count": 71,
     "metadata": {},
     "output_type": "execute_result"
    }
   ],
   "source": [
    "dictionary.keys()"
   ]
  },
  {
   "cell_type": "code",
   "execution_count": 72,
   "metadata": {},
   "outputs": [
    {
     "data": {
      "text/html": [
       "<div>\n",
       "<style scoped>\n",
       "    .dataframe tbody tr th:only-of-type {\n",
       "        vertical-align: middle;\n",
       "    }\n",
       "\n",
       "    .dataframe tbody tr th {\n",
       "        vertical-align: top;\n",
       "    }\n",
       "\n",
       "    .dataframe thead th {\n",
       "        text-align: right;\n",
       "    }\n",
       "</style>\n",
       "<table border=\"1\" class=\"dataframe\">\n",
       "  <thead>\n",
       "    <tr style=\"text-align: right;\">\n",
       "      <th></th>\n",
       "      <th>textrank-g_rouge-1_r</th>\n",
       "      <th>lexrank-s_rouge-1_r</th>\n",
       "      <th>lsa-s_rouge-1_r</th>\n",
       "    </tr>\n",
       "  </thead>\n",
       "  <tbody>\n",
       "    <tr>\n",
       "      <th>0</th>\n",
       "      <td>0.447917</td>\n",
       "      <td>0.406250</td>\n",
       "      <td>0.125000</td>\n",
       "    </tr>\n",
       "    <tr>\n",
       "      <th>1</th>\n",
       "      <td>0.335196</td>\n",
       "      <td>0.474860</td>\n",
       "      <td>0.346369</td>\n",
       "    </tr>\n",
       "    <tr>\n",
       "      <th>2</th>\n",
       "      <td>0.241176</td>\n",
       "      <td>0.370588</td>\n",
       "      <td>0.176471</td>\n",
       "    </tr>\n",
       "    <tr>\n",
       "      <th>3</th>\n",
       "      <td>0.689655</td>\n",
       "      <td>0.155172</td>\n",
       "      <td>0.344828</td>\n",
       "    </tr>\n",
       "    <tr>\n",
       "      <th>4</th>\n",
       "      <td>0.690476</td>\n",
       "      <td>1.000000</td>\n",
       "      <td>0.714286</td>\n",
       "    </tr>\n",
       "  </tbody>\n",
       "</table>\n",
       "</div>"
      ],
      "text/plain": [
       "   textrank-g_rouge-1_r  lexrank-s_rouge-1_r  lsa-s_rouge-1_r\n",
       "0              0.447917             0.406250         0.125000\n",
       "1              0.335196             0.474860         0.346369\n",
       "2              0.241176             0.370588         0.176471\n",
       "3              0.689655             0.155172         0.344828\n",
       "4              0.690476             1.000000         0.714286"
      ]
     },
     "execution_count": 72,
     "metadata": {},
     "output_type": "execute_result"
    }
   ],
   "source": [
    "dictionary['rouge-1_r_df'].head()"
   ]
  },
  {
   "cell_type": "code",
   "execution_count": 78,
   "metadata": {},
   "outputs": [
    {
     "data": {
      "text/html": [
       "<div>\n",
       "<style scoped>\n",
       "    .dataframe tbody tr th:only-of-type {\n",
       "        vertical-align: middle;\n",
       "    }\n",
       "\n",
       "    .dataframe tbody tr th {\n",
       "        vertical-align: top;\n",
       "    }\n",
       "\n",
       "    .dataframe thead th {\n",
       "        text-align: right;\n",
       "    }\n",
       "</style>\n",
       "<table border=\"1\" class=\"dataframe\">\n",
       "  <thead>\n",
       "    <tr style=\"text-align: right;\">\n",
       "      <th></th>\n",
       "      <th>textrank-g</th>\n",
       "      <th>lexrank-s</th>\n",
       "      <th>lsa-s</th>\n",
       "    </tr>\n",
       "  </thead>\n",
       "  <tbody>\n",
       "    <tr>\n",
       "      <th>rouge-1_r_mean</th>\n",
       "      <td>0.479335</td>\n",
       "      <td>0.463226</td>\n",
       "      <td>0.351689</td>\n",
       "    </tr>\n",
       "    <tr>\n",
       "      <th>rouge-1_r_std</th>\n",
       "      <td>0.157243</td>\n",
       "      <td>0.146458</td>\n",
       "      <td>0.151427</td>\n",
       "    </tr>\n",
       "    <tr>\n",
       "      <th>rouge-2_r_mean</th>\n",
       "      <td>0.387534</td>\n",
       "      <td>0.363710</td>\n",
       "      <td>0.225757</td>\n",
       "    </tr>\n",
       "    <tr>\n",
       "      <th>rouge-2_r_std</th>\n",
       "      <td>0.168674</td>\n",
       "      <td>0.157101</td>\n",
       "      <td>0.157348</td>\n",
       "    </tr>\n",
       "    <tr>\n",
       "      <th>rouge-l_r_mean</th>\n",
       "      <td>0.475142</td>\n",
       "      <td>0.456906</td>\n",
       "      <td>0.342256</td>\n",
       "    </tr>\n",
       "    <tr>\n",
       "      <th>rouge-l_r_std</th>\n",
       "      <td>0.158878</td>\n",
       "      <td>0.149238</td>\n",
       "      <td>0.153410</td>\n",
       "    </tr>\n",
       "  </tbody>\n",
       "</table>\n",
       "</div>"
      ],
      "text/plain": [
       "                textrank-g  lexrank-s     lsa-s\n",
       "rouge-1_r_mean    0.479335   0.463226  0.351689\n",
       "rouge-1_r_std     0.157243   0.146458  0.151427\n",
       "rouge-2_r_mean    0.387534   0.363710  0.225757\n",
       "rouge-2_r_std     0.168674   0.157101  0.157348\n",
       "rouge-l_r_mean    0.475142   0.456906  0.342256\n",
       "rouge-l_r_std     0.158878   0.149238  0.153410"
      ]
     },
     "execution_count": 78,
     "metadata": {},
     "output_type": "execute_result"
    }
   ],
   "source": [
    "df_scores"
   ]
  },
  {
   "cell_type": "markdown",
   "metadata": {},
   "source": [
    "### Extracting keywords"
   ]
  },
  {
   "cell_type": "code",
   "execution_count": 74,
   "metadata": {},
   "outputs": [],
   "source": [
    "from mltools.textMining import Keywords"
   ]
  },
  {
   "cell_type": "code",
   "execution_count": 75,
   "metadata": {},
   "outputs": [],
   "source": [
    "kw = Keywords()"
   ]
  },
  {
   "cell_type": "code",
   "execution_count": 76,
   "metadata": {},
   "outputs": [
    {
     "name": "stdout",
     "output_type": "stream",
     "text": [
      "Keywords Extraction...\n",
      "Finish\n"
     ]
    }
   ],
   "source": [
    "kw_res = kw.fit(dataset_finale, field = 'article')"
   ]
  },
  {
   "cell_type": "code",
   "execution_count": 77,
   "metadata": {},
   "outputs": [
    {
     "data": {
      "text/html": [
       "<div>\n",
       "<style scoped>\n",
       "    .dataframe tbody tr th:only-of-type {\n",
       "        vertical-align: middle;\n",
       "    }\n",
       "\n",
       "    .dataframe tbody tr th {\n",
       "        vertical-align: top;\n",
       "    }\n",
       "\n",
       "    .dataframe thead th {\n",
       "        text-align: right;\n",
       "    }\n",
       "</style>\n",
       "<table border=\"1\" class=\"dataframe\">\n",
       "  <thead>\n",
       "    <tr style=\"text-align: right;\">\n",
       "      <th></th>\n",
       "      <th>article</th>\n",
       "      <th>reference_summary</th>\n",
       "      <th>keywords</th>\n",
       "    </tr>\n",
       "  </thead>\n",
       "  <tbody>\n",
       "    <tr>\n",
       "      <th>0</th>\n",
       "      <td>UK economy facing 'major risks'  The UK manufa...</td>\n",
       "      <td>\"Despite some positive news for the export sec...</td>\n",
       "      <td>[bcc, despite, major]</td>\n",
       "    </tr>\n",
       "    <tr>\n",
       "      <th>1</th>\n",
       "      <td>Aids and climate top Davos agenda  Climate cha...</td>\n",
       "      <td>At the same time, about 100,000 people are exp...</td>\n",
       "      <td>[president, anti, leaders, leader]</td>\n",
       "    </tr>\n",
       "    <tr>\n",
       "      <th>2</th>\n",
       "      <td>Asian quake hits European shares  Shares in Eu...</td>\n",
       "      <td>The unfolding scale of the disaster in south A...</td>\n",
       "      <td>[shares, share, markets, market, hits, hit]</td>\n",
       "    </tr>\n",
       "    <tr>\n",
       "      <th>3</th>\n",
       "      <td>India power shares jump on debut  Shares in In...</td>\n",
       "      <td>Shares in India's largest power producer, Nati...</td>\n",
       "      <td>[power, shares, share, firms, firm]</td>\n",
       "    </tr>\n",
       "    <tr>\n",
       "      <th>4</th>\n",
       "      <td>Lacroix label bought by US firm  Luxury goods ...</td>\n",
       "      <td>LVMH said the French designer's haute couture ...</td>\n",
       "      <td>[label, labels, group]</td>\n",
       "    </tr>\n",
       "  </tbody>\n",
       "</table>\n",
       "</div>"
      ],
      "text/plain": [
       "                                             article  \\\n",
       "0  UK economy facing 'major risks'  The UK manufa...   \n",
       "1  Aids and climate top Davos agenda  Climate cha...   \n",
       "2  Asian quake hits European shares  Shares in Eu...   \n",
       "3  India power shares jump on debut  Shares in In...   \n",
       "4  Lacroix label bought by US firm  Luxury goods ...   \n",
       "\n",
       "                                   reference_summary  \\\n",
       "0  \"Despite some positive news for the export sec...   \n",
       "1  At the same time, about 100,000 people are exp...   \n",
       "2  The unfolding scale of the disaster in south A...   \n",
       "3  Shares in India's largest power producer, Nati...   \n",
       "4  LVMH said the French designer's haute couture ...   \n",
       "\n",
       "                                      keywords  \n",
       "0                        [bcc, despite, major]  \n",
       "1           [president, anti, leaders, leader]  \n",
       "2  [shares, share, markets, market, hits, hit]  \n",
       "3          [power, shares, share, firms, firm]  \n",
       "4                       [label, labels, group]  "
      ]
     },
     "execution_count": 77,
     "metadata": {},
     "output_type": "execute_result"
    }
   ],
   "source": [
    "kw_res.head()"
   ]
  },
  {
   "cell_type": "code",
   "execution_count": null,
   "metadata": {},
   "outputs": [],
   "source": []
  }
 ],
 "metadata": {
  "kernelspec": {
   "display_name": "Python 3",
   "language": "python",
   "name": "python3"
  },
  "language_info": {
   "codemirror_mode": {
    "name": "ipython",
    "version": 3
   },
   "file_extension": ".py",
   "mimetype": "text/x-python",
   "name": "python",
   "nbconvert_exporter": "python",
   "pygments_lexer": "ipython3",
   "version": "3.6.6"
  }
 },
 "nbformat": 4,
 "nbformat_minor": 2
}
